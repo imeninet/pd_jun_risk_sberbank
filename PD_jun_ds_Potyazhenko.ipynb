{
 "cells": [
  {
   "cell_type": "markdown",
   "metadata": {
    "colab_type": "text",
    "id": "qb9mY_HmN913"
   },
   "source": [
    "# Домашнее задание для Junior DS по разработке PD модели"
   ]
  },
  {
   "cell_type": "markdown",
   "metadata": {
    "colab_type": "text",
    "id": "NbqnB_V8N915"
   },
   "source": [
    "<b>Задание:</b> Необходиом разработать модель предсказания дефолта. Даны финансовые данные 32 395 компаний (выручка, активы, пассивы и т.д). Результат будет оцениваться на скрытой выборке из 200 компаний по метрике качества accuracy_score\n",
    "\n",
    "<b>Цель задания</b> научиться / показать знания в разработке моделей оценки риска - probability of default. Задание приближено к реальному, данные синтетические. Лидерборд для оценки собственного решения и геймификации процесса обучения. Первое место в лидерборде не явлется целью. Цель - правильно разарботанная модель, удовлетворяющая требованиям банковской системы. В случае возникновения вопросов, сотрудники блока Риски готовы проконсультировать и дать обратную связь на модель (телеграм чат).\n",
    "\n",
    "<b>Метрика качества</b> accuracy_score вычисляется, как ( True positive + True negative ) / Total. Если сабмит вайл, не праильного офрмата или неверное окличество строк, метрика будет = 0."
   ]
  },
  {
   "cell_type": "markdown",
   "metadata": {
    "colab_type": "text",
    "id": "EJ9_SMqyN916"
   },
   "source": [
    "### Импортируем библиотеки"
   ]
  },
  {
   "cell_type": "code",
   "execution_count": 1,
   "metadata": {
    "colab": {
     "base_uri": "https://localhost:8080/",
     "height": 51
    },
    "colab_type": "code",
    "id": "Vo4g-4Y5N917",
    "outputId": "a765b9fd-6b21-4cba-81e4-123bd0a14865"
   },
   "outputs": [
    {
     "name": "stderr",
     "output_type": "stream",
     "text": [
      "/opt/anaconda3/lib/python3.7/site-packages/sklearn/utils/deprecation.py:143: FutureWarning: The sklearn.utils.testing module is  deprecated in version 0.22 and will be removed in version 0.24. The corresponding classes / functions should instead be imported from sklearn.utils. Anything that cannot be imported from sklearn.utils is now part of the private API.\n",
      "  warnings.warn(message, FutureWarning)\n"
     ]
    }
   ],
   "source": [
    "import pandas as pd\n",
    "import numpy as np\n",
    "from sklearn.metrics import f1_score\n",
    "from matplotlib import pyplot as plt\n",
    "import seaborn as sns\n",
    "from sklearn.preprocessing import StandardScaler\n",
    "from sklearn.model_selection import GridSearchCV\n",
    "from sklearn.model_selection import cross_val_score\n",
    "from sklearn.model_selection import train_test_split\n",
    "from sklearn.linear_model import LogisticRegression\n",
    "from sklearn.metrics import accuracy_score\n",
    "from sklearn.utils.testing import ignore_warnings"
   ]
  },
  {
   "cell_type": "code",
   "execution_count": 2,
   "metadata": {},
   "outputs": [],
   "source": [
    "import warnings\n",
    "warnings.filterwarnings(\"ignore\", category=DeprecationWarning)\n",
    "warnings.filterwarnings(\"ignore\", category=FutureWarning)"
   ]
  },
  {
   "cell_type": "code",
   "execution_count": 3,
   "metadata": {},
   "outputs": [],
   "source": [
    "def warn(*args, **kwargs):\n",
    "    pass\n",
    "warnings.warn = warn"
   ]
  },
  {
   "cell_type": "code",
   "execution_count": 4,
   "metadata": {
    "colab": {},
    "colab_type": "code",
    "id": "fRd5AuHG2TEy"
   },
   "outputs": [],
   "source": [
    "pd.set_option('max_columns', 40)"
   ]
  },
  {
   "cell_type": "markdown",
   "metadata": {},
   "source": [
    "Функция для вывода данных моделей"
   ]
  },
  {
   "cell_type": "code",
   "execution_count": 5,
   "metadata": {
    "colab": {},
    "colab_type": "code",
    "id": "kptnQovV32M2"
   },
   "outputs": [],
   "source": [
    "def get_best_score(model):\n",
    "    \n",
    "    print(model.best_score_)    \n",
    "    print(model.best_params_)\n",
    "    print(model.best_estimator_)\n",
    "    \n",
    "    return model.best_score_"
   ]
  },
  {
   "cell_type": "markdown",
   "metadata": {
    "colab_type": "text",
    "id": "4k8ndBMHN92A"
   },
   "source": [
    "### Подгружаем данные"
   ]
  },
  {
   "cell_type": "code",
   "execution_count": 6,
   "metadata": {
    "colab": {
     "base_uri": "https://localhost:8080/",
     "height": 578
    },
    "colab_type": "code",
    "id": "p6h2C5cJN92B",
    "outputId": "ac493dfb-10a5-4b71-e268-5d95b9b5f809"
   },
   "outputs": [],
   "source": [
    "# !wget https://raw.githubusercontent.com/BKHV/ds-test/master/PD-data-train.csv\n",
    "# !wget https://raw.githubusercontent.com/BKHV/ds-test/master/PD-data-test.csv\n",
    "# !wget https://raw.githubusercontent.com/BKHV/ds-test/master/PD-data-desc.csv"
   ]
  },
  {
   "cell_type": "code",
   "execution_count": 7,
   "metadata": {
    "colab": {},
    "colab_type": "code",
    "id": "XwbL4T6rN92G"
   },
   "outputs": [],
   "source": [
    "train_df = pd.read_csv('https://raw.githubusercontent.com/BKHV/ds-test/master/PD-data-train.csv', sep=';')\n",
    "test_df = pd.read_csv('https://raw.githubusercontent.com/BKHV/ds-test/master/PD-data-test.csv', sep=';')\n",
    "desc_df = pd.read_csv('https://raw.githubusercontent.com/BKHV/ds-test/master/PD-data-desc.csv', sep=';')"
   ]
  },
  {
   "cell_type": "markdown",
   "metadata": {
    "colab_type": "text",
    "id": "PVtBZmHTzV6d"
   },
   "source": [
    "Описание данных"
   ]
  },
  {
   "cell_type": "code",
   "execution_count": 8,
   "metadata": {
    "colab": {
     "base_uri": "https://localhost:8080/",
     "height": 1000
    },
    "colab_type": "code",
    "id": "fwDyS7sTzV6d",
    "outputId": "dfb9834a-4602-4386-c4e3-ffb94f3086eb"
   },
   "outputs": [
    {
     "data": {
      "text/html": [
       "<div>\n",
       "<style scoped>\n",
       "    .dataframe tbody tr th:only-of-type {\n",
       "        vertical-align: middle;\n",
       "    }\n",
       "\n",
       "    .dataframe tbody tr th {\n",
       "        vertical-align: top;\n",
       "    }\n",
       "\n",
       "    .dataframe thead th {\n",
       "        text-align: right;\n",
       "    }\n",
       "</style>\n",
       "<table border=\"1\" class=\"dataframe\">\n",
       "  <thead>\n",
       "    <tr style=\"text-align: right;\">\n",
       "      <th></th>\n",
       "      <th>field</th>\n",
       "      <th>desc_eng</th>\n",
       "      <th>desc_rus</th>\n",
       "    </tr>\n",
       "  </thead>\n",
       "  <tbody>\n",
       "    <tr>\n",
       "      <th>0</th>\n",
       "      <td>ar_revenue</td>\n",
       "      <td>Sales revenue (at the end of the last year)</td>\n",
       "      <td>Выручка от реализации (на конец последнего года)</td>\n",
       "    </tr>\n",
       "    <tr>\n",
       "      <th>1</th>\n",
       "      <td>ar_total_expenses</td>\n",
       "      <td>Total expenses for the last year</td>\n",
       "      <td>Общие расходы за последний год</td>\n",
       "    </tr>\n",
       "    <tr>\n",
       "      <th>2</th>\n",
       "      <td>ar_sale_cost</td>\n",
       "      <td>Cost of sales (at the end of the last year)</td>\n",
       "      <td>Себестоимость продаж (на конец последнего года)</td>\n",
       "    </tr>\n",
       "    <tr>\n",
       "      <th>3</th>\n",
       "      <td>ar_selling_expenses</td>\n",
       "      <td>Selling expenses (at the end of the last year)</td>\n",
       "      <td>Коммерческие расходы (на конец последнего года)</td>\n",
       "    </tr>\n",
       "    <tr>\n",
       "      <th>4</th>\n",
       "      <td>ar_management_expenses</td>\n",
       "      <td>Administrative expenses (at the end of the las...</td>\n",
       "      <td>Управленческие расходы (на конец последнего года)</td>\n",
       "    </tr>\n",
       "    <tr>\n",
       "      <th>5</th>\n",
       "      <td>ar_sale_profit</td>\n",
       "      <td>Profit from sales (at the end of the last year)</td>\n",
       "      <td>Прибыль от реализации (на конец последнего года)</td>\n",
       "    </tr>\n",
       "    <tr>\n",
       "      <th>6</th>\n",
       "      <td>ar_balance_of_rvns_and_expns</td>\n",
       "      <td>Balance of income and expenses (at the end of ...</td>\n",
       "      <td>Баланс доходов и расходов (на конец последнего...</td>\n",
       "    </tr>\n",
       "    <tr>\n",
       "      <th>7</th>\n",
       "      <td>ar_profit_before_tax</td>\n",
       "      <td>Gross Profit (end of last year)</td>\n",
       "      <td>Валовая прибыль (на конец последнего года)</td>\n",
       "    </tr>\n",
       "    <tr>\n",
       "      <th>8</th>\n",
       "      <td>ar_taxes</td>\n",
       "      <td>Current income tax (at the end of the last year)</td>\n",
       "      <td>Текущий на налог на прибыль (на конец последне...</td>\n",
       "    </tr>\n",
       "    <tr>\n",
       "      <th>9</th>\n",
       "      <td>ar_other_profit_and_losses</td>\n",
       "      <td>Other income and expenses (at the end of the l...</td>\n",
       "      <td>Прочие доходы и расходы (на конец последнего г...</td>\n",
       "    </tr>\n",
       "    <tr>\n",
       "      <th>10</th>\n",
       "      <td>ar_net_profit</td>\n",
       "      <td>Net profit (at the end of the last year)</td>\n",
       "      <td>Чистая прибыль (на конец последнего года)</td>\n",
       "    </tr>\n",
       "    <tr>\n",
       "      <th>11</th>\n",
       "      <td>ab_immobilized_assets</td>\n",
       "      <td>Fixed assets for the last year</td>\n",
       "      <td>Основные внеоборотные средства за последний год</td>\n",
       "    </tr>\n",
       "    <tr>\n",
       "      <th>12</th>\n",
       "      <td>ab_mobile_current_assets</td>\n",
       "      <td>Current assets (at the end of the last year)</td>\n",
       "      <td>Оборотные активы (на конец последнего года)</td>\n",
       "    </tr>\n",
       "    <tr>\n",
       "      <th>13</th>\n",
       "      <td>ab_inventory</td>\n",
       "      <td>Stocks (at the end of the last year)</td>\n",
       "      <td>Запасы (на конец последнего года)</td>\n",
       "    </tr>\n",
       "    <tr>\n",
       "      <th>14</th>\n",
       "      <td>ab_accounts_receivable</td>\n",
       "      <td>Accounts receivable (at the end of the last year)</td>\n",
       "      <td>Дебиторская задолженность (на конец последнего...</td>\n",
       "    </tr>\n",
       "    <tr>\n",
       "      <th>15</th>\n",
       "      <td>ab_other_current_assets</td>\n",
       "      <td>Other current assets (at the end of the last y...</td>\n",
       "      <td>Прочие оборотные активы (на конец последнего г...</td>\n",
       "    </tr>\n",
       "    <tr>\n",
       "      <th>16</th>\n",
       "      <td>ab_cash_and_securities</td>\n",
       "      <td>Cash and cash equivalents (at the end of the l...</td>\n",
       "      <td>Денежные средства и денежные эквиваленты (на к...</td>\n",
       "    </tr>\n",
       "    <tr>\n",
       "      <th>17</th>\n",
       "      <td>ab_losses</td>\n",
       "      <td>Retained earnings (at the end of the last year)</td>\n",
       "      <td>Нераспределенная прибыль (на конец последнего ...</td>\n",
       "    </tr>\n",
       "    <tr>\n",
       "      <th>18</th>\n",
       "      <td>ab_own_capital</td>\n",
       "      <td>Capital (at the end of the last year)</td>\n",
       "      <td>Капитал (на конец последнего года)</td>\n",
       "    </tr>\n",
       "    <tr>\n",
       "      <th>19</th>\n",
       "      <td>ab_borrowed_capital</td>\n",
       "      <td>Total debt (end of last year)</td>\n",
       "      <td>Общие долговые обязательства (на конец последн...</td>\n",
       "    </tr>\n",
       "    <tr>\n",
       "      <th>20</th>\n",
       "      <td>ab_long_term_liabilities</td>\n",
       "      <td>Long-term liabilities (at the end of the last ...</td>\n",
       "      <td>Долгосрочный обязательства (на конец последнег...</td>\n",
       "    </tr>\n",
       "    <tr>\n",
       "      <th>21</th>\n",
       "      <td>ab_short_term_borrowing</td>\n",
       "      <td>Short-term borrowed funds (at the end of the l...</td>\n",
       "      <td>Краткосрочные заемные средства (на конец после...</td>\n",
       "    </tr>\n",
       "    <tr>\n",
       "      <th>22</th>\n",
       "      <td>ab_accounts_payable</td>\n",
       "      <td>Accounts payable for the last year</td>\n",
       "      <td>Кредиторская задодженность за последний год</td>\n",
       "    </tr>\n",
       "    <tr>\n",
       "      <th>23</th>\n",
       "      <td>ab_other_borrowings</td>\n",
       "      <td>Other liabilities (at the end of the last year)</td>\n",
       "      <td>Прочие обязательства (на конец последнего года)</td>\n",
       "    </tr>\n",
       "    <tr>\n",
       "      <th>24</th>\n",
       "      <td>bus_age</td>\n",
       "      <td>Business duration</td>\n",
       "      <td>Срок ведения бизнеса</td>\n",
       "    </tr>\n",
       "    <tr>\n",
       "      <th>25</th>\n",
       "      <td>ogrn_age</td>\n",
       "      <td>Term from the moment the PSRN was assigned</td>\n",
       "      <td>Срок с момента присваивания ОГРН</td>\n",
       "    </tr>\n",
       "    <tr>\n",
       "      <th>26</th>\n",
       "      <td>adr_actual_age</td>\n",
       "      <td>Term from the date of registration of the lega...</td>\n",
       "      <td>Срок с момента регистрации юридического адреса</td>\n",
       "    </tr>\n",
       "    <tr>\n",
       "      <th>27</th>\n",
       "      <td>head_actual_age</td>\n",
       "      <td>Term since the appointment of the head</td>\n",
       "      <td>Срок с момента назначения руководителя</td>\n",
       "    </tr>\n",
       "    <tr>\n",
       "      <th>28</th>\n",
       "      <td>cap_actual_age</td>\n",
       "      <td>Term from the moment of capital installation</td>\n",
       "      <td>Срок с момента установки капитала</td>\n",
       "    </tr>\n",
       "    <tr>\n",
       "      <th>29</th>\n",
       "      <td>ul_staff_range</td>\n",
       "      <td>The number of employees</td>\n",
       "      <td>Количество сотрудников</td>\n",
       "    </tr>\n",
       "    <tr>\n",
       "      <th>30</th>\n",
       "      <td>ul_capital_sum</td>\n",
       "      <td>Capital amount</td>\n",
       "      <td>Величина капитала</td>\n",
       "    </tr>\n",
       "    <tr>\n",
       "      <th>31</th>\n",
       "      <td>ul_founders_cnt</td>\n",
       "      <td>Number of shareholders</td>\n",
       "      <td>Количество акционеров</td>\n",
       "    </tr>\n",
       "    <tr>\n",
       "      <th>32</th>\n",
       "      <td>ul_branch_cnt</td>\n",
       "      <td>Number of branches</td>\n",
       "      <td>Количество филиалов</td>\n",
       "    </tr>\n",
       "    <tr>\n",
       "      <th>33</th>\n",
       "      <td>ul_strategic_flg</td>\n",
       "      <td>A company of strategic importance</td>\n",
       "      <td>Компания стратегического значения</td>\n",
       "    </tr>\n",
       "    <tr>\n",
       "      <th>34</th>\n",
       "      <td>ul_systematizing_flg</td>\n",
       "      <td>Backbone company</td>\n",
       "      <td>Системообразующая компания</td>\n",
       "    </tr>\n",
       "  </tbody>\n",
       "</table>\n",
       "</div>"
      ],
      "text/plain": [
       "                           field  \\\n",
       "0                     ar_revenue   \n",
       "1              ar_total_expenses   \n",
       "2                   ar_sale_cost   \n",
       "3            ar_selling_expenses   \n",
       "4         ar_management_expenses   \n",
       "5                 ar_sale_profit   \n",
       "6   ar_balance_of_rvns_and_expns   \n",
       "7           ar_profit_before_tax   \n",
       "8                       ar_taxes   \n",
       "9     ar_other_profit_and_losses   \n",
       "10                 ar_net_profit   \n",
       "11         ab_immobilized_assets   \n",
       "12      ab_mobile_current_assets   \n",
       "13                  ab_inventory   \n",
       "14        ab_accounts_receivable   \n",
       "15       ab_other_current_assets   \n",
       "16        ab_cash_and_securities   \n",
       "17                     ab_losses   \n",
       "18                ab_own_capital   \n",
       "19           ab_borrowed_capital   \n",
       "20      ab_long_term_liabilities   \n",
       "21       ab_short_term_borrowing   \n",
       "22           ab_accounts_payable   \n",
       "23           ab_other_borrowings   \n",
       "24                       bus_age   \n",
       "25                      ogrn_age   \n",
       "26                adr_actual_age   \n",
       "27               head_actual_age   \n",
       "28                cap_actual_age   \n",
       "29                ul_staff_range   \n",
       "30                ul_capital_sum   \n",
       "31               ul_founders_cnt   \n",
       "32                 ul_branch_cnt   \n",
       "33              ul_strategic_flg   \n",
       "34          ul_systematizing_flg   \n",
       "\n",
       "                                             desc_eng  \\\n",
       "0         Sales revenue (at the end of the last year)   \n",
       "1                    Total expenses for the last year   \n",
       "2         Cost of sales (at the end of the last year)   \n",
       "3      Selling expenses (at the end of the last year)   \n",
       "4   Administrative expenses (at the end of the las...   \n",
       "5     Profit from sales (at the end of the last year)   \n",
       "6   Balance of income and expenses (at the end of ...   \n",
       "7                     Gross Profit (end of last year)   \n",
       "8    Current income tax (at the end of the last year)   \n",
       "9   Other income and expenses (at the end of the l...   \n",
       "10           Net profit (at the end of the last year)   \n",
       "11                     Fixed assets for the last year   \n",
       "12       Current assets (at the end of the last year)   \n",
       "13               Stocks (at the end of the last year)   \n",
       "14  Accounts receivable (at the end of the last year)   \n",
       "15  Other current assets (at the end of the last y...   \n",
       "16  Cash and cash equivalents (at the end of the l...   \n",
       "17    Retained earnings (at the end of the last year)   \n",
       "18              Capital (at the end of the last year)   \n",
       "19                      Total debt (end of last year)   \n",
       "20  Long-term liabilities (at the end of the last ...   \n",
       "21  Short-term borrowed funds (at the end of the l...   \n",
       "22                 Accounts payable for the last year   \n",
       "23    Other liabilities (at the end of the last year)   \n",
       "24                                  Business duration   \n",
       "25         Term from the moment the PSRN was assigned   \n",
       "26  Term from the date of registration of the lega...   \n",
       "27             Term since the appointment of the head   \n",
       "28       Term from the moment of capital installation   \n",
       "29                            The number of employees   \n",
       "30                                     Capital amount   \n",
       "31                             Number of shareholders   \n",
       "32                                 Number of branches   \n",
       "33                  A company of strategic importance   \n",
       "34                                   Backbone company   \n",
       "\n",
       "                                             desc_rus  \n",
       "0    Выручка от реализации (на конец последнего года)  \n",
       "1                      Общие расходы за последний год  \n",
       "2     Себестоимость продаж (на конец последнего года)  \n",
       "3     Коммерческие расходы (на конец последнего года)  \n",
       "4   Управленческие расходы (на конец последнего года)  \n",
       "5    Прибыль от реализации (на конец последнего года)  \n",
       "6   Баланс доходов и расходов (на конец последнего...  \n",
       "7          Валовая прибыль (на конец последнего года)  \n",
       "8   Текущий на налог на прибыль (на конец последне...  \n",
       "9   Прочие доходы и расходы (на конец последнего г...  \n",
       "10          Чистая прибыль (на конец последнего года)  \n",
       "11    Основные внеоборотные средства за последний год  \n",
       "12        Оборотные активы (на конец последнего года)  \n",
       "13                  Запасы (на конец последнего года)  \n",
       "14  Дебиторская задолженность (на конец последнего...  \n",
       "15  Прочие оборотные активы (на конец последнего г...  \n",
       "16  Денежные средства и денежные эквиваленты (на к...  \n",
       "17  Нераспределенная прибыль (на конец последнего ...  \n",
       "18                 Капитал (на конец последнего года)  \n",
       "19  Общие долговые обязательства (на конец последн...  \n",
       "20  Долгосрочный обязательства (на конец последнег...  \n",
       "21  Краткосрочные заемные средства (на конец после...  \n",
       "22        Кредиторская задодженность за последний год  \n",
       "23    Прочие обязательства (на конец последнего года)  \n",
       "24                               Срок ведения бизнеса  \n",
       "25                   Срок с момента присваивания ОГРН  \n",
       "26     Срок с момента регистрации юридического адреса  \n",
       "27             Срок с момента назначения руководителя  \n",
       "28                  Срок с момента установки капитала  \n",
       "29                             Количество сотрудников  \n",
       "30                                  Величина капитала  \n",
       "31                              Количество акционеров  \n",
       "32                                Количество филиалов  \n",
       "33                  Компания стратегического значения  \n",
       "34                         Системообразующая компания  "
      ]
     },
     "execution_count": 8,
     "metadata": {},
     "output_type": "execute_result"
    }
   ],
   "source": [
    "desc_df"
   ]
  },
  {
   "cell_type": "markdown",
   "metadata": {
    "colab_type": "text",
    "id": "An6p1hDkN92J"
   },
   "source": [
    "Семплы и размеры выборок"
   ]
  },
  {
   "cell_type": "code",
   "execution_count": 9,
   "metadata": {
    "colab": {
     "base_uri": "https://localhost:8080/",
     "height": 224
    },
    "colab_type": "code",
    "id": "FDqOr3Du8C1Y",
    "outputId": "14f5cf72-d669-4b4d-ab37-b524fbb5ac99",
    "scrolled": true
   },
   "outputs": [
    {
     "data": {
      "text/html": [
       "<div>\n",
       "<style scoped>\n",
       "    .dataframe tbody tr th:only-of-type {\n",
       "        vertical-align: middle;\n",
       "    }\n",
       "\n",
       "    .dataframe tbody tr th {\n",
       "        vertical-align: top;\n",
       "    }\n",
       "\n",
       "    .dataframe thead th {\n",
       "        text-align: right;\n",
       "    }\n",
       "</style>\n",
       "<table border=\"1\" class=\"dataframe\">\n",
       "  <thead>\n",
       "    <tr style=\"text-align: right;\">\n",
       "      <th></th>\n",
       "      <th>record_id</th>\n",
       "      <th>ar_revenue</th>\n",
       "      <th>ar_total_expenses</th>\n",
       "      <th>ar_sale_cost</th>\n",
       "      <th>ar_selling_expenses</th>\n",
       "      <th>ar_management_expenses</th>\n",
       "      <th>ar_sale_profit</th>\n",
       "      <th>ar_balance_of_rvns_and_expns</th>\n",
       "      <th>ar_profit_before_tax</th>\n",
       "      <th>ar_taxes</th>\n",
       "      <th>ar_other_profit_and_losses</th>\n",
       "      <th>ar_net_profit</th>\n",
       "      <th>ab_immobilized_assets</th>\n",
       "      <th>ab_mobile_current_assets</th>\n",
       "      <th>ab_inventory</th>\n",
       "      <th>ab_accounts_receivable</th>\n",
       "      <th>ab_other_current_assets</th>\n",
       "      <th>ab_cash_and_securities</th>\n",
       "      <th>ab_losses</th>\n",
       "      <th>ab_own_capital</th>\n",
       "      <th>ab_borrowed_capital</th>\n",
       "      <th>ab_long_term_liabilities</th>\n",
       "      <th>ab_short_term_borrowing</th>\n",
       "      <th>ab_accounts_payable</th>\n",
       "      <th>ab_other_borrowings</th>\n",
       "      <th>bus_age</th>\n",
       "      <th>ogrn_age</th>\n",
       "      <th>adr_actual_age</th>\n",
       "      <th>head_actual_age</th>\n",
       "      <th>cap_actual_age</th>\n",
       "      <th>ul_staff_range</th>\n",
       "      <th>ul_capital_sum</th>\n",
       "      <th>ul_founders_cnt</th>\n",
       "      <th>ul_branch_cnt</th>\n",
       "      <th>ul_strategic_flg</th>\n",
       "      <th>ul_systematizing_flg</th>\n",
       "      <th>default_12m</th>\n",
       "    </tr>\n",
       "  </thead>\n",
       "  <tbody>\n",
       "    <tr>\n",
       "      <th>0</th>\n",
       "      <td>7</td>\n",
       "      <td>52996000.0</td>\n",
       "      <td>48344000.0</td>\n",
       "      <td>48344000.0</td>\n",
       "      <td>0.0</td>\n",
       "      <td>0.0</td>\n",
       "      <td>4652000.0</td>\n",
       "      <td>-2608000.0</td>\n",
       "      <td>2044000.0</td>\n",
       "      <td>846000.0</td>\n",
       "      <td>0.0</td>\n",
       "      <td>1198000.0</td>\n",
       "      <td>0.0</td>\n",
       "      <td>7240000.0</td>\n",
       "      <td>4988000.0</td>\n",
       "      <td>2252000.0</td>\n",
       "      <td>0.0</td>\n",
       "      <td>255000.0</td>\n",
       "      <td>1198000.0</td>\n",
       "      <td>663000.0</td>\n",
       "      <td>15872000.0</td>\n",
       "      <td>0.0</td>\n",
       "      <td>11349000.0</td>\n",
       "      <td>4523000.0</td>\n",
       "      <td>0.0</td>\n",
       "      <td>198</td>\n",
       "      <td>136</td>\n",
       "      <td>3</td>\n",
       "      <td>3</td>\n",
       "      <td>3</td>\n",
       "      <td>[1-100]</td>\n",
       "      <td>50000.0</td>\n",
       "      <td>2</td>\n",
       "      <td>0</td>\n",
       "      <td>0</td>\n",
       "      <td>0</td>\n",
       "      <td>0</td>\n",
       "    </tr>\n",
       "    <tr>\n",
       "      <th>1</th>\n",
       "      <td>13</td>\n",
       "      <td>NaN</td>\n",
       "      <td>NaN</td>\n",
       "      <td>NaN</td>\n",
       "      <td>NaN</td>\n",
       "      <td>NaN</td>\n",
       "      <td>NaN</td>\n",
       "      <td>NaN</td>\n",
       "      <td>NaN</td>\n",
       "      <td>NaN</td>\n",
       "      <td>NaN</td>\n",
       "      <td>NaN</td>\n",
       "      <td>NaN</td>\n",
       "      <td>NaN</td>\n",
       "      <td>NaN</td>\n",
       "      <td>NaN</td>\n",
       "      <td>NaN</td>\n",
       "      <td>NaN</td>\n",
       "      <td>NaN</td>\n",
       "      <td>NaN</td>\n",
       "      <td>NaN</td>\n",
       "      <td>NaN</td>\n",
       "      <td>NaN</td>\n",
       "      <td>NaN</td>\n",
       "      <td>NaN</td>\n",
       "      <td>256</td>\n",
       "      <td>135</td>\n",
       "      <td>12</td>\n",
       "      <td>12</td>\n",
       "      <td>12</td>\n",
       "      <td>[1-100]</td>\n",
       "      <td>10000.0</td>\n",
       "      <td>5</td>\n",
       "      <td>0</td>\n",
       "      <td>0</td>\n",
       "      <td>0</td>\n",
       "      <td>0</td>\n",
       "    </tr>\n",
       "    <tr>\n",
       "      <th>2</th>\n",
       "      <td>18</td>\n",
       "      <td>NaN</td>\n",
       "      <td>NaN</td>\n",
       "      <td>NaN</td>\n",
       "      <td>NaN</td>\n",
       "      <td>NaN</td>\n",
       "      <td>NaN</td>\n",
       "      <td>NaN</td>\n",
       "      <td>NaN</td>\n",
       "      <td>NaN</td>\n",
       "      <td>NaN</td>\n",
       "      <td>NaN</td>\n",
       "      <td>NaN</td>\n",
       "      <td>NaN</td>\n",
       "      <td>NaN</td>\n",
       "      <td>NaN</td>\n",
       "      <td>NaN</td>\n",
       "      <td>NaN</td>\n",
       "      <td>NaN</td>\n",
       "      <td>NaN</td>\n",
       "      <td>NaN</td>\n",
       "      <td>NaN</td>\n",
       "      <td>NaN</td>\n",
       "      <td>NaN</td>\n",
       "      <td>NaN</td>\n",
       "      <td>33</td>\n",
       "      <td>33</td>\n",
       "      <td>28</td>\n",
       "      <td>28</td>\n",
       "      <td>28</td>\n",
       "      <td>[1-100]</td>\n",
       "      <td>10000.0</td>\n",
       "      <td>2</td>\n",
       "      <td>0</td>\n",
       "      <td>0</td>\n",
       "      <td>0</td>\n",
       "      <td>0</td>\n",
       "    </tr>\n",
       "    <tr>\n",
       "      <th>3</th>\n",
       "      <td>22</td>\n",
       "      <td>32049000.0</td>\n",
       "      <td>29568000.0</td>\n",
       "      <td>29568000.0</td>\n",
       "      <td>0.0</td>\n",
       "      <td>0.0</td>\n",
       "      <td>2481000.0</td>\n",
       "      <td>-260000.0</td>\n",
       "      <td>2221000.0</td>\n",
       "      <td>302000.0</td>\n",
       "      <td>0.0</td>\n",
       "      <td>1919000.0</td>\n",
       "      <td>0.0</td>\n",
       "      <td>4245000.0</td>\n",
       "      <td>4082000.0</td>\n",
       "      <td>163000.0</td>\n",
       "      <td>0.0</td>\n",
       "      <td>25000.0</td>\n",
       "      <td>1919000.0</td>\n",
       "      <td>2219000.0</td>\n",
       "      <td>3652000.0</td>\n",
       "      <td>0.0</td>\n",
       "      <td>3652000.0</td>\n",
       "      <td>0.0</td>\n",
       "      <td>0.0</td>\n",
       "      <td>185</td>\n",
       "      <td>139</td>\n",
       "      <td>8</td>\n",
       "      <td>8</td>\n",
       "      <td>8</td>\n",
       "      <td>[1-100]</td>\n",
       "      <td>300000.0</td>\n",
       "      <td>1</td>\n",
       "      <td>0</td>\n",
       "      <td>0</td>\n",
       "      <td>0</td>\n",
       "      <td>0</td>\n",
       "    </tr>\n",
       "    <tr>\n",
       "      <th>4</th>\n",
       "      <td>23</td>\n",
       "      <td>16458000.0</td>\n",
       "      <td>14935000.0</td>\n",
       "      <td>14935000.0</td>\n",
       "      <td>0.0</td>\n",
       "      <td>0.0</td>\n",
       "      <td>1523000.0</td>\n",
       "      <td>-274000.0</td>\n",
       "      <td>1249000.0</td>\n",
       "      <td>538000.0</td>\n",
       "      <td>0.0</td>\n",
       "      <td>711000.0</td>\n",
       "      <td>0.0</td>\n",
       "      <td>8950000.0</td>\n",
       "      <td>8606000.0</td>\n",
       "      <td>344000.0</td>\n",
       "      <td>0.0</td>\n",
       "      <td>492000.0</td>\n",
       "      <td>711000.0</td>\n",
       "      <td>12439000.0</td>\n",
       "      <td>1279000.0</td>\n",
       "      <td>0.0</td>\n",
       "      <td>0.0</td>\n",
       "      <td>1279000.0</td>\n",
       "      <td>0.0</td>\n",
       "      <td>220</td>\n",
       "      <td>138</td>\n",
       "      <td>27</td>\n",
       "      <td>27</td>\n",
       "      <td>27</td>\n",
       "      <td>[1-100]</td>\n",
       "      <td>10000.0</td>\n",
       "      <td>2</td>\n",
       "      <td>0</td>\n",
       "      <td>0</td>\n",
       "      <td>0</td>\n",
       "      <td>0</td>\n",
       "    </tr>\n",
       "  </tbody>\n",
       "</table>\n",
       "</div>"
      ],
      "text/plain": [
       "   record_id  ar_revenue  ar_total_expenses  ar_sale_cost  \\\n",
       "0          7  52996000.0         48344000.0    48344000.0   \n",
       "1         13         NaN                NaN           NaN   \n",
       "2         18         NaN                NaN           NaN   \n",
       "3         22  32049000.0         29568000.0    29568000.0   \n",
       "4         23  16458000.0         14935000.0    14935000.0   \n",
       "\n",
       "   ar_selling_expenses  ar_management_expenses  ar_sale_profit  \\\n",
       "0                  0.0                     0.0       4652000.0   \n",
       "1                  NaN                     NaN             NaN   \n",
       "2                  NaN                     NaN             NaN   \n",
       "3                  0.0                     0.0       2481000.0   \n",
       "4                  0.0                     0.0       1523000.0   \n",
       "\n",
       "   ar_balance_of_rvns_and_expns  ar_profit_before_tax  ar_taxes  \\\n",
       "0                    -2608000.0             2044000.0  846000.0   \n",
       "1                           NaN                   NaN       NaN   \n",
       "2                           NaN                   NaN       NaN   \n",
       "3                     -260000.0             2221000.0  302000.0   \n",
       "4                     -274000.0             1249000.0  538000.0   \n",
       "\n",
       "   ar_other_profit_and_losses  ar_net_profit  ab_immobilized_assets  \\\n",
       "0                         0.0      1198000.0                    0.0   \n",
       "1                         NaN            NaN                    NaN   \n",
       "2                         NaN            NaN                    NaN   \n",
       "3                         0.0      1919000.0                    0.0   \n",
       "4                         0.0       711000.0                    0.0   \n",
       "\n",
       "   ab_mobile_current_assets  ab_inventory  ab_accounts_receivable  \\\n",
       "0                 7240000.0     4988000.0               2252000.0   \n",
       "1                       NaN           NaN                     NaN   \n",
       "2                       NaN           NaN                     NaN   \n",
       "3                 4245000.0     4082000.0                163000.0   \n",
       "4                 8950000.0     8606000.0                344000.0   \n",
       "\n",
       "   ab_other_current_assets  ab_cash_and_securities  ab_losses  ab_own_capital  \\\n",
       "0                      0.0                255000.0  1198000.0        663000.0   \n",
       "1                      NaN                     NaN        NaN             NaN   \n",
       "2                      NaN                     NaN        NaN             NaN   \n",
       "3                      0.0                 25000.0  1919000.0       2219000.0   \n",
       "4                      0.0                492000.0   711000.0      12439000.0   \n",
       "\n",
       "   ab_borrowed_capital  ab_long_term_liabilities  ab_short_term_borrowing  \\\n",
       "0           15872000.0                       0.0               11349000.0   \n",
       "1                  NaN                       NaN                      NaN   \n",
       "2                  NaN                       NaN                      NaN   \n",
       "3            3652000.0                       0.0                3652000.0   \n",
       "4            1279000.0                       0.0                      0.0   \n",
       "\n",
       "   ab_accounts_payable  ab_other_borrowings  bus_age  ogrn_age  \\\n",
       "0            4523000.0                  0.0      198       136   \n",
       "1                  NaN                  NaN      256       135   \n",
       "2                  NaN                  NaN       33        33   \n",
       "3                  0.0                  0.0      185       139   \n",
       "4            1279000.0                  0.0      220       138   \n",
       "\n",
       "   adr_actual_age  head_actual_age  cap_actual_age ul_staff_range  \\\n",
       "0               3                3               3        [1-100]   \n",
       "1              12               12              12        [1-100]   \n",
       "2              28               28              28        [1-100]   \n",
       "3               8                8               8        [1-100]   \n",
       "4              27               27              27        [1-100]   \n",
       "\n",
       "   ul_capital_sum  ul_founders_cnt  ul_branch_cnt  ul_strategic_flg  \\\n",
       "0         50000.0                2              0                 0   \n",
       "1         10000.0                5              0                 0   \n",
       "2         10000.0                2              0                 0   \n",
       "3        300000.0                1              0                 0   \n",
       "4         10000.0                2              0                 0   \n",
       "\n",
       "   ul_systematizing_flg  default_12m  \n",
       "0                     0            0  \n",
       "1                     0            0  \n",
       "2                     0            0  \n",
       "3                     0            0  \n",
       "4                     0            0  "
      ]
     },
     "execution_count": 9,
     "metadata": {},
     "output_type": "execute_result"
    }
   ],
   "source": [
    "train_df.head()"
   ]
  },
  {
   "cell_type": "code",
   "execution_count": 10,
   "metadata": {
    "colab": {
     "base_uri": "https://localhost:8080/",
     "height": 34
    },
    "colab_type": "code",
    "id": "wW_OWNg-8Hfi",
    "outputId": "77ef6e9c-b69f-459e-ba06-ee7483ca0eb4"
   },
   "outputs": [
    {
     "data": {
      "text/plain": [
       "(32395, 37)"
      ]
     },
     "execution_count": 10,
     "metadata": {},
     "output_type": "execute_result"
    }
   ],
   "source": [
    "train_df.shape"
   ]
  },
  {
   "cell_type": "markdown",
   "metadata": {},
   "source": [
    "Посмотрим на данные"
   ]
  },
  {
   "cell_type": "code",
   "execution_count": 16,
   "metadata": {
    "colab": {
     "base_uri": "https://localhost:8080/",
     "height": 765
    },
    "colab_type": "code",
    "id": "UIgCHRA1Mzv1",
    "outputId": "9b745f73-2ef6-4da1-abc7-b28890e1f92d"
   },
   "outputs": [
    {
     "name": "stdout",
     "output_type": "stream",
     "text": [
      "<class 'pandas.core.frame.DataFrame'>\n",
      "RangeIndex: 32395 entries, 0 to 32394\n",
      "Data columns (total 37 columns):\n",
      " #   Column                        Non-Null Count  Dtype  \n",
      "---  ------                        --------------  -----  \n",
      " 0   record_id                     32395 non-null  int64  \n",
      " 1   ar_revenue                    17250 non-null  float64\n",
      " 2   ar_total_expenses             17250 non-null  float64\n",
      " 3   ar_sale_cost                  17250 non-null  float64\n",
      " 4   ar_selling_expenses           17250 non-null  float64\n",
      " 5   ar_management_expenses        17250 non-null  float64\n",
      " 6   ar_sale_profit                17250 non-null  float64\n",
      " 7   ar_balance_of_rvns_and_expns  17250 non-null  float64\n",
      " 8   ar_profit_before_tax          17250 non-null  float64\n",
      " 9   ar_taxes                      17250 non-null  float64\n",
      " 10  ar_other_profit_and_losses    17250 non-null  float64\n",
      " 11  ar_net_profit                 17250 non-null  float64\n",
      " 12  ab_immobilized_assets         17250 non-null  float64\n",
      " 13  ab_mobile_current_assets      17250 non-null  float64\n",
      " 14  ab_inventory                  17250 non-null  float64\n",
      " 15  ab_accounts_receivable        17250 non-null  float64\n",
      " 16  ab_other_current_assets       17250 non-null  float64\n",
      " 17  ab_cash_and_securities        17250 non-null  float64\n",
      " 18  ab_losses                     17250 non-null  float64\n",
      " 19  ab_own_capital                17250 non-null  float64\n",
      " 20  ab_borrowed_capital           17250 non-null  float64\n",
      " 21  ab_long_term_liabilities      17250 non-null  float64\n",
      " 22  ab_short_term_borrowing       17250 non-null  float64\n",
      " 23  ab_accounts_payable           17250 non-null  float64\n",
      " 24  ab_other_borrowings           17250 non-null  float64\n",
      " 25  bus_age                       32395 non-null  int64  \n",
      " 26  ogrn_age                      32395 non-null  int64  \n",
      " 27  adr_actual_age                32395 non-null  int64  \n",
      " 28  head_actual_age               32395 non-null  int64  \n",
      " 29  cap_actual_age                32395 non-null  int64  \n",
      " 30  ul_staff_range                32395 non-null  object \n",
      " 31  ul_capital_sum                32395 non-null  float64\n",
      " 32  ul_founders_cnt               32395 non-null  int64  \n",
      " 33  ul_branch_cnt                 32395 non-null  int64  \n",
      " 34  ul_strategic_flg              32395 non-null  int64  \n",
      " 35  ul_systematizing_flg          32395 non-null  int64  \n",
      " 36  default_12m                   32395 non-null  int64  \n",
      "dtypes: float64(25), int64(11), object(1)\n",
      "memory usage: 9.1+ MB\n"
     ]
    }
   ],
   "source": [
    "train_df.info()"
   ]
  },
  {
   "cell_type": "code",
   "execution_count": 12,
   "metadata": {
    "colab": {
     "base_uri": "https://localhost:8080/",
     "height": 34
    },
    "colab_type": "code",
    "id": "IfJd2xTP3jga",
    "outputId": "3466d9ec-0c11-4265-f83c-b42831083162"
   },
   "outputs": [
    {
     "data": {
      "text/plain": [
       "array([0, 1])"
      ]
     },
     "execution_count": 12,
     "metadata": {},
     "output_type": "execute_result"
    }
   ],
   "source": [
    "pd.unique(train_df[['default_12m']].values.ravel('K'))"
   ]
  },
  {
   "cell_type": "markdown",
   "metadata": {},
   "source": [
    "Есть пропуски и несбалансированность классов"
   ]
  },
  {
   "cell_type": "code",
   "execution_count": 13,
   "metadata": {
    "colab": {
     "base_uri": "https://localhost:8080/",
     "height": 298
    },
    "colab_type": "code",
    "id": "RqOVpZez3zi7",
    "outputId": "1069b365-5468-4a98-da7c-681a132d3711"
   },
   "outputs": [
    {
     "data": {
      "text/plain": [
       "Text(0.5, 1.0, 'target')"
      ]
     },
     "execution_count": 13,
     "metadata": {},
     "output_type": "execute_result"
    },
    {
     "data": {
      "image/png": "[encoded data removed]",
      "text/plain": [
       "<Figure size 432x288 with 1 Axes>"
      ]
     },
     "metadata": {
      "needs_background": "light"
     },
     "output_type": "display_data"
    }
   ],
   "source": [
    "fig, axs = plt.subplots()\n",
    "axs.hist(train_df['default_12m'], bins=2)\n",
    "axs.set_title('target')"
   ]
  },
  {
   "cell_type": "code",
   "execution_count": 14,
   "metadata": {
    "colab": {
     "base_uri": "https://localhost:8080/",
     "height": 68
    },
    "colab_type": "code",
    "id": "gg1L8NHP6HPA",
    "outputId": "8814232e-9a6f-49e7-a1de-d9f50b038317"
   },
   "outputs": [
    {
     "data": {
      "text/plain": [
       "0    30304\n",
       "1     2091\n",
       "Name: default_12m, dtype: int64"
      ]
     },
     "execution_count": 14,
     "metadata": {},
     "output_type": "execute_result"
    }
   ],
   "source": [
    "train_df.default_12m.value_counts()"
   ]
  },
  {
   "cell_type": "markdown",
   "metadata": {},
   "source": [
    "Корреляции признакой с целевой переменной нет"
   ]
  },
  {
   "cell_type": "code",
   "execution_count": 15,
   "metadata": {},
   "outputs": [
    {
     "data": {
      "image/png": "[encoded data removed]",
      "text/plain": [
       "<Figure size 1440x1440 with 2 Axes>"
      ]
     },
     "metadata": {
      "needs_background": "light"
     },
     "output_type": "display_data"
    }
   ],
   "source": [
    "plt.subplots(figsize=(20,20))\n",
    "sns.heatmap(train_df.corr(), square=True)\n",
    "plt.show()"
   ]
  },
  {
   "cell_type": "markdown",
   "metadata": {},
   "source": [
    "Начнем обработку данных, применим One hot для количества сотрудников. Названия столбцов надо поменять для использования бустингов"
   ]
  },
  {
   "cell_type": "code",
   "execution_count": 18,
   "metadata": {},
   "outputs": [],
   "source": [
    "train = pd.get_dummies(train_df, columns=['ul_staff_range'], drop_first=False)\n",
    "train.rename(columns={'ul_staff_range_(100-500]': 'ul_staff_range_100-500',\n",
    "                      'ul_staff_range_> 500': 'ul_staff_range_500',\n",
    "                      'ul_staff_range_[1-100]': 'ul_staff_range_1-100'},\n",
    "             inplace=True)"
   ]
  },
  {
   "cell_type": "code",
   "execution_count": 19,
   "metadata": {},
   "outputs": [
    {
     "data": {
      "text/html": [
       "<div>\n",
       "<style scoped>\n",
       "    .dataframe tbody tr th:only-of-type {\n",
       "        vertical-align: middle;\n",
       "    }\n",
       "\n",
       "    .dataframe tbody tr th {\n",
       "        vertical-align: top;\n",
       "    }\n",
       "\n",
       "    .dataframe thead th {\n",
       "        text-align: right;\n",
       "    }\n",
       "</style>\n",
       "<table border=\"1\" class=\"dataframe\">\n",
       "  <thead>\n",
       "    <tr style=\"text-align: right;\">\n",
       "      <th></th>\n",
       "      <th>record_id</th>\n",
       "      <th>ar_revenue</th>\n",
       "      <th>ar_total_expenses</th>\n",
       "      <th>ar_sale_cost</th>\n",
       "      <th>ar_selling_expenses</th>\n",
       "      <th>ar_management_expenses</th>\n",
       "      <th>ar_sale_profit</th>\n",
       "      <th>ar_balance_of_rvns_and_expns</th>\n",
       "      <th>ar_profit_before_tax</th>\n",
       "      <th>ar_taxes</th>\n",
       "      <th>ar_other_profit_and_losses</th>\n",
       "      <th>ar_net_profit</th>\n",
       "      <th>ab_immobilized_assets</th>\n",
       "      <th>ab_mobile_current_assets</th>\n",
       "      <th>ab_inventory</th>\n",
       "      <th>ab_accounts_receivable</th>\n",
       "      <th>ab_other_current_assets</th>\n",
       "      <th>ab_cash_and_securities</th>\n",
       "      <th>ab_losses</th>\n",
       "      <th>ab_own_capital</th>\n",
       "      <th>ab_borrowed_capital</th>\n",
       "      <th>ab_long_term_liabilities</th>\n",
       "      <th>ab_short_term_borrowing</th>\n",
       "      <th>ab_accounts_payable</th>\n",
       "      <th>ab_other_borrowings</th>\n",
       "      <th>bus_age</th>\n",
       "      <th>ogrn_age</th>\n",
       "      <th>adr_actual_age</th>\n",
       "      <th>head_actual_age</th>\n",
       "      <th>cap_actual_age</th>\n",
       "      <th>ul_capital_sum</th>\n",
       "      <th>ul_founders_cnt</th>\n",
       "      <th>ul_branch_cnt</th>\n",
       "      <th>ul_strategic_flg</th>\n",
       "      <th>ul_systematizing_flg</th>\n",
       "      <th>default_12m</th>\n",
       "      <th>ul_staff_range_100-500</th>\n",
       "      <th>ul_staff_range_500</th>\n",
       "      <th>ul_staff_range_1-100</th>\n",
       "    </tr>\n",
       "  </thead>\n",
       "  <tbody>\n",
       "    <tr>\n",
       "      <th>0</th>\n",
       "      <td>7</td>\n",
       "      <td>52996000.0</td>\n",
       "      <td>48344000.0</td>\n",
       "      <td>48344000.0</td>\n",
       "      <td>0.0</td>\n",
       "      <td>0.0</td>\n",
       "      <td>4652000.0</td>\n",
       "      <td>-2608000.0</td>\n",
       "      <td>2044000.0</td>\n",
       "      <td>846000.0</td>\n",
       "      <td>0.0</td>\n",
       "      <td>1198000.0</td>\n",
       "      <td>0.0</td>\n",
       "      <td>7240000.0</td>\n",
       "      <td>4988000.0</td>\n",
       "      <td>2252000.0</td>\n",
       "      <td>0.0</td>\n",
       "      <td>255000.0</td>\n",
       "      <td>1198000.0</td>\n",
       "      <td>663000.0</td>\n",
       "      <td>15872000.0</td>\n",
       "      <td>0.0</td>\n",
       "      <td>11349000.0</td>\n",
       "      <td>4523000.0</td>\n",
       "      <td>0.0</td>\n",
       "      <td>198</td>\n",
       "      <td>136</td>\n",
       "      <td>3</td>\n",
       "      <td>3</td>\n",
       "      <td>3</td>\n",
       "      <td>50000.0</td>\n",
       "      <td>2</td>\n",
       "      <td>0</td>\n",
       "      <td>0</td>\n",
       "      <td>0</td>\n",
       "      <td>0</td>\n",
       "      <td>0</td>\n",
       "      <td>0</td>\n",
       "      <td>1</td>\n",
       "    </tr>\n",
       "    <tr>\n",
       "      <th>1</th>\n",
       "      <td>13</td>\n",
       "      <td>NaN</td>\n",
       "      <td>NaN</td>\n",
       "      <td>NaN</td>\n",
       "      <td>NaN</td>\n",
       "      <td>NaN</td>\n",
       "      <td>NaN</td>\n",
       "      <td>NaN</td>\n",
       "      <td>NaN</td>\n",
       "      <td>NaN</td>\n",
       "      <td>NaN</td>\n",
       "      <td>NaN</td>\n",
       "      <td>NaN</td>\n",
       "      <td>NaN</td>\n",
       "      <td>NaN</td>\n",
       "      <td>NaN</td>\n",
       "      <td>NaN</td>\n",
       "      <td>NaN</td>\n",
       "      <td>NaN</td>\n",
       "      <td>NaN</td>\n",
       "      <td>NaN</td>\n",
       "      <td>NaN</td>\n",
       "      <td>NaN</td>\n",
       "      <td>NaN</td>\n",
       "      <td>NaN</td>\n",
       "      <td>256</td>\n",
       "      <td>135</td>\n",
       "      <td>12</td>\n",
       "      <td>12</td>\n",
       "      <td>12</td>\n",
       "      <td>10000.0</td>\n",
       "      <td>5</td>\n",
       "      <td>0</td>\n",
       "      <td>0</td>\n",
       "      <td>0</td>\n",
       "      <td>0</td>\n",
       "      <td>0</td>\n",
       "      <td>0</td>\n",
       "      <td>1</td>\n",
       "    </tr>\n",
       "    <tr>\n",
       "      <th>2</th>\n",
       "      <td>18</td>\n",
       "      <td>NaN</td>\n",
       "      <td>NaN</td>\n",
       "      <td>NaN</td>\n",
       "      <td>NaN</td>\n",
       "      <td>NaN</td>\n",
       "      <td>NaN</td>\n",
       "      <td>NaN</td>\n",
       "      <td>NaN</td>\n",
       "      <td>NaN</td>\n",
       "      <td>NaN</td>\n",
       "      <td>NaN</td>\n",
       "      <td>NaN</td>\n",
       "      <td>NaN</td>\n",
       "      <td>NaN</td>\n",
       "      <td>NaN</td>\n",
       "      <td>NaN</td>\n",
       "      <td>NaN</td>\n",
       "      <td>NaN</td>\n",
       "      <td>NaN</td>\n",
       "      <td>NaN</td>\n",
       "      <td>NaN</td>\n",
       "      <td>NaN</td>\n",
       "      <td>NaN</td>\n",
       "      <td>NaN</td>\n",
       "      <td>33</td>\n",
       "      <td>33</td>\n",
       "      <td>28</td>\n",
       "      <td>28</td>\n",
       "      <td>28</td>\n",
       "      <td>10000.0</td>\n",
       "      <td>2</td>\n",
       "      <td>0</td>\n",
       "      <td>0</td>\n",
       "      <td>0</td>\n",
       "      <td>0</td>\n",
       "      <td>0</td>\n",
       "      <td>0</td>\n",
       "      <td>1</td>\n",
       "    </tr>\n",
       "    <tr>\n",
       "      <th>3</th>\n",
       "      <td>22</td>\n",
       "      <td>32049000.0</td>\n",
       "      <td>29568000.0</td>\n",
       "      <td>29568000.0</td>\n",
       "      <td>0.0</td>\n",
       "      <td>0.0</td>\n",
       "      <td>2481000.0</td>\n",
       "      <td>-260000.0</td>\n",
       "      <td>2221000.0</td>\n",
       "      <td>302000.0</td>\n",
       "      <td>0.0</td>\n",
       "      <td>1919000.0</td>\n",
       "      <td>0.0</td>\n",
       "      <td>4245000.0</td>\n",
       "      <td>4082000.0</td>\n",
       "      <td>163000.0</td>\n",
       "      <td>0.0</td>\n",
       "      <td>25000.0</td>\n",
       "      <td>1919000.0</td>\n",
       "      <td>2219000.0</td>\n",
       "      <td>3652000.0</td>\n",
       "      <td>0.0</td>\n",
       "      <td>3652000.0</td>\n",
       "      <td>0.0</td>\n",
       "      <td>0.0</td>\n",
       "      <td>185</td>\n",
       "      <td>139</td>\n",
       "      <td>8</td>\n",
       "      <td>8</td>\n",
       "      <td>8</td>\n",
       "      <td>300000.0</td>\n",
       "      <td>1</td>\n",
       "      <td>0</td>\n",
       "      <td>0</td>\n",
       "      <td>0</td>\n",
       "      <td>0</td>\n",
       "      <td>0</td>\n",
       "      <td>0</td>\n",
       "      <td>1</td>\n",
       "    </tr>\n",
       "    <tr>\n",
       "      <th>4</th>\n",
       "      <td>23</td>\n",
       "      <td>16458000.0</td>\n",
       "      <td>14935000.0</td>\n",
       "      <td>14935000.0</td>\n",
       "      <td>0.0</td>\n",
       "      <td>0.0</td>\n",
       "      <td>1523000.0</td>\n",
       "      <td>-274000.0</td>\n",
       "      <td>1249000.0</td>\n",
       "      <td>538000.0</td>\n",
       "      <td>0.0</td>\n",
       "      <td>711000.0</td>\n",
       "      <td>0.0</td>\n",
       "      <td>8950000.0</td>\n",
       "      <td>8606000.0</td>\n",
       "      <td>344000.0</td>\n",
       "      <td>0.0</td>\n",
       "      <td>492000.0</td>\n",
       "      <td>711000.0</td>\n",
       "      <td>12439000.0</td>\n",
       "      <td>1279000.0</td>\n",
       "      <td>0.0</td>\n",
       "      <td>0.0</td>\n",
       "      <td>1279000.0</td>\n",
       "      <td>0.0</td>\n",
       "      <td>220</td>\n",
       "      <td>138</td>\n",
       "      <td>27</td>\n",
       "      <td>27</td>\n",
       "      <td>27</td>\n",
       "      <td>10000.0</td>\n",
       "      <td>2</td>\n",
       "      <td>0</td>\n",
       "      <td>0</td>\n",
       "      <td>0</td>\n",
       "      <td>0</td>\n",
       "      <td>0</td>\n",
       "      <td>0</td>\n",
       "      <td>1</td>\n",
       "    </tr>\n",
       "  </tbody>\n",
       "</table>\n",
       "</div>"
      ],
      "text/plain": [
       "   record_id  ar_revenue  ar_total_expenses  ar_sale_cost  \\\n",
       "0          7  52996000.0         48344000.0    48344000.0   \n",
       "1         13         NaN                NaN           NaN   \n",
       "2         18         NaN                NaN           NaN   \n",
       "3         22  32049000.0         29568000.0    29568000.0   \n",
       "4         23  16458000.0         14935000.0    14935000.0   \n",
       "\n",
       "   ar_selling_expenses  ar_management_expenses  ar_sale_profit  \\\n",
       "0                  0.0                     0.0       4652000.0   \n",
       "1                  NaN                     NaN             NaN   \n",
       "2                  NaN                     NaN             NaN   \n",
       "3                  0.0                     0.0       2481000.0   \n",
       "4                  0.0                     0.0       1523000.0   \n",
       "\n",
       "   ar_balance_of_rvns_and_expns  ar_profit_before_tax  ar_taxes  \\\n",
       "0                    -2608000.0             2044000.0  846000.0   \n",
       "1                           NaN                   NaN       NaN   \n",
       "2                           NaN                   NaN       NaN   \n",
       "3                     -260000.0             2221000.0  302000.0   \n",
       "4                     -274000.0             1249000.0  538000.0   \n",
       "\n",
       "   ar_other_profit_and_losses  ar_net_profit  ab_immobilized_assets  \\\n",
       "0                         0.0      1198000.0                    0.0   \n",
       "1                         NaN            NaN                    NaN   \n",
       "2                         NaN            NaN                    NaN   \n",
       "3                         0.0      1919000.0                    0.0   \n",
       "4                         0.0       711000.0                    0.0   \n",
       "\n",
       "   ab_mobile_current_assets  ab_inventory  ab_accounts_receivable  \\\n",
       "0                 7240000.0     4988000.0               2252000.0   \n",
       "1                       NaN           NaN                     NaN   \n",
       "2                       NaN           NaN                     NaN   \n",
       "3                 4245000.0     4082000.0                163000.0   \n",
       "4                 8950000.0     8606000.0                344000.0   \n",
       "\n",
       "   ab_other_current_assets  ab_cash_and_securities  ab_losses  ab_own_capital  \\\n",
       "0                      0.0                255000.0  1198000.0        663000.0   \n",
       "1                      NaN                     NaN        NaN             NaN   \n",
       "2                      NaN                     NaN        NaN             NaN   \n",
       "3                      0.0                 25000.0  1919000.0       2219000.0   \n",
       "4                      0.0                492000.0   711000.0      12439000.0   \n",
       "\n",
       "   ab_borrowed_capital  ab_long_term_liabilities  ab_short_term_borrowing  \\\n",
       "0           15872000.0                       0.0               11349000.0   \n",
       "1                  NaN                       NaN                      NaN   \n",
       "2                  NaN                       NaN                      NaN   \n",
       "3            3652000.0                       0.0                3652000.0   \n",
       "4            1279000.0                       0.0                      0.0   \n",
       "\n",
       "   ab_accounts_payable  ab_other_borrowings  bus_age  ogrn_age  \\\n",
       "0            4523000.0                  0.0      198       136   \n",
       "1                  NaN                  NaN      256       135   \n",
       "2                  NaN                  NaN       33        33   \n",
       "3                  0.0                  0.0      185       139   \n",
       "4            1279000.0                  0.0      220       138   \n",
       "\n",
       "   adr_actual_age  head_actual_age  cap_actual_age  ul_capital_sum  \\\n",
       "0               3                3               3         50000.0   \n",
       "1              12               12              12         10000.0   \n",
       "2              28               28              28         10000.0   \n",
       "3               8                8               8        300000.0   \n",
       "4              27               27              27         10000.0   \n",
       "\n",
       "   ul_founders_cnt  ul_branch_cnt  ul_strategic_flg  ul_systematizing_flg  \\\n",
       "0                2              0                 0                     0   \n",
       "1                5              0                 0                     0   \n",
       "2                2              0                 0                     0   \n",
       "3                1              0                 0                     0   \n",
       "4                2              0                 0                     0   \n",
       "\n",
       "   default_12m  ul_staff_range_100-500  ul_staff_range_500  \\\n",
       "0            0                       0                   0   \n",
       "1            0                       0                   0   \n",
       "2            0                       0                   0   \n",
       "3            0                       0                   0   \n",
       "4            0                       0                   0   \n",
       "\n",
       "   ul_staff_range_1-100  \n",
       "0                     1  \n",
       "1                     1  \n",
       "2                     1  \n",
       "3                     1  \n",
       "4                     1  "
      ]
     },
     "execution_count": 19,
     "metadata": {},
     "output_type": "execute_result"
    }
   ],
   "source": [
    "train.head()"
   ]
  },
  {
   "cell_type": "markdown",
   "metadata": {},
   "source": [
    "Заменим пропущенные элементы на средние значения и на нули. Выборка с нулями показала плохой результат, поэтому ее нет в данном ноутбуке"
   ]
  },
  {
   "cell_type": "code",
   "execution_count": 20,
   "metadata": {
    "colab": {
     "base_uri": "https://localhost:8080/",
     "height": 224
    },
    "colab_type": "code",
    "id": "5ulHGIOt6dEQ",
    "outputId": "6cf6f054-d3a6-493a-c88b-b0f4df530dfa"
   },
   "outputs": [],
   "source": [
    "reg_train = train_df.fillna(train_df.median(axis=0), axis=0)\n",
    "reg_train = reg_train.drop(['default_12m', 'record_id'], axis=1)"
   ]
  },
  {
   "cell_type": "code",
   "execution_count": 21,
   "metadata": {
    "colab": {
     "base_uri": "https://localhost:8080/",
     "height": 34
    },
    "colab_type": "code",
    "id": "XzZC6RdJBqjp",
    "outputId": "cc55eee7-d517-42e8-9290-ae7c8faca010"
   },
   "outputs": [],
   "source": [
    "reg_train = pd.get_dummies(reg_train, columns=['ul_staff_range'], drop_first=False)\n",
    "reg_train.rename(columns={\n",
    "    'ul_staff_range_(100-500]': 'ul_staff_range_100-500',\n",
    "    'ul_staff_range_> 500': 'ul_staff_range_500',\n",
    "    'ul_staff_range_[1-100]': 'ul_staff_range_1-100'\n",
    "},inplace=True)"
   ]
  },
  {
   "cell_type": "code",
   "execution_count": 22,
   "metadata": {
    "colab": {
     "base_uri": "https://localhost:8080/",
     "height": 224
    },
    "colab_type": "code",
    "id": "x_GUfKD8MVr3",
    "outputId": "22956b8c-f47d-405a-a940-86079894ee56",
    "scrolled": true
   },
   "outputs": [
    {
     "data": {
      "text/html": [
       "<div>\n",
       "<style scoped>\n",
       "    .dataframe tbody tr th:only-of-type {\n",
       "        vertical-align: middle;\n",
       "    }\n",
       "\n",
       "    .dataframe tbody tr th {\n",
       "        vertical-align: top;\n",
       "    }\n",
       "\n",
       "    .dataframe thead th {\n",
       "        text-align: right;\n",
       "    }\n",
       "</style>\n",
       "<table border=\"1\" class=\"dataframe\">\n",
       "  <thead>\n",
       "    <tr style=\"text-align: right;\">\n",
       "      <th></th>\n",
       "      <th>ar_revenue</th>\n",
       "      <th>ar_total_expenses</th>\n",
       "      <th>ar_sale_cost</th>\n",
       "      <th>ar_selling_expenses</th>\n",
       "      <th>ar_management_expenses</th>\n",
       "      <th>ar_sale_profit</th>\n",
       "      <th>ar_balance_of_rvns_and_expns</th>\n",
       "      <th>ar_profit_before_tax</th>\n",
       "      <th>ar_taxes</th>\n",
       "      <th>ar_other_profit_and_losses</th>\n",
       "      <th>ar_net_profit</th>\n",
       "      <th>ab_immobilized_assets</th>\n",
       "      <th>ab_mobile_current_assets</th>\n",
       "      <th>ab_inventory</th>\n",
       "      <th>ab_accounts_receivable</th>\n",
       "      <th>ab_other_current_assets</th>\n",
       "      <th>ab_cash_and_securities</th>\n",
       "      <th>ab_losses</th>\n",
       "      <th>ab_own_capital</th>\n",
       "      <th>ab_borrowed_capital</th>\n",
       "      <th>ab_long_term_liabilities</th>\n",
       "      <th>ab_short_term_borrowing</th>\n",
       "      <th>ab_accounts_payable</th>\n",
       "      <th>ab_other_borrowings</th>\n",
       "      <th>bus_age</th>\n",
       "      <th>ogrn_age</th>\n",
       "      <th>adr_actual_age</th>\n",
       "      <th>head_actual_age</th>\n",
       "      <th>cap_actual_age</th>\n",
       "      <th>ul_capital_sum</th>\n",
       "      <th>ul_founders_cnt</th>\n",
       "      <th>ul_branch_cnt</th>\n",
       "      <th>ul_strategic_flg</th>\n",
       "      <th>ul_systematizing_flg</th>\n",
       "      <th>ul_staff_range_100-500</th>\n",
       "      <th>ul_staff_range_500</th>\n",
       "      <th>ul_staff_range_1-100</th>\n",
       "    </tr>\n",
       "  </thead>\n",
       "  <tbody>\n",
       "    <tr>\n",
       "      <th>0</th>\n",
       "      <td>52996000.0</td>\n",
       "      <td>48344000.0</td>\n",
       "      <td>48344000.0</td>\n",
       "      <td>0.0</td>\n",
       "      <td>0.0</td>\n",
       "      <td>4652000.0</td>\n",
       "      <td>-2608000.0</td>\n",
       "      <td>2044000.0</td>\n",
       "      <td>846000.0</td>\n",
       "      <td>0.0</td>\n",
       "      <td>1198000.0</td>\n",
       "      <td>0.0</td>\n",
       "      <td>7240000.0</td>\n",
       "      <td>4988000.0</td>\n",
       "      <td>2252000.0</td>\n",
       "      <td>0.0</td>\n",
       "      <td>255000.0</td>\n",
       "      <td>1198000.0</td>\n",
       "      <td>663000.0</td>\n",
       "      <td>15872000.0</td>\n",
       "      <td>0.0</td>\n",
       "      <td>11349000.0</td>\n",
       "      <td>4523000.0</td>\n",
       "      <td>0.0</td>\n",
       "      <td>198</td>\n",
       "      <td>136</td>\n",
       "      <td>3</td>\n",
       "      <td>3</td>\n",
       "      <td>3</td>\n",
       "      <td>50000.0</td>\n",
       "      <td>2</td>\n",
       "      <td>0</td>\n",
       "      <td>0</td>\n",
       "      <td>0</td>\n",
       "      <td>0</td>\n",
       "      <td>0</td>\n",
       "      <td>1</td>\n",
       "    </tr>\n",
       "    <tr>\n",
       "      <th>1</th>\n",
       "      <td>32335000.0</td>\n",
       "      <td>29703500.0</td>\n",
       "      <td>28408000.0</td>\n",
       "      <td>0.0</td>\n",
       "      <td>0.0</td>\n",
       "      <td>1231500.0</td>\n",
       "      <td>-126000.0</td>\n",
       "      <td>850000.0</td>\n",
       "      <td>41000.0</td>\n",
       "      <td>0.0</td>\n",
       "      <td>704000.0</td>\n",
       "      <td>0.0</td>\n",
       "      <td>11094500.0</td>\n",
       "      <td>4714500.0</td>\n",
       "      <td>3028500.0</td>\n",
       "      <td>0.0</td>\n",
       "      <td>264000.0</td>\n",
       "      <td>673000.0</td>\n",
       "      <td>3528000.0</td>\n",
       "      <td>7231000.0</td>\n",
       "      <td>0.0</td>\n",
       "      <td>361000.0</td>\n",
       "      <td>3678000.0</td>\n",
       "      <td>0.0</td>\n",
       "      <td>256</td>\n",
       "      <td>135</td>\n",
       "      <td>12</td>\n",
       "      <td>12</td>\n",
       "      <td>12</td>\n",
       "      <td>10000.0</td>\n",
       "      <td>5</td>\n",
       "      <td>0</td>\n",
       "      <td>0</td>\n",
       "      <td>0</td>\n",
       "      <td>0</td>\n",
       "      <td>0</td>\n",
       "      <td>1</td>\n",
       "    </tr>\n",
       "    <tr>\n",
       "      <th>2</th>\n",
       "      <td>32335000.0</td>\n",
       "      <td>29703500.0</td>\n",
       "      <td>28408000.0</td>\n",
       "      <td>0.0</td>\n",
       "      <td>0.0</td>\n",
       "      <td>1231500.0</td>\n",
       "      <td>-126000.0</td>\n",
       "      <td>850000.0</td>\n",
       "      <td>41000.0</td>\n",
       "      <td>0.0</td>\n",
       "      <td>704000.0</td>\n",
       "      <td>0.0</td>\n",
       "      <td>11094500.0</td>\n",
       "      <td>4714500.0</td>\n",
       "      <td>3028500.0</td>\n",
       "      <td>0.0</td>\n",
       "      <td>264000.0</td>\n",
       "      <td>673000.0</td>\n",
       "      <td>3528000.0</td>\n",
       "      <td>7231000.0</td>\n",
       "      <td>0.0</td>\n",
       "      <td>361000.0</td>\n",
       "      <td>3678000.0</td>\n",
       "      <td>0.0</td>\n",
       "      <td>33</td>\n",
       "      <td>33</td>\n",
       "      <td>28</td>\n",
       "      <td>28</td>\n",
       "      <td>28</td>\n",
       "      <td>10000.0</td>\n",
       "      <td>2</td>\n",
       "      <td>0</td>\n",
       "      <td>0</td>\n",
       "      <td>0</td>\n",
       "      <td>0</td>\n",
       "      <td>0</td>\n",
       "      <td>1</td>\n",
       "    </tr>\n",
       "    <tr>\n",
       "      <th>3</th>\n",
       "      <td>32049000.0</td>\n",
       "      <td>29568000.0</td>\n",
       "      <td>29568000.0</td>\n",
       "      <td>0.0</td>\n",
       "      <td>0.0</td>\n",
       "      <td>2481000.0</td>\n",
       "      <td>-260000.0</td>\n",
       "      <td>2221000.0</td>\n",
       "      <td>302000.0</td>\n",
       "      <td>0.0</td>\n",
       "      <td>1919000.0</td>\n",
       "      <td>0.0</td>\n",
       "      <td>4245000.0</td>\n",
       "      <td>4082000.0</td>\n",
       "      <td>163000.0</td>\n",
       "      <td>0.0</td>\n",
       "      <td>25000.0</td>\n",
       "      <td>1919000.0</td>\n",
       "      <td>2219000.0</td>\n",
       "      <td>3652000.0</td>\n",
       "      <td>0.0</td>\n",
       "      <td>3652000.0</td>\n",
       "      <td>0.0</td>\n",
       "      <td>0.0</td>\n",
       "      <td>185</td>\n",
       "      <td>139</td>\n",
       "      <td>8</td>\n",
       "      <td>8</td>\n",
       "      <td>8</td>\n",
       "      <td>300000.0</td>\n",
       "      <td>1</td>\n",
       "      <td>0</td>\n",
       "      <td>0</td>\n",
       "      <td>0</td>\n",
       "      <td>0</td>\n",
       "      <td>0</td>\n",
       "      <td>1</td>\n",
       "    </tr>\n",
       "    <tr>\n",
       "      <th>4</th>\n",
       "      <td>16458000.0</td>\n",
       "      <td>14935000.0</td>\n",
       "      <td>14935000.0</td>\n",
       "      <td>0.0</td>\n",
       "      <td>0.0</td>\n",
       "      <td>1523000.0</td>\n",
       "      <td>-274000.0</td>\n",
       "      <td>1249000.0</td>\n",
       "      <td>538000.0</td>\n",
       "      <td>0.0</td>\n",
       "      <td>711000.0</td>\n",
       "      <td>0.0</td>\n",
       "      <td>8950000.0</td>\n",
       "      <td>8606000.0</td>\n",
       "      <td>344000.0</td>\n",
       "      <td>0.0</td>\n",
       "      <td>492000.0</td>\n",
       "      <td>711000.0</td>\n",
       "      <td>12439000.0</td>\n",
       "      <td>1279000.0</td>\n",
       "      <td>0.0</td>\n",
       "      <td>0.0</td>\n",
       "      <td>1279000.0</td>\n",
       "      <td>0.0</td>\n",
       "      <td>220</td>\n",
       "      <td>138</td>\n",
       "      <td>27</td>\n",
       "      <td>27</td>\n",
       "      <td>27</td>\n",
       "      <td>10000.0</td>\n",
       "      <td>2</td>\n",
       "      <td>0</td>\n",
       "      <td>0</td>\n",
       "      <td>0</td>\n",
       "      <td>0</td>\n",
       "      <td>0</td>\n",
       "      <td>1</td>\n",
       "    </tr>\n",
       "  </tbody>\n",
       "</table>\n",
       "</div>"
      ],
      "text/plain": [
       "   ar_revenue  ar_total_expenses  ar_sale_cost  ar_selling_expenses  \\\n",
       "0  52996000.0         48344000.0    48344000.0                  0.0   \n",
       "1  32335000.0         29703500.0    28408000.0                  0.0   \n",
       "2  32335000.0         29703500.0    28408000.0                  0.0   \n",
       "3  32049000.0         29568000.0    29568000.0                  0.0   \n",
       "4  16458000.0         14935000.0    14935000.0                  0.0   \n",
       "\n",
       "   ar_management_expenses  ar_sale_profit  ar_balance_of_rvns_and_expns  \\\n",
       "0                     0.0       4652000.0                    -2608000.0   \n",
       "1                     0.0       1231500.0                     -126000.0   \n",
       "2                     0.0       1231500.0                     -126000.0   \n",
       "3                     0.0       2481000.0                     -260000.0   \n",
       "4                     0.0       1523000.0                     -274000.0   \n",
       "\n",
       "   ar_profit_before_tax  ar_taxes  ar_other_profit_and_losses  ar_net_profit  \\\n",
       "0             2044000.0  846000.0                         0.0      1198000.0   \n",
       "1              850000.0   41000.0                         0.0       704000.0   \n",
       "2              850000.0   41000.0                         0.0       704000.0   \n",
       "3             2221000.0  302000.0                         0.0      1919000.0   \n",
       "4             1249000.0  538000.0                         0.0       711000.0   \n",
       "\n",
       "   ab_immobilized_assets  ab_mobile_current_assets  ab_inventory  \\\n",
       "0                    0.0                 7240000.0     4988000.0   \n",
       "1                    0.0                11094500.0     4714500.0   \n",
       "2                    0.0                11094500.0     4714500.0   \n",
       "3                    0.0                 4245000.0     4082000.0   \n",
       "4                    0.0                 8950000.0     8606000.0   \n",
       "\n",
       "   ab_accounts_receivable  ab_other_current_assets  ab_cash_and_securities  \\\n",
       "0               2252000.0                      0.0                255000.0   \n",
       "1               3028500.0                      0.0                264000.0   \n",
       "2               3028500.0                      0.0                264000.0   \n",
       "3                163000.0                      0.0                 25000.0   \n",
       "4                344000.0                      0.0                492000.0   \n",
       "\n",
       "   ab_losses  ab_own_capital  ab_borrowed_capital  ab_long_term_liabilities  \\\n",
       "0  1198000.0        663000.0           15872000.0                       0.0   \n",
       "1   673000.0       3528000.0            7231000.0                       0.0   \n",
       "2   673000.0       3528000.0            7231000.0                       0.0   \n",
       "3  1919000.0       2219000.0            3652000.0                       0.0   \n",
       "4   711000.0      12439000.0            1279000.0                       0.0   \n",
       "\n",
       "   ab_short_term_borrowing  ab_accounts_payable  ab_other_borrowings  bus_age  \\\n",
       "0               11349000.0            4523000.0                  0.0      198   \n",
       "1                 361000.0            3678000.0                  0.0      256   \n",
       "2                 361000.0            3678000.0                  0.0       33   \n",
       "3                3652000.0                  0.0                  0.0      185   \n",
       "4                      0.0            1279000.0                  0.0      220   \n",
       "\n",
       "   ogrn_age  adr_actual_age  head_actual_age  cap_actual_age  ul_capital_sum  \\\n",
       "0       136               3                3               3         50000.0   \n",
       "1       135              12               12              12         10000.0   \n",
       "2        33              28               28              28         10000.0   \n",
       "3       139               8                8               8        300000.0   \n",
       "4       138              27               27              27         10000.0   \n",
       "\n",
       "   ul_founders_cnt  ul_branch_cnt  ul_strategic_flg  ul_systematizing_flg  \\\n",
       "0                2              0                 0                     0   \n",
       "1                5              0                 0                     0   \n",
       "2                2              0                 0                     0   \n",
       "3                1              0                 0                     0   \n",
       "4                2              0                 0                     0   \n",
       "\n",
       "   ul_staff_range_100-500  ul_staff_range_500  ul_staff_range_1-100  \n",
       "0                       0                   0                     1  \n",
       "1                       0                   0                     1  \n",
       "2                       0                   0                     1  \n",
       "3                       0                   0                     1  \n",
       "4                       0                   0                     1  "
      ]
     },
     "execution_count": 22,
     "metadata": {},
     "output_type": "execute_result"
    }
   ],
   "source": [
    "reg_train.head()"
   ]
  },
  {
   "cell_type": "markdown",
   "metadata": {},
   "source": [
    "Зафиксируем новые фичи"
   ]
  },
  {
   "cell_type": "code",
   "execution_count": 23,
   "metadata": {
    "collapsed": true
   },
   "outputs": [
    {
     "data": {
      "text/plain": [
       "['ar_revenue',\n",
       " 'ar_total_expenses',\n",
       " 'ar_sale_cost',\n",
       " 'ar_selling_expenses',\n",
       " 'ar_management_expenses',\n",
       " 'ar_sale_profit',\n",
       " 'ar_balance_of_rvns_and_expns',\n",
       " 'ar_profit_before_tax',\n",
       " 'ar_taxes',\n",
       " 'ar_other_profit_and_losses',\n",
       " 'ar_net_profit',\n",
       " 'ab_immobilized_assets',\n",
       " 'ab_mobile_current_assets',\n",
       " 'ab_inventory',\n",
       " 'ab_accounts_receivable',\n",
       " 'ab_other_current_assets',\n",
       " 'ab_cash_and_securities',\n",
       " 'ab_losses',\n",
       " 'ab_own_capital',\n",
       " 'ab_borrowed_capital',\n",
       " 'ab_long_term_liabilities',\n",
       " 'ab_short_term_borrowing',\n",
       " 'ab_accounts_payable',\n",
       " 'ab_other_borrowings',\n",
       " 'bus_age',\n",
       " 'ogrn_age',\n",
       " 'adr_actual_age',\n",
       " 'head_actual_age',\n",
       " 'cap_actual_age',\n",
       " 'ul_capital_sum',\n",
       " 'ul_founders_cnt',\n",
       " 'ul_branch_cnt',\n",
       " 'ul_strategic_flg',\n",
       " 'ul_systematizing_flg',\n",
       " 'ul_staff_range_100-500',\n",
       " 'ul_staff_range_500',\n",
       " 'ul_staff_range_1-100']"
      ]
     },
     "execution_count": 23,
     "metadata": {},
     "output_type": "execute_result"
    }
   ],
   "source": [
    "features_reg = reg_train.columns.tolist()\n",
    "features_reg"
   ]
  },
  {
   "cell_type": "markdown",
   "metadata": {},
   "source": [
    "Обработаем тестовыю выборку"
   ]
  },
  {
   "cell_type": "markdown",
   "metadata": {},
   "source": [
    "Интересно, какого результата удатся достичь с минимальной обработкой данных - без очистки выбросов, дублей и без выравнивания классов SMOTE. Буду использовать регрессию, случайные леса, XGBoost и DecisionTree. После обучения на этих фичах я добавлю рентабельность, рентабельность капитала и быструю ликвидность. Понимаю, что можно добавить больше фичей по финансам, но для этого лучше разделить данные на полные и на данные с пропусками и обучать отдельно, а времени мало. "
   ]
  },
  {
   "cell_type": "code",
   "execution_count": 24,
   "metadata": {},
   "outputs": [],
   "source": [
    "test_df_new = test_df"
   ]
  },
  {
   "cell_type": "code",
   "execution_count": 25,
   "metadata": {},
   "outputs": [],
   "source": [
    "test_df_new = test_df_new.fillna(test_df_new.median(axis=0), axis=0)"
   ]
  },
  {
   "cell_type": "code",
   "execution_count": 26,
   "metadata": {},
   "outputs": [],
   "source": [
    "test_df_new_reg = test_df_new\n",
    "test_df_new_reg = pd.get_dummies(test_df_new_reg, columns=['ul_staff_range'], drop_first=False)\n",
    "test_df_new_reg.rename(columns={'ul_staff_range_(100-500]': 'ul_staff_range_100-500', \\\n",
    "                      'ul_staff_range_> 500': 'ul_staff_range_500', \\\n",
    "                      'ul_staff_range_[1-100]': 'ul_staff_range_1-100'}, \\\n",
    "             inplace=True)"
   ]
  },
  {
   "cell_type": "markdown",
   "metadata": {
    "colab_type": "text",
    "id": "H06Wcg09N92N"
   },
   "source": [
    "Количество разных типов фичей"
   ]
  },
  {
   "cell_type": "code",
   "execution_count": 27,
   "metadata": {
    "colab": {
     "base_uri": "https://localhost:8080/",
     "height": 85
    },
    "colab_type": "code",
    "id": "cYOxzyvLN92O",
    "outputId": "364bcce0-09d4-4b8f-8e5a-697ea36fceb8"
   },
   "outputs": [
    {
     "data": {
      "text/plain": [
       "float64    25\n",
       "int64      11\n",
       "object      1\n",
       "dtype: int64"
      ]
     },
     "execution_count": 27,
     "metadata": {},
     "output_type": "execute_result"
    }
   ],
   "source": [
    "train_df.dtypes.value_counts()"
   ]
  },
  {
   "cell_type": "markdown",
   "metadata": {
    "colab_type": "text",
    "id": "f8ZLAgMeN92R"
   },
   "source": [
    "Уровень дефолт-рейта в выборке = 6,7219%"
   ]
  },
  {
   "cell_type": "code",
   "execution_count": 28,
   "metadata": {
    "colab": {
     "base_uri": "https://localhost:8080/",
     "height": 34
    },
    "colab_type": "code",
    "id": "LTHNGVxTN92S",
    "outputId": "d5460e4c-5208-495a-a6bc-21491b19467e"
   },
   "outputs": [
    {
     "data": {
      "text/plain": [
       "0.06454699799351751"
      ]
     },
     "execution_count": 28,
     "metadata": {},
     "output_type": "execute_result"
    }
   ],
   "source": [
    "train_df['default_12m'].values.mean()"
   ]
  },
  {
   "cell_type": "code",
   "execution_count": 29,
   "metadata": {
    "colab": {
     "base_uri": "https://localhost:8080/",
     "height": 34
    },
    "colab_type": "code",
    "id": "47MrTU_xN92X",
    "outputId": "da489617-2a46-48e1-f62b-41e5ae8db06a"
   },
   "outputs": [
    {
     "data": {
      "text/plain": [
       "32395"
      ]
     },
     "execution_count": 29,
     "metadata": {},
     "output_type": "execute_result"
    }
   ],
   "source": [
    "train_df.record_id.nunique()"
   ]
  },
  {
   "cell_type": "markdown",
   "metadata": {
    "colab_type": "text",
    "id": "vo_LbDC0N92a"
   },
   "source": [
    "32395 уникальных наблюдений"
   ]
  },
  {
   "cell_type": "markdown",
   "metadata": {
    "colab_type": "text",
    "id": "tIkwdsWrN92b"
   },
   "source": [
    "### Строим бэйзлайн модель c 3-ми фичами"
   ]
  },
  {
   "cell_type": "code",
   "execution_count": 30,
   "metadata": {
    "colab": {
     "base_uri": "https://localhost:8080/",
     "height": 34
    },
    "colab_type": "code",
    "id": "A_XNOaYeN92b",
    "outputId": "6f6841c1-2bd4-45b6-dc1b-5b7a257a1e58"
   },
   "outputs": [
    {
     "data": {
      "text/plain": [
       "['bus_age', 'ul_capital_sum', 'ul_founders_cnt']"
      ]
     },
     "execution_count": 30,
     "metadata": {},
     "output_type": "execute_result"
    }
   ],
   "source": [
    "features = ['bus_age','ul_capital_sum', 'ul_founders_cnt']\n",
    "features"
   ]
  },
  {
   "cell_type": "code",
   "execution_count": 31,
   "metadata": {
    "colab": {},
    "colab_type": "code",
    "id": "GzVaIYtKN92e"
   },
   "outputs": [],
   "source": [
    "features_df = train_df.loc[:,features]\n",
    "features_df['default_12m'] = train_df['default_12m']"
   ]
  },
  {
   "cell_type": "code",
   "execution_count": 32,
   "metadata": {
    "colab": {
     "base_uri": "https://localhost:8080/",
     "height": 204
    },
    "colab_type": "code",
    "id": "iGuLdQOKN92h",
    "outputId": "d180e763-8b40-4688-b613-5508c2a12393"
   },
   "outputs": [
    {
     "data": {
      "text/html": [
       "<div>\n",
       "<style scoped>\n",
       "    .dataframe tbody tr th:only-of-type {\n",
       "        vertical-align: middle;\n",
       "    }\n",
       "\n",
       "    .dataframe tbody tr th {\n",
       "        vertical-align: top;\n",
       "    }\n",
       "\n",
       "    .dataframe thead th {\n",
       "        text-align: right;\n",
       "    }\n",
       "</style>\n",
       "<table border=\"1\" class=\"dataframe\">\n",
       "  <thead>\n",
       "    <tr style=\"text-align: right;\">\n",
       "      <th></th>\n",
       "      <th>bus_age</th>\n",
       "      <th>ul_capital_sum</th>\n",
       "      <th>ul_founders_cnt</th>\n",
       "      <th>default_12m</th>\n",
       "    </tr>\n",
       "  </thead>\n",
       "  <tbody>\n",
       "    <tr>\n",
       "      <th>0</th>\n",
       "      <td>198</td>\n",
       "      <td>50000.0</td>\n",
       "      <td>2</td>\n",
       "      <td>0</td>\n",
       "    </tr>\n",
       "    <tr>\n",
       "      <th>1</th>\n",
       "      <td>256</td>\n",
       "      <td>10000.0</td>\n",
       "      <td>5</td>\n",
       "      <td>0</td>\n",
       "    </tr>\n",
       "    <tr>\n",
       "      <th>2</th>\n",
       "      <td>33</td>\n",
       "      <td>10000.0</td>\n",
       "      <td>2</td>\n",
       "      <td>0</td>\n",
       "    </tr>\n",
       "    <tr>\n",
       "      <th>3</th>\n",
       "      <td>185</td>\n",
       "      <td>300000.0</td>\n",
       "      <td>1</td>\n",
       "      <td>0</td>\n",
       "    </tr>\n",
       "    <tr>\n",
       "      <th>4</th>\n",
       "      <td>220</td>\n",
       "      <td>10000.0</td>\n",
       "      <td>2</td>\n",
       "      <td>0</td>\n",
       "    </tr>\n",
       "  </tbody>\n",
       "</table>\n",
       "</div>"
      ],
      "text/plain": [
       "   bus_age  ul_capital_sum  ul_founders_cnt  default_12m\n",
       "0      198         50000.0                2            0\n",
       "1      256         10000.0                5            0\n",
       "2       33         10000.0                2            0\n",
       "3      185        300000.0                1            0\n",
       "4      220         10000.0                2            0"
      ]
     },
     "execution_count": 32,
     "metadata": {},
     "output_type": "execute_result"
    }
   ],
   "source": [
    "features_df.head()"
   ]
  },
  {
   "cell_type": "markdown",
   "metadata": {
    "colab_type": "text",
    "id": "zsaqlg0rN92k"
   },
   "source": [
    "### Построим карту коллеряций"
   ]
  },
  {
   "cell_type": "code",
   "execution_count": 33,
   "metadata": {
    "colab": {
     "base_uri": "https://localhost:8080/",
     "height": 173
    },
    "colab_type": "code",
    "id": "PuTGDJNlN92l",
    "outputId": "f28d4ec4-051a-4d40-8439-9686ec80f802"
   },
   "outputs": [
    {
     "data": {
      "text/html": [
       "<div>\n",
       "<style scoped>\n",
       "    .dataframe tbody tr th:only-of-type {\n",
       "        vertical-align: middle;\n",
       "    }\n",
       "\n",
       "    .dataframe tbody tr th {\n",
       "        vertical-align: top;\n",
       "    }\n",
       "\n",
       "    .dataframe thead th {\n",
       "        text-align: right;\n",
       "    }\n",
       "</style>\n",
       "<table border=\"1\" class=\"dataframe\">\n",
       "  <thead>\n",
       "    <tr style=\"text-align: right;\">\n",
       "      <th></th>\n",
       "      <th>bus_age</th>\n",
       "      <th>ul_capital_sum</th>\n",
       "      <th>ul_founders_cnt</th>\n",
       "      <th>default_12m</th>\n",
       "    </tr>\n",
       "  </thead>\n",
       "  <tbody>\n",
       "    <tr>\n",
       "      <th>bus_age</th>\n",
       "      <td>1.000000</td>\n",
       "      <td>0.066929</td>\n",
       "      <td>0.209451</td>\n",
       "      <td>-0.109389</td>\n",
       "    </tr>\n",
       "    <tr>\n",
       "      <th>ul_capital_sum</th>\n",
       "      <td>0.066929</td>\n",
       "      <td>1.000000</td>\n",
       "      <td>0.029165</td>\n",
       "      <td>-0.019452</td>\n",
       "    </tr>\n",
       "    <tr>\n",
       "      <th>ul_founders_cnt</th>\n",
       "      <td>0.209451</td>\n",
       "      <td>0.029165</td>\n",
       "      <td>1.000000</td>\n",
       "      <td>-0.023244</td>\n",
       "    </tr>\n",
       "    <tr>\n",
       "      <th>default_12m</th>\n",
       "      <td>-0.109389</td>\n",
       "      <td>-0.019452</td>\n",
       "      <td>-0.023244</td>\n",
       "      <td>1.000000</td>\n",
       "    </tr>\n",
       "  </tbody>\n",
       "</table>\n",
       "</div>"
      ],
      "text/plain": [
       "                  bus_age  ul_capital_sum  ul_founders_cnt  default_12m\n",
       "bus_age          1.000000        0.066929         0.209451    -0.109389\n",
       "ul_capital_sum   0.066929        1.000000         0.029165    -0.019452\n",
       "ul_founders_cnt  0.209451        0.029165         1.000000    -0.023244\n",
       "default_12m     -0.109389       -0.019452        -0.023244     1.000000"
      ]
     },
     "execution_count": 33,
     "metadata": {},
     "output_type": "execute_result"
    }
   ],
   "source": [
    "features_df.corr()"
   ]
  },
  {
   "cell_type": "markdown",
   "metadata": {
    "colab_type": "text",
    "id": "DjygjQIM8u4Y"
   },
   "source": [
    "### Валидация результата"
   ]
  },
  {
   "cell_type": "code",
   "execution_count": 34,
   "metadata": {
    "colab": {
     "base_uri": "https://localhost:8080/",
     "height": 34
    },
    "colab_type": "code",
    "id": "NaH5PC4wN92n",
    "outputId": "d2772f90-f7db-4e26-e913-1ec093ca9375"
   },
   "outputs": [
    {
     "data": {
      "text/plain": [
       "0.6483643068016243"
      ]
     },
     "execution_count": 34,
     "metadata": {},
     "output_type": "execute_result"
    }
   ],
   "source": [
    "X_train, X_test, y_train, y_test = train_test_split(features_df.drop('default_12m',axis=1),\n",
    "                                                    features_df['default_12m'],\n",
    "                                                    random_state=42, shuffle=True)\n",
    "\n",
    "logit = LogisticRegression(C=1,solver='lbfgs',max_iter=1000)\n",
    "cv_baseline = cross_val_score(logit, X_train, y_train, cv=5, scoring='roc_auc').mean()\n",
    "cv_baseline"
   ]
  },
  {
   "cell_type": "markdown",
   "metadata": {
    "colab_type": "text",
    "collapsed": true,
    "id": "13BN0BG1N92q"
   },
   "source": [
    "ROC/AUC бэйзлайн модели - 64,83%"
   ]
  },
  {
   "cell_type": "markdown",
   "metadata": {
    "colab_type": "text",
    "id": "JKsc2E3d8_ZN"
   },
   "source": [
    "### Построение модели на всех данных"
   ]
  },
  {
   "cell_type": "code",
   "execution_count": 35,
   "metadata": {
    "colab": {
     "base_uri": "https://localhost:8080/",
     "height": 102
    },
    "colab_type": "code",
    "id": "8k4uVr9Q8sYs",
    "outputId": "d6085447-4328-4695-ebfd-0780b6084789"
   },
   "outputs": [
    {
     "data": {
      "text/plain": [
       "LogisticRegression(C=1, max_iter=1000)"
      ]
     },
     "execution_count": 35,
     "metadata": {},
     "output_type": "execute_result"
    }
   ],
   "source": [
    "logit.fit(features_df.drop('default_12m',axis=1), features_df['default_12m'])"
   ]
  },
  {
   "cell_type": "code",
   "execution_count": 36,
   "metadata": {
    "colab": {
     "base_uri": "https://localhost:8080/",
     "height": 204
    },
    "colab_type": "code",
    "id": "pdgTPKswU2yQ",
    "outputId": "35c3c083-1c69-4bba-ff6e-0b1a22759b92"
   },
   "outputs": [
    {
     "data": {
      "text/html": [
       "<div>\n",
       "<style scoped>\n",
       "    .dataframe tbody tr th:only-of-type {\n",
       "        vertical-align: middle;\n",
       "    }\n",
       "\n",
       "    .dataframe tbody tr th {\n",
       "        vertical-align: top;\n",
       "    }\n",
       "\n",
       "    .dataframe thead th {\n",
       "        text-align: right;\n",
       "    }\n",
       "</style>\n",
       "<table border=\"1\" class=\"dataframe\">\n",
       "  <thead>\n",
       "    <tr style=\"text-align: right;\">\n",
       "      <th></th>\n",
       "      <th>bus_age</th>\n",
       "      <th>ul_capital_sum</th>\n",
       "      <th>ul_founders_cnt</th>\n",
       "      <th>default_12m</th>\n",
       "    </tr>\n",
       "  </thead>\n",
       "  <tbody>\n",
       "    <tr>\n",
       "      <th>0</th>\n",
       "      <td>198</td>\n",
       "      <td>50000.0</td>\n",
       "      <td>2</td>\n",
       "      <td>0</td>\n",
       "    </tr>\n",
       "    <tr>\n",
       "      <th>1</th>\n",
       "      <td>256</td>\n",
       "      <td>10000.0</td>\n",
       "      <td>5</td>\n",
       "      <td>0</td>\n",
       "    </tr>\n",
       "    <tr>\n",
       "      <th>2</th>\n",
       "      <td>33</td>\n",
       "      <td>10000.0</td>\n",
       "      <td>2</td>\n",
       "      <td>0</td>\n",
       "    </tr>\n",
       "    <tr>\n",
       "      <th>3</th>\n",
       "      <td>185</td>\n",
       "      <td>300000.0</td>\n",
       "      <td>1</td>\n",
       "      <td>0</td>\n",
       "    </tr>\n",
       "    <tr>\n",
       "      <th>4</th>\n",
       "      <td>220</td>\n",
       "      <td>10000.0</td>\n",
       "      <td>2</td>\n",
       "      <td>0</td>\n",
       "    </tr>\n",
       "  </tbody>\n",
       "</table>\n",
       "</div>"
      ],
      "text/plain": [
       "   bus_age  ul_capital_sum  ul_founders_cnt  default_12m\n",
       "0      198         50000.0                2            0\n",
       "1      256         10000.0                5            0\n",
       "2       33         10000.0                2            0\n",
       "3      185        300000.0                1            0\n",
       "4      220         10000.0                2            0"
      ]
     },
     "execution_count": 36,
     "metadata": {},
     "output_type": "execute_result"
    }
   ],
   "source": [
    "features_df.head()"
   ]
  },
  {
   "cell_type": "code",
   "execution_count": 37,
   "metadata": {
    "colab": {},
    "colab_type": "code",
    "id": "Cel0wk9VXdVq"
   },
   "outputs": [],
   "source": [
    "new_train_d = train_df.fillna(train_df.median(axis=0), axis=0)\n",
    "new_train_d = new_train_d.drop(['default_12m', 'record_id', 'ul_staff_range'], axis=1)"
   ]
  },
  {
   "cell_type": "code",
   "execution_count": 38,
   "metadata": {
    "colab": {
     "base_uri": "https://localhost:8080/",
     "height": 102
    },
    "colab_type": "code",
    "id": "mdNyEnSMRwDp",
    "outputId": "86ecec4c-852b-4a88-edb0-0a915ccb6ae5"
   },
   "outputs": [
    {
     "data": {
      "text/plain": [
       "LogisticRegression(C=1, max_iter=1000)"
      ]
     },
     "execution_count": 38,
     "metadata": {},
     "output_type": "execute_result"
    }
   ],
   "source": [
    "logit.fit(new_train_d, train_df['default_12m'])"
   ]
  },
  {
   "cell_type": "code",
   "execution_count": 39,
   "metadata": {
    "colab": {
     "base_uri": "https://localhost:8080/",
     "height": 595
    },
    "colab_type": "code",
    "id": "cxr-gD-48oel",
    "outputId": "59610257-fcb2-4cca-c098-6a3b6e6dffb4",
    "scrolled": true
   },
   "outputs": [
    {
     "data": {
      "text/plain": [
       "['ar_revenue',\n",
       " 'ar_total_expenses',\n",
       " 'ar_sale_cost',\n",
       " 'ar_selling_expenses',\n",
       " 'ar_management_expenses',\n",
       " 'ar_sale_profit',\n",
       " 'ar_balance_of_rvns_and_expns',\n",
       " 'ar_profit_before_tax',\n",
       " 'ar_taxes',\n",
       " 'ar_other_profit_and_losses',\n",
       " 'ar_net_profit',\n",
       " 'ab_immobilized_assets',\n",
       " 'ab_mobile_current_assets',\n",
       " 'ab_inventory',\n",
       " 'ab_accounts_receivable',\n",
       " 'ab_other_current_assets',\n",
       " 'ab_cash_and_securities',\n",
       " 'ab_losses',\n",
       " 'ab_own_capital',\n",
       " 'ab_borrowed_capital',\n",
       " 'ab_long_term_liabilities',\n",
       " 'ab_short_term_borrowing',\n",
       " 'ab_accounts_payable',\n",
       " 'ab_other_borrowings',\n",
       " 'bus_age',\n",
       " 'ogrn_age',\n",
       " 'adr_actual_age',\n",
       " 'head_actual_age',\n",
       " 'cap_actual_age',\n",
       " 'ul_capital_sum',\n",
       " 'ul_founders_cnt',\n",
       " 'ul_branch_cnt',\n",
       " 'ul_strategic_flg',\n",
       " 'ul_systematizing_flg']"
      ]
     },
     "execution_count": 39,
     "metadata": {},
     "output_type": "execute_result"
    }
   ],
   "source": [
    "features = new_train_d.columns.tolist()\n",
    "features"
   ]
  },
  {
   "cell_type": "markdown",
   "metadata": {
    "colab_type": "text",
    "id": "OQ1Y1r6E9bvN"
   },
   "source": [
    "### Формирование файла с ответом"
   ]
  },
  {
   "cell_type": "code",
   "execution_count": 40,
   "metadata": {
    "colab": {},
    "colab_type": "code",
    "id": "_9YdWZm8-7k0"
   },
   "outputs": [],
   "source": [
    "answ_df = test_df[['record_id']]"
   ]
  },
  {
   "cell_type": "code",
   "execution_count": 41,
   "metadata": {
    "colab": {
     "base_uri": "https://localhost:8080/",
     "height": 119
    },
    "colab_type": "code",
    "id": "RizmO5g4_wPO",
    "outputId": "75e3661a-9536-4a81-9e23-5b9f0f5764c4"
   },
   "outputs": [],
   "source": [
    "answ_df['id'] = answ_df['record_id']"
   ]
  },
  {
   "cell_type": "code",
   "execution_count": 42,
   "metadata": {
    "colab": {
     "base_uri": "https://localhost:8080/",
     "height": 102
    },
    "colab_type": "code",
    "id": "r7fiDf_l9igh",
    "outputId": "2f4bcbfa-1f5d-44ca-c8c4-f507148f4940"
   },
   "outputs": [],
   "source": [
    "\n",
    "answ_df.drop('record_id',axis=1, inplace=True)"
   ]
  },
  {
   "cell_type": "code",
   "execution_count": 43,
   "metadata": {
    "colab": {},
    "colab_type": "code",
    "id": "ye8YVTYG90_6"
   },
   "outputs": [],
   "source": [
    "cutoff = y_train.mean()"
   ]
  },
  {
   "cell_type": "code",
   "execution_count": 44,
   "metadata": {},
   "outputs": [
    {
     "data": {
      "text/plain": [
       "0.06548403029305236"
      ]
     },
     "execution_count": 44,
     "metadata": {},
     "output_type": "execute_result"
    }
   ],
   "source": [
    "cutoff"
   ]
  },
  {
   "cell_type": "code",
   "execution_count": 43,
   "metadata": {
    "colab": {
     "base_uri": "https://localhost:8080/",
     "height": 307
    },
    "colab_type": "code",
    "id": "GtV2vm1o9tMF",
    "outputId": "07de8beb-b05b-4f4b-d79c-a3509a237b1b"
   },
   "outputs": [],
   "source": [
    "# answ_df['predict'] = (logit.predict_proba(test_df.loc[:,features])[:,1]>cutoff).astype(int)"
   ]
  },
  {
   "cell_type": "code",
   "execution_count": 44,
   "metadata": {
    "colab": {},
    "colab_type": "code",
    "id": "pBF0HOAc8ZGV"
   },
   "outputs": [],
   "source": [
    "# answ_df['predict'] = (logit.predict_proba(test_df_new[features])[:,1]>cutoff).astype(int)"
   ]
  },
  {
   "cell_type": "code",
   "execution_count": 44,
   "metadata": {
    "colab": {},
    "colab_type": "code",
    "id": "BAet0WO6-A_5"
   },
   "outputs": [],
   "source": [
    "# answ_df.to_csv('PD-submit.csv',index=False, sep=';')"
   ]
  },
  {
   "cell_type": "markdown",
   "metadata": {
    "colab_type": "text",
    "id": "G7OdXngvN92r"
   },
   "source": [
    "Для загрузки своего рузультата на https://dsbattle.com/hackathons/juniords/ вам нужно создать csv файл с двумя колонками (id, predict), разделитель - точка с запятой (;)"
   ]
  },
  {
   "cell_type": "code",
   "execution_count": 64,
   "metadata": {
    "colab": {
     "base_uri": "https://localhost:8080/",
     "height": 17
    },
    "colab_type": "code",
    "id": "RxxIBCAs_d-f",
    "outputId": "3c241f6f-b0f3-474b-984b-3a274d937e75"
   },
   "outputs": [
    {
     "data": {
      "application/javascript": [
       "\n",
       "    async function download(id, filename, size) {\n",
       "      if (!google.colab.kernel.accessAllowed) {\n",
       "        return;\n",
       "      }\n",
       "      const div = document.createElement('div');\n",
       "      const label = document.createElement('label');\n",
       "      label.textContent = `Downloading \"${filename}\": `;\n",
       "      div.appendChild(label);\n",
       "      const progress = document.createElement('progress');\n",
       "      progress.max = size;\n",
       "      div.appendChild(progress);\n",
       "      document.body.appendChild(div);\n",
       "\n",
       "      const buffers = [];\n",
       "      let downloaded = 0;\n",
       "\n",
       "      const channel = await google.colab.kernel.comms.open(id);\n",
       "      // Send a message to notify the kernel that we're ready.\n",
       "      channel.send({})\n",
       "\n",
       "      for await (const message of channel.messages) {\n",
       "        // Send a message to notify the kernel that we're ready.\n",
       "        channel.send({})\n",
       "        if (message.buffers) {\n",
       "          for (const buffer of message.buffers) {\n",
       "            buffers.push(buffer);\n",
       "            downloaded += buffer.byteLength;\n",
       "            progress.value = downloaded;\n",
       "          }\n",
       "        }\n",
       "      }\n",
       "      const blob = new Blob(buffers, {type: 'application/binary'});\n",
       "      const a = document.createElement('a');\n",
       "      a.href = window.URL.createObjectURL(blob);\n",
       "      a.download = filename;\n",
       "      div.appendChild(a);\n",
       "      a.click();\n",
       "      div.remove();\n",
       "    }\n",
       "  "
      ],
      "text/plain": [
       "<IPython.core.display.Javascript object>"
      ]
     },
     "metadata": {
      "tags": []
     },
     "output_type": "display_data"
    },
    {
     "data": {
      "application/javascript": [
       "download(\"download_9eab89e3-5788-4267-9a5a-4026bdd25690\", \"PD-submit.csv\", 1725)"
      ],
      "text/plain": [
       "<IPython.core.display.Javascript object>"
      ]
     },
     "metadata": {
      "tags": []
     },
     "output_type": "display_data"
    }
   ],
   "source": [
    "# from google.colab import files\n",
    "# files.download('PD-submit.csv')"
   ]
  },
  {
   "cell_type": "markdown",
   "metadata": {},
   "source": [
    "### Обучение моделей"
   ]
  },
  {
   "cell_type": "code",
   "execution_count": 61,
   "metadata": {
    "colab": {
     "base_uri": "https://localhost:8080/",
     "height": 238
    },
    "colab_type": "code",
    "id": "W_b0P2J78VUy",
    "outputId": "43988848-58f9-43f2-cf53-1301acdafc2d"
   },
   "outputs": [
    {
     "name": "stdout",
     "output_type": "stream",
     "text": [
      "Fitting 5 folds for each of 252 candidates, totalling 1260 fits\n"
     ]
    },
    {
     "name": "stderr",
     "output_type": "stream",
     "text": [
      "[Parallel(n_jobs=-1)]: Using backend LokyBackend with 16 concurrent workers.\n",
      "[Parallel(n_jobs=-1)]: Done  40 tasks      | elapsed:    4.5s\n",
      "[Parallel(n_jobs=-1)]: Done 130 tasks      | elapsed:   13.4s\n",
      "[Parallel(n_jobs=-1)]: Done 256 tasks      | elapsed:   25.6s\n",
      "[Parallel(n_jobs=-1)]: Done 418 tasks      | elapsed:   41.0s\n",
      "[Parallel(n_jobs=-1)]: Done 616 tasks      | elapsed:  1.0min\n",
      "[Parallel(n_jobs=-1)]: Done 850 tasks      | elapsed:  1.4min\n",
      "[Parallel(n_jobs=-1)]: Done 1120 tasks      | elapsed:  1.8min\n",
      "[Parallel(n_jobs=-1)]: Done 1260 out of 1260 | elapsed:  2.0min finished\n"
     ]
    },
    {
     "data": {
      "text/plain": [
       "GridSearchCV(cv=None, error_score=nan,\n",
       "             estimator=LogisticRegression(C=1.0, class_weight=None, dual=False,\n",
       "                                          fit_intercept=True,\n",
       "                                          intercept_scaling=1, l1_ratio=None,\n",
       "                                          max_iter=100, multi_class='auto',\n",
       "                                          n_jobs=None, penalty='l2',\n",
       "                                          random_state=None, solver='lbfgs',\n",
       "                                          tol=0.0001, verbose=0,\n",
       "                                          warm_start=False),\n",
       "             iid='deprecated', n_jobs=-1,\n",
       "             param_grid={'C': [0.001, 0.01, 0.1, 1, 10, 100, 1000],\n",
       "                         'class_weight': [{0: 1, 1: 2}],\n",
       "                         'intercept_scaling': [0.001, 0.01, 0.1, 1],\n",
       "                         'max_iter': [10, 100, 150],\n",
       "                         'tol': [1e-05, 0.0001, 0.001]},\n",
       "             pre_dispatch='2*n_jobs', refit=True, return_train_score=False,\n",
       "             scoring=None, verbose=5)"
      ]
     },
     "execution_count": 61,
     "metadata": {},
     "output_type": "execute_result"
    }
   ],
   "source": [
    "lr = LogisticRegression()\n",
    "param_grid = {'C': [0.001, 0.01, 0.1, 1, 10, 100, 1000],\n",
    "              'class_weight': [{0:1, 1:2}], 'intercept_scaling':[0.001, 0.01, 0.1, 1],\n",
    "              'max_iter':[10, 100, 150], 'tol': [0.00001, 0.0001, 0.001]}\n",
    "clf_lr = GridSearchCV(lr, param_grid=param_grid, n_jobs=-1, verbose=5)\n",
    "\n",
    "clf_lr.fit(reg_train, train_df['default_12m'])"
   ]
  },
  {
   "cell_type": "code",
   "execution_count": 59,
   "metadata": {},
   "outputs": [
    {
     "name": "stdout",
     "output_type": "stream",
     "text": [
      "0.875258527550548\n",
      "{'C': 0.001, 'class_weight': {0: 1, 1: 15}, 'intercept_scaling': 0.001, 'max_iter': 10, 'tol': 1e-05}\n",
      "LogisticRegression(C=0.001, class_weight={0: 1, 1: 15}, dual=False,\n",
      "                   fit_intercept=True, intercept_scaling=0.001, l1_ratio=None,\n",
      "                   max_iter=10, multi_class='auto', n_jobs=None, penalty='l2',\n",
      "                   random_state=None, solver='lbfgs', tol=1e-05, verbose=0,\n",
      "                   warm_start=False)\n"
     ]
    },
    {
     "data": {
      "text/plain": [
       "0.875258527550548"
      ]
     },
     "execution_count": 59,
     "metadata": {},
     "output_type": "execute_result"
    }
   ],
   "source": [
    "get_best_score(clf_lr)"
   ]
  },
  {
   "cell_type": "code",
   "execution_count": 60,
   "metadata": {
    "colab": {
     "base_uri": "https://localhost:8080/",
     "height": 17
    },
    "colab_type": "code",
    "id": "X21kkP_C8u4U",
    "outputId": "42df7536-1d75-4ddb-faf2-511a5fe06c62"
   },
   "outputs": [],
   "source": [
    "answ_df['predict'] = (clf_lr.predict_proba(test_df_new_reg.loc[:,features_reg])[:,1]>cutoff).astype(int)\n",
    "answ_df.to_csv('PD-submit.csv',index=False, sep=';')\n",
    "# from google.colab import files\n",
    "# files.download('PD-submit.csv')"
   ]
  },
  {
   "cell_type": "code",
   "execution_count": 33,
   "metadata": {
    "colab": {
     "base_uri": "https://localhost:8080/",
     "height": 493
    },
    "colab_type": "code",
    "collapsed": true,
    "id": "lX0_c1gu9HpO",
    "outputId": "60a75a76-c1c5-47f0-b0cb-abd858ccb1b3"
   },
   "outputs": [
    {
     "name": "stdout",
     "output_type": "stream",
     "text": [
      "Fitting 5 folds for each of 125 candidates, totalling 625 fits\n"
     ]
    },
    {
     "name": "stderr",
     "output_type": "stream",
     "text": [
      "[Parallel(n_jobs=-1)]: Using backend LokyBackend with 16 concurrent workers.\n",
      "[Parallel(n_jobs=-1)]: Done  18 tasks      | elapsed:    4.0s\n",
      "[Parallel(n_jobs=-1)]: Done 168 tasks      | elapsed:   27.9s\n",
      "[Parallel(n_jobs=-1)]: Done 418 tasks      | elapsed:  1.7min\n",
      "[Parallel(n_jobs=-1)]: Done 625 out of 625 | elapsed:  3.2min finished\n"
     ]
    },
    {
     "data": {
      "text/plain": [
       "GridSearchCV(cv=None, error_score=nan,\n",
       "             estimator=RandomForestClassifier(bootstrap=True, ccp_alpha=0.0,\n",
       "                                              class_weight=None,\n",
       "                                              criterion='gini', max_depth=None,\n",
       "                                              max_features='auto',\n",
       "                                              max_leaf_nodes=None,\n",
       "                                              max_samples=None,\n",
       "                                              min_impurity_decrease=0.0,\n",
       "                                              min_impurity_split=None,\n",
       "                                              min_samples_leaf=1,\n",
       "                                              min_samples_split=2,\n",
       "                                              min_weight_fraction_leaf=0.0,\n",
       "                                              n_estimators=100, n_jobs=None,\n",
       "                                              oob_score=False,\n",
       "                                              random_state=None, verbose=0,\n",
       "                                              warm_start=False),\n",
       "             iid='deprecated', n_jobs=-1,\n",
       "             param_grid={'max_depth': [3, 5, 7, 8, 10],\n",
       "                         'max_features': [6, 8, 10, 20, 50],\n",
       "                         'min_samples_split': [1, 2, 4, 5, 6]},\n",
       "             pre_dispatch='2*n_jobs', refit=True, return_train_score=False,\n",
       "             scoring=None, verbose=1)"
      ]
     },
     "execution_count": 33,
     "metadata": {},
     "output_type": "execute_result"
    }
   ],
   "source": [
    "from sklearn.ensemble import RandomForestClassifier\n",
    "rfc = RandomForestClassifier()\n",
    "\n",
    "param_grid = {'max_depth': [3, 5, 7, 8, 10], 'max_features': [6,8,10,20,50],  \n",
    "              'min_samples_split': [1, 2, 4, 5, 6]} # , 11, 12, 14, 15]}\n",
    "\n",
    "rf_grid = GridSearchCV(rfc, param_grid, refit=True, verbose=1, n_jobs=-1)\n",
    "rf_grid.fit(new_train_d, train_df['default_12m'])"
   ]
  },
  {
   "cell_type": "code",
   "execution_count": 38,
   "metadata": {},
   "outputs": [
    {
     "name": "stdout",
     "output_type": "stream",
     "text": [
      "0.9359469053866338\n",
      "{'max_depth': 10, 'max_features': 20, 'min_samples_split': 2}\n",
      "RandomForestClassifier(bootstrap=True, ccp_alpha=0.0, class_weight=None,\n",
      "                       criterion='gini', max_depth=10, max_features=20,\n",
      "                       max_leaf_nodes=None, max_samples=None,\n",
      "                       min_impurity_decrease=0.0, min_impurity_split=None,\n",
      "                       min_samples_leaf=1, min_samples_split=2,\n",
      "                       min_weight_fraction_leaf=0.0, n_estimators=100,\n",
      "                       n_jobs=None, oob_score=False, random_state=None,\n",
      "                       verbose=0, warm_start=False)\n"
     ]
    },
    {
     "data": {
      "text/plain": [
       "0.9359469053866338"
      ]
     },
     "execution_count": 38,
     "metadata": {},
     "output_type": "execute_result"
    }
   ],
   "source": [
    "get_best_score(rf_grid)"
   ]
  },
  {
   "cell_type": "code",
   "execution_count": 166,
   "metadata": {
    "colab": {
     "base_uri": "https://localhost:8080/",
     "height": 17
    },
    "colab_type": "code",
    "collapsed": true,
    "id": "Y6jwPFRM9pYX",
    "outputId": "f080dfa1-2c88-4666-8dac-40009415c486"
   },
   "outputs": [
    {
     "ename": "KeyError",
     "evalue": "'Passing list-likes to .loc or [] with any missing labels is no longer supported, see https://pandas.pydata.org/pandas-docs/stable/user_guide/indexing.html#deprecate-loc-reindex-listlike'",
     "output_type": "error",
     "traceback": [
      "\u001b[0;31m---------------------------------------------------------------------------\u001b[0m",
      "\u001b[0;31mKeyError\u001b[0m                                  Traceback (most recent call last)",
      "\u001b[0;32m<ipython-input-166-6fb78a6566ef>\u001b[0m in \u001b[0;36m<module>\u001b[0;34m\u001b[0m\n\u001b[0;32m----> 1\u001b[0;31m \u001b[0mansw_df\u001b[0m\u001b[0;34m[\u001b[0m\u001b[0;34m'predict'\u001b[0m\u001b[0;34m]\u001b[0m \u001b[0;34m=\u001b[0m \u001b[0;34m(\u001b[0m\u001b[0mrf_grid\u001b[0m\u001b[0;34m.\u001b[0m\u001b[0mpredict_proba\u001b[0m\u001b[0;34m(\u001b[0m\u001b[0mtest_df_new\u001b[0m\u001b[0;34m.\u001b[0m\u001b[0mloc\u001b[0m\u001b[0;34m[\u001b[0m\u001b[0;34m:\u001b[0m\u001b[0;34m,\u001b[0m\u001b[0mfeatures\u001b[0m\u001b[0;34m]\u001b[0m\u001b[0;34m)\u001b[0m\u001b[0;34m[\u001b[0m\u001b[0;34m:\u001b[0m\u001b[0;34m,\u001b[0m\u001b[0;36m1\u001b[0m\u001b[0;34m]\u001b[0m\u001b[0;34m>\u001b[0m\u001b[0mcutoff\u001b[0m\u001b[0;34m)\u001b[0m\u001b[0;34m.\u001b[0m\u001b[0mastype\u001b[0m\u001b[0;34m(\u001b[0m\u001b[0mint\u001b[0m\u001b[0;34m)\u001b[0m\u001b[0;34m\u001b[0m\u001b[0;34m\u001b[0m\u001b[0m\n\u001b[0m\u001b[1;32m      2\u001b[0m \u001b[0mansw_df\u001b[0m\u001b[0;34m.\u001b[0m\u001b[0mto_csv\u001b[0m\u001b[0;34m(\u001b[0m\u001b[0;34m'PD-submit.csv'\u001b[0m\u001b[0;34m,\u001b[0m\u001b[0mindex\u001b[0m\u001b[0;34m=\u001b[0m\u001b[0;32mFalse\u001b[0m\u001b[0;34m,\u001b[0m \u001b[0msep\u001b[0m\u001b[0;34m=\u001b[0m\u001b[0;34m';'\u001b[0m\u001b[0;34m)\u001b[0m\u001b[0;34m\u001b[0m\u001b[0;34m\u001b[0m\u001b[0m\n\u001b[1;32m      3\u001b[0m \u001b[0;31m# from google.colab import files\u001b[0m\u001b[0;34m\u001b[0m\u001b[0;34m\u001b[0m\u001b[0;34m\u001b[0m\u001b[0m\n\u001b[1;32m      4\u001b[0m \u001b[0;31m# files.download('PD-submit.csv')\u001b[0m\u001b[0;34m\u001b[0m\u001b[0;34m\u001b[0m\u001b[0;34m\u001b[0m\u001b[0m\n",
      "\u001b[0;32m/opt/anaconda3/lib/python3.7/site-packages/pandas/core/indexing.py\u001b[0m in \u001b[0;36m__getitem__\u001b[0;34m(self, key)\u001b[0m\n\u001b[1;32m   1759\u001b[0m                 \u001b[0;32mexcept\u001b[0m \u001b[0;34m(\u001b[0m\u001b[0mKeyError\u001b[0m\u001b[0;34m,\u001b[0m \u001b[0mIndexError\u001b[0m\u001b[0;34m,\u001b[0m \u001b[0mAttributeError\u001b[0m\u001b[0;34m)\u001b[0m\u001b[0;34m:\u001b[0m\u001b[0;34m\u001b[0m\u001b[0;34m\u001b[0m\u001b[0m\n\u001b[1;32m   1760\u001b[0m                     \u001b[0;32mpass\u001b[0m\u001b[0;34m\u001b[0m\u001b[0;34m\u001b[0m\u001b[0m\n\u001b[0;32m-> 1761\u001b[0;31m             \u001b[0;32mreturn\u001b[0m \u001b[0mself\u001b[0m\u001b[0;34m.\u001b[0m\u001b[0m_getitem_tuple\u001b[0m\u001b[0;34m(\u001b[0m\u001b[0mkey\u001b[0m\u001b[0;34m)\u001b[0m\u001b[0;34m\u001b[0m\u001b[0;34m\u001b[0m\u001b[0m\n\u001b[0m\u001b[1;32m   1762\u001b[0m         \u001b[0;32melse\u001b[0m\u001b[0;34m:\u001b[0m\u001b[0;34m\u001b[0m\u001b[0;34m\u001b[0m\u001b[0m\n\u001b[1;32m   1763\u001b[0m             \u001b[0;31m# we by definition only have the 0th axis\u001b[0m\u001b[0;34m\u001b[0m\u001b[0;34m\u001b[0m\u001b[0;34m\u001b[0m\u001b[0m\n",
      "\u001b[0;32m/opt/anaconda3/lib/python3.7/site-packages/pandas/core/indexing.py\u001b[0m in \u001b[0;36m_getitem_tuple\u001b[0;34m(self, tup)\u001b[0m\n\u001b[1;32m   1286\u001b[0m                 \u001b[0;32mcontinue\u001b[0m\u001b[0;34m\u001b[0m\u001b[0;34m\u001b[0m\u001b[0m\n\u001b[1;32m   1287\u001b[0m \u001b[0;34m\u001b[0m\u001b[0m\n\u001b[0;32m-> 1288\u001b[0;31m             \u001b[0mretval\u001b[0m \u001b[0;34m=\u001b[0m \u001b[0mgetattr\u001b[0m\u001b[0;34m(\u001b[0m\u001b[0mretval\u001b[0m\u001b[0;34m,\u001b[0m \u001b[0mself\u001b[0m\u001b[0;34m.\u001b[0m\u001b[0mname\u001b[0m\u001b[0;34m)\u001b[0m\u001b[0;34m.\u001b[0m\u001b[0m_getitem_axis\u001b[0m\u001b[0;34m(\u001b[0m\u001b[0mkey\u001b[0m\u001b[0;34m,\u001b[0m \u001b[0maxis\u001b[0m\u001b[0;34m=\u001b[0m\u001b[0mi\u001b[0m\u001b[0;34m)\u001b[0m\u001b[0;34m\u001b[0m\u001b[0;34m\u001b[0m\u001b[0m\n\u001b[0m\u001b[1;32m   1289\u001b[0m \u001b[0;34m\u001b[0m\u001b[0m\n\u001b[1;32m   1290\u001b[0m         \u001b[0;32mreturn\u001b[0m \u001b[0mretval\u001b[0m\u001b[0;34m\u001b[0m\u001b[0;34m\u001b[0m\u001b[0m\n",
      "\u001b[0;32m/opt/anaconda3/lib/python3.7/site-packages/pandas/core/indexing.py\u001b[0m in \u001b[0;36m_getitem_axis\u001b[0;34m(self, key, axis)\u001b[0m\n\u001b[1;32m   1951\u001b[0m                     \u001b[0;32mraise\u001b[0m \u001b[0mValueError\u001b[0m\u001b[0;34m(\u001b[0m\u001b[0;34m\"Cannot index with multidimensional key\"\u001b[0m\u001b[0;34m)\u001b[0m\u001b[0;34m\u001b[0m\u001b[0;34m\u001b[0m\u001b[0m\n\u001b[1;32m   1952\u001b[0m \u001b[0;34m\u001b[0m\u001b[0m\n\u001b[0;32m-> 1953\u001b[0;31m                 \u001b[0;32mreturn\u001b[0m \u001b[0mself\u001b[0m\u001b[0;34m.\u001b[0m\u001b[0m_getitem_iterable\u001b[0m\u001b[0;34m(\u001b[0m\u001b[0mkey\u001b[0m\u001b[0;34m,\u001b[0m \u001b[0maxis\u001b[0m\u001b[0;34m=\u001b[0m\u001b[0maxis\u001b[0m\u001b[0;34m)\u001b[0m\u001b[0;34m\u001b[0m\u001b[0;34m\u001b[0m\u001b[0m\n\u001b[0m\u001b[1;32m   1954\u001b[0m \u001b[0;34m\u001b[0m\u001b[0m\n\u001b[1;32m   1955\u001b[0m             \u001b[0;31m# nested tuple slicing\u001b[0m\u001b[0;34m\u001b[0m\u001b[0;34m\u001b[0m\u001b[0;34m\u001b[0m\u001b[0m\n",
      "\u001b[0;32m/opt/anaconda3/lib/python3.7/site-packages/pandas/core/indexing.py\u001b[0m in \u001b[0;36m_getitem_iterable\u001b[0;34m(self, key, axis)\u001b[0m\n\u001b[1;32m   1592\u001b[0m         \u001b[0;32melse\u001b[0m\u001b[0;34m:\u001b[0m\u001b[0;34m\u001b[0m\u001b[0;34m\u001b[0m\u001b[0m\n\u001b[1;32m   1593\u001b[0m             \u001b[0;31m# A collection of keys\u001b[0m\u001b[0;34m\u001b[0m\u001b[0;34m\u001b[0m\u001b[0;34m\u001b[0m\u001b[0m\n\u001b[0;32m-> 1594\u001b[0;31m             \u001b[0mkeyarr\u001b[0m\u001b[0;34m,\u001b[0m \u001b[0mindexer\u001b[0m \u001b[0;34m=\u001b[0m \u001b[0mself\u001b[0m\u001b[0;34m.\u001b[0m\u001b[0m_get_listlike_indexer\u001b[0m\u001b[0;34m(\u001b[0m\u001b[0mkey\u001b[0m\u001b[0;34m,\u001b[0m \u001b[0maxis\u001b[0m\u001b[0;34m,\u001b[0m \u001b[0mraise_missing\u001b[0m\u001b[0;34m=\u001b[0m\u001b[0;32mFalse\u001b[0m\u001b[0;34m)\u001b[0m\u001b[0;34m\u001b[0m\u001b[0;34m\u001b[0m\u001b[0m\n\u001b[0m\u001b[1;32m   1595\u001b[0m             return self.obj._reindex_with_indexers(\n\u001b[1;32m   1596\u001b[0m                 \u001b[0;34m{\u001b[0m\u001b[0maxis\u001b[0m\u001b[0;34m:\u001b[0m \u001b[0;34m[\u001b[0m\u001b[0mkeyarr\u001b[0m\u001b[0;34m,\u001b[0m \u001b[0mindexer\u001b[0m\u001b[0;34m]\u001b[0m\u001b[0;34m}\u001b[0m\u001b[0;34m,\u001b[0m \u001b[0mcopy\u001b[0m\u001b[0;34m=\u001b[0m\u001b[0;32mTrue\u001b[0m\u001b[0;34m,\u001b[0m \u001b[0mallow_dups\u001b[0m\u001b[0;34m=\u001b[0m\u001b[0;32mTrue\u001b[0m\u001b[0;34m\u001b[0m\u001b[0;34m\u001b[0m\u001b[0m\n",
      "\u001b[0;32m/opt/anaconda3/lib/python3.7/site-packages/pandas/core/indexing.py\u001b[0m in \u001b[0;36m_get_listlike_indexer\u001b[0;34m(self, key, axis, raise_missing)\u001b[0m\n\u001b[1;32m   1550\u001b[0m \u001b[0;34m\u001b[0m\u001b[0m\n\u001b[1;32m   1551\u001b[0m         self._validate_read_indexer(\n\u001b[0;32m-> 1552\u001b[0;31m             \u001b[0mkeyarr\u001b[0m\u001b[0;34m,\u001b[0m \u001b[0mindexer\u001b[0m\u001b[0;34m,\u001b[0m \u001b[0mo\u001b[0m\u001b[0;34m.\u001b[0m\u001b[0m_get_axis_number\u001b[0m\u001b[0;34m(\u001b[0m\u001b[0maxis\u001b[0m\u001b[0;34m)\u001b[0m\u001b[0;34m,\u001b[0m \u001b[0mraise_missing\u001b[0m\u001b[0;34m=\u001b[0m\u001b[0mraise_missing\u001b[0m\u001b[0;34m\u001b[0m\u001b[0;34m\u001b[0m\u001b[0m\n\u001b[0m\u001b[1;32m   1553\u001b[0m         )\n\u001b[1;32m   1554\u001b[0m         \u001b[0;32mreturn\u001b[0m \u001b[0mkeyarr\u001b[0m\u001b[0;34m,\u001b[0m \u001b[0mindexer\u001b[0m\u001b[0;34m\u001b[0m\u001b[0;34m\u001b[0m\u001b[0m\n",
      "\u001b[0;32m/opt/anaconda3/lib/python3.7/site-packages/pandas/core/indexing.py\u001b[0m in \u001b[0;36m_validate_read_indexer\u001b[0;34m(self, key, indexer, axis, raise_missing)\u001b[0m\n\u001b[1;32m   1652\u001b[0m             \u001b[0;32mif\u001b[0m \u001b[0;32mnot\u001b[0m \u001b[0;34m(\u001b[0m\u001b[0max\u001b[0m\u001b[0;34m.\u001b[0m\u001b[0mis_categorical\u001b[0m\u001b[0;34m(\u001b[0m\u001b[0;34m)\u001b[0m \u001b[0;32mor\u001b[0m \u001b[0max\u001b[0m\u001b[0;34m.\u001b[0m\u001b[0mis_interval\u001b[0m\u001b[0;34m(\u001b[0m\u001b[0;34m)\u001b[0m\u001b[0;34m)\u001b[0m\u001b[0;34m:\u001b[0m\u001b[0;34m\u001b[0m\u001b[0;34m\u001b[0m\u001b[0m\n\u001b[1;32m   1653\u001b[0m                 raise KeyError(\n\u001b[0;32m-> 1654\u001b[0;31m                     \u001b[0;34m\"Passing list-likes to .loc or [] with any missing labels \"\u001b[0m\u001b[0;34m\u001b[0m\u001b[0;34m\u001b[0m\u001b[0m\n\u001b[0m\u001b[1;32m   1655\u001b[0m                     \u001b[0;34m\"is no longer supported, see \"\u001b[0m\u001b[0;34m\u001b[0m\u001b[0;34m\u001b[0m\u001b[0m\n\u001b[1;32m   1656\u001b[0m                     \u001b[0;34m\"https://pandas.pydata.org/pandas-docs/stable/user_guide/indexing.html#deprecate-loc-reindex-listlike\"\u001b[0m  \u001b[0;31m# noqa:E501\u001b[0m\u001b[0;34m\u001b[0m\u001b[0;34m\u001b[0m\u001b[0m\n",
      "\u001b[0;31mKeyError\u001b[0m: 'Passing list-likes to .loc or [] with any missing labels is no longer supported, see https://pandas.pydata.org/pandas-docs/stable/user_guide/indexing.html#deprecate-loc-reindex-listlike'"
     ]
    }
   ],
   "source": [
    "answ_df['predict'] = (rf_grid.predict_proba(test_df_new.loc[:,features])[:,1]>cutoff).astype(int)\n",
    "answ_df.to_csv('PD-submit.csv',index=False, sep=';')\n",
    "# from google.colab import files\n",
    "# files.download('PD-submit.csv')"
   ]
  },
  {
   "cell_type": "code",
   "execution_count": 60,
   "metadata": {
    "colab": {
     "base_uri": "https://localhost:8080/",
     "height": 51
    },
    "colab_type": "code",
    "collapsed": true,
    "id": "SN60MfLGAMnB",
    "outputId": "9814a5cb-b1f9-4fc1-b46e-fba4529d2329"
   },
   "outputs": [
    {
     "name": "stdout",
     "output_type": "stream",
     "text": [
      "Fitting 5 folds for each of 6 candidates, totalling 30 fits\n"
     ]
    },
    {
     "name": "stderr",
     "output_type": "stream",
     "text": [
      "[Parallel(n_jobs=-1)]: Using backend LokyBackend with 16 concurrent workers.\n",
      "[Parallel(n_jobs=-1)]: Done  30 out of  30 | elapsed:    0.1s remaining:    0.0s\n"
     ]
    },
    {
     "ename": "TerminatedWorkerError",
     "evalue": "A worker process managed by the executor was unexpectedly terminated. This could be caused by a segmentation fault while calling the function or by an excessive memory usage causing the Operating System to kill the worker. The exit codes of the workers are {SIGABRT(-6), SIGABRT(-6), SIGABRT(-6), SIGABRT(-6), SIGABRT(-6), SIGABRT(-6), SIGABRT(-6), SIGABRT(-6), SIGABRT(-6), SIGABRT(-6), SIGABRT(-6), SIGABRT(-6), SIGABRT(-6), SIGABRT(-6), SIGABRT(-6), SIGABRT(-6)}",
     "output_type": "error",
     "traceback": [
      "\u001b[0;31m---------------------------------------------------------------------------\u001b[0m",
      "\u001b[0;31mTerminatedWorkerError\u001b[0m                     Traceback (most recent call last)",
      "\u001b[0;32m<ipython-input-60-642d6ca2c94f>\u001b[0m in \u001b[0;36m<module>\u001b[0;34m\u001b[0m\n\u001b[1;32m      6\u001b[0m               'kernel': ['linear']}\n\u001b[1;32m      7\u001b[0m \u001b[0msvc_grid\u001b[0m \u001b[0;34m=\u001b[0m \u001b[0mGridSearchCV\u001b[0m\u001b[0;34m(\u001b[0m\u001b[0mSVC\u001b[0m\u001b[0;34m(\u001b[0m\u001b[0;34m)\u001b[0m\u001b[0;34m,\u001b[0m \u001b[0mparam_grid\u001b[0m\u001b[0;34m,\u001b[0m \u001b[0mrefit\u001b[0m\u001b[0;34m=\u001b[0m\u001b[0;32mTrue\u001b[0m\u001b[0;34m,\u001b[0m \u001b[0mverbose\u001b[0m\u001b[0;34m=\u001b[0m\u001b[0;36m1\u001b[0m\u001b[0;34m,\u001b[0m \u001b[0mn_jobs\u001b[0m\u001b[0;34m=\u001b[0m\u001b[0;34m-\u001b[0m\u001b[0;36m1\u001b[0m\u001b[0;34m)\u001b[0m\u001b[0;34m\u001b[0m\u001b[0;34m\u001b[0m\u001b[0m\n\u001b[0;32m----> 8\u001b[0;31m \u001b[0msvc_grid\u001b[0m\u001b[0;34m.\u001b[0m\u001b[0mfit\u001b[0m\u001b[0;34m(\u001b[0m\u001b[0mnew_train_d\u001b[0m\u001b[0;34m,\u001b[0m \u001b[0mtrain_df\u001b[0m\u001b[0;34m[\u001b[0m\u001b[0;34m'default_12m'\u001b[0m\u001b[0;34m]\u001b[0m\u001b[0;34m)\u001b[0m\u001b[0;34m\u001b[0m\u001b[0;34m\u001b[0m\u001b[0m\n\u001b[0m\u001b[1;32m      9\u001b[0m \u001b[0mget_best_score\u001b[0m\u001b[0;34m(\u001b[0m\u001b[0msvc_grid\u001b[0m\u001b[0;34m)\u001b[0m\u001b[0;34m\u001b[0m\u001b[0;34m\u001b[0m\u001b[0m\n",
      "\u001b[0;32m/opt/anaconda3/lib/python3.7/site-packages/sklearn/model_selection/_search.py\u001b[0m in \u001b[0;36mfit\u001b[0;34m(self, X, y, groups, **fit_params)\u001b[0m\n\u001b[1;32m    708\u001b[0m                 \u001b[0;32mreturn\u001b[0m \u001b[0mresults\u001b[0m\u001b[0;34m\u001b[0m\u001b[0;34m\u001b[0m\u001b[0m\n\u001b[1;32m    709\u001b[0m \u001b[0;34m\u001b[0m\u001b[0m\n\u001b[0;32m--> 710\u001b[0;31m             \u001b[0mself\u001b[0m\u001b[0;34m.\u001b[0m\u001b[0m_run_search\u001b[0m\u001b[0;34m(\u001b[0m\u001b[0mevaluate_candidates\u001b[0m\u001b[0;34m)\u001b[0m\u001b[0;34m\u001b[0m\u001b[0;34m\u001b[0m\u001b[0m\n\u001b[0m\u001b[1;32m    711\u001b[0m \u001b[0;34m\u001b[0m\u001b[0m\n\u001b[1;32m    712\u001b[0m         \u001b[0;31m# For multi-metric evaluation, store the best_index_, best_params_ and\u001b[0m\u001b[0;34m\u001b[0m\u001b[0;34m\u001b[0m\u001b[0;34m\u001b[0m\u001b[0m\n",
      "\u001b[0;32m/opt/anaconda3/lib/python3.7/site-packages/sklearn/model_selection/_search.py\u001b[0m in \u001b[0;36m_run_search\u001b[0;34m(self, evaluate_candidates)\u001b[0m\n\u001b[1;32m   1149\u001b[0m     \u001b[0;32mdef\u001b[0m \u001b[0m_run_search\u001b[0m\u001b[0;34m(\u001b[0m\u001b[0mself\u001b[0m\u001b[0;34m,\u001b[0m \u001b[0mevaluate_candidates\u001b[0m\u001b[0;34m)\u001b[0m\u001b[0;34m:\u001b[0m\u001b[0;34m\u001b[0m\u001b[0;34m\u001b[0m\u001b[0m\n\u001b[1;32m   1150\u001b[0m         \u001b[0;34m\"\"\"Search all candidates in param_grid\"\"\"\u001b[0m\u001b[0;34m\u001b[0m\u001b[0;34m\u001b[0m\u001b[0m\n\u001b[0;32m-> 1151\u001b[0;31m         \u001b[0mevaluate_candidates\u001b[0m\u001b[0;34m(\u001b[0m\u001b[0mParameterGrid\u001b[0m\u001b[0;34m(\u001b[0m\u001b[0mself\u001b[0m\u001b[0;34m.\u001b[0m\u001b[0mparam_grid\u001b[0m\u001b[0;34m)\u001b[0m\u001b[0;34m)\u001b[0m\u001b[0;34m\u001b[0m\u001b[0;34m\u001b[0m\u001b[0m\n\u001b[0m\u001b[1;32m   1152\u001b[0m \u001b[0;34m\u001b[0m\u001b[0m\n\u001b[1;32m   1153\u001b[0m \u001b[0;34m\u001b[0m\u001b[0m\n",
      "\u001b[0;32m/opt/anaconda3/lib/python3.7/site-packages/sklearn/model_selection/_search.py\u001b[0m in \u001b[0;36mevaluate_candidates\u001b[0;34m(candidate_params)\u001b[0m\n\u001b[1;32m    687\u001b[0m                                \u001b[0;32mfor\u001b[0m \u001b[0mparameters\u001b[0m\u001b[0;34m,\u001b[0m \u001b[0;34m(\u001b[0m\u001b[0mtrain\u001b[0m\u001b[0;34m,\u001b[0m \u001b[0mtest\u001b[0m\u001b[0;34m)\u001b[0m\u001b[0;34m\u001b[0m\u001b[0;34m\u001b[0m\u001b[0m\n\u001b[1;32m    688\u001b[0m                                in product(candidate_params,\n\u001b[0;32m--> 689\u001b[0;31m                                           cv.split(X, y, groups)))\n\u001b[0m\u001b[1;32m    690\u001b[0m \u001b[0;34m\u001b[0m\u001b[0m\n\u001b[1;32m    691\u001b[0m                 \u001b[0;32mif\u001b[0m \u001b[0mlen\u001b[0m\u001b[0;34m(\u001b[0m\u001b[0mout\u001b[0m\u001b[0;34m)\u001b[0m \u001b[0;34m<\u001b[0m \u001b[0;36m1\u001b[0m\u001b[0;34m:\u001b[0m\u001b[0;34m\u001b[0m\u001b[0;34m\u001b[0m\u001b[0m\n",
      "\u001b[0;32m/opt/anaconda3/lib/python3.7/site-packages/joblib/parallel.py\u001b[0m in \u001b[0;36m__call__\u001b[0;34m(self, iterable)\u001b[0m\n\u001b[1;32m   1015\u001b[0m \u001b[0;34m\u001b[0m\u001b[0m\n\u001b[1;32m   1016\u001b[0m             \u001b[0;32mwith\u001b[0m \u001b[0mself\u001b[0m\u001b[0;34m.\u001b[0m\u001b[0m_backend\u001b[0m\u001b[0;34m.\u001b[0m\u001b[0mretrieval_context\u001b[0m\u001b[0;34m(\u001b[0m\u001b[0;34m)\u001b[0m\u001b[0;34m:\u001b[0m\u001b[0;34m\u001b[0m\u001b[0;34m\u001b[0m\u001b[0m\n\u001b[0;32m-> 1017\u001b[0;31m                 \u001b[0mself\u001b[0m\u001b[0;34m.\u001b[0m\u001b[0mretrieve\u001b[0m\u001b[0;34m(\u001b[0m\u001b[0;34m)\u001b[0m\u001b[0;34m\u001b[0m\u001b[0;34m\u001b[0m\u001b[0m\n\u001b[0m\u001b[1;32m   1018\u001b[0m             \u001b[0;31m# Make sure that we get a last message telling us we are done\u001b[0m\u001b[0;34m\u001b[0m\u001b[0;34m\u001b[0m\u001b[0;34m\u001b[0m\u001b[0m\n\u001b[1;32m   1019\u001b[0m             \u001b[0melapsed_time\u001b[0m \u001b[0;34m=\u001b[0m \u001b[0mtime\u001b[0m\u001b[0;34m.\u001b[0m\u001b[0mtime\u001b[0m\u001b[0;34m(\u001b[0m\u001b[0;34m)\u001b[0m \u001b[0;34m-\u001b[0m \u001b[0mself\u001b[0m\u001b[0;34m.\u001b[0m\u001b[0m_start_time\u001b[0m\u001b[0;34m\u001b[0m\u001b[0;34m\u001b[0m\u001b[0m\n",
      "\u001b[0;32m/opt/anaconda3/lib/python3.7/site-packages/joblib/parallel.py\u001b[0m in \u001b[0;36mretrieve\u001b[0;34m(self)\u001b[0m\n\u001b[1;32m    907\u001b[0m             \u001b[0;32mtry\u001b[0m\u001b[0;34m:\u001b[0m\u001b[0;34m\u001b[0m\u001b[0;34m\u001b[0m\u001b[0m\n\u001b[1;32m    908\u001b[0m                 \u001b[0;32mif\u001b[0m \u001b[0mgetattr\u001b[0m\u001b[0;34m(\u001b[0m\u001b[0mself\u001b[0m\u001b[0;34m.\u001b[0m\u001b[0m_backend\u001b[0m\u001b[0;34m,\u001b[0m \u001b[0;34m'supports_timeout'\u001b[0m\u001b[0;34m,\u001b[0m \u001b[0;32mFalse\u001b[0m\u001b[0;34m)\u001b[0m\u001b[0;34m:\u001b[0m\u001b[0;34m\u001b[0m\u001b[0;34m\u001b[0m\u001b[0m\n\u001b[0;32m--> 909\u001b[0;31m                     \u001b[0mself\u001b[0m\u001b[0;34m.\u001b[0m\u001b[0m_output\u001b[0m\u001b[0;34m.\u001b[0m\u001b[0mextend\u001b[0m\u001b[0;34m(\u001b[0m\u001b[0mjob\u001b[0m\u001b[0;34m.\u001b[0m\u001b[0mget\u001b[0m\u001b[0;34m(\u001b[0m\u001b[0mtimeout\u001b[0m\u001b[0;34m=\u001b[0m\u001b[0mself\u001b[0m\u001b[0;34m.\u001b[0m\u001b[0mtimeout\u001b[0m\u001b[0;34m)\u001b[0m\u001b[0;34m)\u001b[0m\u001b[0;34m\u001b[0m\u001b[0;34m\u001b[0m\u001b[0m\n\u001b[0m\u001b[1;32m    910\u001b[0m                 \u001b[0;32melse\u001b[0m\u001b[0;34m:\u001b[0m\u001b[0;34m\u001b[0m\u001b[0;34m\u001b[0m\u001b[0m\n\u001b[1;32m    911\u001b[0m                     \u001b[0mself\u001b[0m\u001b[0;34m.\u001b[0m\u001b[0m_output\u001b[0m\u001b[0;34m.\u001b[0m\u001b[0mextend\u001b[0m\u001b[0;34m(\u001b[0m\u001b[0mjob\u001b[0m\u001b[0;34m.\u001b[0m\u001b[0mget\u001b[0m\u001b[0;34m(\u001b[0m\u001b[0;34m)\u001b[0m\u001b[0;34m)\u001b[0m\u001b[0;34m\u001b[0m\u001b[0;34m\u001b[0m\u001b[0m\n",
      "\u001b[0;32m/opt/anaconda3/lib/python3.7/site-packages/joblib/_parallel_backends.py\u001b[0m in \u001b[0;36mwrap_future_result\u001b[0;34m(future, timeout)\u001b[0m\n\u001b[1;32m    560\u001b[0m         AsyncResults.get from multiprocessing.\"\"\"\n\u001b[1;32m    561\u001b[0m         \u001b[0;32mtry\u001b[0m\u001b[0;34m:\u001b[0m\u001b[0;34m\u001b[0m\u001b[0;34m\u001b[0m\u001b[0m\n\u001b[0;32m--> 562\u001b[0;31m             \u001b[0;32mreturn\u001b[0m \u001b[0mfuture\u001b[0m\u001b[0;34m.\u001b[0m\u001b[0mresult\u001b[0m\u001b[0;34m(\u001b[0m\u001b[0mtimeout\u001b[0m\u001b[0;34m=\u001b[0m\u001b[0mtimeout\u001b[0m\u001b[0;34m)\u001b[0m\u001b[0;34m\u001b[0m\u001b[0;34m\u001b[0m\u001b[0m\n\u001b[0m\u001b[1;32m    563\u001b[0m         \u001b[0;32mexcept\u001b[0m \u001b[0mLokyTimeoutError\u001b[0m\u001b[0;34m:\u001b[0m\u001b[0;34m\u001b[0m\u001b[0;34m\u001b[0m\u001b[0m\n\u001b[1;32m    564\u001b[0m             \u001b[0;32mraise\u001b[0m \u001b[0mTimeoutError\u001b[0m\u001b[0;34m(\u001b[0m\u001b[0;34m)\u001b[0m\u001b[0;34m\u001b[0m\u001b[0;34m\u001b[0m\u001b[0m\n",
      "\u001b[0;32m/opt/anaconda3/lib/python3.7/concurrent/futures/_base.py\u001b[0m in \u001b[0;36mresult\u001b[0;34m(self, timeout)\u001b[0m\n\u001b[1;32m    433\u001b[0m                 \u001b[0;32mraise\u001b[0m \u001b[0mCancelledError\u001b[0m\u001b[0;34m(\u001b[0m\u001b[0;34m)\u001b[0m\u001b[0;34m\u001b[0m\u001b[0;34m\u001b[0m\u001b[0m\n\u001b[1;32m    434\u001b[0m             \u001b[0;32melif\u001b[0m \u001b[0mself\u001b[0m\u001b[0;34m.\u001b[0m\u001b[0m_state\u001b[0m \u001b[0;34m==\u001b[0m \u001b[0mFINISHED\u001b[0m\u001b[0;34m:\u001b[0m\u001b[0;34m\u001b[0m\u001b[0;34m\u001b[0m\u001b[0m\n\u001b[0;32m--> 435\u001b[0;31m                 \u001b[0;32mreturn\u001b[0m \u001b[0mself\u001b[0m\u001b[0;34m.\u001b[0m\u001b[0m__get_result\u001b[0m\u001b[0;34m(\u001b[0m\u001b[0;34m)\u001b[0m\u001b[0;34m\u001b[0m\u001b[0;34m\u001b[0m\u001b[0m\n\u001b[0m\u001b[1;32m    436\u001b[0m             \u001b[0;32melse\u001b[0m\u001b[0;34m:\u001b[0m\u001b[0;34m\u001b[0m\u001b[0;34m\u001b[0m\u001b[0m\n\u001b[1;32m    437\u001b[0m                 \u001b[0;32mraise\u001b[0m \u001b[0mTimeoutError\u001b[0m\u001b[0;34m(\u001b[0m\u001b[0;34m)\u001b[0m\u001b[0;34m\u001b[0m\u001b[0;34m\u001b[0m\u001b[0m\n",
      "\u001b[0;32m/opt/anaconda3/lib/python3.7/concurrent/futures/_base.py\u001b[0m in \u001b[0;36m__get_result\u001b[0;34m(self)\u001b[0m\n\u001b[1;32m    382\u001b[0m     \u001b[0;32mdef\u001b[0m \u001b[0m__get_result\u001b[0m\u001b[0;34m(\u001b[0m\u001b[0mself\u001b[0m\u001b[0;34m)\u001b[0m\u001b[0;34m:\u001b[0m\u001b[0;34m\u001b[0m\u001b[0;34m\u001b[0m\u001b[0m\n\u001b[1;32m    383\u001b[0m         \u001b[0;32mif\u001b[0m \u001b[0mself\u001b[0m\u001b[0;34m.\u001b[0m\u001b[0m_exception\u001b[0m\u001b[0;34m:\u001b[0m\u001b[0;34m\u001b[0m\u001b[0;34m\u001b[0m\u001b[0m\n\u001b[0;32m--> 384\u001b[0;31m             \u001b[0;32mraise\u001b[0m \u001b[0mself\u001b[0m\u001b[0;34m.\u001b[0m\u001b[0m_exception\u001b[0m\u001b[0;34m\u001b[0m\u001b[0;34m\u001b[0m\u001b[0m\n\u001b[0m\u001b[1;32m    385\u001b[0m         \u001b[0;32melse\u001b[0m\u001b[0;34m:\u001b[0m\u001b[0;34m\u001b[0m\u001b[0;34m\u001b[0m\u001b[0m\n\u001b[1;32m    386\u001b[0m             \u001b[0;32mreturn\u001b[0m \u001b[0mself\u001b[0m\u001b[0;34m.\u001b[0m\u001b[0m_result\u001b[0m\u001b[0;34m\u001b[0m\u001b[0;34m\u001b[0m\u001b[0m\n",
      "\u001b[0;31mTerminatedWorkerError\u001b[0m: A worker process managed by the executor was unexpectedly terminated. This could be caused by a segmentation fault while calling the function or by an excessive memory usage causing the Operating System to kill the worker. The exit codes of the workers are {SIGABRT(-6), SIGABRT(-6), SIGABRT(-6), SIGABRT(-6), SIGABRT(-6), SIGABRT(-6), SIGABRT(-6), SIGABRT(-6), SIGABRT(-6), SIGABRT(-6), SIGABRT(-6), SIGABRT(-6), SIGABRT(-6), SIGABRT(-6), SIGABRT(-6), SIGABRT(-6)}"
     ]
    }
   ],
   "source": [
    "from sklearn.svm import SVC\n",
    "\n",
    "model = SVC()\n",
    "param_grid = {'C': [5,10,20], #500,800,1000,1200,1500], \n",
    "              'gamma': [0.0000001, 0.000001], #,0.0001,0.00001,0.000001], \n",
    "              'kernel': ['linear']}\n",
    "svc_grid = GridSearchCV(SVC(), param_grid, refit=True, verbose=1, n_jobs=-1)\n",
    "svc_grid.fit(new_train_d, train_df['default_12m'])\n",
    "get_best_score(svc_grid)"
   ]
  },
  {
   "cell_type": "code",
   "execution_count": 71,
   "metadata": {
    "colab": {},
    "colab_type": "code",
    "id": "kWf614oWJQ1R"
   },
   "outputs": [
    {
     "name": "stderr",
     "output_type": "stream",
     "text": [
      "/opt/anaconda3/lib/python3.7/site-packages/ipykernel_launcher.py:1: SettingWithCopyWarning: \n",
      "A value is trying to be set on a copy of a slice from a DataFrame.\n",
      "Try using .loc[row_indexer,col_indexer] = value instead\n",
      "\n",
      "See the caveats in the documentation: https://pandas.pydata.org/pandas-docs/stable/user_guide/indexing.html#returning-a-view-versus-a-copy\n",
      "  \"\"\"Entry point for launching an IPython kernel.\n"
     ]
    }
   ],
   "source": [
    "answ_df['predict'] = (svc_grid.predict(test_df_new[features])).astype(int)\n",
    "answ_df.to_csv('PD-submit.csv',index=False, sep=';')\n",
    "# from google.colab import files\n",
    "# files.download('PD-submit.csv')"
   ]
  },
  {
   "cell_type": "code",
   "execution_count": 67,
   "metadata": {},
   "outputs": [],
   "source": [
    "from sklearn.ensemble import RandomForestClassifier\n",
    "rfc = RandomForestClassifier()\n",
    "\n",
    "param_grid = {\n",
    "    'max_depth': [17], 'max_features': [20],  \n",
    "    'min_samples_split': [4, 6], 'n_estimators': [200, 250], \n",
    "    'criterion': ['entropy'], # , 11, 12, 14, 15], \n",
    "    'random_state': [42], 'class_weight': [{0:1, 1:2}],\n",
    "    'max_leaf_nodes': [None] + list(np.linspace(10, 50, 500).astype(int)),\n",
    "    'bootstrap': [True, False]\n",
    "}\n",
    "\n",
    "rf_grid = GridSearchCV(rfc, param_grid, refit=True, verbose=5, n_jobs=-1, scoring = 'roc_auc')"
   ]
  },
  {
   "cell_type": "code",
   "execution_count": 68,
   "metadata": {
    "collapsed": true
   },
   "outputs": [
    {
     "name": "stdout",
     "output_type": "stream",
     "text": [
      "Fitting 5 folds for each of 2004 candidates, totalling 10020 fits\n"
     ]
    },
    {
     "name": "stderr",
     "output_type": "stream",
     "text": [
      "[Parallel(n_jobs=-1)]: Using backend LokyBackend with 16 concurrent workers.\n",
      "[Parallel(n_jobs=-1)]: Done  40 tasks      | elapsed:  1.4min\n"
     ]
    },
    {
     "ename": "KeyboardInterrupt",
     "evalue": "",
     "output_type": "error",
     "traceback": [
      "\u001b[0;31m---------------------------------------------------------------------------\u001b[0m",
      "\u001b[0;31mKeyboardInterrupt\u001b[0m                         Traceback (most recent call last)",
      "\u001b[0;32m<ipython-input-68-7601a91e71df>\u001b[0m in \u001b[0;36m<module>\u001b[0;34m\u001b[0m\n\u001b[0;32m----> 1\u001b[0;31m \u001b[0mrf_grid\u001b[0m\u001b[0;34m.\u001b[0m\u001b[0mfit\u001b[0m\u001b[0;34m(\u001b[0m\u001b[0mreg_train\u001b[0m\u001b[0;34m,\u001b[0m \u001b[0mtrain_df\u001b[0m\u001b[0;34m[\u001b[0m\u001b[0;34m'default_12m'\u001b[0m\u001b[0;34m]\u001b[0m\u001b[0;34m)\u001b[0m\u001b[0;34m\u001b[0m\u001b[0;34m\u001b[0m\u001b[0m\n\u001b[0m",
      "\u001b[0;32m/opt/anaconda3/lib/python3.7/site-packages/sklearn/model_selection/_search.py\u001b[0m in \u001b[0;36mfit\u001b[0;34m(self, X, y, groups, **fit_params)\u001b[0m\n\u001b[1;32m    708\u001b[0m                 \u001b[0;32mreturn\u001b[0m \u001b[0mresults\u001b[0m\u001b[0;34m\u001b[0m\u001b[0;34m\u001b[0m\u001b[0m\n\u001b[1;32m    709\u001b[0m \u001b[0;34m\u001b[0m\u001b[0m\n\u001b[0;32m--> 710\u001b[0;31m             \u001b[0mself\u001b[0m\u001b[0;34m.\u001b[0m\u001b[0m_run_search\u001b[0m\u001b[0;34m(\u001b[0m\u001b[0mevaluate_candidates\u001b[0m\u001b[0;34m)\u001b[0m\u001b[0;34m\u001b[0m\u001b[0;34m\u001b[0m\u001b[0m\n\u001b[0m\u001b[1;32m    711\u001b[0m \u001b[0;34m\u001b[0m\u001b[0m\n\u001b[1;32m    712\u001b[0m         \u001b[0;31m# For multi-metric evaluation, store the best_index_, best_params_ and\u001b[0m\u001b[0;34m\u001b[0m\u001b[0;34m\u001b[0m\u001b[0;34m\u001b[0m\u001b[0m\n",
      "\u001b[0;32m/opt/anaconda3/lib/python3.7/site-packages/sklearn/model_selection/_search.py\u001b[0m in \u001b[0;36m_run_search\u001b[0;34m(self, evaluate_candidates)\u001b[0m\n\u001b[1;32m   1149\u001b[0m     \u001b[0;32mdef\u001b[0m \u001b[0m_run_search\u001b[0m\u001b[0;34m(\u001b[0m\u001b[0mself\u001b[0m\u001b[0;34m,\u001b[0m \u001b[0mevaluate_candidates\u001b[0m\u001b[0;34m)\u001b[0m\u001b[0;34m:\u001b[0m\u001b[0;34m\u001b[0m\u001b[0;34m\u001b[0m\u001b[0m\n\u001b[1;32m   1150\u001b[0m         \u001b[0;34m\"\"\"Search all candidates in param_grid\"\"\"\u001b[0m\u001b[0;34m\u001b[0m\u001b[0;34m\u001b[0m\u001b[0m\n\u001b[0;32m-> 1151\u001b[0;31m         \u001b[0mevaluate_candidates\u001b[0m\u001b[0;34m(\u001b[0m\u001b[0mParameterGrid\u001b[0m\u001b[0;34m(\u001b[0m\u001b[0mself\u001b[0m\u001b[0;34m.\u001b[0m\u001b[0mparam_grid\u001b[0m\u001b[0;34m)\u001b[0m\u001b[0;34m)\u001b[0m\u001b[0;34m\u001b[0m\u001b[0;34m\u001b[0m\u001b[0m\n\u001b[0m\u001b[1;32m   1152\u001b[0m \u001b[0;34m\u001b[0m\u001b[0m\n\u001b[1;32m   1153\u001b[0m \u001b[0;34m\u001b[0m\u001b[0m\n",
      "\u001b[0;32m/opt/anaconda3/lib/python3.7/site-packages/sklearn/model_selection/_search.py\u001b[0m in \u001b[0;36mevaluate_candidates\u001b[0;34m(candidate_params)\u001b[0m\n\u001b[1;32m    687\u001b[0m                                \u001b[0;32mfor\u001b[0m \u001b[0mparameters\u001b[0m\u001b[0;34m,\u001b[0m \u001b[0;34m(\u001b[0m\u001b[0mtrain\u001b[0m\u001b[0;34m,\u001b[0m \u001b[0mtest\u001b[0m\u001b[0;34m)\u001b[0m\u001b[0;34m\u001b[0m\u001b[0;34m\u001b[0m\u001b[0m\n\u001b[1;32m    688\u001b[0m                                in product(candidate_params,\n\u001b[0;32m--> 689\u001b[0;31m                                           cv.split(X, y, groups)))\n\u001b[0m\u001b[1;32m    690\u001b[0m \u001b[0;34m\u001b[0m\u001b[0m\n\u001b[1;32m    691\u001b[0m                 \u001b[0;32mif\u001b[0m \u001b[0mlen\u001b[0m\u001b[0;34m(\u001b[0m\u001b[0mout\u001b[0m\u001b[0;34m)\u001b[0m \u001b[0;34m<\u001b[0m \u001b[0;36m1\u001b[0m\u001b[0;34m:\u001b[0m\u001b[0;34m\u001b[0m\u001b[0;34m\u001b[0m\u001b[0m\n",
      "\u001b[0;32m/opt/anaconda3/lib/python3.7/site-packages/joblib/parallel.py\u001b[0m in \u001b[0;36m__call__\u001b[0;34m(self, iterable)\u001b[0m\n\u001b[1;32m   1015\u001b[0m \u001b[0;34m\u001b[0m\u001b[0m\n\u001b[1;32m   1016\u001b[0m             \u001b[0;32mwith\u001b[0m \u001b[0mself\u001b[0m\u001b[0;34m.\u001b[0m\u001b[0m_backend\u001b[0m\u001b[0;34m.\u001b[0m\u001b[0mretrieval_context\u001b[0m\u001b[0;34m(\u001b[0m\u001b[0;34m)\u001b[0m\u001b[0;34m:\u001b[0m\u001b[0;34m\u001b[0m\u001b[0;34m\u001b[0m\u001b[0m\n\u001b[0;32m-> 1017\u001b[0;31m                 \u001b[0mself\u001b[0m\u001b[0;34m.\u001b[0m\u001b[0mretrieve\u001b[0m\u001b[0;34m(\u001b[0m\u001b[0;34m)\u001b[0m\u001b[0;34m\u001b[0m\u001b[0;34m\u001b[0m\u001b[0m\n\u001b[0m\u001b[1;32m   1018\u001b[0m             \u001b[0;31m# Make sure that we get a last message telling us we are done\u001b[0m\u001b[0;34m\u001b[0m\u001b[0;34m\u001b[0m\u001b[0;34m\u001b[0m\u001b[0m\n\u001b[1;32m   1019\u001b[0m             \u001b[0melapsed_time\u001b[0m \u001b[0;34m=\u001b[0m \u001b[0mtime\u001b[0m\u001b[0;34m.\u001b[0m\u001b[0mtime\u001b[0m\u001b[0;34m(\u001b[0m\u001b[0;34m)\u001b[0m \u001b[0;34m-\u001b[0m \u001b[0mself\u001b[0m\u001b[0;34m.\u001b[0m\u001b[0m_start_time\u001b[0m\u001b[0;34m\u001b[0m\u001b[0;34m\u001b[0m\u001b[0m\n",
      "\u001b[0;32m/opt/anaconda3/lib/python3.7/site-packages/joblib/parallel.py\u001b[0m in \u001b[0;36mretrieve\u001b[0;34m(self)\u001b[0m\n\u001b[1;32m    907\u001b[0m             \u001b[0;32mtry\u001b[0m\u001b[0;34m:\u001b[0m\u001b[0;34m\u001b[0m\u001b[0;34m\u001b[0m\u001b[0m\n\u001b[1;32m    908\u001b[0m                 \u001b[0;32mif\u001b[0m \u001b[0mgetattr\u001b[0m\u001b[0;34m(\u001b[0m\u001b[0mself\u001b[0m\u001b[0;34m.\u001b[0m\u001b[0m_backend\u001b[0m\u001b[0;34m,\u001b[0m \u001b[0;34m'supports_timeout'\u001b[0m\u001b[0;34m,\u001b[0m \u001b[0;32mFalse\u001b[0m\u001b[0;34m)\u001b[0m\u001b[0;34m:\u001b[0m\u001b[0;34m\u001b[0m\u001b[0;34m\u001b[0m\u001b[0m\n\u001b[0;32m--> 909\u001b[0;31m                     \u001b[0mself\u001b[0m\u001b[0;34m.\u001b[0m\u001b[0m_output\u001b[0m\u001b[0;34m.\u001b[0m\u001b[0mextend\u001b[0m\u001b[0;34m(\u001b[0m\u001b[0mjob\u001b[0m\u001b[0;34m.\u001b[0m\u001b[0mget\u001b[0m\u001b[0;34m(\u001b[0m\u001b[0mtimeout\u001b[0m\u001b[0;34m=\u001b[0m\u001b[0mself\u001b[0m\u001b[0;34m.\u001b[0m\u001b[0mtimeout\u001b[0m\u001b[0;34m)\u001b[0m\u001b[0;34m)\u001b[0m\u001b[0;34m\u001b[0m\u001b[0;34m\u001b[0m\u001b[0m\n\u001b[0m\u001b[1;32m    910\u001b[0m                 \u001b[0;32melse\u001b[0m\u001b[0;34m:\u001b[0m\u001b[0;34m\u001b[0m\u001b[0;34m\u001b[0m\u001b[0m\n\u001b[1;32m    911\u001b[0m                     \u001b[0mself\u001b[0m\u001b[0;34m.\u001b[0m\u001b[0m_output\u001b[0m\u001b[0;34m.\u001b[0m\u001b[0mextend\u001b[0m\u001b[0;34m(\u001b[0m\u001b[0mjob\u001b[0m\u001b[0;34m.\u001b[0m\u001b[0mget\u001b[0m\u001b[0;34m(\u001b[0m\u001b[0;34m)\u001b[0m\u001b[0;34m)\u001b[0m\u001b[0;34m\u001b[0m\u001b[0;34m\u001b[0m\u001b[0m\n",
      "\u001b[0;32m/opt/anaconda3/lib/python3.7/site-packages/joblib/_parallel_backends.py\u001b[0m in \u001b[0;36mwrap_future_result\u001b[0;34m(future, timeout)\u001b[0m\n\u001b[1;32m    560\u001b[0m         AsyncResults.get from multiprocessing.\"\"\"\n\u001b[1;32m    561\u001b[0m         \u001b[0;32mtry\u001b[0m\u001b[0;34m:\u001b[0m\u001b[0;34m\u001b[0m\u001b[0;34m\u001b[0m\u001b[0m\n\u001b[0;32m--> 562\u001b[0;31m             \u001b[0;32mreturn\u001b[0m \u001b[0mfuture\u001b[0m\u001b[0;34m.\u001b[0m\u001b[0mresult\u001b[0m\u001b[0;34m(\u001b[0m\u001b[0mtimeout\u001b[0m\u001b[0;34m=\u001b[0m\u001b[0mtimeout\u001b[0m\u001b[0;34m)\u001b[0m\u001b[0;34m\u001b[0m\u001b[0;34m\u001b[0m\u001b[0m\n\u001b[0m\u001b[1;32m    563\u001b[0m         \u001b[0;32mexcept\u001b[0m \u001b[0mLokyTimeoutError\u001b[0m\u001b[0;34m:\u001b[0m\u001b[0;34m\u001b[0m\u001b[0;34m\u001b[0m\u001b[0m\n\u001b[1;32m    564\u001b[0m             \u001b[0;32mraise\u001b[0m \u001b[0mTimeoutError\u001b[0m\u001b[0;34m(\u001b[0m\u001b[0;34m)\u001b[0m\u001b[0;34m\u001b[0m\u001b[0;34m\u001b[0m\u001b[0m\n",
      "\u001b[0;32m/opt/anaconda3/lib/python3.7/concurrent/futures/_base.py\u001b[0m in \u001b[0;36mresult\u001b[0;34m(self, timeout)\u001b[0m\n\u001b[1;32m    428\u001b[0m                 \u001b[0;32mreturn\u001b[0m \u001b[0mself\u001b[0m\u001b[0;34m.\u001b[0m\u001b[0m__get_result\u001b[0m\u001b[0;34m(\u001b[0m\u001b[0;34m)\u001b[0m\u001b[0;34m\u001b[0m\u001b[0;34m\u001b[0m\u001b[0m\n\u001b[1;32m    429\u001b[0m \u001b[0;34m\u001b[0m\u001b[0m\n\u001b[0;32m--> 430\u001b[0;31m             \u001b[0mself\u001b[0m\u001b[0;34m.\u001b[0m\u001b[0m_condition\u001b[0m\u001b[0;34m.\u001b[0m\u001b[0mwait\u001b[0m\u001b[0;34m(\u001b[0m\u001b[0mtimeout\u001b[0m\u001b[0;34m)\u001b[0m\u001b[0;34m\u001b[0m\u001b[0;34m\u001b[0m\u001b[0m\n\u001b[0m\u001b[1;32m    431\u001b[0m \u001b[0;34m\u001b[0m\u001b[0m\n\u001b[1;32m    432\u001b[0m             \u001b[0;32mif\u001b[0m \u001b[0mself\u001b[0m\u001b[0;34m.\u001b[0m\u001b[0m_state\u001b[0m \u001b[0;32min\u001b[0m \u001b[0;34m[\u001b[0m\u001b[0mCANCELLED\u001b[0m\u001b[0;34m,\u001b[0m \u001b[0mCANCELLED_AND_NOTIFIED\u001b[0m\u001b[0;34m]\u001b[0m\u001b[0;34m:\u001b[0m\u001b[0;34m\u001b[0m\u001b[0;34m\u001b[0m\u001b[0m\n",
      "\u001b[0;32m/opt/anaconda3/lib/python3.7/threading.py\u001b[0m in \u001b[0;36mwait\u001b[0;34m(self, timeout)\u001b[0m\n\u001b[1;32m    294\u001b[0m         \u001b[0;32mtry\u001b[0m\u001b[0;34m:\u001b[0m    \u001b[0;31m# restore state no matter what (e.g., KeyboardInterrupt)\u001b[0m\u001b[0;34m\u001b[0m\u001b[0;34m\u001b[0m\u001b[0m\n\u001b[1;32m    295\u001b[0m             \u001b[0;32mif\u001b[0m \u001b[0mtimeout\u001b[0m \u001b[0;32mis\u001b[0m \u001b[0;32mNone\u001b[0m\u001b[0;34m:\u001b[0m\u001b[0;34m\u001b[0m\u001b[0;34m\u001b[0m\u001b[0m\n\u001b[0;32m--> 296\u001b[0;31m                 \u001b[0mwaiter\u001b[0m\u001b[0;34m.\u001b[0m\u001b[0macquire\u001b[0m\u001b[0;34m(\u001b[0m\u001b[0;34m)\u001b[0m\u001b[0;34m\u001b[0m\u001b[0;34m\u001b[0m\u001b[0m\n\u001b[0m\u001b[1;32m    297\u001b[0m                 \u001b[0mgotit\u001b[0m \u001b[0;34m=\u001b[0m \u001b[0;32mTrue\u001b[0m\u001b[0;34m\u001b[0m\u001b[0;34m\u001b[0m\u001b[0m\n\u001b[1;32m    298\u001b[0m             \u001b[0;32melse\u001b[0m\u001b[0;34m:\u001b[0m\u001b[0;34m\u001b[0m\u001b[0;34m\u001b[0m\u001b[0m\n",
      "\u001b[0;31mKeyboardInterrupt\u001b[0m: "
     ]
    }
   ],
   "source": [
    "rf_grid.fit(reg_train, train_df['default_12m'])"
   ]
  },
  {
   "cell_type": "code",
   "execution_count": null,
   "metadata": {},
   "outputs": [],
   "source": [
    "get_best_score(rf_grid)"
   ]
  },
  {
   "cell_type": "code",
   "execution_count": 120,
   "metadata": {
    "collapsed": true
   },
   "outputs": [
    {
     "data": {
      "text/plain": [
       "['ar_revenue',\n",
       " 'ar_total_expenses',\n",
       " 'ar_sale_cost',\n",
       " 'ar_selling_expenses',\n",
       " 'ar_management_expenses',\n",
       " 'ar_sale_profit',\n",
       " 'ar_balance_of_rvns_and_expns',\n",
       " 'ar_profit_before_tax',\n",
       " 'ar_taxes',\n",
       " 'ar_other_profit_and_losses',\n",
       " 'ar_net_profit',\n",
       " 'ab_immobilized_assets',\n",
       " 'ab_mobile_current_assets',\n",
       " 'ab_inventory',\n",
       " 'ab_accounts_receivable',\n",
       " 'ab_other_current_assets',\n",
       " 'ab_cash_and_securities',\n",
       " 'ab_losses',\n",
       " 'ab_own_capital',\n",
       " 'ab_borrowed_capital',\n",
       " 'ab_long_term_liabilities',\n",
       " 'ab_short_term_borrowing',\n",
       " 'ab_accounts_payable',\n",
       " 'ab_other_borrowings',\n",
       " 'bus_age',\n",
       " 'ogrn_age',\n",
       " 'adr_actual_age',\n",
       " 'head_actual_age',\n",
       " 'cap_actual_age',\n",
       " 'ul_capital_sum',\n",
       " 'ul_founders_cnt',\n",
       " 'ul_branch_cnt',\n",
       " 'ul_strategic_flg',\n",
       " 'ul_systematizing_flg',\n",
       " 'ul_staff_range_100-500',\n",
       " 'ul_staff_range_500',\n",
       " 'ul_staff_range_1-100']"
      ]
     },
     "execution_count": 120,
     "metadata": {},
     "output_type": "execute_result"
    }
   ],
   "source": [
    "features_reg = reg_train.columns.tolist()\n",
    "features_reg"
   ]
  },
  {
   "cell_type": "code",
   "execution_count": null,
   "metadata": {},
   "outputs": [],
   "source": [
    "answ_df['predict'] = (rf_grid.predict_proba(test_df_new_reg[features_reg])[:,1]>cutoff).astype(int)\n",
    "answ_df.to_csv('PD-submit.csv',index=False, sep=';')"
   ]
  },
  {
   "cell_type": "markdown",
   "metadata": {},
   "source": [
    "Лучший показатель accuracy по результатам сабмита 60%"
   ]
  },
  {
   "cell_type": "markdown",
   "metadata": {},
   "source": [
    "Попробуем Random Search"
   ]
  },
  {
   "cell_type": "code",
   "execution_count": 73,
   "metadata": {},
   "outputs": [],
   "source": [
    "from sklearn.model_selection import RandomizedSearchCV\n",
    "\n",
    "param_grid = {\n",
    "    'n_estimators': np.linspace(10, 300).astype(int),\n",
    "    'max_depth': [None] + list(np.linspace(3, 25).astype(int)),\n",
    "    'max_features': [5, 10, 15, 20, 25, 30],\n",
    "    'max_leaf_nodes': [None] + list(np.linspace(10, 50, 500).astype(int)),\n",
    "    'min_samples_split': [3, 5, 10],\n",
    "    'bootstrap': [True, False],\n",
    "    'class_weight': [{0:1, 1:1}],\n",
    "    'criterion': ['entropy', 'gini']\n",
    "}\n",
    "\n",
    "estimator = RandomForestClassifier(random_state = 42)\n",
    "\n",
    "rs = RandomizedSearchCV(estimator, param_grid, n_jobs = -1, \n",
    "                        scoring = 'roc_auc', cv = 3, \n",
    "                        n_iter = 10, verbose = 5, random_state=42)"
   ]
  },
  {
   "cell_type": "code",
   "execution_count": 74,
   "metadata": {
    "collapsed": true
   },
   "outputs": [
    {
     "name": "stdout",
     "output_type": "stream",
     "text": [
      "Fitting 3 folds for each of 10 candidates, totalling 30 fits\n"
     ]
    },
    {
     "name": "stderr",
     "output_type": "stream",
     "text": [
      "[Parallel(n_jobs=-1)]: Using backend LokyBackend with 16 concurrent workers.\n",
      "[Parallel(n_jobs=-1)]: Done   6 out of  30 | elapsed:   17.2s remaining:  1.1min\n",
      "[Parallel(n_jobs=-1)]: Done  13 out of  30 | elapsed:   25.0s remaining:   32.7s\n",
      "[Parallel(n_jobs=-1)]: Done  20 out of  30 | elapsed:   26.8s remaining:   13.4s\n",
      "[Parallel(n_jobs=-1)]: Done  27 out of  30 | elapsed:   33.3s remaining:    3.7s\n",
      "[Parallel(n_jobs=-1)]: Done  30 out of  30 | elapsed:   41.7s finished\n"
     ]
    },
    {
     "data": {
      "text/plain": [
       "RandomizedSearchCV(cv=3, error_score=nan,\n",
       "                   estimator=RandomForestClassifier(bootstrap=True,\n",
       "                                                    ccp_alpha=0.0,\n",
       "                                                    class_weight=None,\n",
       "                                                    criterion='gini',\n",
       "                                                    max_depth=None,\n",
       "                                                    max_features='auto',\n",
       "                                                    max_leaf_nodes=None,\n",
       "                                                    max_samples=None,\n",
       "                                                    min_impurity_decrease=0.0,\n",
       "                                                    min_impurity_split=None,\n",
       "                                                    min_samples_leaf=1,\n",
       "                                                    min_samples_split=2,\n",
       "                                                    min_weight_fraction_leaf=0.0,\n",
       "                                                    n_estimators=100,\n",
       "                                                    n_jobs...\n",
       "                                                           11, 12, 12, 12, 12, ...],\n",
       "                                        'min_samples_split': [3, 5, 10],\n",
       "                                        'n_estimators': array([ 10,  15,  21,  27,  33,  39,  45,  51,  57,  63,  69,  75,  81,\n",
       "        86,  92,  98, 104, 110, 116, 122, 128, 134, 140, 146, 152, 157,\n",
       "       163, 169, 175, 181, 187, 193, 199, 205, 211, 217, 223, 228, 234,\n",
       "       240, 246, 252, 258, 264, 270, 276, 282, 288, 294, 300])},\n",
       "                   pre_dispatch='2*n_jobs', random_state=42, refit=True,\n",
       "                   return_train_score=False, scoring='roc_auc', verbose=5)"
      ]
     },
     "execution_count": 74,
     "metadata": {},
     "output_type": "execute_result"
    }
   ],
   "source": [
    "rs.fit(reg_train, train_df['default_12m'])"
   ]
  },
  {
   "cell_type": "code",
   "execution_count": 75,
   "metadata": {},
   "outputs": [
    {
     "name": "stdout",
     "output_type": "stream",
     "text": [
      "0.7074092104840167\n",
      "{'n_estimators': 234, 'min_samples_split': 3, 'max_leaf_nodes': 31, 'max_features': 25, 'max_depth': 23, 'criterion': 'entropy', 'class_weight': {0: 1, 1: 1}, 'bootstrap': True}\n",
      "RandomForestClassifier(bootstrap=True, ccp_alpha=0.0, class_weight={0: 1, 1: 1},\n",
      "                       criterion='entropy', max_depth=23, max_features=25,\n",
      "                       max_leaf_nodes=31, max_samples=None,\n",
      "                       min_impurity_decrease=0.0, min_impurity_split=None,\n",
      "                       min_samples_leaf=1, min_samples_split=3,\n",
      "                       min_weight_fraction_leaf=0.0, n_estimators=234,\n",
      "                       n_jobs=None, oob_score=False, random_state=42, verbose=0,\n",
      "                       warm_start=False)\n"
     ]
    },
    {
     "data": {
      "text/plain": [
       "0.7074092104840167"
      ]
     },
     "execution_count": 75,
     "metadata": {},
     "output_type": "execute_result"
    }
   ],
   "source": [
    "get_best_score(rs)"
   ]
  },
  {
   "cell_type": "code",
   "execution_count": 76,
   "metadata": {},
   "outputs": [],
   "source": [
    "answ_df['predict'] = (rs.predict_proba(test_df_new_reg[features_reg])[:,1]>cutoff).astype(int)\n",
    "answ_df.to_csv('PD-submit_rs.csv',index=False, sep=';')"
   ]
  },
  {
   "cell_type": "markdown",
   "metadata": {},
   "source": [
    "Пробую изменить веса классов с параметром class_weight, это немного улучшило результат до 61%"
   ]
  },
  {
   "cell_type": "code",
   "execution_count": 145,
   "metadata": {},
   "outputs": [
    {
     "name": "stdout",
     "output_type": "stream",
     "text": [
      "Fitting 5 folds for each of 336 candidates, totalling 1680 fits\n"
     ]
    },
    {
     "name": "stderr",
     "output_type": "stream",
     "text": [
      "[Parallel(n_jobs=-1)]: Using backend LokyBackend with 16 concurrent workers.\n",
      "[Parallel(n_jobs=-1)]: Done  40 tasks      | elapsed:    5.7s\n",
      "[Parallel(n_jobs=-1)]: Done 130 tasks      | elapsed:   22.3s\n",
      "[Parallel(n_jobs=-1)]: Done 256 tasks      | elapsed:   43.8s\n",
      "[Parallel(n_jobs=-1)]: Done 418 tasks      | elapsed:  1.2min\n",
      "[Parallel(n_jobs=-1)]: Done 616 tasks      | elapsed:  1.8min\n",
      "[Parallel(n_jobs=-1)]: Done 850 tasks      | elapsed:  2.5min\n",
      "[Parallel(n_jobs=-1)]: Done 1120 tasks      | elapsed:  3.3min\n",
      "[Parallel(n_jobs=-1)]: Done 1426 tasks      | elapsed:  4.3min\n"
     ]
    },
    {
     "name": "stdout",
     "output_type": "stream",
     "text": [
      "0.9277357616916191\n",
      "{'C': 0.001, 'class_weight': {0: 1, 1: 2}, 'intercept_scaling': 0.01, 'max_iter': 100, 'tol': 1e-05}\n",
      "LogisticRegression(C=0.001, class_weight={0: 1, 1: 2}, dual=False,\n",
      "                   fit_intercept=True, intercept_scaling=0.01, l1_ratio=None,\n",
      "                   max_iter=100, multi_class='auto', n_jobs=None, penalty='l2',\n",
      "                   random_state=None, solver='lbfgs', tol=1e-05, verbose=0,\n",
      "                   warm_start=False)\n"
     ]
    },
    {
     "name": "stderr",
     "output_type": "stream",
     "text": [
      "[Parallel(n_jobs=-1)]: Done 1680 out of 1680 | elapsed:  5.1min finished\n"
     ]
    },
    {
     "data": {
      "text/plain": [
       "0.9277357616916191"
      ]
     },
     "execution_count": 145,
     "metadata": {},
     "output_type": "execute_result"
    }
   ],
   "source": [
    "lr = LogisticRegression()\n",
    "param_grid = {'C': [0.001, 0.01, 0.1, 1, 10, 100, 1000],\n",
    "              'class_weight': [{0:1, 1:2}], 'intercept_scaling':[0.001, 0.01, 0.1, 1],\n",
    "              'max_iter':[10, 100, 150], 'tol': [0.00001, 0.0001, 0.001]}\n",
    "clf_lr = GridSearchCV(lr, param_grid=param_grid, n_jobs=-1, verbose=5)\n",
    "\n",
    "clf_lr.fit(reg_train, train_df['default_12m'])\n",
    "get_best_score(clf_lr)"
   ]
  },
  {
   "cell_type": "code",
   "execution_count": 146,
   "metadata": {},
   "outputs": [],
   "source": [
    "answ_df['predict'] = (clf_lr.predict_proba(test_df_new_reg[features_reg])[:,1]>cutoff).astype(int)\n",
    "answ_df.to_csv('PD-submit.csv',index=False, sep=';')"
   ]
  },
  {
   "cell_type": "markdown",
   "metadata": {},
   "source": [
    "Применим масштабирование для линейной регрессии, для лесов это не нужно"
   ]
  },
  {
   "cell_type": "code",
   "execution_count": 70,
   "metadata": {},
   "outputs": [],
   "source": [
    "from sklearn.preprocessing import StandardScaler\n",
    "scaler = StandardScaler()\n",
    "\n",
    "scaler.fit(reg_train)\n",
    "scaled_features = scaler.transform(reg_train)\n",
    "df_train_null_sc = pd.DataFrame(scaled_features)\n",
    "\n",
    "scaler.fit(test_df_new_regg)\n",
    "scaled_features = scaler.transform(test_df_new_regg)\n",
    "df_test_null_sc = pd.DataFrame(scaled_features)"
   ]
  },
  {
   "cell_type": "code",
   "execution_count": 69,
   "metadata": {},
   "outputs": [],
   "source": [
    "test_df_new_regg = test_df_new_reg.drop(['record_id'], axis=1)"
   ]
  },
  {
   "cell_type": "code",
   "execution_count": 130,
   "metadata": {},
   "outputs": [
    {
     "name": "stdout",
     "output_type": "stream",
     "text": [
      "0.9358851674641148\n",
      "{'max_depth': 10, 'max_features': 20, 'min_samples_split': 5}\n",
      "RandomForestClassifier(bootstrap=True, ccp_alpha=0.0, class_weight=None,\n",
      "                       criterion='gini', max_depth=10, max_features=20,\n",
      "                       max_leaf_nodes=None, max_samples=None,\n",
      "                       min_impurity_decrease=0.0, min_impurity_split=None,\n",
      "                       min_samples_leaf=1, min_samples_split=5,\n",
      "                       min_weight_fraction_leaf=0.0, n_estimators=100,\n",
      "                       n_jobs=None, oob_score=False, random_state=None,\n",
      "                       verbose=0, warm_start=False)\n"
     ]
    },
    {
     "data": {
      "text/plain": [
       "0.9358851674641148"
      ]
     },
     "execution_count": 130,
     "metadata": {},
     "output_type": "execute_result"
    }
   ],
   "source": [
    "clf_lr.fit(df_train_null_sc, train_df['default_12m'])\n",
    "get_best_score(rf_grid)"
   ]
  },
  {
   "cell_type": "code",
   "execution_count": 59,
   "metadata": {
    "collapsed": true
   },
   "outputs": [
    {
     "ename": "NameError",
     "evalue": "name 'clf_lr' is not defined",
     "output_type": "error",
     "traceback": [
      "\u001b[0;31m---------------------------------------------------------------------------\u001b[0m",
      "\u001b[0;31mNameError\u001b[0m                                 Traceback (most recent call last)",
      "\u001b[0;32m<ipython-input-59-ca480b4f79f4>\u001b[0m in \u001b[0;36m<module>\u001b[0;34m\u001b[0m\n\u001b[0;32m----> 1\u001b[0;31m \u001b[0mansw_df\u001b[0m\u001b[0;34m[\u001b[0m\u001b[0;34m'predict'\u001b[0m\u001b[0;34m]\u001b[0m \u001b[0;34m=\u001b[0m \u001b[0;34m(\u001b[0m\u001b[0mclf_lr\u001b[0m\u001b[0;34m.\u001b[0m\u001b[0mpredict_proba\u001b[0m\u001b[0;34m(\u001b[0m\u001b[0mdf_test_null_sc\u001b[0m\u001b[0;34m)\u001b[0m\u001b[0;34m[\u001b[0m\u001b[0;34m:\u001b[0m\u001b[0;34m,\u001b[0m\u001b[0;36m1\u001b[0m\u001b[0;34m]\u001b[0m\u001b[0;34m>\u001b[0m\u001b[0mcutoff\u001b[0m\u001b[0;34m)\u001b[0m\u001b[0;34m.\u001b[0m\u001b[0mastype\u001b[0m\u001b[0;34m(\u001b[0m\u001b[0mint\u001b[0m\u001b[0;34m)\u001b[0m\u001b[0;34m\u001b[0m\u001b[0;34m\u001b[0m\u001b[0m\n\u001b[0m\u001b[1;32m      2\u001b[0m \u001b[0mansw_df\u001b[0m\u001b[0;34m.\u001b[0m\u001b[0mto_csv\u001b[0m\u001b[0;34m(\u001b[0m\u001b[0;34m'PD-submit.csv'\u001b[0m\u001b[0;34m,\u001b[0m\u001b[0mindex\u001b[0m\u001b[0;34m=\u001b[0m\u001b[0;32mFalse\u001b[0m\u001b[0;34m,\u001b[0m \u001b[0msep\u001b[0m\u001b[0;34m=\u001b[0m\u001b[0;34m';'\u001b[0m\u001b[0;34m)\u001b[0m\u001b[0;34m\u001b[0m\u001b[0;34m\u001b[0m\u001b[0m\n",
      "\u001b[0;31mNameError\u001b[0m: name 'clf_lr' is not defined"
     ]
    }
   ],
   "source": [
    "answ_df['predict'] = (clf_lr.predict_proba(df_test_null_sc)[:,1]>cutoff).astype(int)\n",
    "answ_df.to_csv('PD-submit.csv',index=False, sep=';')"
   ]
  },
  {
   "cell_type": "markdown",
   "metadata": {},
   "source": [
    "Используем параметр class_weight для метода опорных векторов - результаты стали хуже"
   ]
  },
  {
   "cell_type": "code",
   "execution_count": 108,
   "metadata": {
    "collapsed": true
   },
   "outputs": [
    {
     "name": "stdout",
     "output_type": "stream",
     "text": [
      "Fitting 5 folds for each of 80 candidates, totalling 400 fits\n"
     ]
    },
    {
     "name": "stderr",
     "output_type": "stream",
     "text": [
      "[Parallel(n_jobs=-1)]: Using backend LokyBackend with 16 concurrent workers.\n",
      "[Parallel(n_jobs=-1)]: Done   9 tasks      | elapsed:   57.1s\n"
     ]
    },
    {
     "ename": "KeyboardInterrupt",
     "evalue": "",
     "output_type": "error",
     "traceback": [
      "\u001b[0;31m---------------------------------------------------------------------------\u001b[0m",
      "\u001b[0;31mKeyboardInterrupt\u001b[0m                         Traceback (most recent call last)",
      "\u001b[0;32m<ipython-input-108-14b4eb47a2a1>\u001b[0m in \u001b[0;36m<module>\u001b[0;34m\u001b[0m\n\u001b[1;32m      8\u001b[0m \u001b[0;31m#               'probability': ['True']}\u001b[0m\u001b[0;34m\u001b[0m\u001b[0;34m\u001b[0m\u001b[0;34m\u001b[0m\u001b[0m\n\u001b[1;32m      9\u001b[0m \u001b[0msvc_grid\u001b[0m \u001b[0;34m=\u001b[0m \u001b[0mGridSearchCV\u001b[0m\u001b[0;34m(\u001b[0m\u001b[0mSVC\u001b[0m\u001b[0;34m(\u001b[0m\u001b[0;34m)\u001b[0m\u001b[0;34m,\u001b[0m \u001b[0mparam_grid\u001b[0m\u001b[0;34m,\u001b[0m \u001b[0mrefit\u001b[0m\u001b[0;34m=\u001b[0m\u001b[0;32mTrue\u001b[0m\u001b[0;34m,\u001b[0m \u001b[0mverbose\u001b[0m\u001b[0;34m=\u001b[0m\u001b[0;36m2\u001b[0m\u001b[0;34m,\u001b[0m \u001b[0mn_jobs\u001b[0m\u001b[0;34m=\u001b[0m\u001b[0;34m-\u001b[0m\u001b[0;36m1\u001b[0m\u001b[0;34m)\u001b[0m\u001b[0;34m\u001b[0m\u001b[0;34m\u001b[0m\u001b[0m\n\u001b[0;32m---> 10\u001b[0;31m \u001b[0msvc_grid\u001b[0m\u001b[0;34m.\u001b[0m\u001b[0mfit\u001b[0m\u001b[0;34m(\u001b[0m\u001b[0mreg_train\u001b[0m\u001b[0;34m,\u001b[0m \u001b[0mtrain_df\u001b[0m\u001b[0;34m[\u001b[0m\u001b[0;34m'default_12m'\u001b[0m\u001b[0;34m]\u001b[0m\u001b[0;34m)\u001b[0m\u001b[0;34m\u001b[0m\u001b[0;34m\u001b[0m\u001b[0m\n\u001b[0m\u001b[1;32m     11\u001b[0m \u001b[0mget_best_score\u001b[0m\u001b[0;34m(\u001b[0m\u001b[0msvc_grid\u001b[0m\u001b[0;34m)\u001b[0m\u001b[0;34m\u001b[0m\u001b[0;34m\u001b[0m\u001b[0m\n",
      "\u001b[0;32m/opt/anaconda3/lib/python3.7/site-packages/sklearn/model_selection/_search.py\u001b[0m in \u001b[0;36mfit\u001b[0;34m(self, X, y, groups, **fit_params)\u001b[0m\n\u001b[1;32m    708\u001b[0m                 \u001b[0;32mreturn\u001b[0m \u001b[0mresults\u001b[0m\u001b[0;34m\u001b[0m\u001b[0;34m\u001b[0m\u001b[0m\n\u001b[1;32m    709\u001b[0m \u001b[0;34m\u001b[0m\u001b[0m\n\u001b[0;32m--> 710\u001b[0;31m             \u001b[0mself\u001b[0m\u001b[0;34m.\u001b[0m\u001b[0m_run_search\u001b[0m\u001b[0;34m(\u001b[0m\u001b[0mevaluate_candidates\u001b[0m\u001b[0;34m)\u001b[0m\u001b[0;34m\u001b[0m\u001b[0;34m\u001b[0m\u001b[0m\n\u001b[0m\u001b[1;32m    711\u001b[0m \u001b[0;34m\u001b[0m\u001b[0m\n\u001b[1;32m    712\u001b[0m         \u001b[0;31m# For multi-metric evaluation, store the best_index_, best_params_ and\u001b[0m\u001b[0;34m\u001b[0m\u001b[0;34m\u001b[0m\u001b[0;34m\u001b[0m\u001b[0m\n",
      "\u001b[0;32m/opt/anaconda3/lib/python3.7/site-packages/sklearn/model_selection/_search.py\u001b[0m in \u001b[0;36m_run_search\u001b[0;34m(self, evaluate_candidates)\u001b[0m\n\u001b[1;32m   1149\u001b[0m     \u001b[0;32mdef\u001b[0m \u001b[0m_run_search\u001b[0m\u001b[0;34m(\u001b[0m\u001b[0mself\u001b[0m\u001b[0;34m,\u001b[0m \u001b[0mevaluate_candidates\u001b[0m\u001b[0;34m)\u001b[0m\u001b[0;34m:\u001b[0m\u001b[0;34m\u001b[0m\u001b[0;34m\u001b[0m\u001b[0m\n\u001b[1;32m   1150\u001b[0m         \u001b[0;34m\"\"\"Search all candidates in param_grid\"\"\"\u001b[0m\u001b[0;34m\u001b[0m\u001b[0;34m\u001b[0m\u001b[0m\n\u001b[0;32m-> 1151\u001b[0;31m         \u001b[0mevaluate_candidates\u001b[0m\u001b[0;34m(\u001b[0m\u001b[0mParameterGrid\u001b[0m\u001b[0;34m(\u001b[0m\u001b[0mself\u001b[0m\u001b[0;34m.\u001b[0m\u001b[0mparam_grid\u001b[0m\u001b[0;34m)\u001b[0m\u001b[0;34m)\u001b[0m\u001b[0;34m\u001b[0m\u001b[0;34m\u001b[0m\u001b[0m\n\u001b[0m\u001b[1;32m   1152\u001b[0m \u001b[0;34m\u001b[0m\u001b[0m\n\u001b[1;32m   1153\u001b[0m \u001b[0;34m\u001b[0m\u001b[0m\n",
      "\u001b[0;32m/opt/anaconda3/lib/python3.7/site-packages/sklearn/model_selection/_search.py\u001b[0m in \u001b[0;36mevaluate_candidates\u001b[0;34m(candidate_params)\u001b[0m\n\u001b[1;32m    687\u001b[0m                                \u001b[0;32mfor\u001b[0m \u001b[0mparameters\u001b[0m\u001b[0;34m,\u001b[0m \u001b[0;34m(\u001b[0m\u001b[0mtrain\u001b[0m\u001b[0;34m,\u001b[0m \u001b[0mtest\u001b[0m\u001b[0;34m)\u001b[0m\u001b[0;34m\u001b[0m\u001b[0;34m\u001b[0m\u001b[0m\n\u001b[1;32m    688\u001b[0m                                in product(candidate_params,\n\u001b[0;32m--> 689\u001b[0;31m                                           cv.split(X, y, groups)))\n\u001b[0m\u001b[1;32m    690\u001b[0m \u001b[0;34m\u001b[0m\u001b[0m\n\u001b[1;32m    691\u001b[0m                 \u001b[0;32mif\u001b[0m \u001b[0mlen\u001b[0m\u001b[0;34m(\u001b[0m\u001b[0mout\u001b[0m\u001b[0;34m)\u001b[0m \u001b[0;34m<\u001b[0m \u001b[0;36m1\u001b[0m\u001b[0;34m:\u001b[0m\u001b[0;34m\u001b[0m\u001b[0;34m\u001b[0m\u001b[0m\n",
      "\u001b[0;32m/opt/anaconda3/lib/python3.7/site-packages/joblib/parallel.py\u001b[0m in \u001b[0;36m__call__\u001b[0;34m(self, iterable)\u001b[0m\n\u001b[1;32m   1015\u001b[0m \u001b[0;34m\u001b[0m\u001b[0m\n\u001b[1;32m   1016\u001b[0m             \u001b[0;32mwith\u001b[0m \u001b[0mself\u001b[0m\u001b[0;34m.\u001b[0m\u001b[0m_backend\u001b[0m\u001b[0;34m.\u001b[0m\u001b[0mretrieval_context\u001b[0m\u001b[0;34m(\u001b[0m\u001b[0;34m)\u001b[0m\u001b[0;34m:\u001b[0m\u001b[0;34m\u001b[0m\u001b[0;34m\u001b[0m\u001b[0m\n\u001b[0;32m-> 1017\u001b[0;31m                 \u001b[0mself\u001b[0m\u001b[0;34m.\u001b[0m\u001b[0mretrieve\u001b[0m\u001b[0;34m(\u001b[0m\u001b[0;34m)\u001b[0m\u001b[0;34m\u001b[0m\u001b[0;34m\u001b[0m\u001b[0m\n\u001b[0m\u001b[1;32m   1018\u001b[0m             \u001b[0;31m# Make sure that we get a last message telling us we are done\u001b[0m\u001b[0;34m\u001b[0m\u001b[0;34m\u001b[0m\u001b[0;34m\u001b[0m\u001b[0m\n\u001b[1;32m   1019\u001b[0m             \u001b[0melapsed_time\u001b[0m \u001b[0;34m=\u001b[0m \u001b[0mtime\u001b[0m\u001b[0;34m.\u001b[0m\u001b[0mtime\u001b[0m\u001b[0;34m(\u001b[0m\u001b[0;34m)\u001b[0m \u001b[0;34m-\u001b[0m \u001b[0mself\u001b[0m\u001b[0;34m.\u001b[0m\u001b[0m_start_time\u001b[0m\u001b[0;34m\u001b[0m\u001b[0;34m\u001b[0m\u001b[0m\n",
      "\u001b[0;32m/opt/anaconda3/lib/python3.7/site-packages/joblib/parallel.py\u001b[0m in \u001b[0;36mretrieve\u001b[0;34m(self)\u001b[0m\n\u001b[1;32m    907\u001b[0m             \u001b[0;32mtry\u001b[0m\u001b[0;34m:\u001b[0m\u001b[0;34m\u001b[0m\u001b[0;34m\u001b[0m\u001b[0m\n\u001b[1;32m    908\u001b[0m                 \u001b[0;32mif\u001b[0m \u001b[0mgetattr\u001b[0m\u001b[0;34m(\u001b[0m\u001b[0mself\u001b[0m\u001b[0;34m.\u001b[0m\u001b[0m_backend\u001b[0m\u001b[0;34m,\u001b[0m \u001b[0;34m'supports_timeout'\u001b[0m\u001b[0;34m,\u001b[0m \u001b[0;32mFalse\u001b[0m\u001b[0;34m)\u001b[0m\u001b[0;34m:\u001b[0m\u001b[0;34m\u001b[0m\u001b[0;34m\u001b[0m\u001b[0m\n\u001b[0;32m--> 909\u001b[0;31m                     \u001b[0mself\u001b[0m\u001b[0;34m.\u001b[0m\u001b[0m_output\u001b[0m\u001b[0;34m.\u001b[0m\u001b[0mextend\u001b[0m\u001b[0;34m(\u001b[0m\u001b[0mjob\u001b[0m\u001b[0;34m.\u001b[0m\u001b[0mget\u001b[0m\u001b[0;34m(\u001b[0m\u001b[0mtimeout\u001b[0m\u001b[0;34m=\u001b[0m\u001b[0mself\u001b[0m\u001b[0;34m.\u001b[0m\u001b[0mtimeout\u001b[0m\u001b[0;34m)\u001b[0m\u001b[0;34m)\u001b[0m\u001b[0;34m\u001b[0m\u001b[0;34m\u001b[0m\u001b[0m\n\u001b[0m\u001b[1;32m    910\u001b[0m                 \u001b[0;32melse\u001b[0m\u001b[0;34m:\u001b[0m\u001b[0;34m\u001b[0m\u001b[0;34m\u001b[0m\u001b[0m\n\u001b[1;32m    911\u001b[0m                     \u001b[0mself\u001b[0m\u001b[0;34m.\u001b[0m\u001b[0m_output\u001b[0m\u001b[0;34m.\u001b[0m\u001b[0mextend\u001b[0m\u001b[0;34m(\u001b[0m\u001b[0mjob\u001b[0m\u001b[0;34m.\u001b[0m\u001b[0mget\u001b[0m\u001b[0;34m(\u001b[0m\u001b[0;34m)\u001b[0m\u001b[0;34m)\u001b[0m\u001b[0;34m\u001b[0m\u001b[0;34m\u001b[0m\u001b[0m\n",
      "\u001b[0;32m/opt/anaconda3/lib/python3.7/site-packages/joblib/_parallel_backends.py\u001b[0m in \u001b[0;36mwrap_future_result\u001b[0;34m(future, timeout)\u001b[0m\n\u001b[1;32m    560\u001b[0m         AsyncResults.get from multiprocessing.\"\"\"\n\u001b[1;32m    561\u001b[0m         \u001b[0;32mtry\u001b[0m\u001b[0;34m:\u001b[0m\u001b[0;34m\u001b[0m\u001b[0;34m\u001b[0m\u001b[0m\n\u001b[0;32m--> 562\u001b[0;31m             \u001b[0;32mreturn\u001b[0m \u001b[0mfuture\u001b[0m\u001b[0;34m.\u001b[0m\u001b[0mresult\u001b[0m\u001b[0;34m(\u001b[0m\u001b[0mtimeout\u001b[0m\u001b[0;34m=\u001b[0m\u001b[0mtimeout\u001b[0m\u001b[0;34m)\u001b[0m\u001b[0;34m\u001b[0m\u001b[0;34m\u001b[0m\u001b[0m\n\u001b[0m\u001b[1;32m    563\u001b[0m         \u001b[0;32mexcept\u001b[0m \u001b[0mLokyTimeoutError\u001b[0m\u001b[0;34m:\u001b[0m\u001b[0;34m\u001b[0m\u001b[0;34m\u001b[0m\u001b[0m\n\u001b[1;32m    564\u001b[0m             \u001b[0;32mraise\u001b[0m \u001b[0mTimeoutError\u001b[0m\u001b[0;34m(\u001b[0m\u001b[0;34m)\u001b[0m\u001b[0;34m\u001b[0m\u001b[0;34m\u001b[0m\u001b[0m\n",
      "\u001b[0;32m/opt/anaconda3/lib/python3.7/concurrent/futures/_base.py\u001b[0m in \u001b[0;36mresult\u001b[0;34m(self, timeout)\u001b[0m\n\u001b[1;32m    428\u001b[0m                 \u001b[0;32mreturn\u001b[0m \u001b[0mself\u001b[0m\u001b[0;34m.\u001b[0m\u001b[0m__get_result\u001b[0m\u001b[0;34m(\u001b[0m\u001b[0;34m)\u001b[0m\u001b[0;34m\u001b[0m\u001b[0;34m\u001b[0m\u001b[0m\n\u001b[1;32m    429\u001b[0m \u001b[0;34m\u001b[0m\u001b[0m\n\u001b[0;32m--> 430\u001b[0;31m             \u001b[0mself\u001b[0m\u001b[0;34m.\u001b[0m\u001b[0m_condition\u001b[0m\u001b[0;34m.\u001b[0m\u001b[0mwait\u001b[0m\u001b[0;34m(\u001b[0m\u001b[0mtimeout\u001b[0m\u001b[0;34m)\u001b[0m\u001b[0;34m\u001b[0m\u001b[0;34m\u001b[0m\u001b[0m\n\u001b[0m\u001b[1;32m    431\u001b[0m \u001b[0;34m\u001b[0m\u001b[0m\n\u001b[1;32m    432\u001b[0m             \u001b[0;32mif\u001b[0m \u001b[0mself\u001b[0m\u001b[0;34m.\u001b[0m\u001b[0m_state\u001b[0m \u001b[0;32min\u001b[0m \u001b[0;34m[\u001b[0m\u001b[0mCANCELLED\u001b[0m\u001b[0;34m,\u001b[0m \u001b[0mCANCELLED_AND_NOTIFIED\u001b[0m\u001b[0;34m]\u001b[0m\u001b[0;34m:\u001b[0m\u001b[0;34m\u001b[0m\u001b[0;34m\u001b[0m\u001b[0m\n",
      "\u001b[0;32m/opt/anaconda3/lib/python3.7/threading.py\u001b[0m in \u001b[0;36mwait\u001b[0;34m(self, timeout)\u001b[0m\n\u001b[1;32m    294\u001b[0m         \u001b[0;32mtry\u001b[0m\u001b[0;34m:\u001b[0m    \u001b[0;31m# restore state no matter what (e.g., KeyboardInterrupt)\u001b[0m\u001b[0;34m\u001b[0m\u001b[0;34m\u001b[0m\u001b[0m\n\u001b[1;32m    295\u001b[0m             \u001b[0;32mif\u001b[0m \u001b[0mtimeout\u001b[0m \u001b[0;32mis\u001b[0m \u001b[0;32mNone\u001b[0m\u001b[0;34m:\u001b[0m\u001b[0;34m\u001b[0m\u001b[0;34m\u001b[0m\u001b[0m\n\u001b[0;32m--> 296\u001b[0;31m                 \u001b[0mwaiter\u001b[0m\u001b[0;34m.\u001b[0m\u001b[0macquire\u001b[0m\u001b[0;34m(\u001b[0m\u001b[0;34m)\u001b[0m\u001b[0;34m\u001b[0m\u001b[0;34m\u001b[0m\u001b[0m\n\u001b[0m\u001b[1;32m    297\u001b[0m                 \u001b[0mgotit\u001b[0m \u001b[0;34m=\u001b[0m \u001b[0;32mTrue\u001b[0m\u001b[0;34m\u001b[0m\u001b[0;34m\u001b[0m\u001b[0m\n\u001b[1;32m    298\u001b[0m             \u001b[0;32melse\u001b[0m\u001b[0;34m:\u001b[0m\u001b[0;34m\u001b[0m\u001b[0;34m\u001b[0m\u001b[0m\n",
      "\u001b[0;31mKeyboardInterrupt\u001b[0m: "
     ]
    }
   ],
   "source": [
    "from sklearn.svm import SVC\n",
    "\n",
    "model = SVC()\n",
    "param_grid = {'C': [1, 5,10,20], #500,800,1000,1200,1500], \n",
    "              'gamma': [0.1, 0.01, 0.001, 0.0001, 0.00001], #,0.0001,0.00001,0.000001], \n",
    "              'kernel': ['linear', 'poly', 'rbf', 'sigmoid'], \n",
    "              'class_weight': [{0:1, 1:2}], 'random_state': [42]} \n",
    "#               'probability': ['True']}\n",
    "svc_grid = GridSearchCV(model, param_grid, refit=True, verbose=2, n_jobs=-1)\n",
    "svc_grid.fit(reg_train, train_df['default_12m'])\n",
    "get_best_score(svc_grid)"
   ]
  },
  {
   "cell_type": "code",
   "execution_count": 83,
   "metadata": {},
   "outputs": [],
   "source": [
    "answ_df['predict'] = (svc_grid.predict_proba(test_df_new_reg.loc[:, features_clear])[:,1]>cutoff).astype(int)\n",
    "answ_df.to_csv('PD-submit.csv',index=False, sep=';')"
   ]
  },
  {
   "cell_type": "code",
   "execution_count": 152,
   "metadata": {
    "collapsed": true
   },
   "outputs": [
    {
     "name": "stdout",
     "output_type": "stream",
     "text": [
      "<class 'pandas.core.frame.DataFrame'>\n",
      "RangeIndex: 32395 entries, 0 to 32394\n",
      "Data columns (total 37 columns):\n",
      " #   Column                        Non-Null Count  Dtype  \n",
      "---  ------                        --------------  -----  \n",
      " 0   record_id                     32395 non-null  int64  \n",
      " 1   ar_revenue                    17250 non-null  float64\n",
      " 2   ar_total_expenses             17250 non-null  float64\n",
      " 3   ar_sale_cost                  17250 non-null  float64\n",
      " 4   ar_selling_expenses           17250 non-null  float64\n",
      " 5   ar_management_expenses        17250 non-null  float64\n",
      " 6   ar_sale_profit                17250 non-null  float64\n",
      " 7   ar_balance_of_rvns_and_expns  17250 non-null  float64\n",
      " 8   ar_profit_before_tax          17250 non-null  float64\n",
      " 9   ar_taxes                      17250 non-null  float64\n",
      " 10  ar_other_profit_and_losses    17250 non-null  float64\n",
      " 11  ar_net_profit                 17250 non-null  float64\n",
      " 12  ab_immobilized_assets         17250 non-null  float64\n",
      " 13  ab_mobile_current_assets      17250 non-null  float64\n",
      " 14  ab_inventory                  17250 non-null  float64\n",
      " 15  ab_accounts_receivable        17250 non-null  float64\n",
      " 16  ab_other_current_assets       17250 non-null  float64\n",
      " 17  ab_cash_and_securities        17250 non-null  float64\n",
      " 18  ab_losses                     17250 non-null  float64\n",
      " 19  ab_own_capital                17250 non-null  float64\n",
      " 20  ab_borrowed_capital           17250 non-null  float64\n",
      " 21  ab_long_term_liabilities      17250 non-null  float64\n",
      " 22  ab_short_term_borrowing       17250 non-null  float64\n",
      " 23  ab_accounts_payable           17250 non-null  float64\n",
      " 24  ab_other_borrowings           17250 non-null  float64\n",
      " 25  bus_age                       32395 non-null  int64  \n",
      " 26  ogrn_age                      32395 non-null  int64  \n",
      " 27  adr_actual_age                32395 non-null  int64  \n",
      " 28  head_actual_age               32395 non-null  int64  \n",
      " 29  cap_actual_age                32395 non-null  int64  \n",
      " 30  ul_staff_range                32395 non-null  object \n",
      " 31  ul_capital_sum                32395 non-null  float64\n",
      " 32  ul_founders_cnt               32395 non-null  int64  \n",
      " 33  ul_branch_cnt                 32395 non-null  int64  \n",
      " 34  ul_strategic_flg              32395 non-null  int64  \n",
      " 35  ul_systematizing_flg          32395 non-null  int64  \n",
      " 36  default_12m                   32395 non-null  int64  \n",
      "dtypes: float64(25), int64(11), object(1)\n",
      "memory usage: 9.1+ MB\n"
     ]
    }
   ],
   "source": [
    "train_df.info()"
   ]
  },
  {
   "cell_type": "markdown",
   "metadata": {},
   "source": [
    "Для несбалансированных классов попробую SGDClassifier"
   ]
  },
  {
   "cell_type": "code",
   "execution_count": 58,
   "metadata": {
    "collapsed": true
   },
   "outputs": [
    {
     "name": "stdout",
     "output_type": "stream",
     "text": [
      "Fitting 5 folds for each of 5 candidates, totalling 25 fits\n"
     ]
    },
    {
     "name": "stderr",
     "output_type": "stream",
     "text": [
      "[Parallel(n_jobs=-1)]: Using backend LokyBackend with 16 concurrent workers.\n",
      "[Parallel(n_jobs=-1)]: Done   6 out of  25 | elapsed:    0.1s remaining:    0.4s\n",
      "[Parallel(n_jobs=-1)]: Done  12 out of  25 | elapsed:    0.1s remaining:    0.1s\n",
      "[Parallel(n_jobs=-1)]: Done  18 out of  25 | elapsed:    0.1s remaining:    0.0s\n"
     ]
    },
    {
     "ename": "TerminatedWorkerError",
     "evalue": "A worker process managed by the executor was unexpectedly terminated. This could be caused by a segmentation fault while calling the function or by an excessive memory usage causing the Operating System to kill the worker. The exit codes of the workers are {SIGABRT(-6), SIGABRT(-6), SIGABRT(-6), SIGABRT(-6), SIGABRT(-6), SIGABRT(-6), SIGABRT(-6), SIGABRT(-6), SIGABRT(-6), SIGABRT(-6), SIGABRT(-6), SIGABRT(-6), SIGABRT(-6), SIGABRT(-6), SIGABRT(-6), SIGABRT(-6)}",
     "output_type": "error",
     "traceback": [
      "\u001b[0;31m---------------------------------------------------------------------------\u001b[0m",
      "\u001b[0;31mTerminatedWorkerError\u001b[0m                     Traceback (most recent call last)",
      "\u001b[0;32m<ipython-input-58-faa8ca5c8f0c>\u001b[0m in \u001b[0;36m<module>\u001b[0;34m\u001b[0m\n\u001b[1;32m      5\u001b[0m \u001b[0;31m#               'probability': ['True']}\u001b[0m\u001b[0;34m\u001b[0m\u001b[0;34m\u001b[0m\u001b[0;34m\u001b[0m\u001b[0m\n\u001b[1;32m      6\u001b[0m \u001b[0msvc_grid\u001b[0m \u001b[0;34m=\u001b[0m \u001b[0mGridSearchCV\u001b[0m\u001b[0;34m(\u001b[0m\u001b[0mmodel\u001b[0m\u001b[0;34m,\u001b[0m \u001b[0mparam_grid\u001b[0m\u001b[0;34m,\u001b[0m \u001b[0mrefit\u001b[0m\u001b[0;34m=\u001b[0m\u001b[0;32mTrue\u001b[0m\u001b[0;34m,\u001b[0m \u001b[0mverbose\u001b[0m\u001b[0;34m=\u001b[0m\u001b[0;36m5\u001b[0m\u001b[0;34m,\u001b[0m \u001b[0mn_jobs\u001b[0m\u001b[0;34m=\u001b[0m\u001b[0;34m-\u001b[0m\u001b[0;36m1\u001b[0m\u001b[0;34m)\u001b[0m\u001b[0;34m\u001b[0m\u001b[0;34m\u001b[0m\u001b[0m\n\u001b[0;32m----> 7\u001b[0;31m \u001b[0msvc_grid\u001b[0m\u001b[0;34m.\u001b[0m\u001b[0mfit\u001b[0m\u001b[0;34m(\u001b[0m\u001b[0mreg_train\u001b[0m\u001b[0;34m,\u001b[0m \u001b[0mtrain_df\u001b[0m\u001b[0;34m[\u001b[0m\u001b[0;34m'default_12m'\u001b[0m\u001b[0;34m]\u001b[0m\u001b[0;34m)\u001b[0m\u001b[0;34m\u001b[0m\u001b[0;34m\u001b[0m\u001b[0m\n\u001b[0m\u001b[1;32m      8\u001b[0m \u001b[0mget_best_score\u001b[0m\u001b[0;34m(\u001b[0m\u001b[0msvc_grid\u001b[0m\u001b[0;34m)\u001b[0m\u001b[0;34m\u001b[0m\u001b[0;34m\u001b[0m\u001b[0m\n",
      "\u001b[0;32m/opt/anaconda3/lib/python3.7/site-packages/sklearn/model_selection/_search.py\u001b[0m in \u001b[0;36mfit\u001b[0;34m(self, X, y, groups, **fit_params)\u001b[0m\n\u001b[1;32m    708\u001b[0m                 \u001b[0;32mreturn\u001b[0m \u001b[0mresults\u001b[0m\u001b[0;34m\u001b[0m\u001b[0;34m\u001b[0m\u001b[0m\n\u001b[1;32m    709\u001b[0m \u001b[0;34m\u001b[0m\u001b[0m\n\u001b[0;32m--> 710\u001b[0;31m             \u001b[0mself\u001b[0m\u001b[0;34m.\u001b[0m\u001b[0m_run_search\u001b[0m\u001b[0;34m(\u001b[0m\u001b[0mevaluate_candidates\u001b[0m\u001b[0;34m)\u001b[0m\u001b[0;34m\u001b[0m\u001b[0;34m\u001b[0m\u001b[0m\n\u001b[0m\u001b[1;32m    711\u001b[0m \u001b[0;34m\u001b[0m\u001b[0m\n\u001b[1;32m    712\u001b[0m         \u001b[0;31m# For multi-metric evaluation, store the best_index_, best_params_ and\u001b[0m\u001b[0;34m\u001b[0m\u001b[0;34m\u001b[0m\u001b[0;34m\u001b[0m\u001b[0m\n",
      "\u001b[0;32m/opt/anaconda3/lib/python3.7/site-packages/sklearn/model_selection/_search.py\u001b[0m in \u001b[0;36m_run_search\u001b[0;34m(self, evaluate_candidates)\u001b[0m\n\u001b[1;32m   1149\u001b[0m     \u001b[0;32mdef\u001b[0m \u001b[0m_run_search\u001b[0m\u001b[0;34m(\u001b[0m\u001b[0mself\u001b[0m\u001b[0;34m,\u001b[0m \u001b[0mevaluate_candidates\u001b[0m\u001b[0;34m)\u001b[0m\u001b[0;34m:\u001b[0m\u001b[0;34m\u001b[0m\u001b[0;34m\u001b[0m\u001b[0m\n\u001b[1;32m   1150\u001b[0m         \u001b[0;34m\"\"\"Search all candidates in param_grid\"\"\"\u001b[0m\u001b[0;34m\u001b[0m\u001b[0;34m\u001b[0m\u001b[0m\n\u001b[0;32m-> 1151\u001b[0;31m         \u001b[0mevaluate_candidates\u001b[0m\u001b[0;34m(\u001b[0m\u001b[0mParameterGrid\u001b[0m\u001b[0;34m(\u001b[0m\u001b[0mself\u001b[0m\u001b[0;34m.\u001b[0m\u001b[0mparam_grid\u001b[0m\u001b[0;34m)\u001b[0m\u001b[0;34m)\u001b[0m\u001b[0;34m\u001b[0m\u001b[0;34m\u001b[0m\u001b[0m\n\u001b[0m\u001b[1;32m   1152\u001b[0m \u001b[0;34m\u001b[0m\u001b[0m\n\u001b[1;32m   1153\u001b[0m \u001b[0;34m\u001b[0m\u001b[0m\n",
      "\u001b[0;32m/opt/anaconda3/lib/python3.7/site-packages/sklearn/model_selection/_search.py\u001b[0m in \u001b[0;36mevaluate_candidates\u001b[0;34m(candidate_params)\u001b[0m\n\u001b[1;32m    687\u001b[0m                                \u001b[0;32mfor\u001b[0m \u001b[0mparameters\u001b[0m\u001b[0;34m,\u001b[0m \u001b[0;34m(\u001b[0m\u001b[0mtrain\u001b[0m\u001b[0;34m,\u001b[0m \u001b[0mtest\u001b[0m\u001b[0;34m)\u001b[0m\u001b[0;34m\u001b[0m\u001b[0;34m\u001b[0m\u001b[0m\n\u001b[1;32m    688\u001b[0m                                in product(candidate_params,\n\u001b[0;32m--> 689\u001b[0;31m                                           cv.split(X, y, groups)))\n\u001b[0m\u001b[1;32m    690\u001b[0m \u001b[0;34m\u001b[0m\u001b[0m\n\u001b[1;32m    691\u001b[0m                 \u001b[0;32mif\u001b[0m \u001b[0mlen\u001b[0m\u001b[0;34m(\u001b[0m\u001b[0mout\u001b[0m\u001b[0;34m)\u001b[0m \u001b[0;34m<\u001b[0m \u001b[0;36m1\u001b[0m\u001b[0;34m:\u001b[0m\u001b[0;34m\u001b[0m\u001b[0;34m\u001b[0m\u001b[0m\n",
      "\u001b[0;32m/opt/anaconda3/lib/python3.7/site-packages/joblib/parallel.py\u001b[0m in \u001b[0;36m__call__\u001b[0;34m(self, iterable)\u001b[0m\n\u001b[1;32m   1015\u001b[0m \u001b[0;34m\u001b[0m\u001b[0m\n\u001b[1;32m   1016\u001b[0m             \u001b[0;32mwith\u001b[0m \u001b[0mself\u001b[0m\u001b[0;34m.\u001b[0m\u001b[0m_backend\u001b[0m\u001b[0;34m.\u001b[0m\u001b[0mretrieval_context\u001b[0m\u001b[0;34m(\u001b[0m\u001b[0;34m)\u001b[0m\u001b[0;34m:\u001b[0m\u001b[0;34m\u001b[0m\u001b[0;34m\u001b[0m\u001b[0m\n\u001b[0;32m-> 1017\u001b[0;31m                 \u001b[0mself\u001b[0m\u001b[0;34m.\u001b[0m\u001b[0mretrieve\u001b[0m\u001b[0;34m(\u001b[0m\u001b[0;34m)\u001b[0m\u001b[0;34m\u001b[0m\u001b[0;34m\u001b[0m\u001b[0m\n\u001b[0m\u001b[1;32m   1018\u001b[0m             \u001b[0;31m# Make sure that we get a last message telling us we are done\u001b[0m\u001b[0;34m\u001b[0m\u001b[0;34m\u001b[0m\u001b[0;34m\u001b[0m\u001b[0m\n\u001b[1;32m   1019\u001b[0m             \u001b[0melapsed_time\u001b[0m \u001b[0;34m=\u001b[0m \u001b[0mtime\u001b[0m\u001b[0;34m.\u001b[0m\u001b[0mtime\u001b[0m\u001b[0;34m(\u001b[0m\u001b[0;34m)\u001b[0m \u001b[0;34m-\u001b[0m \u001b[0mself\u001b[0m\u001b[0;34m.\u001b[0m\u001b[0m_start_time\u001b[0m\u001b[0;34m\u001b[0m\u001b[0;34m\u001b[0m\u001b[0m\n",
      "\u001b[0;32m/opt/anaconda3/lib/python3.7/site-packages/joblib/parallel.py\u001b[0m in \u001b[0;36mretrieve\u001b[0;34m(self)\u001b[0m\n\u001b[1;32m    907\u001b[0m             \u001b[0;32mtry\u001b[0m\u001b[0;34m:\u001b[0m\u001b[0;34m\u001b[0m\u001b[0;34m\u001b[0m\u001b[0m\n\u001b[1;32m    908\u001b[0m                 \u001b[0;32mif\u001b[0m \u001b[0mgetattr\u001b[0m\u001b[0;34m(\u001b[0m\u001b[0mself\u001b[0m\u001b[0;34m.\u001b[0m\u001b[0m_backend\u001b[0m\u001b[0;34m,\u001b[0m \u001b[0;34m'supports_timeout'\u001b[0m\u001b[0;34m,\u001b[0m \u001b[0;32mFalse\u001b[0m\u001b[0;34m)\u001b[0m\u001b[0;34m:\u001b[0m\u001b[0;34m\u001b[0m\u001b[0;34m\u001b[0m\u001b[0m\n\u001b[0;32m--> 909\u001b[0;31m                     \u001b[0mself\u001b[0m\u001b[0;34m.\u001b[0m\u001b[0m_output\u001b[0m\u001b[0;34m.\u001b[0m\u001b[0mextend\u001b[0m\u001b[0;34m(\u001b[0m\u001b[0mjob\u001b[0m\u001b[0;34m.\u001b[0m\u001b[0mget\u001b[0m\u001b[0;34m(\u001b[0m\u001b[0mtimeout\u001b[0m\u001b[0;34m=\u001b[0m\u001b[0mself\u001b[0m\u001b[0;34m.\u001b[0m\u001b[0mtimeout\u001b[0m\u001b[0;34m)\u001b[0m\u001b[0;34m)\u001b[0m\u001b[0;34m\u001b[0m\u001b[0;34m\u001b[0m\u001b[0m\n\u001b[0m\u001b[1;32m    910\u001b[0m                 \u001b[0;32melse\u001b[0m\u001b[0;34m:\u001b[0m\u001b[0;34m\u001b[0m\u001b[0;34m\u001b[0m\u001b[0m\n\u001b[1;32m    911\u001b[0m                     \u001b[0mself\u001b[0m\u001b[0;34m.\u001b[0m\u001b[0m_output\u001b[0m\u001b[0;34m.\u001b[0m\u001b[0mextend\u001b[0m\u001b[0;34m(\u001b[0m\u001b[0mjob\u001b[0m\u001b[0;34m.\u001b[0m\u001b[0mget\u001b[0m\u001b[0;34m(\u001b[0m\u001b[0;34m)\u001b[0m\u001b[0;34m)\u001b[0m\u001b[0;34m\u001b[0m\u001b[0;34m\u001b[0m\u001b[0m\n",
      "\u001b[0;32m/opt/anaconda3/lib/python3.7/site-packages/joblib/_parallel_backends.py\u001b[0m in \u001b[0;36mwrap_future_result\u001b[0;34m(future, timeout)\u001b[0m\n\u001b[1;32m    560\u001b[0m         AsyncResults.get from multiprocessing.\"\"\"\n\u001b[1;32m    561\u001b[0m         \u001b[0;32mtry\u001b[0m\u001b[0;34m:\u001b[0m\u001b[0;34m\u001b[0m\u001b[0;34m\u001b[0m\u001b[0m\n\u001b[0;32m--> 562\u001b[0;31m             \u001b[0;32mreturn\u001b[0m \u001b[0mfuture\u001b[0m\u001b[0;34m.\u001b[0m\u001b[0mresult\u001b[0m\u001b[0;34m(\u001b[0m\u001b[0mtimeout\u001b[0m\u001b[0;34m=\u001b[0m\u001b[0mtimeout\u001b[0m\u001b[0;34m)\u001b[0m\u001b[0;34m\u001b[0m\u001b[0;34m\u001b[0m\u001b[0m\n\u001b[0m\u001b[1;32m    563\u001b[0m         \u001b[0;32mexcept\u001b[0m \u001b[0mLokyTimeoutError\u001b[0m\u001b[0;34m:\u001b[0m\u001b[0;34m\u001b[0m\u001b[0;34m\u001b[0m\u001b[0m\n\u001b[1;32m    564\u001b[0m             \u001b[0;32mraise\u001b[0m \u001b[0mTimeoutError\u001b[0m\u001b[0;34m(\u001b[0m\u001b[0;34m)\u001b[0m\u001b[0;34m\u001b[0m\u001b[0;34m\u001b[0m\u001b[0m\n",
      "\u001b[0;32m/opt/anaconda3/lib/python3.7/concurrent/futures/_base.py\u001b[0m in \u001b[0;36mresult\u001b[0;34m(self, timeout)\u001b[0m\n\u001b[1;32m    433\u001b[0m                 \u001b[0;32mraise\u001b[0m \u001b[0mCancelledError\u001b[0m\u001b[0;34m(\u001b[0m\u001b[0;34m)\u001b[0m\u001b[0;34m\u001b[0m\u001b[0;34m\u001b[0m\u001b[0m\n\u001b[1;32m    434\u001b[0m             \u001b[0;32melif\u001b[0m \u001b[0mself\u001b[0m\u001b[0;34m.\u001b[0m\u001b[0m_state\u001b[0m \u001b[0;34m==\u001b[0m \u001b[0mFINISHED\u001b[0m\u001b[0;34m:\u001b[0m\u001b[0;34m\u001b[0m\u001b[0;34m\u001b[0m\u001b[0m\n\u001b[0;32m--> 435\u001b[0;31m                 \u001b[0;32mreturn\u001b[0m \u001b[0mself\u001b[0m\u001b[0;34m.\u001b[0m\u001b[0m__get_result\u001b[0m\u001b[0;34m(\u001b[0m\u001b[0;34m)\u001b[0m\u001b[0;34m\u001b[0m\u001b[0;34m\u001b[0m\u001b[0m\n\u001b[0m\u001b[1;32m    436\u001b[0m             \u001b[0;32melse\u001b[0m\u001b[0;34m:\u001b[0m\u001b[0;34m\u001b[0m\u001b[0;34m\u001b[0m\u001b[0m\n\u001b[1;32m    437\u001b[0m                 \u001b[0;32mraise\u001b[0m \u001b[0mTimeoutError\u001b[0m\u001b[0;34m(\u001b[0m\u001b[0;34m)\u001b[0m\u001b[0;34m\u001b[0m\u001b[0;34m\u001b[0m\u001b[0m\n",
      "\u001b[0;32m/opt/anaconda3/lib/python3.7/concurrent/futures/_base.py\u001b[0m in \u001b[0;36m__get_result\u001b[0;34m(self)\u001b[0m\n\u001b[1;32m    382\u001b[0m     \u001b[0;32mdef\u001b[0m \u001b[0m__get_result\u001b[0m\u001b[0;34m(\u001b[0m\u001b[0mself\u001b[0m\u001b[0;34m)\u001b[0m\u001b[0;34m:\u001b[0m\u001b[0;34m\u001b[0m\u001b[0;34m\u001b[0m\u001b[0m\n\u001b[1;32m    383\u001b[0m         \u001b[0;32mif\u001b[0m \u001b[0mself\u001b[0m\u001b[0;34m.\u001b[0m\u001b[0m_exception\u001b[0m\u001b[0;34m:\u001b[0m\u001b[0;34m\u001b[0m\u001b[0;34m\u001b[0m\u001b[0m\n\u001b[0;32m--> 384\u001b[0;31m             \u001b[0;32mraise\u001b[0m \u001b[0mself\u001b[0m\u001b[0;34m.\u001b[0m\u001b[0m_exception\u001b[0m\u001b[0;34m\u001b[0m\u001b[0;34m\u001b[0m\u001b[0m\n\u001b[0m\u001b[1;32m    385\u001b[0m         \u001b[0;32melse\u001b[0m\u001b[0;34m:\u001b[0m\u001b[0;34m\u001b[0m\u001b[0;34m\u001b[0m\u001b[0m\n\u001b[1;32m    386\u001b[0m             \u001b[0;32mreturn\u001b[0m \u001b[0mself\u001b[0m\u001b[0;34m.\u001b[0m\u001b[0m_result\u001b[0m\u001b[0;34m\u001b[0m\u001b[0;34m\u001b[0m\u001b[0m\n",
      "\u001b[0;31mTerminatedWorkerError\u001b[0m: A worker process managed by the executor was unexpectedly terminated. This could be caused by a segmentation fault while calling the function or by an excessive memory usage causing the Operating System to kill the worker. The exit codes of the workers are {SIGABRT(-6), SIGABRT(-6), SIGABRT(-6), SIGABRT(-6), SIGABRT(-6), SIGABRT(-6), SIGABRT(-6), SIGABRT(-6), SIGABRT(-6), SIGABRT(-6), SIGABRT(-6), SIGABRT(-6), SIGABRT(-6), SIGABRT(-6), SIGABRT(-6), SIGABRT(-6)}"
     ]
    },
    {
     "name": "stderr",
     "output_type": "stream",
     "text": [
      "Exception in thread QueueFeederThread:\n",
      "Traceback (most recent call last):\n",
      "  File \"/opt/anaconda3/lib/python3.7/site-packages/joblib/externals/loky/backend/queues.py\", line 150, in _feed\n",
      "    obj_ = dumps(obj, reducers=reducers)\n",
      "  File \"/opt/anaconda3/lib/python3.7/site-packages/joblib/externals/loky/backend/reduction.py\", line 247, in dumps\n",
      "    dump(obj, buf, reducers=reducers, protocol=protocol)\n",
      "  File \"/opt/anaconda3/lib/python3.7/site-packages/joblib/externals/loky/backend/reduction.py\", line 240, in dump\n",
      "    _LokyPickler(file, reducers=reducers, protocol=protocol).dump(obj)\n",
      "  File \"/opt/anaconda3/lib/python3.7/site-packages/joblib/externals/cloudpickle/cloudpickle.py\", line 482, in dump\n",
      "    return Pickler.dump(self, obj)\n",
      "  File \"/opt/anaconda3/lib/python3.7/pickle.py\", line 437, in dump\n",
      "    self.save(obj)\n",
      "  File \"/opt/anaconda3/lib/python3.7/pickle.py\", line 549, in save\n",
      "    self.save_reduce(obj=obj, *rv)\n",
      "  File \"/opt/anaconda3/lib/python3.7/pickle.py\", line 662, in save_reduce\n",
      "    save(state)\n",
      "  File \"/opt/anaconda3/lib/python3.7/pickle.py\", line 504, in save\n",
      "    f(self, obj) # Call unbound method with explicit self\n",
      "  File \"/opt/anaconda3/lib/python3.7/pickle.py\", line 859, in save_dict\n",
      "    self._batch_setitems(obj.items())\n",
      "  File \"/opt/anaconda3/lib/python3.7/pickle.py\", line 885, in _batch_setitems\n",
      "    save(v)\n",
      "  File \"/opt/anaconda3/lib/python3.7/pickle.py\", line 549, in save\n",
      "    self.save_reduce(obj=obj, *rv)\n",
      "  File \"/opt/anaconda3/lib/python3.7/pickle.py\", line 662, in save_reduce\n",
      "    save(state)\n",
      "  File \"/opt/anaconda3/lib/python3.7/pickle.py\", line 504, in save\n",
      "    f(self, obj) # Call unbound method with explicit self\n",
      "  File \"/opt/anaconda3/lib/python3.7/pickle.py\", line 859, in save_dict\n",
      "    self._batch_setitems(obj.items())\n",
      "  File \"/opt/anaconda3/lib/python3.7/pickle.py\", line 890, in _batch_setitems\n",
      "    save(v)\n",
      "  File \"/opt/anaconda3/lib/python3.7/pickle.py\", line 549, in save\n",
      "    self.save_reduce(obj=obj, *rv)\n",
      "  File \"/opt/anaconda3/lib/python3.7/pickle.py\", line 662, in save_reduce\n",
      "    save(state)\n",
      "  File \"/opt/anaconda3/lib/python3.7/pickle.py\", line 504, in save\n",
      "    f(self, obj) # Call unbound method with explicit self\n",
      "  File \"/opt/anaconda3/lib/python3.7/pickle.py\", line 859, in save_dict\n",
      "    self._batch_setitems(obj.items())\n",
      "  File \"/opt/anaconda3/lib/python3.7/pickle.py\", line 885, in _batch_setitems\n",
      "    save(v)\n",
      "  File \"/opt/anaconda3/lib/python3.7/pickle.py\", line 504, in save\n",
      "    f(self, obj) # Call unbound method with explicit self\n",
      "  File \"/opt/anaconda3/lib/python3.7/pickle.py\", line 819, in save_list\n",
      "    self._batch_appends(obj)\n",
      "  File \"/opt/anaconda3/lib/python3.7/pickle.py\", line 846, in _batch_appends\n",
      "    save(tmp[0])\n",
      "  File \"/opt/anaconda3/lib/python3.7/pickle.py\", line 504, in save\n",
      "    f(self, obj) # Call unbound method with explicit self\n",
      "  File \"/opt/anaconda3/lib/python3.7/pickle.py\", line 774, in save_tuple\n",
      "    save(element)\n",
      "  File \"/opt/anaconda3/lib/python3.7/pickle.py\", line 504, in save\n",
      "    f(self, obj) # Call unbound method with explicit self\n",
      "  File \"/opt/anaconda3/lib/python3.7/pickle.py\", line 774, in save_tuple\n",
      "    save(element)\n",
      "  File \"/opt/anaconda3/lib/python3.7/pickle.py\", line 549, in save\n",
      "    self.save_reduce(obj=obj, *rv)\n",
      "  File \"/opt/anaconda3/lib/python3.7/pickle.py\", line 662, in save_reduce\n",
      "    save(state)\n",
      "  File \"/opt/anaconda3/lib/python3.7/pickle.py\", line 504, in save\n",
      "    f(self, obj) # Call unbound method with explicit self\n",
      "  File \"/opt/anaconda3/lib/python3.7/pickle.py\", line 859, in save_dict\n",
      "    self._batch_setitems(obj.items())\n",
      "  File \"/opt/anaconda3/lib/python3.7/pickle.py\", line 885, in _batch_setitems\n",
      "    save(v)\n",
      "  File \"/opt/anaconda3/lib/python3.7/pickle.py\", line 549, in save\n",
      "    self.save_reduce(obj=obj, *rv)\n",
      "  File \"/opt/anaconda3/lib/python3.7/pickle.py\", line 662, in save_reduce\n",
      "    save(state)\n",
      "  File \"/opt/anaconda3/lib/python3.7/pickle.py\", line 504, in save\n",
      "    f(self, obj) # Call unbound method with explicit self\n",
      "  File \"/opt/anaconda3/lib/python3.7/pickle.py\", line 789, in save_tuple\n",
      "    save(element)\n",
      "  File \"/opt/anaconda3/lib/python3.7/pickle.py\", line 504, in save\n",
      "    f(self, obj) # Call unbound method with explicit self\n",
      "  File \"/opt/anaconda3/lib/python3.7/pickle.py\", line 819, in save_list\n",
      "    self._batch_appends(obj)\n",
      "  File \"/opt/anaconda3/lib/python3.7/pickle.py\", line 843, in _batch_appends\n",
      "    save(x)\n",
      "  File \"/opt/anaconda3/lib/python3.7/pickle.py\", line 510, in save\n",
      "    rv = reduce(obj)\n",
      "  File \"/opt/anaconda3/lib/python3.7/site-packages/joblib/_memmapping_reducer.py\", line 340, in __call__\n",
      "    os.chmod(dumped_filename, FILE_PERMISSIONS)\n",
      "FileNotFoundError: [Errno 2] No such file or directory: '/var/folders/4q/15yfrln57dg4gvr38dd_vy9h0000gn/T/joblib_memmapping_folder_13044_614635167/13044-140614886713232-4ee7e050107347c1a30f4fbdc5367e21.pkl'\n",
      "\n",
      "During handling of the above exception, another exception occurred:\n",
      "\n",
      "Traceback (most recent call last):\n",
      "  File \"/opt/anaconda3/lib/python3.7/threading.py\", line 926, in _bootstrap_inner\n",
      "    self.run()\n",
      "  File \"/opt/anaconda3/lib/python3.7/threading.py\", line 870, in run\n",
      "    self._target(*self._args, **self._kwargs)\n",
      "  File \"/opt/anaconda3/lib/python3.7/site-packages/joblib/externals/loky/backend/queues.py\", line 175, in _feed\n",
      "    onerror(e, obj)\n",
      "  File \"/opt/anaconda3/lib/python3.7/site-packages/joblib/externals/loky/process_executor.py\", line 310, in _on_queue_feeder_error\n",
      "    self.thread_wakeup.wakeup()\n",
      "  File \"/opt/anaconda3/lib/python3.7/site-packages/joblib/externals/loky/process_executor.py\", line 155, in wakeup\n",
      "    self._writer.send_bytes(b\"\")\n",
      "  File \"/opt/anaconda3/lib/python3.7/multiprocessing/connection.py\", line 183, in send_bytes\n",
      "    self._check_closed()\n",
      "  File \"/opt/anaconda3/lib/python3.7/multiprocessing/connection.py\", line 136, in _check_closed\n",
      "    raise OSError(\"handle is closed\")\n",
      "OSError: handle is closed\n",
      "\n"
     ]
    }
   ],
   "source": [
    "from sklearn.linear_model import SGDClassifier\n",
    "\n",
    "model = SGDClassifier()\n",
    "param_grid = {'alpha': [1, 0.1, 0.01, 0.001, 0.0001],\n",
    "              'class_weight': [{1:2}], 'random_state': [42]} \n",
    "#               'probability': ['True']}\n",
    "svc_grid = GridSearchCV(model, param_grid, refit=True, verbose=5, n_jobs=-1)\n",
    "svc_grid.fit(reg_train, train_df['default_12m'])\n",
    "get_best_score(svc_grid)"
   ]
  },
  {
   "cell_type": "code",
   "execution_count": 128,
   "metadata": {},
   "outputs": [],
   "source": [
    "answ_df['predict'] = (svc_grid.predict(test_df_new_reg.loc[:, features_reg])).astype(int)\n",
    "answ_df.to_csv('PD-submit.csv',index=False, sep=';')"
   ]
  },
  {
   "cell_type": "markdown",
   "metadata": {},
   "source": [
    "Знаю, что бустинги для данной задачи не подойдут, но хочу попробовать для своего понимания"
   ]
  },
  {
   "cell_type": "code",
   "execution_count": 63,
   "metadata": {},
   "outputs": [
    {
     "name": "stdout",
     "output_type": "stream",
     "text": [
      "Fitting 5 folds for each of 80 candidates, totalling 400 fits\n"
     ]
    },
    {
     "name": "stderr",
     "output_type": "stream",
     "text": [
      "[Parallel(n_jobs=-1)]: Using backend LokyBackend with 16 concurrent workers.\n",
      "[Parallel(n_jobs=-1)]: Done   9 tasks      | elapsed:   35.1s\n",
      "[Parallel(n_jobs=-1)]: Done 130 tasks      | elapsed:  5.3min\n",
      "[Parallel(n_jobs=-1)]: Done 333 tasks      | elapsed: 13.4min\n",
      "[Parallel(n_jobs=-1)]: Done 400 out of 400 | elapsed: 16.1min finished\n"
     ]
    },
    {
     "name": "stdout",
     "output_type": "stream",
     "text": [
      "0.9382929464423523\n",
      "{'gamma': 0.1, 'learning_rate': 0.1, 'max_depth': 30}\n",
      "XGBClassifier(base_score=0.5, booster='gbtree', colsample_bylevel=1,\n",
      "              colsample_bynode=1, colsample_bytree=1, gamma=0.1,\n",
      "              learning_rate=0.1, max_delta_step=0, max_depth=30,\n",
      "              min_child_weight=1, missing=None, n_estimators=100, n_jobs=1,\n",
      "              nthread=None, objective='binary:logistic', random_state=0,\n",
      "              reg_alpha=0, reg_lambda=1, scale_pos_weight=1, seed=None,\n",
      "              silent=None, subsample=1, verbosity=1)\n"
     ]
    }
   ],
   "source": [
    "from xgboost import XGBClassifier\n",
    "from sklearn.utils.testing import ignore_warnings\n",
    "xgb = XGBClassifier()\n",
    "param_grid = {'max_depth': [10,15,20,30], 'gamma': [0.01,0.1, 1, 2], 'learning_rate': [0.01, 0.1, 0.2, 0.3, 0.5]}\n",
    "\n",
    "with ignore_warnings(category=DeprecationWarning):\n",
    "    xgb_grid = GridSearchCV(xgb, param_grid, refit=True, verbose=2, n_jobs=-1)\n",
    "    xgb_grid.fit(reg_train, train_df['default_12m'], eval_metric='auc')\n",
    "    get_best_score(xgb_grid)"
   ]
  },
  {
   "cell_type": "code",
   "execution_count": 65,
   "metadata": {},
   "outputs": [],
   "source": [
    "answ_df['predict'] = (xgb_grid.predict_proba(test_df_new_reg[features])[:,1]>cutoff).astype(int)\n",
    "answ_df.to_csv('PD-submit.csv',index=False, sep=';')"
   ]
  },
  {
   "cell_type": "code",
   "execution_count": 42,
   "metadata": {},
   "outputs": [],
   "source": [
    "# xgb_train = reg_train.rename(columns={'ul_staff_range_(100-500]': 'ul_staff_range_100-500', 'ul_staff_range_> 500': 'ul_staff_range_500', 'ul_staff_range_[1-100]': 'ul_staff_range_1-100'}, inplace=True)"
   ]
  },
  {
   "cell_type": "code",
   "execution_count": 84,
   "metadata": {
    "collapsed": true
   },
   "outputs": [
    {
     "data": {
      "text/plain": [
       "['ar_revenue',\n",
       " 'ar_total_expenses',\n",
       " 'ar_sale_cost',\n",
       " 'ar_selling_expenses',\n",
       " 'ar_management_expenses',\n",
       " 'ar_sale_profit',\n",
       " 'ar_balance_of_rvns_and_expns',\n",
       " 'ar_profit_before_tax',\n",
       " 'ar_taxes',\n",
       " 'ar_other_profit_and_losses',\n",
       " 'ar_net_profit',\n",
       " 'ab_immobilized_assets',\n",
       " 'ab_mobile_current_assets',\n",
       " 'ab_inventory',\n",
       " 'ab_accounts_receivable',\n",
       " 'ab_other_current_assets',\n",
       " 'ab_cash_and_securities',\n",
       " 'ab_losses',\n",
       " 'ab_own_capital',\n",
       " 'ab_borrowed_capital',\n",
       " 'ab_long_term_liabilities',\n",
       " 'ab_short_term_borrowing',\n",
       " 'ab_accounts_payable',\n",
       " 'ab_other_borrowings',\n",
       " 'bus_age',\n",
       " 'ogrn_age',\n",
       " 'adr_actual_age',\n",
       " 'head_actual_age',\n",
       " 'cap_actual_age',\n",
       " 'ul_capital_sum',\n",
       " 'ul_founders_cnt',\n",
       " 'ul_branch_cnt',\n",
       " 'ul_strategic_flg',\n",
       " 'ul_systematizing_flg',\n",
       " 'ul_staff_range_100-500',\n",
       " 'ul_staff_range_500',\n",
       " 'ul_staff_range_1-100']"
      ]
     },
     "execution_count": 84,
     "metadata": {},
     "output_type": "execute_result"
    }
   ],
   "source": [
    "features_xgb = reg_train.columns.tolist()\n",
    "features_xgb"
   ]
  },
  {
   "cell_type": "code",
   "execution_count": 79,
   "metadata": {},
   "outputs": [],
   "source": [
    "params_n = {\n",
    "    'eta': [1, 0.1, 0.01],\n",
    "    'max_depth': [20, 30, 40],\n",
    "#     'subsample': [0.8, 0.1, 1, 0.01],\n",
    "    'colsample_bytree': [0.1, 1, 0.01],\n",
    "    'n_estimators': [100, 150, 200],\n",
    "    \n",
    "    'gamma': [0.01, 0.1, 1],\n",
    "#     'lambda': [0, 1],\n",
    "#     'alpha': [0, 1],\n",
    "    'min_child_weight': [0, 1],\n",
    "    'learning_rate': [0.01, 0.1, 1],\n",
    "    \n",
    "#     'eval_metric': 'auc',\n",
    "#      'objective': 'binary:logistic' ,\n",
    "#     'booster': 'gbtree',\n",
    "#     'n_jobs': 10,\n",
    "#     'tree_method': 'approx'\n",
    "}"
   ]
  },
  {
   "cell_type": "code",
   "execution_count": 80,
   "metadata": {
    "collapsed": true
   },
   "outputs": [
    {
     "name": "stdout",
     "output_type": "stream",
     "text": [
      "Fitting 5 folds for each of 1458 candidates, totalling 7290 fits\n"
     ]
    },
    {
     "name": "stderr",
     "output_type": "stream",
     "text": [
      "[Parallel(n_jobs=-1)]: Using backend LokyBackend with 16 concurrent workers.\n",
      "[Parallel(n_jobs=-1)]: Done   9 tasks      | elapsed:   12.9s\n",
      "[Parallel(n_jobs=-1)]: Done  18 tasks      | elapsed:   17.3s\n",
      "[Parallel(n_jobs=-1)]: Done  29 tasks      | elapsed:   23.9s\n",
      "[Parallel(n_jobs=-1)]: Done  40 tasks      | elapsed:   32.9s\n",
      "[Parallel(n_jobs=-1)]: Done  53 tasks      | elapsed:   40.1s\n",
      "[Parallel(n_jobs=-1)]: Done  66 tasks      | elapsed:   51.3s\n",
      "[Parallel(n_jobs=-1)]: Done  81 tasks      | elapsed:  1.1min\n",
      "[Parallel(n_jobs=-1)]: Done  96 tasks      | elapsed:  1.3min\n",
      "[Parallel(n_jobs=-1)]: Done 113 tasks      | elapsed:  1.5min\n",
      "[Parallel(n_jobs=-1)]: Done 130 tasks      | elapsed:  1.8min\n",
      "[Parallel(n_jobs=-1)]: Done 149 tasks      | elapsed:  2.1min\n",
      "[Parallel(n_jobs=-1)]: Done 168 tasks      | elapsed:  2.4min\n",
      "[Parallel(n_jobs=-1)]: Done 189 tasks      | elapsed:  2.8min\n",
      "[Parallel(n_jobs=-1)]: Done 210 tasks      | elapsed:  3.0min\n",
      "[Parallel(n_jobs=-1)]: Done 233 tasks      | elapsed:  3.4min\n",
      "[Parallel(n_jobs=-1)]: Done 256 tasks      | elapsed:  3.7min\n",
      "[Parallel(n_jobs=-1)]: Done 281 tasks      | elapsed:  4.0min\n",
      "[Parallel(n_jobs=-1)]: Done 306 tasks      | elapsed:  4.3min\n",
      "[Parallel(n_jobs=-1)]: Done 333 tasks      | elapsed:  4.6min\n",
      "[Parallel(n_jobs=-1)]: Done 360 tasks      | elapsed:  5.0min\n",
      "[Parallel(n_jobs=-1)]: Done 389 tasks      | elapsed:  5.4min\n",
      "[Parallel(n_jobs=-1)]: Done 418 tasks      | elapsed:  6.0min\n",
      "[Parallel(n_jobs=-1)]: Done 449 tasks      | elapsed:  6.5min\n",
      "[Parallel(n_jobs=-1)]: Done 480 tasks      | elapsed:  7.0min\n",
      "[Parallel(n_jobs=-1)]: Done 513 tasks      | elapsed:  7.4min\n",
      "[Parallel(n_jobs=-1)]: Done 546 tasks      | elapsed:  8.0min\n",
      "[Parallel(n_jobs=-1)]: Done 581 tasks      | elapsed:  8.4min\n",
      "[Parallel(n_jobs=-1)]: Done 616 tasks      | elapsed:  8.8min\n",
      "[Parallel(n_jobs=-1)]: Done 653 tasks      | elapsed:  9.4min\n",
      "[Parallel(n_jobs=-1)]: Done 690 tasks      | elapsed: 10.1min\n",
      "[Parallel(n_jobs=-1)]: Done 729 tasks      | elapsed: 10.7min\n",
      "[Parallel(n_jobs=-1)]: Done 768 tasks      | elapsed: 11.4min\n",
      "[Parallel(n_jobs=-1)]: Done 809 tasks      | elapsed: 12.1min\n",
      "[Parallel(n_jobs=-1)]: Done 850 tasks      | elapsed: 12.6min\n",
      "[Parallel(n_jobs=-1)]: Done 893 tasks      | elapsed: 13.2min\n",
      "[Parallel(n_jobs=-1)]: Done 936 tasks      | elapsed: 14.0min\n",
      "[Parallel(n_jobs=-1)]: Done 981 tasks      | elapsed: 14.8min\n",
      "[Parallel(n_jobs=-1)]: Done 1026 tasks      | elapsed: 15.5min\n",
      "[Parallel(n_jobs=-1)]: Done 1073 tasks      | elapsed: 16.3min\n",
      "[Parallel(n_jobs=-1)]: Done 1120 tasks      | elapsed: 16.8min\n",
      "[Parallel(n_jobs=-1)]: Done 1169 tasks      | elapsed: 17.5min\n",
      "[Parallel(n_jobs=-1)]: Done 1218 tasks      | elapsed: 18.3min\n",
      "[Parallel(n_jobs=-1)]: Done 1269 tasks      | elapsed: 19.2min\n",
      "[Parallel(n_jobs=-1)]: Done 1320 tasks      | elapsed: 20.0min\n",
      "[Parallel(n_jobs=-1)]: Done 1373 tasks      | elapsed: 20.8min\n",
      "[Parallel(n_jobs=-1)]: Done 1426 tasks      | elapsed: 21.5min\n",
      "[Parallel(n_jobs=-1)]: Done 1481 tasks      | elapsed: 22.4min\n",
      "[Parallel(n_jobs=-1)]: Done 1536 tasks      | elapsed: 23.4min\n",
      "[Parallel(n_jobs=-1)]: Done 1593 tasks      | elapsed: 24.4min\n",
      "[Parallel(n_jobs=-1)]: Done 1650 tasks      | elapsed: 25.3min\n",
      "[Parallel(n_jobs=-1)]: Done 1709 tasks      | elapsed: 26.1min\n",
      "[Parallel(n_jobs=-1)]: Done 1768 tasks      | elapsed: 27.2min\n",
      "[Parallel(n_jobs=-1)]: Done 1829 tasks      | elapsed: 28.3min\n",
      "[Parallel(n_jobs=-1)]: Done 1890 tasks      | elapsed: 29.3min\n",
      "[Parallel(n_jobs=-1)]: Done 1953 tasks      | elapsed: 30.1min\n",
      "[Parallel(n_jobs=-1)]: Done 2016 tasks      | elapsed: 31.1min\n",
      "[Parallel(n_jobs=-1)]: Done 2081 tasks      | elapsed: 32.3min\n",
      "[Parallel(n_jobs=-1)]: Done 2146 tasks      | elapsed: 33.5min\n",
      "[Parallel(n_jobs=-1)]: Done 2213 tasks      | elapsed: 34.4min\n",
      "[Parallel(n_jobs=-1)]: Done 2280 tasks      | elapsed: 35.5min\n",
      "[Parallel(n_jobs=-1)]: Done 2349 tasks      | elapsed: 36.8min\n",
      "[Parallel(n_jobs=-1)]: Done 2418 tasks      | elapsed: 38.1min\n",
      "[Parallel(n_jobs=-1)]: Done 2489 tasks      | elapsed: 43.8min\n",
      "[Parallel(n_jobs=-1)]: Done 2560 tasks      | elapsed: 50.2min\n",
      "[Parallel(n_jobs=-1)]: Done 2633 tasks      | elapsed: 57.3min\n",
      "[Parallel(n_jobs=-1)]: Done 2706 tasks      | elapsed: 64.7min\n",
      "[Parallel(n_jobs=-1)]: Done 2781 tasks      | elapsed: 71.4min\n",
      "[Parallel(n_jobs=-1)]: Done 2856 tasks      | elapsed: 78.4min\n",
      "[Parallel(n_jobs=-1)]: Done 2933 tasks      | elapsed: 85.5min\n",
      "[Parallel(n_jobs=-1)]: Done 3010 tasks      | elapsed: 92.5min\n",
      "[Parallel(n_jobs=-1)]: Done 3089 tasks      | elapsed: 99.6min\n",
      "[Parallel(n_jobs=-1)]: Done 3168 tasks      | elapsed: 107.9min\n",
      "[Parallel(n_jobs=-1)]: Done 3249 tasks      | elapsed: 116.2min\n",
      "[Parallel(n_jobs=-1)]: Done 3330 tasks      | elapsed: 123.4min\n",
      "[Parallel(n_jobs=-1)]: Done 3413 tasks      | elapsed: 132.0min\n",
      "[Parallel(n_jobs=-1)]: Done 3496 tasks      | elapsed: 139.6min\n",
      "[Parallel(n_jobs=-1)]: Done 3581 tasks      | elapsed: 146.9min\n",
      "[Parallel(n_jobs=-1)]: Done 3666 tasks      | elapsed: 155.4min\n",
      "[Parallel(n_jobs=-1)]: Done 3753 tasks      | elapsed: 163.5min\n",
      "[Parallel(n_jobs=-1)]: Done 3840 tasks      | elapsed: 171.6min\n",
      "[Parallel(n_jobs=-1)]: Done 3929 tasks      | elapsed: 179.7min\n",
      "[Parallel(n_jobs=-1)]: Done 4018 tasks      | elapsed: 188.7min\n",
      "[Parallel(n_jobs=-1)]: Done 4109 tasks      | elapsed: 197.5min\n",
      "[Parallel(n_jobs=-1)]: Done 4200 tasks      | elapsed: 206.0min\n",
      "[Parallel(n_jobs=-1)]: Done 4293 tasks      | elapsed: 215.3min\n",
      "[Parallel(n_jobs=-1)]: Done 4386 tasks      | elapsed: 224.1min\n",
      "[Parallel(n_jobs=-1)]: Done 4481 tasks      | elapsed: 232.9min\n",
      "[Parallel(n_jobs=-1)]: Done 4576 tasks      | elapsed: 241.6min\n",
      "[Parallel(n_jobs=-1)]: Done 4673 tasks      | elapsed: 249.6min\n",
      "[Parallel(n_jobs=-1)]: Done 4770 tasks      | elapsed: 258.2min\n",
      "[Parallel(n_jobs=-1)]: Done 4869 tasks      | elapsed: 266.1min\n",
      "[Parallel(n_jobs=-1)]: Done 4968 tasks      | elapsed: 267.1min\n",
      "[Parallel(n_jobs=-1)]: Done 5069 tasks      | elapsed: 268.0min\n",
      "[Parallel(n_jobs=-1)]: Done 5170 tasks      | elapsed: 268.9min\n",
      "[Parallel(n_jobs=-1)]: Done 5273 tasks      | elapsed: 269.8min\n",
      "[Parallel(n_jobs=-1)]: Done 5376 tasks      | elapsed: 270.7min\n",
      "[Parallel(n_jobs=-1)]: Done 5481 tasks      | elapsed: 271.5min\n",
      "[Parallel(n_jobs=-1)]: Done 5586 tasks      | elapsed: 272.5min\n",
      "[Parallel(n_jobs=-1)]: Done 5693 tasks      | elapsed: 273.5min\n",
      "[Parallel(n_jobs=-1)]: Done 5800 tasks      | elapsed: 274.4min\n",
      "[Parallel(n_jobs=-1)]: Done 5909 tasks      | elapsed: 275.4min\n",
      "[Parallel(n_jobs=-1)]: Done 6018 tasks      | elapsed: 276.2min\n",
      "[Parallel(n_jobs=-1)]: Done 6129 tasks      | elapsed: 277.2min\n",
      "[Parallel(n_jobs=-1)]: Done 6240 tasks      | elapsed: 278.2min\n",
      "[Parallel(n_jobs=-1)]: Done 6353 tasks      | elapsed: 279.2min\n",
      "[Parallel(n_jobs=-1)]: Done 6466 tasks      | elapsed: 280.3min\n",
      "[Parallel(n_jobs=-1)]: Done 6581 tasks      | elapsed: 281.1min\n",
      "[Parallel(n_jobs=-1)]: Done 6696 tasks      | elapsed: 282.2min\n",
      "[Parallel(n_jobs=-1)]: Done 6813 tasks      | elapsed: 283.2min\n",
      "[Parallel(n_jobs=-1)]: Done 6930 tasks      | elapsed: 284.2min\n",
      "[Parallel(n_jobs=-1)]: Done 7049 tasks      | elapsed: 285.3min\n",
      "[Parallel(n_jobs=-1)]: Done 7168 tasks      | elapsed: 286.3min\n",
      "[Parallel(n_jobs=-1)]: Done 7290 out of 7290 | elapsed: 287.4min finished\n"
     ]
    },
    {
     "data": {
      "text/plain": [
       "GridSearchCV(cv=None, error_score=nan,\n",
       "             estimator=XGBClassifier(base_score=0.5, booster='gbtree',\n",
       "                                     colsample_bylevel=1, colsample_bynode=1,\n",
       "                                     colsample_bytree=1, gamma=0,\n",
       "                                     learning_rate=0.1, max_delta_step=0,\n",
       "                                     max_depth=3, min_child_weight=1,\n",
       "                                     missing=None, n_estimators=100, n_jobs=1,\n",
       "                                     nthread=None, objective='binary:logistic',\n",
       "                                     random_state=0, reg_alpha=0, reg_lambda=1,\n",
       "                                     scale..., seed=None, silent=None,\n",
       "                                     subsample=1, verbosity=1),\n",
       "             iid='deprecated', n_jobs=-1,\n",
       "             param_grid={'colsample_bytree': [0.1, 1, 0.01],\n",
       "                         'eta': [1, 0.1, 0.01], 'gamma': [0.01, 0.1, 1],\n",
       "                         'learning_rate': [0.01, 0.1, 1],\n",
       "                         'max_depth': [20, 30, 40], 'min_child_weight': [0, 1],\n",
       "                         'n_estimators': [100, 150, 200]},\n",
       "             pre_dispatch='2*n_jobs', refit=True, return_train_score=False,\n",
       "             scoring=None, verbose=10)"
      ]
     },
     "execution_count": 80,
     "metadata": {},
     "output_type": "execute_result"
    }
   ],
   "source": [
    "from xgboost import XGBClassifier\n",
    "from sklearn.utils.testing import ignore_warnings\n",
    "\n",
    "xgb = XGBClassifier()\n",
    "\n",
    "xgb_grid = GridSearchCV(xgb, params_n, n_jobs=-1, refit=True, verbose=5)\n",
    "xgb_grid.fit(reg_train, train_df['default_12m'], eval_metric='auc')"
   ]
  },
  {
   "cell_type": "code",
   "execution_count": 81,
   "metadata": {},
   "outputs": [
    {
     "name": "stdout",
     "output_type": "stream",
     "text": [
      "0.9382929464423523\n",
      "{'colsample_bytree': 1, 'eta': 1, 'gamma': 0.1, 'learning_rate': 0.1, 'max_depth': 30, 'min_child_weight': 1, 'n_estimators': 100}\n",
      "XGBClassifier(base_score=0.5, booster='gbtree', colsample_bylevel=1,\n",
      "              colsample_bynode=1, colsample_bytree=1, eta=1, gamma=0.1,\n",
      "              learning_rate=0.1, max_delta_step=0, max_depth=30,\n",
      "              min_child_weight=1, missing=None, n_estimators=100, n_jobs=1,\n",
      "              nthread=None, objective='binary:logistic', random_state=0,\n",
      "              reg_alpha=0, reg_lambda=1, scale_pos_weight=1, seed=None,\n",
      "              silent=None, subsample=1, verbosity=1)\n"
     ]
    },
    {
     "data": {
      "text/plain": [
       "0.9382929464423523"
      ]
     },
     "execution_count": 81,
     "metadata": {},
     "output_type": "execute_result"
    }
   ],
   "source": [
    "get_best_score(xgb_grid)"
   ]
  },
  {
   "cell_type": "code",
   "execution_count": 82,
   "metadata": {},
   "outputs": [],
   "source": [
    "xgb_test = test_df_new_reg.rename(columns={'ul_staff_range_(100-500]': 'ul_staff_range_100-500', 'ul_staff_range_> 500': 'ul_staff_range_500', 'ul_staff_range_[1-100]': 'ul_staff_range_1-100'}, inplace=True)\n"
   ]
  },
  {
   "cell_type": "code",
   "execution_count": 85,
   "metadata": {},
   "outputs": [],
   "source": [
    "answ_df['predict'] = (xgb_grid.predict_proba(test_df_new_reg[features_xgb])[:,1]>cutoff).astype(int)\n",
    "answ_df.to_csv('PD-submit.csv',index=False, sep=';')"
   ]
  },
  {
   "cell_type": "markdown",
   "metadata": {},
   "source": [
    "Решающее дерево, также пробовал настраивать class_weight"
   ]
  },
  {
   "cell_type": "code",
   "execution_count": 128,
   "metadata": {},
   "outputs": [],
   "source": [
    "from sklearn.tree import DecisionTreeClassifier\n",
    "dtree = DecisionTreeClassifier()\n",
    "\n",
    "param_grid = {'min_samples_split': [2,4,7,10,12, 20, 28, 30, 33],\n",
    "              'max_depth': [4, 5, 7, 10, 12, 20, 30],\n",
    "              'max_features':[5, 8, 15, 20, 30],\n",
    "              'ccp_alpha': [0.01, 0.1],\n",
    "              'criterion': ['gini', 'entropy'],\n",
    "              'class_weight': [{0:1, 1:1}],\n",
    "              'random_state': [42]\n",
    "             }\n",
    "dtree_grid = GridSearchCV(dtree, param_grid, refit=True, verbose=1, n_jobs=-1)"
   ]
  },
  {
   "cell_type": "code",
   "execution_count": 129,
   "metadata": {},
   "outputs": [
    {
     "name": "stdout",
     "output_type": "stream",
     "text": [
      "Fitting 5 folds for each of 1260 candidates, totalling 6300 fits\n"
     ]
    },
    {
     "name": "stderr",
     "output_type": "stream",
     "text": [
      "[Parallel(n_jobs=-1)]: Using backend LokyBackend with 16 concurrent workers.\n",
      "[Parallel(n_jobs=-1)]: Done  18 tasks      | elapsed:    2.0s\n",
      "[Parallel(n_jobs=-1)]: Done 168 tasks      | elapsed:    3.2s\n",
      "[Parallel(n_jobs=-1)]: Done 548 tasks      | elapsed:    6.6s\n",
      "[Parallel(n_jobs=-1)]: Done 1248 tasks      | elapsed:   16.8s\n",
      "[Parallel(n_jobs=-1)]: Done 1874 tasks      | elapsed:   27.1s\n",
      "[Parallel(n_jobs=-1)]: Done 2424 tasks      | elapsed:   34.4s\n",
      "[Parallel(n_jobs=-1)]: Done 3074 tasks      | elapsed:   47.6s\n",
      "[Parallel(n_jobs=-1)]: Done 4384 tasks      | elapsed:  1.1min\n",
      "[Parallel(n_jobs=-1)]: Done 5314 tasks      | elapsed:  1.3min\n",
      "[Parallel(n_jobs=-1)]: Done 6264 tasks      | elapsed:  1.7min\n",
      "[Parallel(n_jobs=-1)]: Done 6300 out of 6300 | elapsed:  1.7min finished\n"
     ]
    },
    {
     "data": {
      "text/plain": [
       "GridSearchCV(cv=None, error_score=nan,\n",
       "             estimator=DecisionTreeClassifier(ccp_alpha=0.0, class_weight=None,\n",
       "                                              criterion='gini', max_depth=None,\n",
       "                                              max_features=None,\n",
       "                                              max_leaf_nodes=None,\n",
       "                                              min_impurity_decrease=0.0,\n",
       "                                              min_impurity_split=None,\n",
       "                                              min_samples_leaf=1,\n",
       "                                              min_samples_split=2,\n",
       "                                              min_weight_fraction_leaf=0.0,\n",
       "                                              presort='deprecated',\n",
       "                                              random_state=None,\n",
       "                                              splitter='best'),\n",
       "             iid='deprecated', n_jobs=-1,\n",
       "             param_grid={'ccp_alpha': [0.01, 0.1],\n",
       "                         'class_weight': [{0: 1, 1: 1}],\n",
       "                         'criterion': ['gini', 'entropy'],\n",
       "                         'max_depth': [4, 5, 7, 10, 12, 20, 30],\n",
       "                         'max_features': [5, 8, 15, 20, 30],\n",
       "                         'min_samples_split': [2, 4, 7, 10, 12, 20, 28, 30, 33],\n",
       "                         'random_state': [42]},\n",
       "             pre_dispatch='2*n_jobs', refit=True, return_train_score=False,\n",
       "             scoring=None, verbose=1)"
      ]
     },
     "execution_count": 129,
     "metadata": {},
     "output_type": "execute_result"
    }
   ],
   "source": [
    "dtree_grid.fit(reg_train, train_df['default_12m'])"
   ]
  },
  {
   "cell_type": "code",
   "execution_count": 130,
   "metadata": {},
   "outputs": [
    {
     "name": "stdout",
     "output_type": "stream",
     "text": [
      "0.9354530020064825\n",
      "{'ccp_alpha': 0.01, 'class_weight': {0: 1, 1: 1}, 'criterion': 'gini', 'max_depth': 4, 'max_features': 5, 'min_samples_split': 2, 'random_state': 42}\n",
      "DecisionTreeClassifier(ccp_alpha=0.01, class_weight={0: 1, 1: 1},\n",
      "                       criterion='gini', max_depth=4, max_features=5,\n",
      "                       max_leaf_nodes=None, min_impurity_decrease=0.0,\n",
      "                       min_impurity_split=None, min_samples_leaf=1,\n",
      "                       min_samples_split=2, min_weight_fraction_leaf=0.0,\n",
      "                       presort='deprecated', random_state=42, splitter='best')\n"
     ]
    },
    {
     "data": {
      "text/plain": [
       "0.9354530020064825"
      ]
     },
     "execution_count": 130,
     "metadata": {},
     "output_type": "execute_result"
    }
   ],
   "source": [
    "get_best_score(dtree_grid)"
   ]
  },
  {
   "cell_type": "code",
   "execution_count": 131,
   "metadata": {},
   "outputs": [],
   "source": [
    "answ_df['predict'] = (dtree_grid.predict_proba(test_df_new_reg[features_reg])[:,1]>cutoff).astype(int)\n",
    "answ_df.to_csv('PD-submit.csv',index=False, sep=';')"
   ]
  },
  {
   "cell_type": "markdown",
   "metadata": {},
   "source": [
    "Пробую CatBoostClassifier"
   ]
  },
  {
   "cell_type": "code",
   "execution_count": 75,
   "metadata": {},
   "outputs": [],
   "source": [
    "from catboost import CatBoostClassifier\n",
    "cb_mod = CatBoostClassifier()\n",
    "param_grid = {\n",
    "   'bagging_temperature': [1],\n",
    "   'random_strength': [1, 3],\n",
    "   'thread_count': [1, 3],\n",
    "   'iterations': [500, 600],\n",
    "   'l2_leaf_reg': [3.0, 4.0], \n",
    "   'learning_rate': [0.1, 0.3, 0.7],\n",
    "   'random_seed': [63],\n",
    "   'od_type': ['Iter'],\n",
    "   'od_wait': [20],\n",
    "   'custom_loss': ['AUC', 'Accuracy']\n",
    "}\n",
    "\n",
    "best_model = GridSearchCV(cb_mod, param_grid, refit=True, verbose=5, n_jobs=-1)"
   ]
  },
  {
   "cell_type": "code",
   "execution_count": 76,
   "metadata": {
    "collapsed": true
   },
   "outputs": [
    {
     "name": "stdout",
     "output_type": "stream",
     "text": [
      "Fitting 5 folds for each of 96 candidates, totalling 480 fits\n"
     ]
    },
    {
     "name": "stderr",
     "output_type": "stream",
     "text": [
      "[Parallel(n_jobs=-1)]: Using backend LokyBackend with 16 concurrent workers.\n",
      "[Parallel(n_jobs=-1)]: Done  40 tasks      | elapsed:  2.4min\n",
      "[Parallel(n_jobs=-1)]: Done 130 tasks      | elapsed:  7.6min\n",
      "[Parallel(n_jobs=-1)]: Done 256 tasks      | elapsed: 15.7min\n",
      "[Parallel(n_jobs=-1)]: Done 418 tasks      | elapsed: 25.5min\n",
      "[Parallel(n_jobs=-1)]: Done 480 out of 480 | elapsed: 29.0min finished\n"
     ]
    },
    {
     "name": "stdout",
     "output_type": "stream",
     "text": [
      "0:\tlearn: 0.5822670\ttotal: 25.2ms\tremaining: 15.1s\n",
      "1:\tlearn: 0.4958014\ttotal: 46.6ms\tremaining: 13.9s\n",
      "2:\tlearn: 0.4310696\ttotal: 67.4ms\tremaining: 13.4s\n",
      "3:\tlearn: 0.3841816\ttotal: 89.8ms\tremaining: 13.4s\n",
      "4:\tlearn: 0.3477428\ttotal: 111ms\tremaining: 13.2s\n",
      "5:\tlearn: 0.3195980\ttotal: 132ms\tremaining: 13s\n",
      "6:\tlearn: 0.2995416\ttotal: 152ms\tremaining: 12.9s\n",
      "7:\tlearn: 0.2836339\ttotal: 173ms\tremaining: 12.8s\n",
      "8:\tlearn: 0.2708581\ttotal: 194ms\tremaining: 12.7s\n",
      "9:\tlearn: 0.2617360\ttotal: 214ms\tremaining: 12.7s\n",
      "10:\tlearn: 0.2548066\ttotal: 235ms\tremaining: 12.6s\n",
      "11:\tlearn: 0.2492236\ttotal: 255ms\tremaining: 12.5s\n",
      "12:\tlearn: 0.2450307\ttotal: 276ms\tremaining: 12.5s\n",
      "13:\tlearn: 0.2409215\ttotal: 297ms\tremaining: 12.4s\n",
      "14:\tlearn: 0.2377812\ttotal: 318ms\tremaining: 12.4s\n",
      "15:\tlearn: 0.2352838\ttotal: 340ms\tremaining: 12.4s\n",
      "16:\tlearn: 0.2334062\ttotal: 362ms\tremaining: 12.4s\n",
      "17:\tlearn: 0.2316530\ttotal: 382ms\tremaining: 12.4s\n",
      "18:\tlearn: 0.2302150\ttotal: 404ms\tremaining: 12.3s\n",
      "19:\tlearn: 0.2286659\ttotal: 426ms\tremaining: 12.3s\n",
      "20:\tlearn: 0.2277024\ttotal: 447ms\tremaining: 12.3s\n",
      "21:\tlearn: 0.2266993\ttotal: 467ms\tremaining: 12.3s\n",
      "22:\tlearn: 0.2259204\ttotal: 489ms\tremaining: 12.3s\n",
      "23:\tlearn: 0.2252144\ttotal: 511ms\tremaining: 12.3s\n",
      "24:\tlearn: 0.2249188\ttotal: 532ms\tremaining: 12.2s\n",
      "25:\tlearn: 0.2245093\ttotal: 553ms\tremaining: 12.2s\n",
      "26:\tlearn: 0.2240642\ttotal: 575ms\tremaining: 12.2s\n",
      "27:\tlearn: 0.2234922\ttotal: 596ms\tremaining: 12.2s\n",
      "28:\tlearn: 0.2229455\ttotal: 617ms\tremaining: 12.2s\n",
      "29:\tlearn: 0.2223178\ttotal: 639ms\tremaining: 12.1s\n",
      "30:\tlearn: 0.2219491\ttotal: 661ms\tremaining: 12.1s\n",
      "31:\tlearn: 0.2214401\ttotal: 682ms\tremaining: 12.1s\n",
      "32:\tlearn: 0.2211498\ttotal: 703ms\tremaining: 12.1s\n",
      "33:\tlearn: 0.2209530\ttotal: 723ms\tremaining: 12s\n",
      "34:\tlearn: 0.2206670\ttotal: 744ms\tremaining: 12s\n",
      "35:\tlearn: 0.2202210\ttotal: 765ms\tremaining: 12s\n",
      "36:\tlearn: 0.2200829\ttotal: 785ms\tremaining: 11.9s\n",
      "37:\tlearn: 0.2198410\ttotal: 806ms\tremaining: 11.9s\n",
      "38:\tlearn: 0.2195792\ttotal: 828ms\tremaining: 11.9s\n",
      "39:\tlearn: 0.2193596\ttotal: 850ms\tremaining: 11.9s\n",
      "40:\tlearn: 0.2190698\ttotal: 872ms\tremaining: 11.9s\n",
      "41:\tlearn: 0.2187146\ttotal: 894ms\tremaining: 11.9s\n",
      "42:\tlearn: 0.2185081\ttotal: 914ms\tremaining: 11.8s\n",
      "43:\tlearn: 0.2182239\ttotal: 935ms\tremaining: 11.8s\n",
      "44:\tlearn: 0.2180196\ttotal: 956ms\tremaining: 11.8s\n",
      "45:\tlearn: 0.2177464\ttotal: 977ms\tremaining: 11.8s\n",
      "46:\tlearn: 0.2175744\ttotal: 998ms\tremaining: 11.7s\n",
      "47:\tlearn: 0.2173853\ttotal: 1.02s\tremaining: 11.7s\n",
      "48:\tlearn: 0.2171721\ttotal: 1.04s\tremaining: 11.7s\n",
      "49:\tlearn: 0.2170131\ttotal: 1.06s\tremaining: 11.7s\n",
      "50:\tlearn: 0.2168465\ttotal: 1.08s\tremaining: 11.6s\n",
      "51:\tlearn: 0.2166328\ttotal: 1.1s\tremaining: 11.6s\n",
      "52:\tlearn: 0.2164754\ttotal: 1.12s\tremaining: 11.6s\n",
      "53:\tlearn: 0.2163105\ttotal: 1.14s\tremaining: 11.5s\n",
      "54:\tlearn: 0.2160454\ttotal: 1.16s\tremaining: 11.5s\n",
      "55:\tlearn: 0.2158974\ttotal: 1.18s\tremaining: 11.5s\n",
      "56:\tlearn: 0.2156890\ttotal: 1.2s\tremaining: 11.5s\n",
      "57:\tlearn: 0.2154469\ttotal: 1.23s\tremaining: 11.5s\n",
      "58:\tlearn: 0.2153002\ttotal: 1.25s\tremaining: 11.5s\n",
      "59:\tlearn: 0.2151581\ttotal: 1.27s\tremaining: 11.5s\n",
      "60:\tlearn: 0.2149842\ttotal: 1.3s\tremaining: 11.5s\n",
      "61:\tlearn: 0.2148468\ttotal: 1.33s\tremaining: 11.5s\n",
      "62:\tlearn: 0.2147020\ttotal: 1.35s\tremaining: 11.5s\n",
      "63:\tlearn: 0.2145846\ttotal: 1.37s\tremaining: 11.5s\n",
      "64:\tlearn: 0.2144259\ttotal: 1.4s\tremaining: 11.5s\n",
      "65:\tlearn: 0.2142734\ttotal: 1.42s\tremaining: 11.5s\n",
      "66:\tlearn: 0.2141976\ttotal: 1.44s\tremaining: 11.5s\n",
      "67:\tlearn: 0.2139402\ttotal: 1.46s\tremaining: 11.4s\n",
      "68:\tlearn: 0.2137963\ttotal: 1.48s\tremaining: 11.4s\n",
      "69:\tlearn: 0.2135883\ttotal: 1.51s\tremaining: 11.4s\n",
      "70:\tlearn: 0.2134618\ttotal: 1.53s\tremaining: 11.4s\n",
      "71:\tlearn: 0.2132956\ttotal: 1.55s\tremaining: 11.4s\n",
      "72:\tlearn: 0.2132103\ttotal: 1.57s\tremaining: 11.3s\n",
      "73:\tlearn: 0.2131096\ttotal: 1.59s\tremaining: 11.3s\n",
      "74:\tlearn: 0.2130017\ttotal: 1.61s\tremaining: 11.3s\n",
      "75:\tlearn: 0.2128740\ttotal: 1.63s\tremaining: 11.2s\n",
      "76:\tlearn: 0.2127208\ttotal: 1.66s\tremaining: 11.2s\n",
      "77:\tlearn: 0.2124985\ttotal: 1.68s\tremaining: 11.2s\n",
      "78:\tlearn: 0.2123612\ttotal: 1.7s\tremaining: 11.2s\n",
      "79:\tlearn: 0.2121903\ttotal: 1.72s\tremaining: 11.2s\n",
      "80:\tlearn: 0.2119876\ttotal: 1.74s\tremaining: 11.2s\n",
      "81:\tlearn: 0.2117704\ttotal: 1.76s\tremaining: 11.1s\n",
      "82:\tlearn: 0.2116669\ttotal: 1.78s\tremaining: 11.1s\n",
      "83:\tlearn: 0.2115144\ttotal: 1.8s\tremaining: 11.1s\n",
      "84:\tlearn: 0.2112615\ttotal: 1.83s\tremaining: 11.1s\n",
      "85:\tlearn: 0.2111461\ttotal: 1.85s\tremaining: 11s\n",
      "86:\tlearn: 0.2110411\ttotal: 1.87s\tremaining: 11s\n",
      "87:\tlearn: 0.2108914\ttotal: 1.89s\tremaining: 11s\n",
      "88:\tlearn: 0.2107327\ttotal: 1.91s\tremaining: 11s\n",
      "89:\tlearn: 0.2105968\ttotal: 1.93s\tremaining: 10.9s\n",
      "90:\tlearn: 0.2103062\ttotal: 1.95s\tremaining: 10.9s\n",
      "91:\tlearn: 0.2101131\ttotal: 1.97s\tremaining: 10.9s\n",
      "92:\tlearn: 0.2099926\ttotal: 2s\tremaining: 10.9s\n",
      "93:\tlearn: 0.2097846\ttotal: 2.02s\tremaining: 10.9s\n",
      "94:\tlearn: 0.2096967\ttotal: 2.04s\tremaining: 10.8s\n",
      "95:\tlearn: 0.2095107\ttotal: 2.06s\tremaining: 10.8s\n",
      "96:\tlearn: 0.2093321\ttotal: 2.08s\tremaining: 10.8s\n",
      "97:\tlearn: 0.2091717\ttotal: 2.1s\tremaining: 10.8s\n",
      "98:\tlearn: 0.2090067\ttotal: 2.12s\tremaining: 10.8s\n",
      "99:\tlearn: 0.2087930\ttotal: 2.15s\tremaining: 10.7s\n",
      "100:\tlearn: 0.2086129\ttotal: 2.17s\tremaining: 10.7s\n",
      "101:\tlearn: 0.2084194\ttotal: 2.19s\tremaining: 10.7s\n",
      "102:\tlearn: 0.2082987\ttotal: 2.21s\tremaining: 10.7s\n",
      "103:\tlearn: 0.2082547\ttotal: 2.23s\tremaining: 10.6s\n",
      "104:\tlearn: 0.2080154\ttotal: 2.25s\tremaining: 10.6s\n",
      "105:\tlearn: 0.2078104\ttotal: 2.27s\tremaining: 10.6s\n",
      "106:\tlearn: 0.2077076\ttotal: 2.3s\tremaining: 10.6s\n",
      "107:\tlearn: 0.2075332\ttotal: 2.32s\tremaining: 10.6s\n",
      "108:\tlearn: 0.2073625\ttotal: 2.34s\tremaining: 10.5s\n",
      "109:\tlearn: 0.2071978\ttotal: 2.36s\tremaining: 10.5s\n",
      "110:\tlearn: 0.2071273\ttotal: 2.38s\tremaining: 10.5s\n",
      "111:\tlearn: 0.2070293\ttotal: 2.4s\tremaining: 10.5s\n",
      "112:\tlearn: 0.2069032\ttotal: 2.42s\tremaining: 10.4s\n",
      "113:\tlearn: 0.2068435\ttotal: 2.44s\tremaining: 10.4s\n",
      "114:\tlearn: 0.2067289\ttotal: 2.46s\tremaining: 10.4s\n",
      "115:\tlearn: 0.2066260\ttotal: 2.48s\tremaining: 10.4s\n",
      "116:\tlearn: 0.2063954\ttotal: 2.5s\tremaining: 10.3s\n",
      "117:\tlearn: 0.2062692\ttotal: 2.52s\tremaining: 10.3s\n",
      "118:\tlearn: 0.2061485\ttotal: 2.55s\tremaining: 10.3s\n",
      "119:\tlearn: 0.2060002\ttotal: 2.57s\tremaining: 10.3s\n",
      "120:\tlearn: 0.2059195\ttotal: 2.59s\tremaining: 10.2s\n",
      "121:\tlearn: 0.2057872\ttotal: 2.61s\tremaining: 10.2s\n",
      "122:\tlearn: 0.2055937\ttotal: 2.63s\tremaining: 10.2s\n",
      "123:\tlearn: 0.2055366\ttotal: 2.65s\tremaining: 10.2s\n",
      "124:\tlearn: 0.2054721\ttotal: 2.67s\tremaining: 10.1s\n",
      "125:\tlearn: 0.2053307\ttotal: 2.69s\tremaining: 10.1s\n",
      "126:\tlearn: 0.2052241\ttotal: 2.71s\tremaining: 10.1s\n",
      "127:\tlearn: 0.2050670\ttotal: 2.73s\tremaining: 10.1s\n",
      "128:\tlearn: 0.2049368\ttotal: 2.75s\tremaining: 10.1s\n",
      "129:\tlearn: 0.2048989\ttotal: 2.77s\tremaining: 10s\n",
      "130:\tlearn: 0.2046744\ttotal: 2.79s\tremaining: 10s\n",
      "131:\tlearn: 0.2044572\ttotal: 2.81s\tremaining: 9.98s\n",
      "132:\tlearn: 0.2043778\ttotal: 2.83s\tremaining: 9.95s\n",
      "133:\tlearn: 0.2042416\ttotal: 2.85s\tremaining: 9.93s\n",
      "134:\tlearn: 0.2040917\ttotal: 2.87s\tremaining: 9.9s\n",
      "135:\tlearn: 0.2039661\ttotal: 2.9s\tremaining: 9.88s\n",
      "136:\tlearn: 0.2038299\ttotal: 2.92s\tremaining: 9.85s\n",
      "137:\tlearn: 0.2037780\ttotal: 2.94s\tremaining: 9.83s\n",
      "138:\tlearn: 0.2037360\ttotal: 2.96s\tremaining: 9.8s\n",
      "139:\tlearn: 0.2034895\ttotal: 2.98s\tremaining: 9.78s\n",
      "140:\tlearn: 0.2032658\ttotal: 3s\tremaining: 9.75s\n",
      "141:\tlearn: 0.2030559\ttotal: 3.02s\tremaining: 9.73s\n",
      "142:\tlearn: 0.2028836\ttotal: 3.04s\tremaining: 9.71s\n",
      "143:\tlearn: 0.2027613\ttotal: 3.06s\tremaining: 9.68s\n",
      "144:\tlearn: 0.2026243\ttotal: 3.08s\tremaining: 9.66s\n",
      "145:\tlearn: 0.2024910\ttotal: 3.1s\tremaining: 9.63s\n",
      "146:\tlearn: 0.2022921\ttotal: 3.12s\tremaining: 9.61s\n",
      "147:\tlearn: 0.2022470\ttotal: 3.14s\tremaining: 9.59s\n",
      "148:\tlearn: 0.2020339\ttotal: 3.16s\tremaining: 9.56s\n",
      "149:\tlearn: 0.2019949\ttotal: 3.18s\tremaining: 9.54s\n",
      "150:\tlearn: 0.2019139\ttotal: 3.2s\tremaining: 9.52s\n",
      "151:\tlearn: 0.2017485\ttotal: 3.22s\tremaining: 9.49s\n",
      "152:\tlearn: 0.2016333\ttotal: 3.24s\tremaining: 9.47s\n",
      "153:\tlearn: 0.2014586\ttotal: 3.26s\tremaining: 9.44s\n",
      "154:\tlearn: 0.2012880\ttotal: 3.28s\tremaining: 9.42s\n",
      "155:\tlearn: 0.2011988\ttotal: 3.3s\tremaining: 9.4s\n",
      "156:\tlearn: 0.2011577\ttotal: 3.32s\tremaining: 9.38s\n",
      "157:\tlearn: 0.2010341\ttotal: 3.34s\tremaining: 9.35s\n",
      "158:\tlearn: 0.2010129\ttotal: 3.36s\tremaining: 9.33s\n",
      "159:\tlearn: 0.2008302\ttotal: 3.38s\tremaining: 9.31s\n",
      "160:\tlearn: 0.2007167\ttotal: 3.41s\tremaining: 9.29s\n",
      "161:\tlearn: 0.2005066\ttotal: 3.43s\tremaining: 9.27s\n",
      "162:\tlearn: 0.2004511\ttotal: 3.45s\tremaining: 9.24s\n",
      "163:\tlearn: 0.2003849\ttotal: 3.47s\tremaining: 9.22s\n",
      "164:\tlearn: 0.2002895\ttotal: 3.49s\tremaining: 9.2s\n",
      "165:\tlearn: 0.2000754\ttotal: 3.51s\tremaining: 9.17s\n",
      "166:\tlearn: 0.1998711\ttotal: 3.53s\tremaining: 9.15s\n",
      "167:\tlearn: 0.1996879\ttotal: 3.55s\tremaining: 9.13s\n",
      "168:\tlearn: 0.1995205\ttotal: 3.57s\tremaining: 9.1s\n"
     ]
    },
    {
     "name": "stdout",
     "output_type": "stream",
     "text": [
      "169:\tlearn: 0.1994280\ttotal: 3.59s\tremaining: 9.08s\n",
      "170:\tlearn: 0.1993110\ttotal: 3.61s\tremaining: 9.06s\n",
      "171:\tlearn: 0.1992636\ttotal: 3.63s\tremaining: 9.04s\n",
      "172:\tlearn: 0.1991426\ttotal: 3.65s\tremaining: 9.01s\n",
      "173:\tlearn: 0.1989722\ttotal: 3.67s\tremaining: 8.99s\n",
      "174:\tlearn: 0.1988473\ttotal: 3.69s\tremaining: 8.97s\n",
      "175:\tlearn: 0.1987515\ttotal: 3.71s\tremaining: 8.95s\n",
      "176:\tlearn: 0.1985551\ttotal: 3.73s\tremaining: 8.93s\n",
      "177:\tlearn: 0.1984531\ttotal: 3.75s\tremaining: 8.9s\n",
      "178:\tlearn: 0.1983672\ttotal: 3.77s\tremaining: 8.88s\n",
      "179:\tlearn: 0.1983347\ttotal: 3.79s\tremaining: 8.85s\n",
      "180:\tlearn: 0.1982444\ttotal: 3.81s\tremaining: 8.83s\n",
      "181:\tlearn: 0.1980274\ttotal: 3.83s\tremaining: 8.81s\n",
      "182:\tlearn: 0.1979073\ttotal: 3.86s\tremaining: 8.79s\n",
      "183:\tlearn: 0.1977322\ttotal: 3.88s\tremaining: 8.77s\n",
      "184:\tlearn: 0.1976724\ttotal: 3.9s\tremaining: 8.74s\n",
      "185:\tlearn: 0.1975272\ttotal: 3.92s\tremaining: 8.72s\n",
      "186:\tlearn: 0.1974469\ttotal: 3.94s\tremaining: 8.7s\n",
      "187:\tlearn: 0.1973109\ttotal: 3.96s\tremaining: 8.68s\n",
      "188:\tlearn: 0.1971012\ttotal: 3.98s\tremaining: 8.66s\n",
      "189:\tlearn: 0.1970037\ttotal: 4s\tremaining: 8.63s\n",
      "190:\tlearn: 0.1969080\ttotal: 4.02s\tremaining: 8.61s\n",
      "191:\tlearn: 0.1967657\ttotal: 4.04s\tremaining: 8.59s\n",
      "192:\tlearn: 0.1967209\ttotal: 4.07s\tremaining: 8.58s\n",
      "193:\tlearn: 0.1966176\ttotal: 4.09s\tremaining: 8.55s\n",
      "194:\tlearn: 0.1964838\ttotal: 4.11s\tremaining: 8.53s\n",
      "195:\tlearn: 0.1963645\ttotal: 4.13s\tremaining: 8.51s\n",
      "196:\tlearn: 0.1962407\ttotal: 4.15s\tremaining: 8.49s\n",
      "197:\tlearn: 0.1960993\ttotal: 4.17s\tremaining: 8.47s\n",
      "198:\tlearn: 0.1959811\ttotal: 4.19s\tremaining: 8.45s\n",
      "199:\tlearn: 0.1958852\ttotal: 4.21s\tremaining: 8.43s\n",
      "200:\tlearn: 0.1957691\ttotal: 4.23s\tremaining: 8.4s\n",
      "201:\tlearn: 0.1956823\ttotal: 4.25s\tremaining: 8.38s\n",
      "202:\tlearn: 0.1956287\ttotal: 4.27s\tremaining: 8.36s\n",
      "203:\tlearn: 0.1954893\ttotal: 4.29s\tremaining: 8.33s\n",
      "204:\tlearn: 0.1953813\ttotal: 4.31s\tremaining: 8.31s\n",
      "205:\tlearn: 0.1952964\ttotal: 4.33s\tremaining: 8.29s\n",
      "206:\tlearn: 0.1951798\ttotal: 4.36s\tremaining: 8.27s\n",
      "207:\tlearn: 0.1951058\ttotal: 4.38s\tremaining: 8.25s\n",
      "208:\tlearn: 0.1949928\ttotal: 4.4s\tremaining: 8.23s\n",
      "209:\tlearn: 0.1949074\ttotal: 4.42s\tremaining: 8.21s\n",
      "210:\tlearn: 0.1947447\ttotal: 4.44s\tremaining: 8.19s\n",
      "211:\tlearn: 0.1945984\ttotal: 4.46s\tremaining: 8.17s\n",
      "212:\tlearn: 0.1944851\ttotal: 4.48s\tremaining: 8.15s\n",
      "213:\tlearn: 0.1943865\ttotal: 4.5s\tremaining: 8.13s\n",
      "214:\tlearn: 0.1942731\ttotal: 4.53s\tremaining: 8.11s\n",
      "215:\tlearn: 0.1942033\ttotal: 4.55s\tremaining: 8.09s\n",
      "216:\tlearn: 0.1941096\ttotal: 4.57s\tremaining: 8.06s\n",
      "217:\tlearn: 0.1940590\ttotal: 4.59s\tremaining: 8.04s\n",
      "218:\tlearn: 0.1939488\ttotal: 4.61s\tremaining: 8.02s\n",
      "219:\tlearn: 0.1938503\ttotal: 4.63s\tremaining: 8s\n",
      "220:\tlearn: 0.1937391\ttotal: 4.65s\tremaining: 7.98s\n",
      "221:\tlearn: 0.1936659\ttotal: 4.67s\tremaining: 7.96s\n",
      "222:\tlearn: 0.1935553\ttotal: 4.69s\tremaining: 7.93s\n",
      "223:\tlearn: 0.1934126\ttotal: 4.71s\tremaining: 7.91s\n",
      "224:\tlearn: 0.1933130\ttotal: 4.73s\tremaining: 7.89s\n",
      "225:\tlearn: 0.1931919\ttotal: 4.75s\tremaining: 7.87s\n",
      "226:\tlearn: 0.1930645\ttotal: 4.78s\tremaining: 7.85s\n",
      "227:\tlearn: 0.1929853\ttotal: 4.8s\tremaining: 7.83s\n",
      "228:\tlearn: 0.1928340\ttotal: 4.82s\tremaining: 7.8s\n",
      "229:\tlearn: 0.1927849\ttotal: 4.84s\tremaining: 7.78s\n",
      "230:\tlearn: 0.1927065\ttotal: 4.86s\tremaining: 7.76s\n",
      "231:\tlearn: 0.1925846\ttotal: 4.88s\tremaining: 7.74s\n",
      "232:\tlearn: 0.1925348\ttotal: 4.9s\tremaining: 7.72s\n",
      "233:\tlearn: 0.1925136\ttotal: 4.92s\tremaining: 7.69s\n",
      "234:\tlearn: 0.1924388\ttotal: 4.94s\tremaining: 7.67s\n",
      "235:\tlearn: 0.1923070\ttotal: 4.96s\tremaining: 7.65s\n",
      "236:\tlearn: 0.1921339\ttotal: 4.98s\tremaining: 7.63s\n",
      "237:\tlearn: 0.1920056\ttotal: 5s\tremaining: 7.61s\n",
      "238:\tlearn: 0.1918965\ttotal: 5.02s\tremaining: 7.58s\n",
      "239:\tlearn: 0.1918342\ttotal: 5.04s\tremaining: 7.56s\n",
      "240:\tlearn: 0.1916993\ttotal: 5.06s\tremaining: 7.54s\n",
      "241:\tlearn: 0.1915343\ttotal: 5.08s\tremaining: 7.52s\n",
      "242:\tlearn: 0.1913878\ttotal: 5.1s\tremaining: 7.5s\n",
      "243:\tlearn: 0.1912817\ttotal: 5.13s\tremaining: 7.48s\n",
      "244:\tlearn: 0.1911750\ttotal: 5.15s\tremaining: 7.46s\n",
      "245:\tlearn: 0.1910657\ttotal: 5.17s\tremaining: 7.43s\n",
      "246:\tlearn: 0.1909271\ttotal: 5.19s\tremaining: 7.41s\n",
      "247:\tlearn: 0.1907463\ttotal: 5.21s\tremaining: 7.39s\n",
      "248:\tlearn: 0.1906182\ttotal: 5.23s\tremaining: 7.37s\n",
      "249:\tlearn: 0.1905301\ttotal: 5.25s\tremaining: 7.35s\n",
      "250:\tlearn: 0.1903457\ttotal: 5.27s\tremaining: 7.33s\n",
      "251:\tlearn: 0.1902620\ttotal: 5.29s\tremaining: 7.3s\n",
      "252:\tlearn: 0.1902404\ttotal: 5.31s\tremaining: 7.28s\n",
      "253:\tlearn: 0.1900956\ttotal: 5.33s\tremaining: 7.26s\n",
      "254:\tlearn: 0.1900230\ttotal: 5.35s\tremaining: 7.24s\n",
      "255:\tlearn: 0.1899679\ttotal: 5.37s\tremaining: 7.22s\n",
      "256:\tlearn: 0.1897810\ttotal: 5.39s\tremaining: 7.2s\n",
      "257:\tlearn: 0.1895975\ttotal: 5.41s\tremaining: 7.17s\n",
      "258:\tlearn: 0.1894420\ttotal: 5.43s\tremaining: 7.15s\n",
      "259:\tlearn: 0.1893700\ttotal: 5.45s\tremaining: 7.13s\n",
      "260:\tlearn: 0.1892894\ttotal: 5.47s\tremaining: 7.11s\n",
      "261:\tlearn: 0.1891469\ttotal: 5.49s\tremaining: 7.09s\n",
      "262:\tlearn: 0.1891037\ttotal: 5.51s\tremaining: 7.07s\n",
      "263:\tlearn: 0.1890287\ttotal: 5.53s\tremaining: 7.04s\n",
      "264:\tlearn: 0.1889949\ttotal: 5.55s\tremaining: 7.02s\n",
      "265:\tlearn: 0.1889793\ttotal: 5.57s\tremaining: 7s\n",
      "266:\tlearn: 0.1889547\ttotal: 5.59s\tremaining: 6.98s\n",
      "267:\tlearn: 0.1888909\ttotal: 5.61s\tremaining: 6.95s\n",
      "268:\tlearn: 0.1887658\ttotal: 5.63s\tremaining: 6.93s\n",
      "269:\tlearn: 0.1885590\ttotal: 5.66s\tremaining: 6.91s\n",
      "270:\tlearn: 0.1884825\ttotal: 5.67s\tremaining: 6.89s\n",
      "271:\tlearn: 0.1884194\ttotal: 5.7s\tremaining: 6.87s\n",
      "272:\tlearn: 0.1883528\ttotal: 5.72s\tremaining: 6.85s\n",
      "273:\tlearn: 0.1883196\ttotal: 5.74s\tremaining: 6.82s\n",
      "274:\tlearn: 0.1882034\ttotal: 5.76s\tremaining: 6.8s\n",
      "275:\tlearn: 0.1881583\ttotal: 5.78s\tremaining: 6.78s\n",
      "276:\tlearn: 0.1880773\ttotal: 5.8s\tremaining: 6.76s\n",
      "277:\tlearn: 0.1879403\ttotal: 5.82s\tremaining: 6.74s\n",
      "278:\tlearn: 0.1879203\ttotal: 5.83s\tremaining: 6.71s\n",
      "279:\tlearn: 0.1878072\ttotal: 5.86s\tremaining: 6.69s\n",
      "280:\tlearn: 0.1877654\ttotal: 5.88s\tremaining: 6.67s\n",
      "281:\tlearn: 0.1876385\ttotal: 5.9s\tremaining: 6.65s\n",
      "282:\tlearn: 0.1875323\ttotal: 5.92s\tremaining: 6.63s\n",
      "283:\tlearn: 0.1873975\ttotal: 5.94s\tremaining: 6.61s\n",
      "284:\tlearn: 0.1872900\ttotal: 5.96s\tremaining: 6.59s\n",
      "285:\tlearn: 0.1872252\ttotal: 5.98s\tremaining: 6.57s\n",
      "286:\tlearn: 0.1871699\ttotal: 6s\tremaining: 6.54s\n",
      "287:\tlearn: 0.1870464\ttotal: 6.02s\tremaining: 6.52s\n",
      "288:\tlearn: 0.1869152\ttotal: 6.04s\tremaining: 6.5s\n",
      "289:\tlearn: 0.1867978\ttotal: 6.06s\tremaining: 6.48s\n",
      "290:\tlearn: 0.1866626\ttotal: 6.08s\tremaining: 6.46s\n",
      "291:\tlearn: 0.1865784\ttotal: 6.1s\tremaining: 6.44s\n",
      "292:\tlearn: 0.1864622\ttotal: 6.12s\tremaining: 6.42s\n",
      "293:\tlearn: 0.1863562\ttotal: 6.15s\tremaining: 6.4s\n",
      "294:\tlearn: 0.1862676\ttotal: 6.17s\tremaining: 6.38s\n",
      "295:\tlearn: 0.1861631\ttotal: 6.19s\tremaining: 6.36s\n",
      "296:\tlearn: 0.1860612\ttotal: 6.21s\tremaining: 6.34s\n",
      "297:\tlearn: 0.1859964\ttotal: 6.23s\tremaining: 6.32s\n",
      "298:\tlearn: 0.1859264\ttotal: 6.25s\tremaining: 6.29s\n",
      "299:\tlearn: 0.1858645\ttotal: 6.27s\tremaining: 6.27s\n",
      "300:\tlearn: 0.1857716\ttotal: 6.29s\tremaining: 6.25s\n",
      "301:\tlearn: 0.1857582\ttotal: 6.32s\tremaining: 6.23s\n",
      "302:\tlearn: 0.1856848\ttotal: 6.33s\tremaining: 6.21s\n",
      "303:\tlearn: 0.1856541\ttotal: 6.36s\tremaining: 6.19s\n",
      "304:\tlearn: 0.1854924\ttotal: 6.38s\tremaining: 6.17s\n",
      "305:\tlearn: 0.1853361\ttotal: 6.4s\tremaining: 6.15s\n",
      "306:\tlearn: 0.1852979\ttotal: 6.42s\tremaining: 6.13s\n",
      "307:\tlearn: 0.1851270\ttotal: 6.44s\tremaining: 6.11s\n",
      "308:\tlearn: 0.1850318\ttotal: 6.46s\tremaining: 6.08s\n",
      "309:\tlearn: 0.1849535\ttotal: 6.48s\tremaining: 6.06s\n",
      "310:\tlearn: 0.1848589\ttotal: 6.5s\tremaining: 6.04s\n",
      "311:\tlearn: 0.1847673\ttotal: 6.53s\tremaining: 6.02s\n",
      "312:\tlearn: 0.1847099\ttotal: 6.55s\tremaining: 6s\n",
      "313:\tlearn: 0.1845846\ttotal: 6.57s\tremaining: 5.98s\n",
      "314:\tlearn: 0.1845257\ttotal: 6.59s\tremaining: 5.96s\n",
      "315:\tlearn: 0.1844547\ttotal: 6.61s\tremaining: 5.94s\n",
      "316:\tlearn: 0.1843867\ttotal: 6.63s\tremaining: 5.92s\n",
      "317:\tlearn: 0.1843752\ttotal: 6.65s\tremaining: 5.9s\n",
      "318:\tlearn: 0.1843223\ttotal: 6.67s\tremaining: 5.88s\n",
      "319:\tlearn: 0.1842146\ttotal: 6.7s\tremaining: 5.86s\n",
      "320:\tlearn: 0.1841120\ttotal: 6.72s\tremaining: 5.84s\n",
      "321:\tlearn: 0.1840304\ttotal: 6.74s\tremaining: 5.82s\n",
      "322:\tlearn: 0.1839402\ttotal: 6.76s\tremaining: 5.8s\n",
      "323:\tlearn: 0.1838877\ttotal: 6.78s\tremaining: 5.78s\n",
      "324:\tlearn: 0.1837946\ttotal: 6.8s\tremaining: 5.76s\n",
      "325:\tlearn: 0.1837424\ttotal: 6.82s\tremaining: 5.74s\n",
      "326:\tlearn: 0.1837143\ttotal: 6.84s\tremaining: 5.71s\n",
      "327:\tlearn: 0.1836817\ttotal: 6.87s\tremaining: 5.69s\n",
      "328:\tlearn: 0.1836224\ttotal: 6.89s\tremaining: 5.67s\n"
     ]
    },
    {
     "name": "stdout",
     "output_type": "stream",
     "text": [
      "329:\tlearn: 0.1835606\ttotal: 6.91s\tremaining: 5.65s\n",
      "330:\tlearn: 0.1834436\ttotal: 6.93s\tremaining: 5.63s\n",
      "331:\tlearn: 0.1833808\ttotal: 6.95s\tremaining: 5.61s\n",
      "332:\tlearn: 0.1833564\ttotal: 6.97s\tremaining: 5.59s\n",
      "333:\tlearn: 0.1832430\ttotal: 6.99s\tremaining: 5.57s\n",
      "334:\tlearn: 0.1831539\ttotal: 7.01s\tremaining: 5.55s\n",
      "335:\tlearn: 0.1830829\ttotal: 7.03s\tremaining: 5.53s\n",
      "336:\tlearn: 0.1830119\ttotal: 7.05s\tremaining: 5.51s\n",
      "337:\tlearn: 0.1829071\ttotal: 7.08s\tremaining: 5.49s\n",
      "338:\tlearn: 0.1827686\ttotal: 7.1s\tremaining: 5.46s\n",
      "339:\tlearn: 0.1826444\ttotal: 7.12s\tremaining: 5.44s\n",
      "340:\tlearn: 0.1825462\ttotal: 7.14s\tremaining: 5.42s\n",
      "341:\tlearn: 0.1824725\ttotal: 7.16s\tremaining: 5.4s\n",
      "342:\tlearn: 0.1823439\ttotal: 7.18s\tremaining: 5.38s\n",
      "343:\tlearn: 0.1822868\ttotal: 7.2s\tremaining: 5.36s\n",
      "344:\tlearn: 0.1821991\ttotal: 7.22s\tremaining: 5.34s\n",
      "345:\tlearn: 0.1821496\ttotal: 7.25s\tremaining: 5.32s\n",
      "346:\tlearn: 0.1821300\ttotal: 7.27s\tremaining: 5.3s\n",
      "347:\tlearn: 0.1820721\ttotal: 7.29s\tremaining: 5.28s\n",
      "348:\tlearn: 0.1820010\ttotal: 7.31s\tremaining: 5.26s\n",
      "349:\tlearn: 0.1818743\ttotal: 7.33s\tremaining: 5.24s\n",
      "350:\tlearn: 0.1817913\ttotal: 7.35s\tremaining: 5.21s\n",
      "351:\tlearn: 0.1817222\ttotal: 7.37s\tremaining: 5.19s\n",
      "352:\tlearn: 0.1815773\ttotal: 7.39s\tremaining: 5.17s\n",
      "353:\tlearn: 0.1814761\ttotal: 7.41s\tremaining: 5.15s\n",
      "354:\tlearn: 0.1813072\ttotal: 7.43s\tremaining: 5.13s\n",
      "355:\tlearn: 0.1812446\ttotal: 7.46s\tremaining: 5.11s\n",
      "356:\tlearn: 0.1811584\ttotal: 7.48s\tremaining: 5.09s\n",
      "357:\tlearn: 0.1810708\ttotal: 7.5s\tremaining: 5.07s\n",
      "358:\tlearn: 0.1809337\ttotal: 7.52s\tremaining: 5.05s\n",
      "359:\tlearn: 0.1808149\ttotal: 7.54s\tremaining: 5.03s\n",
      "360:\tlearn: 0.1806984\ttotal: 7.56s\tremaining: 5s\n",
      "361:\tlearn: 0.1806083\ttotal: 7.58s\tremaining: 4.98s\n",
      "362:\tlearn: 0.1804864\ttotal: 7.6s\tremaining: 4.96s\n",
      "363:\tlearn: 0.1804372\ttotal: 7.62s\tremaining: 4.94s\n",
      "364:\tlearn: 0.1804026\ttotal: 7.64s\tremaining: 4.92s\n",
      "365:\tlearn: 0.1803235\ttotal: 7.66s\tremaining: 4.9s\n",
      "366:\tlearn: 0.1802887\ttotal: 7.68s\tremaining: 4.88s\n",
      "367:\tlearn: 0.1802230\ttotal: 7.7s\tremaining: 4.86s\n",
      "368:\tlearn: 0.1801960\ttotal: 7.72s\tremaining: 4.83s\n",
      "369:\tlearn: 0.1800954\ttotal: 7.74s\tremaining: 4.81s\n",
      "370:\tlearn: 0.1800203\ttotal: 7.76s\tremaining: 4.79s\n",
      "371:\tlearn: 0.1799119\ttotal: 7.78s\tremaining: 4.77s\n",
      "372:\tlearn: 0.1798911\ttotal: 7.8s\tremaining: 4.75s\n",
      "373:\tlearn: 0.1798116\ttotal: 7.82s\tremaining: 4.73s\n",
      "374:\tlearn: 0.1797259\ttotal: 7.84s\tremaining: 4.71s\n",
      "375:\tlearn: 0.1796606\ttotal: 7.86s\tremaining: 4.68s\n",
      "376:\tlearn: 0.1796113\ttotal: 7.88s\tremaining: 4.66s\n",
      "377:\tlearn: 0.1794669\ttotal: 7.9s\tremaining: 4.64s\n",
      "378:\tlearn: 0.1794155\ttotal: 7.92s\tremaining: 4.62s\n",
      "379:\tlearn: 0.1793225\ttotal: 7.95s\tremaining: 4.6s\n",
      "380:\tlearn: 0.1792760\ttotal: 7.97s\tremaining: 4.58s\n",
      "381:\tlearn: 0.1792023\ttotal: 7.99s\tremaining: 4.56s\n",
      "382:\tlearn: 0.1791752\ttotal: 8.01s\tremaining: 4.54s\n",
      "383:\tlearn: 0.1791098\ttotal: 8.03s\tremaining: 4.52s\n",
      "384:\tlearn: 0.1790520\ttotal: 8.05s\tremaining: 4.5s\n",
      "385:\tlearn: 0.1789384\ttotal: 8.07s\tremaining: 4.47s\n",
      "386:\tlearn: 0.1788909\ttotal: 8.09s\tremaining: 4.45s\n",
      "387:\tlearn: 0.1787191\ttotal: 8.11s\tremaining: 4.43s\n",
      "388:\tlearn: 0.1785904\ttotal: 8.13s\tremaining: 4.41s\n",
      "389:\tlearn: 0.1784692\ttotal: 8.15s\tremaining: 4.39s\n",
      "390:\tlearn: 0.1783537\ttotal: 8.18s\tremaining: 4.37s\n",
      "391:\tlearn: 0.1782501\ttotal: 8.2s\tremaining: 4.35s\n",
      "392:\tlearn: 0.1781823\ttotal: 8.22s\tremaining: 4.33s\n",
      "393:\tlearn: 0.1780608\ttotal: 8.24s\tremaining: 4.31s\n",
      "394:\tlearn: 0.1779505\ttotal: 8.26s\tremaining: 4.29s\n",
      "395:\tlearn: 0.1779020\ttotal: 8.28s\tremaining: 4.26s\n",
      "396:\tlearn: 0.1777421\ttotal: 8.3s\tremaining: 4.24s\n",
      "397:\tlearn: 0.1776557\ttotal: 8.32s\tremaining: 4.22s\n",
      "398:\tlearn: 0.1775938\ttotal: 8.34s\tremaining: 4.2s\n",
      "399:\tlearn: 0.1775520\ttotal: 8.36s\tremaining: 4.18s\n",
      "400:\tlearn: 0.1774054\ttotal: 8.38s\tremaining: 4.16s\n",
      "401:\tlearn: 0.1773049\ttotal: 8.4s\tremaining: 4.14s\n",
      "402:\tlearn: 0.1772705\ttotal: 8.42s\tremaining: 4.12s\n",
      "403:\tlearn: 0.1771942\ttotal: 8.44s\tremaining: 4.09s\n",
      "404:\tlearn: 0.1770806\ttotal: 8.46s\tremaining: 4.07s\n",
      "405:\tlearn: 0.1769983\ttotal: 8.48s\tremaining: 4.05s\n",
      "406:\tlearn: 0.1769102\ttotal: 8.5s\tremaining: 4.03s\n",
      "407:\tlearn: 0.1768197\ttotal: 8.52s\tremaining: 4.01s\n",
      "408:\tlearn: 0.1767439\ttotal: 8.54s\tremaining: 3.99s\n",
      "409:\tlearn: 0.1767240\ttotal: 8.56s\tremaining: 3.97s\n",
      "410:\tlearn: 0.1766879\ttotal: 8.58s\tremaining: 3.95s\n",
      "411:\tlearn: 0.1766243\ttotal: 8.6s\tremaining: 3.93s\n",
      "412:\tlearn: 0.1765846\ttotal: 8.62s\tremaining: 3.9s\n",
      "413:\tlearn: 0.1765514\ttotal: 8.64s\tremaining: 3.88s\n",
      "414:\tlearn: 0.1764970\ttotal: 8.66s\tremaining: 3.86s\n",
      "415:\tlearn: 0.1763981\ttotal: 8.69s\tremaining: 3.84s\n",
      "416:\tlearn: 0.1763827\ttotal: 8.7s\tremaining: 3.82s\n",
      "417:\tlearn: 0.1763257\ttotal: 8.72s\tremaining: 3.8s\n",
      "418:\tlearn: 0.1762464\ttotal: 8.74s\tremaining: 3.78s\n",
      "419:\tlearn: 0.1762081\ttotal: 8.77s\tremaining: 3.76s\n",
      "420:\tlearn: 0.1761154\ttotal: 8.79s\tremaining: 3.74s\n",
      "421:\tlearn: 0.1760005\ttotal: 8.81s\tremaining: 3.71s\n",
      "422:\tlearn: 0.1759666\ttotal: 8.83s\tremaining: 3.69s\n",
      "423:\tlearn: 0.1759137\ttotal: 8.85s\tremaining: 3.67s\n",
      "424:\tlearn: 0.1758066\ttotal: 8.87s\tremaining: 3.65s\n",
      "425:\tlearn: 0.1757437\ttotal: 8.89s\tremaining: 3.63s\n",
      "426:\tlearn: 0.1756201\ttotal: 8.91s\tremaining: 3.61s\n",
      "427:\tlearn: 0.1755055\ttotal: 8.93s\tremaining: 3.59s\n",
      "428:\tlearn: 0.1754344\ttotal: 8.95s\tremaining: 3.57s\n",
      "429:\tlearn: 0.1754091\ttotal: 8.97s\tremaining: 3.55s\n",
      "430:\tlearn: 0.1752782\ttotal: 8.99s\tremaining: 3.53s\n",
      "431:\tlearn: 0.1751783\ttotal: 9.02s\tremaining: 3.51s\n",
      "432:\tlearn: 0.1750627\ttotal: 9.04s\tremaining: 3.48s\n",
      "433:\tlearn: 0.1750105\ttotal: 9.06s\tremaining: 3.46s\n",
      "434:\tlearn: 0.1749183\ttotal: 9.08s\tremaining: 3.44s\n",
      "435:\tlearn: 0.1748514\ttotal: 9.1s\tremaining: 3.42s\n",
      "436:\tlearn: 0.1747855\ttotal: 9.12s\tremaining: 3.4s\n",
      "437:\tlearn: 0.1746726\ttotal: 9.14s\tremaining: 3.38s\n",
      "438:\tlearn: 0.1746310\ttotal: 9.16s\tremaining: 3.36s\n",
      "439:\tlearn: 0.1745398\ttotal: 9.18s\tremaining: 3.34s\n",
      "440:\tlearn: 0.1744748\ttotal: 9.2s\tremaining: 3.32s\n",
      "441:\tlearn: 0.1743657\ttotal: 9.22s\tremaining: 3.3s\n",
      "442:\tlearn: 0.1742878\ttotal: 9.24s\tremaining: 3.27s\n",
      "443:\tlearn: 0.1742216\ttotal: 9.26s\tremaining: 3.25s\n",
      "444:\tlearn: 0.1740914\ttotal: 9.28s\tremaining: 3.23s\n",
      "445:\tlearn: 0.1740108\ttotal: 9.3s\tremaining: 3.21s\n",
      "446:\tlearn: 0.1739937\ttotal: 9.32s\tremaining: 3.19s\n",
      "447:\tlearn: 0.1738876\ttotal: 9.35s\tremaining: 3.17s\n",
      "448:\tlearn: 0.1737983\ttotal: 9.37s\tremaining: 3.15s\n",
      "449:\tlearn: 0.1737763\ttotal: 9.39s\tremaining: 3.13s\n",
      "450:\tlearn: 0.1737388\ttotal: 9.41s\tremaining: 3.11s\n",
      "451:\tlearn: 0.1736689\ttotal: 9.43s\tremaining: 3.09s\n",
      "452:\tlearn: 0.1736231\ttotal: 9.45s\tremaining: 3.06s\n",
      "453:\tlearn: 0.1735705\ttotal: 9.47s\tremaining: 3.04s\n",
      "454:\tlearn: 0.1735369\ttotal: 9.49s\tremaining: 3.02s\n",
      "455:\tlearn: 0.1733883\ttotal: 9.51s\tremaining: 3s\n",
      "456:\tlearn: 0.1732511\ttotal: 9.53s\tremaining: 2.98s\n",
      "457:\tlearn: 0.1731862\ttotal: 9.55s\tremaining: 2.96s\n",
      "458:\tlearn: 0.1730754\ttotal: 9.57s\tremaining: 2.94s\n",
      "459:\tlearn: 0.1730122\ttotal: 9.59s\tremaining: 2.92s\n",
      "460:\tlearn: 0.1729174\ttotal: 9.62s\tremaining: 2.9s\n",
      "461:\tlearn: 0.1728944\ttotal: 9.63s\tremaining: 2.88s\n",
      "462:\tlearn: 0.1728481\ttotal: 9.65s\tremaining: 2.86s\n",
      "463:\tlearn: 0.1728069\ttotal: 9.68s\tremaining: 2.84s\n",
      "464:\tlearn: 0.1727063\ttotal: 9.7s\tremaining: 2.81s\n",
      "465:\tlearn: 0.1726520\ttotal: 9.72s\tremaining: 2.79s\n",
      "466:\tlearn: 0.1725584\ttotal: 9.74s\tremaining: 2.77s\n",
      "467:\tlearn: 0.1724431\ttotal: 9.76s\tremaining: 2.75s\n",
      "468:\tlearn: 0.1723637\ttotal: 9.78s\tremaining: 2.73s\n",
      "469:\tlearn: 0.1722839\ttotal: 9.8s\tremaining: 2.71s\n",
      "470:\tlearn: 0.1721821\ttotal: 9.82s\tremaining: 2.69s\n",
      "471:\tlearn: 0.1721152\ttotal: 9.84s\tremaining: 2.67s\n",
      "472:\tlearn: 0.1720586\ttotal: 9.86s\tremaining: 2.65s\n",
      "473:\tlearn: 0.1720070\ttotal: 9.88s\tremaining: 2.63s\n",
      "474:\tlearn: 0.1719585\ttotal: 9.9s\tremaining: 2.61s\n",
      "475:\tlearn: 0.1719439\ttotal: 9.92s\tremaining: 2.58s\n",
      "476:\tlearn: 0.1718891\ttotal: 9.94s\tremaining: 2.56s\n",
      "477:\tlearn: 0.1718347\ttotal: 9.96s\tremaining: 2.54s\n",
      "478:\tlearn: 0.1717336\ttotal: 9.99s\tremaining: 2.52s\n",
      "479:\tlearn: 0.1716286\ttotal: 10s\tremaining: 2.5s\n",
      "480:\tlearn: 0.1715655\ttotal: 10s\tremaining: 2.48s\n",
      "481:\tlearn: 0.1715058\ttotal: 10s\tremaining: 2.46s\n",
      "482:\tlearn: 0.1714368\ttotal: 10.1s\tremaining: 2.44s\n",
      "483:\tlearn: 0.1713537\ttotal: 10.1s\tremaining: 2.42s\n",
      "484:\tlearn: 0.1712972\ttotal: 10.1s\tremaining: 2.4s\n",
      "485:\tlearn: 0.1712205\ttotal: 10.1s\tremaining: 2.38s\n",
      "486:\tlearn: 0.1711700\ttotal: 10.2s\tremaining: 2.35s\n",
      "487:\tlearn: 0.1710705\ttotal: 10.2s\tremaining: 2.33s\n",
      "488:\tlearn: 0.1709976\ttotal: 10.2s\tremaining: 2.31s\n"
     ]
    },
    {
     "name": "stdout",
     "output_type": "stream",
     "text": [
      "489:\tlearn: 0.1709168\ttotal: 10.2s\tremaining: 2.29s\n",
      "490:\tlearn: 0.1708738\ttotal: 10.2s\tremaining: 2.27s\n",
      "491:\tlearn: 0.1707761\ttotal: 10.3s\tremaining: 2.25s\n",
      "492:\tlearn: 0.1707459\ttotal: 10.3s\tremaining: 2.23s\n",
      "493:\tlearn: 0.1707183\ttotal: 10.3s\tremaining: 2.21s\n",
      "494:\tlearn: 0.1706685\ttotal: 10.3s\tremaining: 2.19s\n",
      "495:\tlearn: 0.1706284\ttotal: 10.3s\tremaining: 2.17s\n",
      "496:\tlearn: 0.1705671\ttotal: 10.4s\tremaining: 2.15s\n",
      "497:\tlearn: 0.1704409\ttotal: 10.4s\tremaining: 2.13s\n",
      "498:\tlearn: 0.1703571\ttotal: 10.4s\tremaining: 2.1s\n",
      "499:\tlearn: 0.1703288\ttotal: 10.4s\tremaining: 2.08s\n",
      "500:\tlearn: 0.1701980\ttotal: 10.4s\tremaining: 2.06s\n",
      "501:\tlearn: 0.1701653\ttotal: 10.5s\tremaining: 2.04s\n",
      "502:\tlearn: 0.1700086\ttotal: 10.5s\tremaining: 2.02s\n",
      "503:\tlearn: 0.1699610\ttotal: 10.5s\tremaining: 2s\n",
      "504:\tlearn: 0.1699359\ttotal: 10.5s\tremaining: 1.98s\n",
      "505:\tlearn: 0.1699015\ttotal: 10.5s\tremaining: 1.96s\n",
      "506:\tlearn: 0.1698092\ttotal: 10.6s\tremaining: 1.94s\n",
      "507:\tlearn: 0.1696916\ttotal: 10.6s\tremaining: 1.92s\n",
      "508:\tlearn: 0.1696231\ttotal: 10.6s\tremaining: 1.9s\n",
      "509:\tlearn: 0.1695554\ttotal: 10.6s\tremaining: 1.88s\n",
      "510:\tlearn: 0.1694664\ttotal: 10.6s\tremaining: 1.85s\n",
      "511:\tlearn: 0.1694137\ttotal: 10.7s\tremaining: 1.83s\n",
      "512:\tlearn: 0.1692997\ttotal: 10.7s\tremaining: 1.81s\n",
      "513:\tlearn: 0.1692492\ttotal: 10.7s\tremaining: 1.79s\n",
      "514:\tlearn: 0.1691733\ttotal: 10.7s\tremaining: 1.77s\n",
      "515:\tlearn: 0.1690733\ttotal: 10.8s\tremaining: 1.75s\n",
      "516:\tlearn: 0.1689750\ttotal: 10.8s\tremaining: 1.73s\n",
      "517:\tlearn: 0.1689396\ttotal: 10.8s\tremaining: 1.71s\n",
      "518:\tlearn: 0.1688805\ttotal: 10.8s\tremaining: 1.69s\n",
      "519:\tlearn: 0.1687690\ttotal: 10.8s\tremaining: 1.67s\n",
      "520:\tlearn: 0.1687197\ttotal: 10.9s\tremaining: 1.65s\n",
      "521:\tlearn: 0.1686765\ttotal: 10.9s\tremaining: 1.62s\n",
      "522:\tlearn: 0.1686193\ttotal: 10.9s\tremaining: 1.6s\n",
      "523:\tlearn: 0.1685536\ttotal: 10.9s\tremaining: 1.58s\n",
      "524:\tlearn: 0.1684710\ttotal: 10.9s\tremaining: 1.56s\n",
      "525:\tlearn: 0.1684014\ttotal: 11s\tremaining: 1.54s\n",
      "526:\tlearn: 0.1683013\ttotal: 11s\tremaining: 1.52s\n",
      "527:\tlearn: 0.1682765\ttotal: 11s\tremaining: 1.5s\n",
      "528:\tlearn: 0.1682639\ttotal: 11s\tremaining: 1.48s\n",
      "529:\tlearn: 0.1682344\ttotal: 11s\tremaining: 1.46s\n",
      "530:\tlearn: 0.1681490\ttotal: 11.1s\tremaining: 1.44s\n",
      "531:\tlearn: 0.1680626\ttotal: 11.1s\tremaining: 1.42s\n",
      "532:\tlearn: 0.1680443\ttotal: 11.1s\tremaining: 1.4s\n",
      "533:\tlearn: 0.1679332\ttotal: 11.1s\tremaining: 1.37s\n",
      "534:\tlearn: 0.1678469\ttotal: 11.1s\tremaining: 1.35s\n",
      "535:\tlearn: 0.1677565\ttotal: 11.2s\tremaining: 1.33s\n",
      "536:\tlearn: 0.1677449\ttotal: 11.2s\tremaining: 1.31s\n",
      "537:\tlearn: 0.1676568\ttotal: 11.2s\tremaining: 1.29s\n",
      "538:\tlearn: 0.1675646\ttotal: 11.2s\tremaining: 1.27s\n",
      "539:\tlearn: 0.1674974\ttotal: 11.2s\tremaining: 1.25s\n",
      "540:\tlearn: 0.1674496\ttotal: 11.3s\tremaining: 1.23s\n",
      "541:\tlearn: 0.1674217\ttotal: 11.3s\tremaining: 1.21s\n",
      "542:\tlearn: 0.1673262\ttotal: 11.3s\tremaining: 1.19s\n",
      "543:\tlearn: 0.1672866\ttotal: 11.3s\tremaining: 1.17s\n",
      "544:\tlearn: 0.1672026\ttotal: 11.3s\tremaining: 1.15s\n",
      "545:\tlearn: 0.1671244\ttotal: 11.4s\tremaining: 1.12s\n",
      "546:\tlearn: 0.1670436\ttotal: 11.4s\tremaining: 1.1s\n",
      "547:\tlearn: 0.1669434\ttotal: 11.4s\tremaining: 1.08s\n",
      "548:\tlearn: 0.1668433\ttotal: 11.4s\tremaining: 1.06s\n",
      "549:\tlearn: 0.1667861\ttotal: 11.4s\tremaining: 1.04s\n",
      "550:\tlearn: 0.1666835\ttotal: 11.5s\tremaining: 1.02s\n",
      "551:\tlearn: 0.1666270\ttotal: 11.5s\tremaining: 999ms\n",
      "552:\tlearn: 0.1665413\ttotal: 11.5s\tremaining: 978ms\n",
      "553:\tlearn: 0.1665325\ttotal: 11.5s\tremaining: 958ms\n",
      "554:\tlearn: 0.1665026\ttotal: 11.6s\tremaining: 937ms\n",
      "555:\tlearn: 0.1664228\ttotal: 11.6s\tremaining: 916ms\n",
      "556:\tlearn: 0.1663637\ttotal: 11.6s\tremaining: 895ms\n",
      "557:\tlearn: 0.1662949\ttotal: 11.6s\tremaining: 874ms\n",
      "558:\tlearn: 0.1662229\ttotal: 11.6s\tremaining: 853ms\n",
      "559:\tlearn: 0.1661593\ttotal: 11.7s\tremaining: 833ms\n",
      "560:\tlearn: 0.1660867\ttotal: 11.7s\tremaining: 812ms\n",
      "561:\tlearn: 0.1659735\ttotal: 11.7s\tremaining: 791ms\n",
      "562:\tlearn: 0.1659526\ttotal: 11.7s\tremaining: 770ms\n",
      "563:\tlearn: 0.1658343\ttotal: 11.7s\tremaining: 749ms\n",
      "564:\tlearn: 0.1657561\ttotal: 11.8s\tremaining: 728ms\n",
      "565:\tlearn: 0.1656825\ttotal: 11.8s\tremaining: 708ms\n",
      "566:\tlearn: 0.1656129\ttotal: 11.8s\tremaining: 687ms\n",
      "567:\tlearn: 0.1655687\ttotal: 11.8s\tremaining: 666ms\n",
      "568:\tlearn: 0.1654670\ttotal: 11.8s\tremaining: 645ms\n",
      "569:\tlearn: 0.1654376\ttotal: 11.9s\tremaining: 624ms\n",
      "570:\tlearn: 0.1653789\ttotal: 11.9s\tremaining: 604ms\n",
      "571:\tlearn: 0.1652845\ttotal: 11.9s\tremaining: 583ms\n",
      "572:\tlearn: 0.1651905\ttotal: 11.9s\tremaining: 562ms\n",
      "573:\tlearn: 0.1650740\ttotal: 11.9s\tremaining: 541ms\n",
      "574:\tlearn: 0.1649910\ttotal: 12s\tremaining: 520ms\n",
      "575:\tlearn: 0.1648911\ttotal: 12s\tremaining: 500ms\n",
      "576:\tlearn: 0.1648142\ttotal: 12s\tremaining: 479ms\n",
      "577:\tlearn: 0.1647466\ttotal: 12s\tremaining: 458ms\n",
      "578:\tlearn: 0.1646777\ttotal: 12.1s\tremaining: 437ms\n",
      "579:\tlearn: 0.1646540\ttotal: 12.1s\tremaining: 416ms\n",
      "580:\tlearn: 0.1646119\ttotal: 12.1s\tremaining: 395ms\n",
      "581:\tlearn: 0.1645836\ttotal: 12.1s\tremaining: 375ms\n",
      "582:\tlearn: 0.1645105\ttotal: 12.1s\tremaining: 354ms\n",
      "583:\tlearn: 0.1644436\ttotal: 12.2s\tremaining: 333ms\n",
      "584:\tlearn: 0.1644052\ttotal: 12.2s\tremaining: 312ms\n",
      "585:\tlearn: 0.1643533\ttotal: 12.2s\tremaining: 291ms\n",
      "586:\tlearn: 0.1642628\ttotal: 12.2s\tremaining: 271ms\n",
      "587:\tlearn: 0.1641952\ttotal: 12.2s\tremaining: 250ms\n",
      "588:\tlearn: 0.1640984\ttotal: 12.3s\tremaining: 229ms\n",
      "589:\tlearn: 0.1640618\ttotal: 12.3s\tremaining: 208ms\n",
      "590:\tlearn: 0.1640106\ttotal: 12.3s\tremaining: 187ms\n",
      "591:\tlearn: 0.1639191\ttotal: 12.3s\tremaining: 166ms\n",
      "592:\tlearn: 0.1638358\ttotal: 12.3s\tremaining: 146ms\n",
      "593:\tlearn: 0.1637734\ttotal: 12.4s\tremaining: 125ms\n",
      "594:\tlearn: 0.1637077\ttotal: 12.4s\tremaining: 104ms\n",
      "595:\tlearn: 0.1636186\ttotal: 12.4s\tremaining: 83.2ms\n",
      "596:\tlearn: 0.1634948\ttotal: 12.4s\tremaining: 62.4ms\n",
      "597:\tlearn: 0.1634132\ttotal: 12.4s\tremaining: 41.6ms\n",
      "598:\tlearn: 0.1633016\ttotal: 12.5s\tremaining: 20.8ms\n",
      "599:\tlearn: 0.1632536\ttotal: 12.5s\tremaining: 0us\n"
     ]
    },
    {
     "data": {
      "text/plain": [
       "GridSearchCV(cv=None, error_score=nan,\n",
       "             estimator=<catboost.core.CatBoostClassifier object at 0x7fcd2ed16150>,\n",
       "             iid='deprecated', n_jobs=-1,\n",
       "             param_grid={'bagging_temperature': [1],\n",
       "                         'custom_loss': ['AUC', 'Accuracy'],\n",
       "                         'iterations': [500, 600], 'l2_leaf_reg': [3.0, 4.0],\n",
       "                         'learning_rate': [0.1, 0.3, 0.7], 'od_type': ['Iter'],\n",
       "                         'od_wait': [20], 'random_seed': [63],\n",
       "                         'random_strength': [1, 3], 'thread_count': [1, 3]},\n",
       "             pre_dispatch='2*n_jobs', refit=True, return_train_score=False,\n",
       "             scoring=None, verbose=5)"
      ]
     },
     "execution_count": 76,
     "metadata": {},
     "output_type": "execute_result"
    }
   ],
   "source": [
    "best_model.fit(reg_train, train_df['default_12m'])"
   ]
  },
  {
   "cell_type": "code",
   "execution_count": 77,
   "metadata": {},
   "outputs": [
    {
     "name": "stdout",
     "output_type": "stream",
     "text": [
      "0.9366568914956013\n",
      "{'bagging_temperature': 1, 'custom_loss': 'AUC', 'iterations': 600, 'l2_leaf_reg': 3.0, 'learning_rate': 0.1, 'od_type': 'Iter', 'od_wait': 20, 'random_seed': 63, 'random_strength': 1, 'thread_count': 1}\n",
      "<catboost.core.CatBoostClassifier object at 0x7fcd224b8690>\n"
     ]
    },
    {
     "data": {
      "text/plain": [
       "0.9366568914956013"
      ]
     },
     "execution_count": 77,
     "metadata": {},
     "output_type": "execute_result"
    }
   ],
   "source": [
    "get_best_score(best_model)"
   ]
  },
  {
   "cell_type": "code",
   "execution_count": 78,
   "metadata": {},
   "outputs": [],
   "source": [
    "answ_df['predict'] = (best_model.predict_proba(test_df_new_reg[features_reg])[:,1]>cutoff).astype(int)\n",
    "answ_df.to_csv('PD-submit.csv',index=False, sep=';')"
   ]
  },
  {
   "cell_type": "markdown",
   "metadata": {},
   "source": [
    "По итогам подбора гиперпараметров на предыдущих моделях лучший показатель для accuracy - 66,5%"
   ]
  },
  {
   "cell_type": "code",
   "execution_count": 46,
   "metadata": {
    "collapsed": true
   },
   "outputs": [
    {
     "name": "stdout",
     "output_type": "stream",
     "text": [
      "Fitting 5 folds for each of 1 candidates, totalling 5 fits\n"
     ]
    },
    {
     "name": "stderr",
     "output_type": "stream",
     "text": [
      "[Parallel(n_jobs=-1)]: Using backend LokyBackend with 16 concurrent workers.\n",
      "[Parallel(n_jobs=-1)]: Done   5 out of   5 | elapsed:   31.6s finished\n"
     ]
    },
    {
     "data": {
      "text/plain": [
       "GridSearchCV(cv=None, error_score=nan,\n",
       "             estimator=RandomForestClassifier(bootstrap=True, ccp_alpha=0.0,\n",
       "                                              class_weight=None,\n",
       "                                              criterion='gini', max_depth=None,\n",
       "                                              max_features='auto',\n",
       "                                              max_leaf_nodes=None,\n",
       "                                              max_samples=None,\n",
       "                                              min_impurity_decrease=0.0,\n",
       "                                              min_impurity_split=None,\n",
       "                                              min_samples_leaf=1,\n",
       "                                              min_samples_split=2,\n",
       "                                              min_weight_fraction_leaf=0.0,\n",
       "                                              n_estimators=100, n_jobs=None,\n",
       "                                              oob_score=False,\n",
       "                                              random_state=None, verbose=0,\n",
       "                                              warm_start=False),\n",
       "             iid='deprecated', n_jobs=-1,\n",
       "             param_grid={'max_depth': [19], 'max_features': [15],\n",
       "                         'min_samples_split': [2], 'n_estimators': [323],\n",
       "                         'random_state': [42]},\n",
       "             pre_dispatch='2*n_jobs', refit=True, return_train_score=False,\n",
       "             scoring=None, verbose=1)"
      ]
     },
     "execution_count": 46,
     "metadata": {},
     "output_type": "execute_result"
    }
   ],
   "source": [
    "from sklearn.ensemble import RandomForestClassifier\n",
    "rfc = RandomForestClassifier()\n",
    "\n",
    "param_grid = {'max_depth': [19], 'max_features': [15],  \n",
    "              'min_samples_split': [2], 'n_estimators': [323],\n",
    "              'random_state': [42]}\n",
    "\n",
    "rf_grid = GridSearchCV(rfc, param_grid, refit=True, verbose=1, n_jobs=-1)\n",
    "rf_grid.fit(reg_train, train_df['default_12m'])"
   ]
  },
  {
   "cell_type": "code",
   "execution_count": 47,
   "metadata": {
    "collapsed": true
   },
   "outputs": [
    {
     "name": "stdout",
     "output_type": "stream",
     "text": [
      "0.9373360086433091\n",
      "{'max_depth': 19, 'max_features': 15, 'min_samples_split': 2, 'n_estimators': 323, 'random_state': 42}\n",
      "RandomForestClassifier(bootstrap=True, ccp_alpha=0.0, class_weight=None,\n",
      "                       criterion='gini', max_depth=19, max_features=15,\n",
      "                       max_leaf_nodes=None, max_samples=None,\n",
      "                       min_impurity_decrease=0.0, min_impurity_split=None,\n",
      "                       min_samples_leaf=1, min_samples_split=2,\n",
      "                       min_weight_fraction_leaf=0.0, n_estimators=323,\n",
      "                       n_jobs=None, oob_score=False, random_state=42, verbose=0,\n",
      "                       warm_start=False)\n"
     ]
    },
    {
     "data": {
      "text/plain": [
       "0.9373360086433091"
      ]
     },
     "execution_count": 47,
     "metadata": {},
     "output_type": "execute_result"
    }
   ],
   "source": [
    "get_best_score(rf_grid)"
   ]
  },
  {
   "cell_type": "code",
   "execution_count": 43,
   "metadata": {
    "collapsed": true
   },
   "outputs": [
    {
     "ename": "NameError",
     "evalue": "name 'rf_grid' is not defined",
     "output_type": "error",
     "traceback": [
      "\u001b[0;31m---------------------------------------------------------------------------\u001b[0m",
      "\u001b[0;31mNameError\u001b[0m                                 Traceback (most recent call last)",
      "\u001b[0;32m<ipython-input-43-8a35ac417de6>\u001b[0m in \u001b[0;36m<module>\u001b[0;34m\u001b[0m\n\u001b[0;32m----> 1\u001b[0;31m \u001b[0mansw_df\u001b[0m\u001b[0;34m[\u001b[0m\u001b[0;34m'predict'\u001b[0m\u001b[0;34m]\u001b[0m \u001b[0;34m=\u001b[0m \u001b[0;34m(\u001b[0m\u001b[0mrf_grid\u001b[0m\u001b[0;34m.\u001b[0m\u001b[0mpredict_proba\u001b[0m\u001b[0;34m(\u001b[0m\u001b[0mtest_df_new_reg\u001b[0m\u001b[0;34m.\u001b[0m\u001b[0mloc\u001b[0m\u001b[0;34m[\u001b[0m\u001b[0;34m:\u001b[0m\u001b[0;34m,\u001b[0m \u001b[0mfeatures_reg\u001b[0m\u001b[0;34m]\u001b[0m\u001b[0;34m)\u001b[0m\u001b[0;34m[\u001b[0m\u001b[0;34m:\u001b[0m\u001b[0;34m,\u001b[0m\u001b[0;36m1\u001b[0m\u001b[0;34m]\u001b[0m\u001b[0;34m>\u001b[0m\u001b[0mcutoff\u001b[0m\u001b[0;34m)\u001b[0m\u001b[0;34m.\u001b[0m\u001b[0mastype\u001b[0m\u001b[0;34m(\u001b[0m\u001b[0mint\u001b[0m\u001b[0;34m)\u001b[0m\u001b[0;34m\u001b[0m\u001b[0;34m\u001b[0m\u001b[0m\n\u001b[0m\u001b[1;32m      2\u001b[0m \u001b[0mansw_df\u001b[0m\u001b[0;34m.\u001b[0m\u001b[0mto_csv\u001b[0m\u001b[0;34m(\u001b[0m\u001b[0;34m'PD-submit.csv'\u001b[0m\u001b[0;34m,\u001b[0m\u001b[0mindex\u001b[0m\u001b[0;34m=\u001b[0m\u001b[0;32mFalse\u001b[0m\u001b[0;34m,\u001b[0m \u001b[0msep\u001b[0m\u001b[0;34m=\u001b[0m\u001b[0;34m';'\u001b[0m\u001b[0;34m)\u001b[0m\u001b[0;34m\u001b[0m\u001b[0;34m\u001b[0m\u001b[0m\n",
      "\u001b[0;31mNameError\u001b[0m: name 'rf_grid' is not defined"
     ]
    }
   ],
   "source": [
    "answ_df['predict'] = (rf_grid.predict_proba(test_df_new_reg.loc[:, features_reg])[:,1]>cutoff).astype(int)\n",
    "answ_df.to_csv('PD-submit.csv',index=False, sep=';')"
   ]
  },
  {
   "cell_type": "markdown",
   "metadata": {},
   "source": [
    "Дропнем признаки с прямой корреляцией и попробуем обучить"
   ]
  },
  {
   "cell_type": "code",
   "execution_count": 44,
   "metadata": {},
   "outputs": [],
   "source": [
    "short_df = reg_train.drop(['ar_total_expenses', 'head_actual_age'], axis=1)"
   ]
  },
  {
   "cell_type": "code",
   "execution_count": 45,
   "metadata": {
    "scrolled": true
   },
   "outputs": [
    {
     "data": {
      "image/png": "[encoded data removed]",
      "text/plain": [
       "<Figure size 1440x1440 with 2 Axes>"
      ]
     },
     "metadata": {
      "needs_background": "light"
     },
     "output_type": "display_data"
    }
   ],
   "source": [
    "plt.subplots(figsize=(20,20))\n",
    "sns.heatmap(short_df.corr(), square=True)\n",
    "plt.show()"
   ]
  },
  {
   "cell_type": "code",
   "execution_count": 46,
   "metadata": {},
   "outputs": [],
   "source": [
    "features_short = short_df.columns.tolist()"
   ]
  },
  {
   "cell_type": "code",
   "execution_count": 45,
   "metadata": {},
   "outputs": [
    {
     "name": "stdout",
     "output_type": "stream",
     "text": [
      "Fitting 5 folds for each of 1 candidates, totalling 5 fits\n"
     ]
    },
    {
     "name": "stderr",
     "output_type": "stream",
     "text": [
      "[Parallel(n_jobs=-1)]: Using backend LokyBackend with 16 concurrent workers.\n",
      "[Parallel(n_jobs=-1)]: Done   5 out of   5 | elapsed:   30.6s finished\n"
     ]
    },
    {
     "name": "stdout",
     "output_type": "stream",
     "text": [
      "0.9373668776045687\n",
      "{'max_depth': 19, 'max_features': 15, 'min_samples_split': 2, 'n_estimators': 323, 'random_state': 42}\n",
      "RandomForestClassifier(bootstrap=True, ccp_alpha=0.0, class_weight=None,\n",
      "                       criterion='gini', max_depth=19, max_features=15,\n",
      "                       max_leaf_nodes=None, max_samples=None,\n",
      "                       min_impurity_decrease=0.0, min_impurity_split=None,\n",
      "                       min_samples_leaf=1, min_samples_split=2,\n",
      "                       min_weight_fraction_leaf=0.0, n_estimators=323,\n",
      "                       n_jobs=None, oob_score=False, random_state=42, verbose=0,\n",
      "                       warm_start=False)\n"
     ]
    },
    {
     "data": {
      "text/plain": [
       "0.9373668776045687"
      ]
     },
     "execution_count": 45,
     "metadata": {},
     "output_type": "execute_result"
    }
   ],
   "source": [
    "from sklearn.ensemble import RandomForestClassifier\n",
    "rfc = RandomForestClassifier()\n",
    "\n",
    "param_grid = {'max_depth': [19], 'max_features': [15],  \n",
    "              'min_samples_split': [2], 'n_estimators': [323],\n",
    "              'random_state': [42]}\n",
    "\n",
    "rf_grid = GridSearchCV(rfc, param_grid, refit=True, verbose=1, n_jobs=-1)\n",
    "rf_grid.fit(short_df, train_df['default_12m'])\n",
    "get_best_score(rf_grid)"
   ]
  },
  {
   "cell_type": "code",
   "execution_count": 46,
   "metadata": {},
   "outputs": [],
   "source": [
    "answ_df['predict'] = (rf_grid.predict_proba(test_df_new_reg.loc[:, features_short])[:,1]>cutoff).astype(int)\n",
    "answ_df.to_csv('PD-submit.csv',index=False, sep=';')"
   ]
  },
  {
   "cell_type": "code",
   "execution_count": 47,
   "metadata": {},
   "outputs": [
    {
     "name": "stdout",
     "output_type": "stream",
     "text": [
      "Fitting 5 folds for each of 252 candidates, totalling 1260 fits\n"
     ]
    },
    {
     "name": "stderr",
     "output_type": "stream",
     "text": [
      "[Parallel(n_jobs=-1)]: Using backend LokyBackend with 16 concurrent workers.\n",
      "[Parallel(n_jobs=-1)]: Done  40 tasks      | elapsed:    6.4s\n",
      "[Parallel(n_jobs=-1)]: Done 130 tasks      | elapsed:   16.9s\n",
      "[Parallel(n_jobs=-1)]: Done 256 tasks      | elapsed:   29.6s\n",
      "[Parallel(n_jobs=-1)]: Done 418 tasks      | elapsed:   44.5s\n",
      "[Parallel(n_jobs=-1)]: Done 616 tasks      | elapsed:  1.1min\n",
      "[Parallel(n_jobs=-1)]: Done 850 tasks      | elapsed:  1.4min\n",
      "[Parallel(n_jobs=-1)]: Done 1120 tasks      | elapsed:  1.9min\n",
      "[Parallel(n_jobs=-1)]: Done 1260 out of 1260 | elapsed:  2.1min finished\n"
     ]
    },
    {
     "name": "stdout",
     "output_type": "stream",
     "text": [
      "0.9277357616916191\n",
      "{'C': 0.001, 'class_weight': {0: 1, 1: 2}, 'intercept_scaling': 0.001, 'max_iter': 100, 'tol': 1e-05}\n",
      "LogisticRegression(C=0.001, class_weight={0: 1, 1: 2}, dual=False,\n",
      "                   fit_intercept=True, intercept_scaling=0.001, l1_ratio=None,\n",
      "                   max_iter=100, multi_class='auto', n_jobs=None, penalty='l2',\n",
      "                   random_state=None, solver='lbfgs', tol=1e-05, verbose=0,\n",
      "                   warm_start=False)\n"
     ]
    },
    {
     "data": {
      "text/plain": [
       "0.9277357616916191"
      ]
     },
     "execution_count": 47,
     "metadata": {},
     "output_type": "execute_result"
    }
   ],
   "source": [
    "lr = LogisticRegression()\n",
    "param_grid = {'C': [0.001, 0.01, 0.1, 1, 10, 100, 1000],\n",
    "              'class_weight': [{0:1, 1:2}], 'intercept_scaling':[0.001, 0.01, 0.1, 1],\n",
    "              'max_iter':[10, 100, 150], 'tol': [0.00001, 0.0001, 0.001]}\n",
    "clf_lr = GridSearchCV(lr, param_grid=param_grid, n_jobs=-1, verbose=5)\n",
    "\n",
    "clf_lr.fit(reg_train, train_df['default_12m'])\n",
    "get_best_score(clf_lr)"
   ]
  },
  {
   "cell_type": "code",
   "execution_count": 48,
   "metadata": {},
   "outputs": [],
   "source": [
    "answ_df['predict'] = (clf_lr.predict_proba(test_df_new_reg[features_reg])[:,1]>cutoff).astype(int)\n",
    "answ_df.to_csv('PD-submit.csv',index=False, sep=';')"
   ]
  },
  {
   "cell_type": "markdown",
   "metadata": {},
   "source": [
    "Результата не дало, добавим фичи по финансам. "
   ]
  },
  {
   "cell_type": "code",
   "execution_count": 46,
   "metadata": {
    "collapsed": true
   },
   "outputs": [
    {
     "data": {
      "text/html": [
       "<div>\n",
       "<style scoped>\n",
       "    .dataframe tbody tr th:only-of-type {\n",
       "        vertical-align: middle;\n",
       "    }\n",
       "\n",
       "    .dataframe tbody tr th {\n",
       "        vertical-align: top;\n",
       "    }\n",
       "\n",
       "    .dataframe thead th {\n",
       "        text-align: right;\n",
       "    }\n",
       "</style>\n",
       "<table border=\"1\" class=\"dataframe\">\n",
       "  <thead>\n",
       "    <tr style=\"text-align: right;\">\n",
       "      <th></th>\n",
       "      <th>field</th>\n",
       "      <th>desc_eng</th>\n",
       "      <th>desc_rus</th>\n",
       "    </tr>\n",
       "  </thead>\n",
       "  <tbody>\n",
       "    <tr>\n",
       "      <th>0</th>\n",
       "      <td>ar_revenue</td>\n",
       "      <td>Sales revenue (at the end of the last year)</td>\n",
       "      <td>Выручка от реализации (на конец последнего года)</td>\n",
       "    </tr>\n",
       "    <tr>\n",
       "      <th>1</th>\n",
       "      <td>ar_total_expenses</td>\n",
       "      <td>Total expenses for the last year</td>\n",
       "      <td>Общие расходы за последний год</td>\n",
       "    </tr>\n",
       "    <tr>\n",
       "      <th>2</th>\n",
       "      <td>ar_sale_cost</td>\n",
       "      <td>Cost of sales (at the end of the last year)</td>\n",
       "      <td>Себестоимость продаж (на конец последнего года)</td>\n",
       "    </tr>\n",
       "    <tr>\n",
       "      <th>3</th>\n",
       "      <td>ar_selling_expenses</td>\n",
       "      <td>Selling expenses (at the end of the last year)</td>\n",
       "      <td>Коммерческие расходы (на конец последнего года)</td>\n",
       "    </tr>\n",
       "    <tr>\n",
       "      <th>4</th>\n",
       "      <td>ar_management_expenses</td>\n",
       "      <td>Administrative expenses (at the end of the las...</td>\n",
       "      <td>Управленческие расходы (на конец последнего года)</td>\n",
       "    </tr>\n",
       "    <tr>\n",
       "      <th>5</th>\n",
       "      <td>ar_sale_profit</td>\n",
       "      <td>Profit from sales (at the end of the last year)</td>\n",
       "      <td>Прибыль от реализации (на конец последнего года)</td>\n",
       "    </tr>\n",
       "    <tr>\n",
       "      <th>6</th>\n",
       "      <td>ar_balance_of_rvns_and_expns</td>\n",
       "      <td>Balance of income and expenses (at the end of ...</td>\n",
       "      <td>Баланс доходов и расходов (на конец последнего...</td>\n",
       "    </tr>\n",
       "    <tr>\n",
       "      <th>7</th>\n",
       "      <td>ar_profit_before_tax</td>\n",
       "      <td>Gross Profit (end of last year)</td>\n",
       "      <td>Валовая прибыль (на конец последнего года)</td>\n",
       "    </tr>\n",
       "    <tr>\n",
       "      <th>8</th>\n",
       "      <td>ar_taxes</td>\n",
       "      <td>Current income tax (at the end of the last year)</td>\n",
       "      <td>Текущий на налог на прибыль (на конец последне...</td>\n",
       "    </tr>\n",
       "    <tr>\n",
       "      <th>9</th>\n",
       "      <td>ar_other_profit_and_losses</td>\n",
       "      <td>Other income and expenses (at the end of the l...</td>\n",
       "      <td>Прочие доходы и расходы (на конец последнего г...</td>\n",
       "    </tr>\n",
       "    <tr>\n",
       "      <th>10</th>\n",
       "      <td>ar_net_profit</td>\n",
       "      <td>Net profit (at the end of the last year)</td>\n",
       "      <td>Чистая прибыль (на конец последнего года)</td>\n",
       "    </tr>\n",
       "    <tr>\n",
       "      <th>11</th>\n",
       "      <td>ab_immobilized_assets</td>\n",
       "      <td>Fixed assets for the last year</td>\n",
       "      <td>Основные внеоборотные средства за последний год</td>\n",
       "    </tr>\n",
       "    <tr>\n",
       "      <th>12</th>\n",
       "      <td>ab_mobile_current_assets</td>\n",
       "      <td>Current assets (at the end of the last year)</td>\n",
       "      <td>Оборотные активы (на конец последнего года)</td>\n",
       "    </tr>\n",
       "    <tr>\n",
       "      <th>13</th>\n",
       "      <td>ab_inventory</td>\n",
       "      <td>Stocks (at the end of the last year)</td>\n",
       "      <td>Запасы (на конец последнего года)</td>\n",
       "    </tr>\n",
       "    <tr>\n",
       "      <th>14</th>\n",
       "      <td>ab_accounts_receivable</td>\n",
       "      <td>Accounts receivable (at the end of the last year)</td>\n",
       "      <td>Дебиторская задолженность (на конец последнего...</td>\n",
       "    </tr>\n",
       "    <tr>\n",
       "      <th>15</th>\n",
       "      <td>ab_other_current_assets</td>\n",
       "      <td>Other current assets (at the end of the last y...</td>\n",
       "      <td>Прочие оборотные активы (на конец последнего г...</td>\n",
       "    </tr>\n",
       "    <tr>\n",
       "      <th>16</th>\n",
       "      <td>ab_cash_and_securities</td>\n",
       "      <td>Cash and cash equivalents (at the end of the l...</td>\n",
       "      <td>Денежные средства и денежные эквиваленты (на к...</td>\n",
       "    </tr>\n",
       "    <tr>\n",
       "      <th>17</th>\n",
       "      <td>ab_losses</td>\n",
       "      <td>Retained earnings (at the end of the last year)</td>\n",
       "      <td>Нераспределенная прибыль (на конец последнего ...</td>\n",
       "    </tr>\n",
       "    <tr>\n",
       "      <th>18</th>\n",
       "      <td>ab_own_capital</td>\n",
       "      <td>Capital (at the end of the last year)</td>\n",
       "      <td>Капитал (на конец последнего года)</td>\n",
       "    </tr>\n",
       "    <tr>\n",
       "      <th>19</th>\n",
       "      <td>ab_borrowed_capital</td>\n",
       "      <td>Total debt (end of last year)</td>\n",
       "      <td>Общие долговые обязательства (на конец последн...</td>\n",
       "    </tr>\n",
       "    <tr>\n",
       "      <th>20</th>\n",
       "      <td>ab_long_term_liabilities</td>\n",
       "      <td>Long-term liabilities (at the end of the last ...</td>\n",
       "      <td>Долгосрочный обязательства (на конец последнег...</td>\n",
       "    </tr>\n",
       "    <tr>\n",
       "      <th>21</th>\n",
       "      <td>ab_short_term_borrowing</td>\n",
       "      <td>Short-term borrowed funds (at the end of the l...</td>\n",
       "      <td>Краткосрочные заемные средства (на конец после...</td>\n",
       "    </tr>\n",
       "    <tr>\n",
       "      <th>22</th>\n",
       "      <td>ab_accounts_payable</td>\n",
       "      <td>Accounts payable for the last year</td>\n",
       "      <td>Кредиторская задодженность за последний год</td>\n",
       "    </tr>\n",
       "    <tr>\n",
       "      <th>23</th>\n",
       "      <td>ab_other_borrowings</td>\n",
       "      <td>Other liabilities (at the end of the last year)</td>\n",
       "      <td>Прочие обязательства (на конец последнего года)</td>\n",
       "    </tr>\n",
       "    <tr>\n",
       "      <th>24</th>\n",
       "      <td>bus_age</td>\n",
       "      <td>Business duration</td>\n",
       "      <td>Срок ведения бизнеса</td>\n",
       "    </tr>\n",
       "    <tr>\n",
       "      <th>25</th>\n",
       "      <td>ogrn_age</td>\n",
       "      <td>Term from the moment the PSRN was assigned</td>\n",
       "      <td>Срок с момента присваивания ОГРН</td>\n",
       "    </tr>\n",
       "    <tr>\n",
       "      <th>26</th>\n",
       "      <td>adr_actual_age</td>\n",
       "      <td>Term from the date of registration of the lega...</td>\n",
       "      <td>Срок с момента регистрации юридического адреса</td>\n",
       "    </tr>\n",
       "    <tr>\n",
       "      <th>27</th>\n",
       "      <td>head_actual_age</td>\n",
       "      <td>Term since the appointment of the head</td>\n",
       "      <td>Срок с момента назначения руководителя</td>\n",
       "    </tr>\n",
       "    <tr>\n",
       "      <th>28</th>\n",
       "      <td>cap_actual_age</td>\n",
       "      <td>Term from the moment of capital installation</td>\n",
       "      <td>Срок с момента установки капитала</td>\n",
       "    </tr>\n",
       "    <tr>\n",
       "      <th>29</th>\n",
       "      <td>ul_staff_range</td>\n",
       "      <td>The number of employees</td>\n",
       "      <td>Количество сотрудников</td>\n",
       "    </tr>\n",
       "    <tr>\n",
       "      <th>30</th>\n",
       "      <td>ul_capital_sum</td>\n",
       "      <td>Capital amount</td>\n",
       "      <td>Величина капитала</td>\n",
       "    </tr>\n",
       "    <tr>\n",
       "      <th>31</th>\n",
       "      <td>ul_founders_cnt</td>\n",
       "      <td>Number of shareholders</td>\n",
       "      <td>Количество акционеров</td>\n",
       "    </tr>\n",
       "    <tr>\n",
       "      <th>32</th>\n",
       "      <td>ul_branch_cnt</td>\n",
       "      <td>Number of branches</td>\n",
       "      <td>Количество филиалов</td>\n",
       "    </tr>\n",
       "    <tr>\n",
       "      <th>33</th>\n",
       "      <td>ul_strategic_flg</td>\n",
       "      <td>A company of strategic importance</td>\n",
       "      <td>Компания стратегического значения</td>\n",
       "    </tr>\n",
       "    <tr>\n",
       "      <th>34</th>\n",
       "      <td>ul_systematizing_flg</td>\n",
       "      <td>Backbone company</td>\n",
       "      <td>Системообразующая компания</td>\n",
       "    </tr>\n",
       "  </tbody>\n",
       "</table>\n",
       "</div>"
      ],
      "text/plain": [
       "                           field  \\\n",
       "0                     ar_revenue   \n",
       "1              ar_total_expenses   \n",
       "2                   ar_sale_cost   \n",
       "3            ar_selling_expenses   \n",
       "4         ar_management_expenses   \n",
       "5                 ar_sale_profit   \n",
       "6   ar_balance_of_rvns_and_expns   \n",
       "7           ar_profit_before_tax   \n",
       "8                       ar_taxes   \n",
       "9     ar_other_profit_and_losses   \n",
       "10                 ar_net_profit   \n",
       "11         ab_immobilized_assets   \n",
       "12      ab_mobile_current_assets   \n",
       "13                  ab_inventory   \n",
       "14        ab_accounts_receivable   \n",
       "15       ab_other_current_assets   \n",
       "16        ab_cash_and_securities   \n",
       "17                     ab_losses   \n",
       "18                ab_own_capital   \n",
       "19           ab_borrowed_capital   \n",
       "20      ab_long_term_liabilities   \n",
       "21       ab_short_term_borrowing   \n",
       "22           ab_accounts_payable   \n",
       "23           ab_other_borrowings   \n",
       "24                       bus_age   \n",
       "25                      ogrn_age   \n",
       "26                adr_actual_age   \n",
       "27               head_actual_age   \n",
       "28                cap_actual_age   \n",
       "29                ul_staff_range   \n",
       "30                ul_capital_sum   \n",
       "31               ul_founders_cnt   \n",
       "32                 ul_branch_cnt   \n",
       "33              ul_strategic_flg   \n",
       "34          ul_systematizing_flg   \n",
       "\n",
       "                                             desc_eng  \\\n",
       "0         Sales revenue (at the end of the last year)   \n",
       "1                    Total expenses for the last year   \n",
       "2         Cost of sales (at the end of the last year)   \n",
       "3      Selling expenses (at the end of the last year)   \n",
       "4   Administrative expenses (at the end of the las...   \n",
       "5     Profit from sales (at the end of the last year)   \n",
       "6   Balance of income and expenses (at the end of ...   \n",
       "7                     Gross Profit (end of last year)   \n",
       "8    Current income tax (at the end of the last year)   \n",
       "9   Other income and expenses (at the end of the l...   \n",
       "10           Net profit (at the end of the last year)   \n",
       "11                     Fixed assets for the last year   \n",
       "12       Current assets (at the end of the last year)   \n",
       "13               Stocks (at the end of the last year)   \n",
       "14  Accounts receivable (at the end of the last year)   \n",
       "15  Other current assets (at the end of the last y...   \n",
       "16  Cash and cash equivalents (at the end of the l...   \n",
       "17    Retained earnings (at the end of the last year)   \n",
       "18              Capital (at the end of the last year)   \n",
       "19                      Total debt (end of last year)   \n",
       "20  Long-term liabilities (at the end of the last ...   \n",
       "21  Short-term borrowed funds (at the end of the l...   \n",
       "22                 Accounts payable for the last year   \n",
       "23    Other liabilities (at the end of the last year)   \n",
       "24                                  Business duration   \n",
       "25         Term from the moment the PSRN was assigned   \n",
       "26  Term from the date of registration of the lega...   \n",
       "27             Term since the appointment of the head   \n",
       "28       Term from the moment of capital installation   \n",
       "29                            The number of employees   \n",
       "30                                     Capital amount   \n",
       "31                             Number of shareholders   \n",
       "32                                 Number of branches   \n",
       "33                  A company of strategic importance   \n",
       "34                                   Backbone company   \n",
       "\n",
       "                                             desc_rus  \n",
       "0    Выручка от реализации (на конец последнего года)  \n",
       "1                      Общие расходы за последний год  \n",
       "2     Себестоимость продаж (на конец последнего года)  \n",
       "3     Коммерческие расходы (на конец последнего года)  \n",
       "4   Управленческие расходы (на конец последнего года)  \n",
       "5    Прибыль от реализации (на конец последнего года)  \n",
       "6   Баланс доходов и расходов (на конец последнего...  \n",
       "7          Валовая прибыль (на конец последнего года)  \n",
       "8   Текущий на налог на прибыль (на конец последне...  \n",
       "9   Прочие доходы и расходы (на конец последнего г...  \n",
       "10          Чистая прибыль (на конец последнего года)  \n",
       "11    Основные внеоборотные средства за последний год  \n",
       "12        Оборотные активы (на конец последнего года)  \n",
       "13                  Запасы (на конец последнего года)  \n",
       "14  Дебиторская задолженность (на конец последнего...  \n",
       "15  Прочие оборотные активы (на конец последнего г...  \n",
       "16  Денежные средства и денежные эквиваленты (на к...  \n",
       "17  Нераспределенная прибыль (на конец последнего ...  \n",
       "18                 Капитал (на конец последнего года)  \n",
       "19  Общие долговые обязательства (на конец последн...  \n",
       "20  Долгосрочный обязательства (на конец последнег...  \n",
       "21  Краткосрочные заемные средства (на конец после...  \n",
       "22        Кредиторская задодженность за последний год  \n",
       "23    Прочие обязательства (на конец последнего года)  \n",
       "24                               Срок ведения бизнеса  \n",
       "25                   Срок с момента присваивания ОГРН  \n",
       "26     Срок с момента регистрации юридического адреса  \n",
       "27             Срок с момента назначения руководителя  \n",
       "28                  Срок с момента установки капитала  \n",
       "29                             Количество сотрудников  \n",
       "30                                  Величина капитала  \n",
       "31                              Количество акционеров  \n",
       "32                                Количество филиалов  \n",
       "33                  Компания стратегического значения  \n",
       "34                         Системообразующая компания  "
      ]
     },
     "execution_count": 46,
     "metadata": {},
     "output_type": "execute_result"
    }
   ],
   "source": [
    "desc_df"
   ]
  },
  {
   "cell_type": "code",
   "execution_count": 46,
   "metadata": {},
   "outputs": [],
   "source": [
    "reg_train_newf = reg_train\n",
    "reg_train_newf['rent'] = reg_train_newf['ar_net_profit'] / reg_train_newf['ab_mobile_current_assets']"
   ]
  },
  {
   "cell_type": "code",
   "execution_count": 47,
   "metadata": {},
   "outputs": [],
   "source": [
    "reg_train_newf.rent = reg_train_newf.rent.fillna(0.0, axis=0)"
   ]
  },
  {
   "cell_type": "code",
   "execution_count": 48,
   "metadata": {},
   "outputs": [],
   "source": [
    "reg_train_newf = reg_train_newf.replace([np.inf], np.nan)\n",
    "reg_train_newf.rent = reg_train_newf.rent.fillna(1.0, axis=0)"
   ]
  },
  {
   "cell_type": "code",
   "execution_count": 49,
   "metadata": {},
   "outputs": [],
   "source": [
    "reg_train_newf = reg_train_newf.replace([-np.inf], np.nan)\n",
    "reg_train_newf.rent = reg_train_newf.rent.fillna(-1.0, axis=0)"
   ]
  },
  {
   "cell_type": "code",
   "execution_count": 50,
   "metadata": {},
   "outputs": [],
   "source": [
    "reg_train_newf['fast_liq'] = (reg_train_newf['ab_accounts_receivable'] + reg_train_newf['ab_cash_and_securities']) / (reg_train_newf['ab_short_term_borrowing'] + reg_train_newf['ab_accounts_payable'] + reg_train_newf['ab_other_borrowings'])"
   ]
  },
  {
   "cell_type": "code",
   "execution_count": 51,
   "metadata": {},
   "outputs": [],
   "source": [
    "reg_train_newf.fast_liq = reg_train_newf.fast_liq.fillna(0.0, axis=0)"
   ]
  },
  {
   "cell_type": "code",
   "execution_count": 52,
   "metadata": {},
   "outputs": [],
   "source": [
    "reg_train_newf = reg_train_newf.replace([np.inf], np.nan)\n",
    "reg_train_newf.fast_liq = reg_train_newf.fast_liq.fillna(1.0, axis=0)"
   ]
  },
  {
   "cell_type": "code",
   "execution_count": 53,
   "metadata": {},
   "outputs": [],
   "source": [
    "reg_train_newf = reg_train_newf.replace([-np.inf], np.nan)\n",
    "reg_train_newf.fast_liq = reg_train_newf.fast_liq.fillna(-1.0, axis=0)"
   ]
  },
  {
   "cell_type": "code",
   "execution_count": 54,
   "metadata": {},
   "outputs": [],
   "source": [
    "reg_train_newf['rent_kap'] = reg_train_newf['ar_net_profit'] / reg_train_newf['ab_own_capital']"
   ]
  },
  {
   "cell_type": "code",
   "execution_count": 55,
   "metadata": {},
   "outputs": [],
   "source": [
    "reg_train_newf.rent_kap = reg_train_newf.rent_kap.fillna(0.0, axis=0)"
   ]
  },
  {
   "cell_type": "code",
   "execution_count": 56,
   "metadata": {},
   "outputs": [],
   "source": [
    "reg_train_newf = reg_train_newf.replace([np.inf], np.nan)\n",
    "reg_train_newf.rent_kap = reg_train_newf.rent_kap.fillna(1.0, axis=0)"
   ]
  },
  {
   "cell_type": "code",
   "execution_count": 57,
   "metadata": {},
   "outputs": [],
   "source": [
    "reg_train_newf = reg_train_newf.replace([-np.inf], np.nan)\n",
    "reg_train_newf.rent_kap = reg_train_newf.rent_kap.fillna(-1.0, axis=0)"
   ]
  },
  {
   "cell_type": "code",
   "execution_count": 58,
   "metadata": {},
   "outputs": [
    {
     "data": {
      "text/plain": [
       "(32395, 40)"
      ]
     },
     "execution_count": 58,
     "metadata": {},
     "output_type": "execute_result"
    }
   ],
   "source": [
    "reg_train_newf.shape"
   ]
  },
  {
   "cell_type": "code",
   "execution_count": 59,
   "metadata": {},
   "outputs": [
    {
     "data": {
      "text/html": [
       "<div>\n",
       "<style scoped>\n",
       "    .dataframe tbody tr th:only-of-type {\n",
       "        vertical-align: middle;\n",
       "    }\n",
       "\n",
       "    .dataframe tbody tr th {\n",
       "        vertical-align: top;\n",
       "    }\n",
       "\n",
       "    .dataframe thead th {\n",
       "        text-align: right;\n",
       "    }\n",
       "</style>\n",
       "<table border=\"1\" class=\"dataframe\">\n",
       "  <thead>\n",
       "    <tr style=\"text-align: right;\">\n",
       "      <th></th>\n",
       "      <th>ar_revenue</th>\n",
       "      <th>ar_total_expenses</th>\n",
       "      <th>ar_sale_cost</th>\n",
       "      <th>ar_selling_expenses</th>\n",
       "      <th>ar_management_expenses</th>\n",
       "      <th>ar_sale_profit</th>\n",
       "      <th>ar_balance_of_rvns_and_expns</th>\n",
       "      <th>ar_profit_before_tax</th>\n",
       "      <th>ar_taxes</th>\n",
       "      <th>ar_other_profit_and_losses</th>\n",
       "      <th>ar_net_profit</th>\n",
       "      <th>ab_immobilized_assets</th>\n",
       "      <th>ab_mobile_current_assets</th>\n",
       "      <th>ab_inventory</th>\n",
       "      <th>ab_accounts_receivable</th>\n",
       "      <th>ab_other_current_assets</th>\n",
       "      <th>ab_cash_and_securities</th>\n",
       "      <th>ab_losses</th>\n",
       "      <th>ab_own_capital</th>\n",
       "      <th>ab_borrowed_capital</th>\n",
       "      <th>ab_long_term_liabilities</th>\n",
       "      <th>ab_short_term_borrowing</th>\n",
       "      <th>ab_accounts_payable</th>\n",
       "      <th>ab_other_borrowings</th>\n",
       "      <th>bus_age</th>\n",
       "      <th>ogrn_age</th>\n",
       "      <th>adr_actual_age</th>\n",
       "      <th>head_actual_age</th>\n",
       "      <th>cap_actual_age</th>\n",
       "      <th>ul_capital_sum</th>\n",
       "      <th>ul_founders_cnt</th>\n",
       "      <th>ul_branch_cnt</th>\n",
       "      <th>ul_strategic_flg</th>\n",
       "      <th>ul_systematizing_flg</th>\n",
       "      <th>ul_staff_range_100-500</th>\n",
       "      <th>ul_staff_range_500</th>\n",
       "      <th>ul_staff_range_1-100</th>\n",
       "      <th>rent</th>\n",
       "      <th>fast_liq</th>\n",
       "      <th>rent_kap</th>\n",
       "    </tr>\n",
       "  </thead>\n",
       "  <tbody>\n",
       "    <tr>\n",
       "      <th>0</th>\n",
       "      <td>52996000.0</td>\n",
       "      <td>48344000.0</td>\n",
       "      <td>48344000.0</td>\n",
       "      <td>0.0</td>\n",
       "      <td>0.0</td>\n",
       "      <td>4652000.0</td>\n",
       "      <td>-2608000.0</td>\n",
       "      <td>2044000.0</td>\n",
       "      <td>846000.0</td>\n",
       "      <td>0.0</td>\n",
       "      <td>1198000.0</td>\n",
       "      <td>0.0</td>\n",
       "      <td>7240000.0</td>\n",
       "      <td>4988000.0</td>\n",
       "      <td>2252000.0</td>\n",
       "      <td>0.0</td>\n",
       "      <td>255000.0</td>\n",
       "      <td>1198000.0</td>\n",
       "      <td>663000.0</td>\n",
       "      <td>15872000.0</td>\n",
       "      <td>0.0</td>\n",
       "      <td>11349000.0</td>\n",
       "      <td>4523000.0</td>\n",
       "      <td>0.0</td>\n",
       "      <td>198</td>\n",
       "      <td>136</td>\n",
       "      <td>3</td>\n",
       "      <td>3</td>\n",
       "      <td>3</td>\n",
       "      <td>50000.0</td>\n",
       "      <td>2</td>\n",
       "      <td>0</td>\n",
       "      <td>0</td>\n",
       "      <td>0</td>\n",
       "      <td>0</td>\n",
       "      <td>0</td>\n",
       "      <td>1</td>\n",
       "      <td>0.165470</td>\n",
       "      <td>0.157951</td>\n",
       "      <td>1.806938</td>\n",
       "    </tr>\n",
       "    <tr>\n",
       "      <th>1</th>\n",
       "      <td>32335000.0</td>\n",
       "      <td>29703500.0</td>\n",
       "      <td>28408000.0</td>\n",
       "      <td>0.0</td>\n",
       "      <td>0.0</td>\n",
       "      <td>1231500.0</td>\n",
       "      <td>-126000.0</td>\n",
       "      <td>850000.0</td>\n",
       "      <td>41000.0</td>\n",
       "      <td>0.0</td>\n",
       "      <td>704000.0</td>\n",
       "      <td>0.0</td>\n",
       "      <td>11094500.0</td>\n",
       "      <td>4714500.0</td>\n",
       "      <td>3028500.0</td>\n",
       "      <td>0.0</td>\n",
       "      <td>264000.0</td>\n",
       "      <td>673000.0</td>\n",
       "      <td>3528000.0</td>\n",
       "      <td>7231000.0</td>\n",
       "      <td>0.0</td>\n",
       "      <td>361000.0</td>\n",
       "      <td>3678000.0</td>\n",
       "      <td>0.0</td>\n",
       "      <td>256</td>\n",
       "      <td>135</td>\n",
       "      <td>12</td>\n",
       "      <td>12</td>\n",
       "      <td>12</td>\n",
       "      <td>10000.0</td>\n",
       "      <td>5</td>\n",
       "      <td>0</td>\n",
       "      <td>0</td>\n",
       "      <td>0</td>\n",
       "      <td>0</td>\n",
       "      <td>0</td>\n",
       "      <td>1</td>\n",
       "      <td>0.063455</td>\n",
       "      <td>0.815177</td>\n",
       "      <td>0.199546</td>\n",
       "    </tr>\n",
       "    <tr>\n",
       "      <th>2</th>\n",
       "      <td>32335000.0</td>\n",
       "      <td>29703500.0</td>\n",
       "      <td>28408000.0</td>\n",
       "      <td>0.0</td>\n",
       "      <td>0.0</td>\n",
       "      <td>1231500.0</td>\n",
       "      <td>-126000.0</td>\n",
       "      <td>850000.0</td>\n",
       "      <td>41000.0</td>\n",
       "      <td>0.0</td>\n",
       "      <td>704000.0</td>\n",
       "      <td>0.0</td>\n",
       "      <td>11094500.0</td>\n",
       "      <td>4714500.0</td>\n",
       "      <td>3028500.0</td>\n",
       "      <td>0.0</td>\n",
       "      <td>264000.0</td>\n",
       "      <td>673000.0</td>\n",
       "      <td>3528000.0</td>\n",
       "      <td>7231000.0</td>\n",
       "      <td>0.0</td>\n",
       "      <td>361000.0</td>\n",
       "      <td>3678000.0</td>\n",
       "      <td>0.0</td>\n",
       "      <td>33</td>\n",
       "      <td>33</td>\n",
       "      <td>28</td>\n",
       "      <td>28</td>\n",
       "      <td>28</td>\n",
       "      <td>10000.0</td>\n",
       "      <td>2</td>\n",
       "      <td>0</td>\n",
       "      <td>0</td>\n",
       "      <td>0</td>\n",
       "      <td>0</td>\n",
       "      <td>0</td>\n",
       "      <td>1</td>\n",
       "      <td>0.063455</td>\n",
       "      <td>0.815177</td>\n",
       "      <td>0.199546</td>\n",
       "    </tr>\n",
       "    <tr>\n",
       "      <th>3</th>\n",
       "      <td>32049000.0</td>\n",
       "      <td>29568000.0</td>\n",
       "      <td>29568000.0</td>\n",
       "      <td>0.0</td>\n",
       "      <td>0.0</td>\n",
       "      <td>2481000.0</td>\n",
       "      <td>-260000.0</td>\n",
       "      <td>2221000.0</td>\n",
       "      <td>302000.0</td>\n",
       "      <td>0.0</td>\n",
       "      <td>1919000.0</td>\n",
       "      <td>0.0</td>\n",
       "      <td>4245000.0</td>\n",
       "      <td>4082000.0</td>\n",
       "      <td>163000.0</td>\n",
       "      <td>0.0</td>\n",
       "      <td>25000.0</td>\n",
       "      <td>1919000.0</td>\n",
       "      <td>2219000.0</td>\n",
       "      <td>3652000.0</td>\n",
       "      <td>0.0</td>\n",
       "      <td>3652000.0</td>\n",
       "      <td>0.0</td>\n",
       "      <td>0.0</td>\n",
       "      <td>185</td>\n",
       "      <td>139</td>\n",
       "      <td>8</td>\n",
       "      <td>8</td>\n",
       "      <td>8</td>\n",
       "      <td>300000.0</td>\n",
       "      <td>1</td>\n",
       "      <td>0</td>\n",
       "      <td>0</td>\n",
       "      <td>0</td>\n",
       "      <td>0</td>\n",
       "      <td>0</td>\n",
       "      <td>1</td>\n",
       "      <td>0.452061</td>\n",
       "      <td>0.051479</td>\n",
       "      <td>0.864804</td>\n",
       "    </tr>\n",
       "    <tr>\n",
       "      <th>4</th>\n",
       "      <td>16458000.0</td>\n",
       "      <td>14935000.0</td>\n",
       "      <td>14935000.0</td>\n",
       "      <td>0.0</td>\n",
       "      <td>0.0</td>\n",
       "      <td>1523000.0</td>\n",
       "      <td>-274000.0</td>\n",
       "      <td>1249000.0</td>\n",
       "      <td>538000.0</td>\n",
       "      <td>0.0</td>\n",
       "      <td>711000.0</td>\n",
       "      <td>0.0</td>\n",
       "      <td>8950000.0</td>\n",
       "      <td>8606000.0</td>\n",
       "      <td>344000.0</td>\n",
       "      <td>0.0</td>\n",
       "      <td>492000.0</td>\n",
       "      <td>711000.0</td>\n",
       "      <td>12439000.0</td>\n",
       "      <td>1279000.0</td>\n",
       "      <td>0.0</td>\n",
       "      <td>0.0</td>\n",
       "      <td>1279000.0</td>\n",
       "      <td>0.0</td>\n",
       "      <td>220</td>\n",
       "      <td>138</td>\n",
       "      <td>27</td>\n",
       "      <td>27</td>\n",
       "      <td>27</td>\n",
       "      <td>10000.0</td>\n",
       "      <td>2</td>\n",
       "      <td>0</td>\n",
       "      <td>0</td>\n",
       "      <td>0</td>\n",
       "      <td>0</td>\n",
       "      <td>0</td>\n",
       "      <td>1</td>\n",
       "      <td>0.079441</td>\n",
       "      <td>0.653636</td>\n",
       "      <td>0.057159</td>\n",
       "    </tr>\n",
       "  </tbody>\n",
       "</table>\n",
       "</div>"
      ],
      "text/plain": [
       "   ar_revenue  ar_total_expenses  ar_sale_cost  ar_selling_expenses  \\\n",
       "0  52996000.0         48344000.0    48344000.0                  0.0   \n",
       "1  32335000.0         29703500.0    28408000.0                  0.0   \n",
       "2  32335000.0         29703500.0    28408000.0                  0.0   \n",
       "3  32049000.0         29568000.0    29568000.0                  0.0   \n",
       "4  16458000.0         14935000.0    14935000.0                  0.0   \n",
       "\n",
       "   ar_management_expenses  ar_sale_profit  ar_balance_of_rvns_and_expns  \\\n",
       "0                     0.0       4652000.0                    -2608000.0   \n",
       "1                     0.0       1231500.0                     -126000.0   \n",
       "2                     0.0       1231500.0                     -126000.0   \n",
       "3                     0.0       2481000.0                     -260000.0   \n",
       "4                     0.0       1523000.0                     -274000.0   \n",
       "\n",
       "   ar_profit_before_tax  ar_taxes  ar_other_profit_and_losses  ar_net_profit  \\\n",
       "0             2044000.0  846000.0                         0.0      1198000.0   \n",
       "1              850000.0   41000.0                         0.0       704000.0   \n",
       "2              850000.0   41000.0                         0.0       704000.0   \n",
       "3             2221000.0  302000.0                         0.0      1919000.0   \n",
       "4             1249000.0  538000.0                         0.0       711000.0   \n",
       "\n",
       "   ab_immobilized_assets  ab_mobile_current_assets  ab_inventory  \\\n",
       "0                    0.0                 7240000.0     4988000.0   \n",
       "1                    0.0                11094500.0     4714500.0   \n",
       "2                    0.0                11094500.0     4714500.0   \n",
       "3                    0.0                 4245000.0     4082000.0   \n",
       "4                    0.0                 8950000.0     8606000.0   \n",
       "\n",
       "   ab_accounts_receivable  ab_other_current_assets  ab_cash_and_securities  \\\n",
       "0               2252000.0                      0.0                255000.0   \n",
       "1               3028500.0                      0.0                264000.0   \n",
       "2               3028500.0                      0.0                264000.0   \n",
       "3                163000.0                      0.0                 25000.0   \n",
       "4                344000.0                      0.0                492000.0   \n",
       "\n",
       "   ab_losses  ab_own_capital  ab_borrowed_capital  ab_long_term_liabilities  \\\n",
       "0  1198000.0        663000.0           15872000.0                       0.0   \n",
       "1   673000.0       3528000.0            7231000.0                       0.0   \n",
       "2   673000.0       3528000.0            7231000.0                       0.0   \n",
       "3  1919000.0       2219000.0            3652000.0                       0.0   \n",
       "4   711000.0      12439000.0            1279000.0                       0.0   \n",
       "\n",
       "   ab_short_term_borrowing  ab_accounts_payable  ab_other_borrowings  bus_age  \\\n",
       "0               11349000.0            4523000.0                  0.0      198   \n",
       "1                 361000.0            3678000.0                  0.0      256   \n",
       "2                 361000.0            3678000.0                  0.0       33   \n",
       "3                3652000.0                  0.0                  0.0      185   \n",
       "4                      0.0            1279000.0                  0.0      220   \n",
       "\n",
       "   ogrn_age  adr_actual_age  head_actual_age  cap_actual_age  ul_capital_sum  \\\n",
       "0       136               3                3               3         50000.0   \n",
       "1       135              12               12              12         10000.0   \n",
       "2        33              28               28              28         10000.0   \n",
       "3       139               8                8               8        300000.0   \n",
       "4       138              27               27              27         10000.0   \n",
       "\n",
       "   ul_founders_cnt  ul_branch_cnt  ul_strategic_flg  ul_systematizing_flg  \\\n",
       "0                2              0                 0                     0   \n",
       "1                5              0                 0                     0   \n",
       "2                2              0                 0                     0   \n",
       "3                1              0                 0                     0   \n",
       "4                2              0                 0                     0   \n",
       "\n",
       "   ul_staff_range_100-500  ul_staff_range_500  ul_staff_range_1-100      rent  \\\n",
       "0                       0                   0                     1  0.165470   \n",
       "1                       0                   0                     1  0.063455   \n",
       "2                       0                   0                     1  0.063455   \n",
       "3                       0                   0                     1  0.452061   \n",
       "4                       0                   0                     1  0.079441   \n",
       "\n",
       "   fast_liq  rent_kap  \n",
       "0  0.157951  1.806938  \n",
       "1  0.815177  0.199546  \n",
       "2  0.815177  0.199546  \n",
       "3  0.051479  0.864804  \n",
       "4  0.653636  0.057159  "
      ]
     },
     "execution_count": 59,
     "metadata": {},
     "output_type": "execute_result"
    }
   ],
   "source": [
    "reg_train_newf.head()"
   ]
  },
  {
   "cell_type": "code",
   "execution_count": 60,
   "metadata": {
    "collapsed": true
   },
   "outputs": [
    {
     "name": "stdout",
     "output_type": "stream",
     "text": [
      "<class 'pandas.core.frame.DataFrame'>\n",
      "RangeIndex: 32395 entries, 0 to 32394\n",
      "Data columns (total 40 columns):\n",
      " #   Column                        Non-Null Count  Dtype  \n",
      "---  ------                        --------------  -----  \n",
      " 0   ar_revenue                    32395 non-null  float64\n",
      " 1   ar_total_expenses             32395 non-null  float64\n",
      " 2   ar_sale_cost                  32395 non-null  float64\n",
      " 3   ar_selling_expenses           32395 non-null  float64\n",
      " 4   ar_management_expenses        32395 non-null  float64\n",
      " 5   ar_sale_profit                32395 non-null  float64\n",
      " 6   ar_balance_of_rvns_and_expns  32395 non-null  float64\n",
      " 7   ar_profit_before_tax          32395 non-null  float64\n",
      " 8   ar_taxes                      32395 non-null  float64\n",
      " 9   ar_other_profit_and_losses    32395 non-null  float64\n",
      " 10  ar_net_profit                 32395 non-null  float64\n",
      " 11  ab_immobilized_assets         32395 non-null  float64\n",
      " 12  ab_mobile_current_assets      32395 non-null  float64\n",
      " 13  ab_inventory                  32395 non-null  float64\n",
      " 14  ab_accounts_receivable        32395 non-null  float64\n",
      " 15  ab_other_current_assets       32395 non-null  float64\n",
      " 16  ab_cash_and_securities        32395 non-null  float64\n",
      " 17  ab_losses                     32395 non-null  float64\n",
      " 18  ab_own_capital                32395 non-null  float64\n",
      " 19  ab_borrowed_capital           32395 non-null  float64\n",
      " 20  ab_long_term_liabilities      32395 non-null  float64\n",
      " 21  ab_short_term_borrowing       32395 non-null  float64\n",
      " 22  ab_accounts_payable           32395 non-null  float64\n",
      " 23  ab_other_borrowings           32395 non-null  float64\n",
      " 24  bus_age                       32395 non-null  int64  \n",
      " 25  ogrn_age                      32395 non-null  int64  \n",
      " 26  adr_actual_age                32395 non-null  int64  \n",
      " 27  head_actual_age               32395 non-null  int64  \n",
      " 28  cap_actual_age                32395 non-null  int64  \n",
      " 29  ul_capital_sum                32395 non-null  float64\n",
      " 30  ul_founders_cnt               32395 non-null  int64  \n",
      " 31  ul_branch_cnt                 32395 non-null  int64  \n",
      " 32  ul_strategic_flg              32395 non-null  int64  \n",
      " 33  ul_systematizing_flg          32395 non-null  int64  \n",
      " 34  ul_staff_range_100-500        32395 non-null  uint8  \n",
      " 35  ul_staff_range_500            32395 non-null  uint8  \n",
      " 36  ul_staff_range_1-100          32395 non-null  uint8  \n",
      " 37  rent                          32395 non-null  float64\n",
      " 38  fast_liq                      32395 non-null  float64\n",
      " 39  rent_kap                      32395 non-null  float64\n",
      "dtypes: float64(28), int64(9), uint8(3)\n",
      "memory usage: 9.2 MB\n"
     ]
    }
   ],
   "source": [
    "reg_train_newf.info()"
   ]
  },
  {
   "cell_type": "code",
   "execution_count": 61,
   "metadata": {},
   "outputs": [],
   "source": [
    "test_df_newf = test_df_new_reg\n",
    "test_df_newf['rent'] = test_df_newf['ar_net_profit'] / test_df_newf['ab_mobile_current_assets']\n",
    "test_df_newf = test_df_newf.replace([np.inf], np.nan)\n",
    "test_df_newf.rent = test_df_newf.rent.fillna(1.0, axis=0)\n",
    "test_df_newf = test_df_newf.replace([-np.inf], np.nan)\n",
    "test_df_newf.rent = test_df_newf.rent.fillna(-1.0, axis=0)\n",
    "test_df_newf.rent = test_df_newf.rent.fillna(0.0, axis=0)"
   ]
  },
  {
   "cell_type": "code",
   "execution_count": 62,
   "metadata": {},
   "outputs": [],
   "source": [
    "test_df_newf['fast_liq'] = (test_df_newf['ab_accounts_receivable'] + test_df_newf['ab_cash_and_securities']) / (test_df_newf['ab_short_term_borrowing'] + test_df_newf['ab_accounts_payable'] + test_df_newf['ab_other_borrowings'])\n",
    "test_df_newf.fast_liq = test_df_newf.fast_liq.fillna(0.0, axis=0)\n",
    "test_df_newf = test_df_newf.replace([np.inf], np.nan)\n",
    "test_df_newf.fast_liq = test_df_newf.fast_liq.fillna(1.0, axis=0)\n",
    "test_df_newf = test_df_newf.replace([-np.inf], np.nan)\n",
    "test_df_newf.fast_liq = test_df_newf.fast_liq.fillna(-1.0, axis=0)"
   ]
  },
  {
   "cell_type": "code",
   "execution_count": 63,
   "metadata": {},
   "outputs": [],
   "source": [
    "test_df_newf['rent_kap'] = test_df_newf['ar_net_profit'] / test_df_newf['ab_own_capital']\n",
    "test_df_newf.rent_kap = test_df_newf.rent_kap.fillna(0.0, axis=0)\n",
    "test_df_newf = test_df_newf.replace([np.inf], np.nan)\n",
    "test_df_newf.rent_kap = test_df_newf.rent_kap.fillna(1.0, axis=0)\n",
    "test_df_newf = test_df_newf.replace([-np.inf], np.nan)\n",
    "test_df_newf.rent_kap = test_df_newf.rent_kap.fillna(-1.0, axis=0)"
   ]
  },
  {
   "cell_type": "code",
   "execution_count": 64,
   "metadata": {
    "scrolled": true
   },
   "outputs": [
    {
     "data": {
      "text/html": [
       "<div>\n",
       "<style scoped>\n",
       "    .dataframe tbody tr th:only-of-type {\n",
       "        vertical-align: middle;\n",
       "    }\n",
       "\n",
       "    .dataframe tbody tr th {\n",
       "        vertical-align: top;\n",
       "    }\n",
       "\n",
       "    .dataframe thead th {\n",
       "        text-align: right;\n",
       "    }\n",
       "</style>\n",
       "<table border=\"1\" class=\"dataframe\">\n",
       "  <thead>\n",
       "    <tr style=\"text-align: right;\">\n",
       "      <th></th>\n",
       "      <th>record_id</th>\n",
       "      <th>ar_revenue</th>\n",
       "      <th>ar_total_expenses</th>\n",
       "      <th>ar_sale_cost</th>\n",
       "      <th>ar_selling_expenses</th>\n",
       "      <th>ar_management_expenses</th>\n",
       "      <th>ar_sale_profit</th>\n",
       "      <th>ar_balance_of_rvns_and_expns</th>\n",
       "      <th>ar_profit_before_tax</th>\n",
       "      <th>ar_taxes</th>\n",
       "      <th>ar_other_profit_and_losses</th>\n",
       "      <th>ar_net_profit</th>\n",
       "      <th>ab_immobilized_assets</th>\n",
       "      <th>ab_mobile_current_assets</th>\n",
       "      <th>ab_inventory</th>\n",
       "      <th>ab_accounts_receivable</th>\n",
       "      <th>ab_other_current_assets</th>\n",
       "      <th>ab_cash_and_securities</th>\n",
       "      <th>ab_losses</th>\n",
       "      <th>ab_own_capital</th>\n",
       "      <th>...</th>\n",
       "      <th>ab_long_term_liabilities</th>\n",
       "      <th>ab_short_term_borrowing</th>\n",
       "      <th>ab_accounts_payable</th>\n",
       "      <th>ab_other_borrowings</th>\n",
       "      <th>bus_age</th>\n",
       "      <th>ogrn_age</th>\n",
       "      <th>adr_actual_age</th>\n",
       "      <th>head_actual_age</th>\n",
       "      <th>cap_actual_age</th>\n",
       "      <th>ul_capital_sum</th>\n",
       "      <th>ul_founders_cnt</th>\n",
       "      <th>ul_branch_cnt</th>\n",
       "      <th>ul_strategic_flg</th>\n",
       "      <th>ul_systematizing_flg</th>\n",
       "      <th>ul_staff_range_100-500</th>\n",
       "      <th>ul_staff_range_500</th>\n",
       "      <th>ul_staff_range_1-100</th>\n",
       "      <th>rent</th>\n",
       "      <th>fast_liq</th>\n",
       "      <th>rent_kap</th>\n",
       "    </tr>\n",
       "  </thead>\n",
       "  <tbody>\n",
       "    <tr>\n",
       "      <th>0</th>\n",
       "      <td>196</td>\n",
       "      <td>39103000.0</td>\n",
       "      <td>38913000.0</td>\n",
       "      <td>38913000.0</td>\n",
       "      <td>0.0</td>\n",
       "      <td>0.0</td>\n",
       "      <td>190000.0</td>\n",
       "      <td>141000.0</td>\n",
       "      <td>331000.0</td>\n",
       "      <td>284000.0</td>\n",
       "      <td>0.0</td>\n",
       "      <td>47000.0</td>\n",
       "      <td>0.0</td>\n",
       "      <td>6009000.0</td>\n",
       "      <td>2451000.0</td>\n",
       "      <td>3558000.0</td>\n",
       "      <td>0.0</td>\n",
       "      <td>677000.0</td>\n",
       "      <td>47000.0</td>\n",
       "      <td>1178000.0</td>\n",
       "      <td>...</td>\n",
       "      <td>0.0</td>\n",
       "      <td>3000000.0</td>\n",
       "      <td>3130000.0</td>\n",
       "      <td>0.0</td>\n",
       "      <td>156</td>\n",
       "      <td>135</td>\n",
       "      <td>3</td>\n",
       "      <td>3</td>\n",
       "      <td>3</td>\n",
       "      <td>100000.0</td>\n",
       "      <td>1</td>\n",
       "      <td>0</td>\n",
       "      <td>0</td>\n",
       "      <td>0</td>\n",
       "      <td>0</td>\n",
       "      <td>0</td>\n",
       "      <td>1</td>\n",
       "      <td>0.007822</td>\n",
       "      <td>0.690865</td>\n",
       "      <td>0.039898</td>\n",
       "    </tr>\n",
       "    <tr>\n",
       "      <th>1</th>\n",
       "      <td>1196</td>\n",
       "      <td>18997000.0</td>\n",
       "      <td>16456000.0</td>\n",
       "      <td>15878500.0</td>\n",
       "      <td>0.0</td>\n",
       "      <td>0.0</td>\n",
       "      <td>1184000.0</td>\n",
       "      <td>-58000.0</td>\n",
       "      <td>545000.0</td>\n",
       "      <td>73500.0</td>\n",
       "      <td>0.0</td>\n",
       "      <td>400000.0</td>\n",
       "      <td>0.0</td>\n",
       "      <td>7811500.0</td>\n",
       "      <td>4239500.0</td>\n",
       "      <td>1958500.0</td>\n",
       "      <td>0.0</td>\n",
       "      <td>216500.0</td>\n",
       "      <td>400000.0</td>\n",
       "      <td>1706500.0</td>\n",
       "      <td>...</td>\n",
       "      <td>0.0</td>\n",
       "      <td>292500.0</td>\n",
       "      <td>2182000.0</td>\n",
       "      <td>0.0</td>\n",
       "      <td>216</td>\n",
       "      <td>138</td>\n",
       "      <td>5</td>\n",
       "      <td>5</td>\n",
       "      <td>5</td>\n",
       "      <td>100000.0</td>\n",
       "      <td>1</td>\n",
       "      <td>0</td>\n",
       "      <td>0</td>\n",
       "      <td>0</td>\n",
       "      <td>0</td>\n",
       "      <td>0</td>\n",
       "      <td>1</td>\n",
       "      <td>0.051207</td>\n",
       "      <td>0.878965</td>\n",
       "      <td>0.234398</td>\n",
       "    </tr>\n",
       "    <tr>\n",
       "      <th>2</th>\n",
       "      <td>2813</td>\n",
       "      <td>54174000.0</td>\n",
       "      <td>50929000.0</td>\n",
       "      <td>50929000.0</td>\n",
       "      <td>0.0</td>\n",
       "      <td>0.0</td>\n",
       "      <td>3245000.0</td>\n",
       "      <td>-1278000.0</td>\n",
       "      <td>1967000.0</td>\n",
       "      <td>500000.0</td>\n",
       "      <td>0.0</td>\n",
       "      <td>1467000.0</td>\n",
       "      <td>0.0</td>\n",
       "      <td>8175000.0</td>\n",
       "      <td>8037000.0</td>\n",
       "      <td>138000.0</td>\n",
       "      <td>0.0</td>\n",
       "      <td>237000.0</td>\n",
       "      <td>1467000.0</td>\n",
       "      <td>6835000.0</td>\n",
       "      <td>...</td>\n",
       "      <td>0.0</td>\n",
       "      <td>0.0</td>\n",
       "      <td>3906000.0</td>\n",
       "      <td>0.0</td>\n",
       "      <td>244</td>\n",
       "      <td>138</td>\n",
       "      <td>20</td>\n",
       "      <td>20</td>\n",
       "      <td>20</td>\n",
       "      <td>250000.0</td>\n",
       "      <td>2</td>\n",
       "      <td>0</td>\n",
       "      <td>0</td>\n",
       "      <td>0</td>\n",
       "      <td>0</td>\n",
       "      <td>0</td>\n",
       "      <td>1</td>\n",
       "      <td>0.179450</td>\n",
       "      <td>0.096006</td>\n",
       "      <td>0.214631</td>\n",
       "    </tr>\n",
       "    <tr>\n",
       "      <th>3</th>\n",
       "      <td>4385</td>\n",
       "      <td>1904000.0</td>\n",
       "      <td>1679000.0</td>\n",
       "      <td>1679000.0</td>\n",
       "      <td>0.0</td>\n",
       "      <td>0.0</td>\n",
       "      <td>225000.0</td>\n",
       "      <td>-88000.0</td>\n",
       "      <td>137000.0</td>\n",
       "      <td>0.0</td>\n",
       "      <td>0.0</td>\n",
       "      <td>137000.0</td>\n",
       "      <td>0.0</td>\n",
       "      <td>5790000.0</td>\n",
       "      <td>4314000.0</td>\n",
       "      <td>1476000.0</td>\n",
       "      <td>0.0</td>\n",
       "      <td>35000.0</td>\n",
       "      <td>137000.0</td>\n",
       "      <td>5691000.0</td>\n",
       "      <td>...</td>\n",
       "      <td>0.0</td>\n",
       "      <td>500000.0</td>\n",
       "      <td>40000.0</td>\n",
       "      <td>0.0</td>\n",
       "      <td>272</td>\n",
       "      <td>139</td>\n",
       "      <td>9</td>\n",
       "      <td>9</td>\n",
       "      <td>9</td>\n",
       "      <td>10000.0</td>\n",
       "      <td>2</td>\n",
       "      <td>0</td>\n",
       "      <td>0</td>\n",
       "      <td>0</td>\n",
       "      <td>0</td>\n",
       "      <td>0</td>\n",
       "      <td>1</td>\n",
       "      <td>0.023661</td>\n",
       "      <td>2.798148</td>\n",
       "      <td>0.024073</td>\n",
       "    </tr>\n",
       "    <tr>\n",
       "      <th>4</th>\n",
       "      <td>6479</td>\n",
       "      <td>225584000.0</td>\n",
       "      <td>210685000.0</td>\n",
       "      <td>210685000.0</td>\n",
       "      <td>0.0</td>\n",
       "      <td>0.0</td>\n",
       "      <td>14899000.0</td>\n",
       "      <td>-12715000.0</td>\n",
       "      <td>2184000.0</td>\n",
       "      <td>445000.0</td>\n",
       "      <td>0.0</td>\n",
       "      <td>1739000.0</td>\n",
       "      <td>0.0</td>\n",
       "      <td>65485000.0</td>\n",
       "      <td>46006000.0</td>\n",
       "      <td>19479000.0</td>\n",
       "      <td>0.0</td>\n",
       "      <td>956000.0</td>\n",
       "      <td>1739000.0</td>\n",
       "      <td>12408000.0</td>\n",
       "      <td>...</td>\n",
       "      <td>0.0</td>\n",
       "      <td>16215000.0</td>\n",
       "      <td>30802000.0</td>\n",
       "      <td>0.0</td>\n",
       "      <td>254</td>\n",
       "      <td>139</td>\n",
       "      <td>3</td>\n",
       "      <td>3</td>\n",
       "      <td>3</td>\n",
       "      <td>1700598.0</td>\n",
       "      <td>84</td>\n",
       "      <td>0</td>\n",
       "      <td>0</td>\n",
       "      <td>0</td>\n",
       "      <td>1</td>\n",
       "      <td>0</td>\n",
       "      <td>0</td>\n",
       "      <td>0.026556</td>\n",
       "      <td>0.434630</td>\n",
       "      <td>0.140152</td>\n",
       "    </tr>\n",
       "  </tbody>\n",
       "</table>\n",
       "<p>5 rows × 41 columns</p>\n",
       "</div>"
      ],
      "text/plain": [
       "   record_id   ar_revenue  ar_total_expenses  ar_sale_cost  \\\n",
       "0        196   39103000.0         38913000.0    38913000.0   \n",
       "1       1196   18997000.0         16456000.0    15878500.0   \n",
       "2       2813   54174000.0         50929000.0    50929000.0   \n",
       "3       4385    1904000.0          1679000.0     1679000.0   \n",
       "4       6479  225584000.0        210685000.0   210685000.0   \n",
       "\n",
       "   ar_selling_expenses  ar_management_expenses  ar_sale_profit  \\\n",
       "0                  0.0                     0.0        190000.0   \n",
       "1                  0.0                     0.0       1184000.0   \n",
       "2                  0.0                     0.0       3245000.0   \n",
       "3                  0.0                     0.0        225000.0   \n",
       "4                  0.0                     0.0      14899000.0   \n",
       "\n",
       "   ar_balance_of_rvns_and_expns  ar_profit_before_tax  ar_taxes  \\\n",
       "0                      141000.0              331000.0  284000.0   \n",
       "1                      -58000.0              545000.0   73500.0   \n",
       "2                    -1278000.0             1967000.0  500000.0   \n",
       "3                      -88000.0              137000.0       0.0   \n",
       "4                   -12715000.0             2184000.0  445000.0   \n",
       "\n",
       "   ar_other_profit_and_losses  ar_net_profit  ab_immobilized_assets  \\\n",
       "0                         0.0        47000.0                    0.0   \n",
       "1                         0.0       400000.0                    0.0   \n",
       "2                         0.0      1467000.0                    0.0   \n",
       "3                         0.0       137000.0                    0.0   \n",
       "4                         0.0      1739000.0                    0.0   \n",
       "\n",
       "   ab_mobile_current_assets  ab_inventory  ab_accounts_receivable  \\\n",
       "0                 6009000.0     2451000.0               3558000.0   \n",
       "1                 7811500.0     4239500.0               1958500.0   \n",
       "2                 8175000.0     8037000.0                138000.0   \n",
       "3                 5790000.0     4314000.0               1476000.0   \n",
       "4                65485000.0    46006000.0              19479000.0   \n",
       "\n",
       "   ab_other_current_assets  ab_cash_and_securities  ab_losses  ab_own_capital  \\\n",
       "0                      0.0                677000.0    47000.0       1178000.0   \n",
       "1                      0.0                216500.0   400000.0       1706500.0   \n",
       "2                      0.0                237000.0  1467000.0       6835000.0   \n",
       "3                      0.0                 35000.0   137000.0       5691000.0   \n",
       "4                      0.0                956000.0  1739000.0      12408000.0   \n",
       "\n",
       "   ...  ab_long_term_liabilities  ab_short_term_borrowing  \\\n",
       "0  ...                       0.0                3000000.0   \n",
       "1  ...                       0.0                 292500.0   \n",
       "2  ...                       0.0                      0.0   \n",
       "3  ...                       0.0                 500000.0   \n",
       "4  ...                       0.0               16215000.0   \n",
       "\n",
       "   ab_accounts_payable  ab_other_borrowings  bus_age  ogrn_age  \\\n",
       "0            3130000.0                  0.0      156       135   \n",
       "1            2182000.0                  0.0      216       138   \n",
       "2            3906000.0                  0.0      244       138   \n",
       "3              40000.0                  0.0      272       139   \n",
       "4           30802000.0                  0.0      254       139   \n",
       "\n",
       "   adr_actual_age  head_actual_age  cap_actual_age  ul_capital_sum  \\\n",
       "0               3                3               3        100000.0   \n",
       "1               5                5               5        100000.0   \n",
       "2              20               20              20        250000.0   \n",
       "3               9                9               9         10000.0   \n",
       "4               3                3               3       1700598.0   \n",
       "\n",
       "   ul_founders_cnt  ul_branch_cnt  ul_strategic_flg  ul_systematizing_flg  \\\n",
       "0                1              0                 0                     0   \n",
       "1                1              0                 0                     0   \n",
       "2                2              0                 0                     0   \n",
       "3                2              0                 0                     0   \n",
       "4               84              0                 0                     0   \n",
       "\n",
       "   ul_staff_range_100-500  ul_staff_range_500  ul_staff_range_1-100      rent  \\\n",
       "0                       0                   0                     1  0.007822   \n",
       "1                       0                   0                     1  0.051207   \n",
       "2                       0                   0                     1  0.179450   \n",
       "3                       0                   0                     1  0.023661   \n",
       "4                       1                   0                     0  0.026556   \n",
       "\n",
       "   fast_liq  rent_kap  \n",
       "0  0.690865  0.039898  \n",
       "1  0.878965  0.234398  \n",
       "2  0.096006  0.214631  \n",
       "3  2.798148  0.024073  \n",
       "4  0.434630  0.140152  \n",
       "\n",
       "[5 rows x 41 columns]"
      ]
     },
     "execution_count": 64,
     "metadata": {},
     "output_type": "execute_result"
    }
   ],
   "source": [
    "test_df_newf.head()"
   ]
  },
  {
   "cell_type": "markdown",
   "metadata": {},
   "source": [
    "Кореляция новых фичей околонулевая"
   ]
  },
  {
   "cell_type": "code",
   "execution_count": 65,
   "metadata": {},
   "outputs": [
    {
     "data": {
      "image/png": "[encoded data removed]",
      "text/plain": [
       "<Figure size 1440x1440 with 2 Axes>"
      ]
     },
     "metadata": {
      "needs_background": "light"
     },
     "output_type": "display_data"
    }
   ],
   "source": [
    "plt.subplots(figsize=(20,20))\n",
    "sns.heatmap(reg_train_newf.corr(), square=True)\n",
    "plt.show()"
   ]
  },
  {
   "cell_type": "code",
   "execution_count": 70,
   "metadata": {},
   "outputs": [],
   "source": [
    "features_newf = reg_train_newf.columns.tolist()"
   ]
  },
  {
   "cell_type": "code",
   "execution_count": 66,
   "metadata": {},
   "outputs": [
    {
     "name": "stdout",
     "output_type": "stream",
     "text": [
      "Fitting 5 folds for each of 252 candidates, totalling 1260 fits\n"
     ]
    },
    {
     "name": "stderr",
     "output_type": "stream",
     "text": [
      "[Parallel(n_jobs=-1)]: Using backend LokyBackend with 16 concurrent workers.\n",
      "[Parallel(n_jobs=-1)]: Done  40 tasks      | elapsed:    6.9s\n",
      "[Parallel(n_jobs=-1)]: Done 130 tasks      | elapsed:   17.3s\n",
      "[Parallel(n_jobs=-1)]: Done 256 tasks      | elapsed:   30.3s\n",
      "[Parallel(n_jobs=-1)]: Done 418 tasks      | elapsed:   47.2s\n",
      "[Parallel(n_jobs=-1)]: Done 616 tasks      | elapsed:  1.1min\n",
      "[Parallel(n_jobs=-1)]: Done 850 tasks      | elapsed:  1.6min\n",
      "[Parallel(n_jobs=-1)]: Done 1120 tasks      | elapsed:  2.1min\n"
     ]
    },
    {
     "name": "stdout",
     "output_type": "stream",
     "text": [
      "0.9312856922364562\n",
      "{'C': 1000, 'class_weight': {0: 1, 1: 1}, 'intercept_scaling': 0.001, 'max_iter': 100, 'tol': 1e-05}\n",
      "LogisticRegression(C=1000, class_weight={0: 1, 1: 1}, intercept_scaling=0.001,\n",
      "                   tol=1e-05)\n"
     ]
    },
    {
     "name": "stderr",
     "output_type": "stream",
     "text": [
      "[Parallel(n_jobs=-1)]: Done 1260 out of 1260 | elapsed:  2.3min finished\n"
     ]
    },
    {
     "data": {
      "text/plain": [
       "0.9312856922364562"
      ]
     },
     "execution_count": 66,
     "metadata": {},
     "output_type": "execute_result"
    }
   ],
   "source": [
    "lr = LogisticRegression()\n",
    "param_grid = {'C': [0.001, 0.01, 0.1, 1, 10, 100, 1000],\n",
    "              'class_weight': [{0:1, 1:1}], 'intercept_scaling':[0.001, 0.01, 0.1, 1],\n",
    "              'max_iter':[10, 100, 150], 'tol': [0.00001, 0.0001, 0.001]}\n",
    "clf_lr = GridSearchCV(lr, param_grid=param_grid, n_jobs=-1, verbose=5)\n",
    "\n",
    "clf_lr.fit(reg_train_newf, train_df['default_12m'])\n",
    "get_best_score(clf_lr)"
   ]
  },
  {
   "cell_type": "code",
   "execution_count": 65,
   "metadata": {},
   "outputs": [],
   "source": [
    "answ_df['predict'] = (clf_lr.predict_proba(test_df_newf[features_newf])[:,1]>cutoff).astype(int)\n",
    "answ_df.to_csv('PD-submit.csv',index=False, sep=';')"
   ]
  },
  {
   "cell_type": "code",
   "execution_count": 67,
   "metadata": {},
   "outputs": [
    {
     "name": "stdout",
     "output_type": "stream",
     "text": [
      "Fitting 5 folds for each of 1 candidates, totalling 5 fits\n"
     ]
    },
    {
     "name": "stderr",
     "output_type": "stream",
     "text": [
      "[Parallel(n_jobs=-1)]: Using backend LokyBackend with 16 concurrent workers.\n",
      "[Parallel(n_jobs=-1)]: Done   5 out of   5 | elapsed:   32.2s finished\n"
     ]
    },
    {
     "name": "stdout",
     "output_type": "stream",
     "text": [
      "0.937397746565828\n",
      "{'class_weight': {0: 1, 1: 1}, 'max_depth': 19, 'max_features': 15, 'min_samples_split': 2, 'n_estimators': 323, 'random_state': 42}\n",
      "RandomForestClassifier(class_weight={0: 1, 1: 1}, max_depth=19, max_features=15,\n",
      "                       n_estimators=323, random_state=42)\n"
     ]
    },
    {
     "data": {
      "text/plain": [
       "0.937397746565828"
      ]
     },
     "execution_count": 67,
     "metadata": {},
     "output_type": "execute_result"
    }
   ],
   "source": [
    "from sklearn.ensemble import RandomForestClassifier\n",
    "rfc = RandomForestClassifier()\n",
    "\n",
    "param_grid = {'max_depth': [19], 'max_features': [15],  \n",
    "              'min_samples_split': [2], 'n_estimators': [323],\n",
    "              'random_state': [42], 'class_weight': [{0:1, 1:1}]}\n",
    "\n",
    "rf_grid = GridSearchCV(rfc, param_grid, refit=True, verbose=1, n_jobs=-1)\n",
    "rf_grid.fit(reg_train_newf, train_df['default_12m'])\n",
    "get_best_score(rf_grid)"
   ]
  },
  {
   "cell_type": "code",
   "execution_count": 71,
   "metadata": {},
   "outputs": [],
   "source": [
    "answ_df['predict'] = (rf_grid.predict_proba(test_df_newf[features_newf])[:,1]>cutoff).astype(int)\n",
    "answ_df.to_csv('PD-submit.csv',index=False, sep=';')"
   ]
  },
  {
   "cell_type": "code",
   "execution_count": 72,
   "metadata": {},
   "outputs": [
    {
     "name": "stdout",
     "output_type": "stream",
     "text": [
      "Fitting 5 folds for each of 1260 candidates, totalling 6300 fits\n"
     ]
    },
    {
     "name": "stderr",
     "output_type": "stream",
     "text": [
      "[Parallel(n_jobs=-1)]: Using backend LokyBackend with 16 concurrent workers.\n",
      "[Parallel(n_jobs=-1)]: Done  18 tasks      | elapsed:    0.2s\n",
      "[Parallel(n_jobs=-1)]: Done 304 tasks      | elapsed:    2.8s\n",
      "[Parallel(n_jobs=-1)]: Done 804 tasks      | elapsed:    9.1s\n",
      "[Parallel(n_jobs=-1)]: Done 1440 tasks      | elapsed:   22.1s\n",
      "[Parallel(n_jobs=-1)]: Done 1890 tasks      | elapsed:   29.9s\n",
      "[Parallel(n_jobs=-1)]: Done 2440 tasks      | elapsed:   39.3s\n",
      "[Parallel(n_jobs=-1)]: Done 3090 tasks      | elapsed:   55.4s\n",
      "[Parallel(n_jobs=-1)]: Done 3840 tasks      | elapsed:  1.1min\n",
      "[Parallel(n_jobs=-1)]: Done 4690 tasks      | elapsed:  1.4min\n",
      "[Parallel(n_jobs=-1)]: Done 5640 tasks      | elapsed:  1.6min\n"
     ]
    },
    {
     "name": "stdout",
     "output_type": "stream",
     "text": [
      "0.9354530020064825\n",
      "{'ccp_alpha': 0.01, 'class_weight': {0: 1, 1: 1}, 'criterion': 'gini', 'max_depth': 4, 'max_features': 5, 'min_samples_split': 2, 'random_state': 42}\n",
      "DecisionTreeClassifier(ccp_alpha=0.01, class_weight={0: 1, 1: 1},\n",
      "                       criterion='gini', max_depth=4, max_features=5,\n",
      "                       max_leaf_nodes=None, min_impurity_decrease=0.0,\n",
      "                       min_impurity_split=None, min_samples_leaf=1,\n",
      "                       min_samples_split=2, min_weight_fraction_leaf=0.0,\n",
      "                       presort='deprecated', random_state=42, splitter='best')\n"
     ]
    },
    {
     "name": "stderr",
     "output_type": "stream",
     "text": [
      "[Parallel(n_jobs=-1)]: Done 6300 out of 6300 | elapsed:  1.9min finished\n"
     ]
    },
    {
     "data": {
      "text/plain": [
       "0.9354530020064825"
      ]
     },
     "execution_count": 72,
     "metadata": {},
     "output_type": "execute_result"
    }
   ],
   "source": [
    "from sklearn.tree import DecisionTreeClassifier\n",
    "dtree = DecisionTreeClassifier()\n",
    "\n",
    "param_grid = {'min_samples_split': [2,4,7,10,12, 20, 28, 30, 33],\n",
    "              'max_depth': [4, 5, 7, 10, 12, 20, 30],\n",
    "              'max_features':[5, 8, 15, 20, 30],\n",
    "              'ccp_alpha': [0.01, 0.1],\n",
    "              'criterion': ['gini', 'entropy'],\n",
    "              'class_weight': [{0:1, 1:1}],\n",
    "              'random_state': [42]\n",
    "             }\n",
    "dtree_grid = GridSearchCV(dtree, param_grid, refit=True, verbose=1, n_jobs=-1)\n",
    "dtree_grid.fit(reg_train_newf, train_df['default_12m'])\n",
    "get_best_score(dtree_grid)"
   ]
  },
  {
   "cell_type": "code",
   "execution_count": 69,
   "metadata": {
    "collapsed": true
   },
   "outputs": [
    {
     "ename": "NameError",
     "evalue": "name 'dtree_grid' is not defined",
     "output_type": "error",
     "traceback": [
      "\u001b[0;31m---------------------------------------------------------------------------\u001b[0m",
      "\u001b[0;31mNameError\u001b[0m                                 Traceback (most recent call last)",
      "\u001b[0;32m<ipython-input-69-eb08ca7dee1e>\u001b[0m in \u001b[0;36m<module>\u001b[0;34m\u001b[0m\n\u001b[0;32m----> 1\u001b[0;31m \u001b[0mansw_df\u001b[0m\u001b[0;34m[\u001b[0m\u001b[0;34m'predict'\u001b[0m\u001b[0;34m]\u001b[0m \u001b[0;34m=\u001b[0m \u001b[0;34m(\u001b[0m\u001b[0mdtree_grid\u001b[0m\u001b[0;34m.\u001b[0m\u001b[0mpredict_proba\u001b[0m\u001b[0;34m(\u001b[0m\u001b[0mtest_df_newf\u001b[0m\u001b[0;34m[\u001b[0m\u001b[0mfeatures_newf\u001b[0m\u001b[0;34m]\u001b[0m\u001b[0;34m)\u001b[0m\u001b[0;34m[\u001b[0m\u001b[0;34m:\u001b[0m\u001b[0;34m,\u001b[0m\u001b[0;36m1\u001b[0m\u001b[0;34m]\u001b[0m\u001b[0;34m>\u001b[0m\u001b[0mcutoff\u001b[0m\u001b[0;34m)\u001b[0m\u001b[0;34m.\u001b[0m\u001b[0mastype\u001b[0m\u001b[0;34m(\u001b[0m\u001b[0mint\u001b[0m\u001b[0;34m)\u001b[0m\u001b[0;34m\u001b[0m\u001b[0;34m\u001b[0m\u001b[0m\n\u001b[0m\u001b[1;32m      2\u001b[0m \u001b[0mansw_df\u001b[0m\u001b[0;34m.\u001b[0m\u001b[0mto_csv\u001b[0m\u001b[0;34m(\u001b[0m\u001b[0;34m'PD-submit.csv'\u001b[0m\u001b[0;34m,\u001b[0m\u001b[0mindex\u001b[0m\u001b[0;34m=\u001b[0m\u001b[0;32mFalse\u001b[0m\u001b[0;34m,\u001b[0m \u001b[0msep\u001b[0m\u001b[0;34m=\u001b[0m\u001b[0;34m';'\u001b[0m\u001b[0;34m)\u001b[0m\u001b[0;34m\u001b[0m\u001b[0;34m\u001b[0m\u001b[0m\n",
      "\u001b[0;31mNameError\u001b[0m: name 'dtree_grid' is not defined"
     ]
    }
   ],
   "source": [
    "answ_df['predict'] = (dtree_grid.predict_proba(test_df_newf[features_newf])[:,1]>cutoff).astype(int)\n",
    "answ_df.to_csv('PD-submit.csv',index=False, sep=';')"
   ]
  },
  {
   "cell_type": "code",
   "execution_count": 74,
   "metadata": {},
   "outputs": [
    {
     "name": "stdout",
     "output_type": "stream",
     "text": [
      "Fitting 5 folds for each of 4 candidates, totalling 20 fits\n"
     ]
    },
    {
     "name": "stderr",
     "output_type": "stream",
     "text": [
      "[Parallel(n_jobs=-1)]: Using backend LokyBackend with 16 concurrent workers.\n",
      "[Parallel(n_jobs=-1)]: Done   4 out of  20 | elapsed:    0.5s remaining:    2.1s\n",
      "[Parallel(n_jobs=-1)]: Done   9 out of  20 | elapsed:    0.7s remaining:    0.9s\n",
      "[Parallel(n_jobs=-1)]: Done  14 out of  20 | elapsed:    0.8s remaining:    0.3s\n",
      "[Parallel(n_jobs=-1)]: Done  20 out of  20 | elapsed:    1.0s finished\n"
     ]
    },
    {
     "name": "stdout",
     "output_type": "stream",
     "text": [
      "0.9262849205124247\n",
      "{'alpha': 0.1, 'class_weight': {1: 1}, 'random_state': 42}\n",
      "SGDClassifier(alpha=0.1, average=False, class_weight={1: 1},\n",
      "              early_stopping=False, epsilon=0.1, eta0=0.0, fit_intercept=True,\n",
      "              l1_ratio=0.15, learning_rate='optimal', loss='hinge',\n",
      "              max_iter=1000, n_iter_no_change=5, n_jobs=None, penalty='l2',\n",
      "              power_t=0.5, random_state=42, shuffle=True, tol=0.001,\n",
      "              validation_fraction=0.1, verbose=0, warm_start=False)\n"
     ]
    },
    {
     "data": {
      "text/plain": [
       "0.9262849205124247"
      ]
     },
     "execution_count": 74,
     "metadata": {},
     "output_type": "execute_result"
    }
   ],
   "source": [
    "from sklearn.linear_model import SGDClassifier\n",
    "\n",
    "model = SGDClassifier()\n",
    "param_grid = {'alpha': [0.1, 0.01, 0.001, 0.0001],\n",
    "              'class_weight': [{1:1}], 'random_state': [42]} \n",
    "#               'probability': ['True']}\n",
    "svc_grid = GridSearchCV(model, param_grid, refit=True, verbose=5, n_jobs=-1)\n",
    "svc_grid.fit(reg_train_newf, train_df['default_12m'])\n",
    "get_best_score(svc_grid)"
   ]
  },
  {
   "cell_type": "code",
   "execution_count": 75,
   "metadata": {},
   "outputs": [],
   "source": [
    "answ_df['predict'] = (svc_grid.predict(test_df_newf.loc[:, features_newf])).astype(int)\n",
    "answ_df.to_csv('PD-submit.csv',index=False, sep=';')"
   ]
  },
  {
   "cell_type": "markdown",
   "metadata": {},
   "source": [
    "Итог 66,5%, 9-10 ранг на борде. \n",
    "В дальнейшем попробую использовать SMOTE, а также разделить выборку на датасеты с полными данными и с пропусками. "
   ]
  },
  {
   "cell_type": "code",
   "execution_count": null,
   "metadata": {},
   "outputs": [],
   "source": []
  }
 ],
 "metadata": {
  "colab": {
   "collapsed_sections": [],
   "name": "Копия блокнота \"PD_jun_ds\"",
   "provenance": []
  },
  "kernelspec": {
   "display_name": "Python 3",
   "language": "python",
   "name": "python3"
  },
  "language_info": {
   "codemirror_mode": {
    "name": "ipython",
    "version": 3
   },
   "file_extension": ".py",
   "mimetype": "text/x-python",
   "name": "python",
   "nbconvert_exporter": "python",
   "pygments_lexer": "ipython3",
   "version": "3.7.6"
  }
 },
 "nbformat": 4,
 "nbformat_minor": 1
}
